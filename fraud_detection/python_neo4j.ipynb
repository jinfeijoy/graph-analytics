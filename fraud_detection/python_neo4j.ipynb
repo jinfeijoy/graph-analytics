{
 "cells": [
  {
   "cell_type": "code",
   "execution_count": 3,
   "id": "6c51517e",
   "metadata": {},
   "outputs": [],
   "source": [
    "from neo4j import GraphDatabase\n",
    "\n",
    "uri = \"neo4j://localhost:7687\"\n",
    "driver = GraphDatabase.driver(uri, auth=(\"neo4j\", \"jinfei2yan\"))\n",
    "\n",
    "def create_friend_of(tx, name, friend):\n",
    "    tx.run(\"MATCH (a:Person) WHERE a.name = $name \"\n",
    "           \"CREATE (a)-[:KNOWS]->(:Person {name: $friend})\",\n",
    "           name=name, friend=friend)\n",
    "\n",
    "with driver.session() as session:\n",
    "    session.write_transaction(create_friend_of, \"Alice\", \"Bob\")\n",
    "\n",
    "with driver.session() as session:\n",
    "    session.write_transaction(create_friend_of, \"Alice\", \"Carl\")\n",
    "\n",
    "driver.close()"
   ]
  },
  {
   "cell_type": "markdown",
   "id": "b7709625",
   "metadata": {},
   "source": [
    "Reference\n",
    "\n",
    "* https://neo4j.com/docs/api/python-driver/current/"
   ]
  },
  {
   "cell_type": "code",
   "execution_count": 1,
   "id": "6de5303f",
   "metadata": {},
   "outputs": [],
   "source": [
    "from neo4j import GraphDatabase\n",
    "class Neo4jConnection:\n",
    "    \n",
    "    def __init__(self, uri, user, pwd):\n",
    "        self.__uri = uri\n",
    "        self.__user = user\n",
    "        self.__pwd = pwd\n",
    "        self.__driver = None\n",
    "        try:\n",
    "            self.__driver = GraphDatabase.driver(self.__uri, auth=(self.__user, self.__pwd))\n",
    "        except Exception as e:\n",
    "            print(\"Failed to create the driver:\", e)\n",
    "        \n",
    "    def close(self):\n",
    "        if self.__driver is not None:\n",
    "            self.__driver.close()\n",
    "        \n",
    "    def query(self, query, parameters=None, db=None):\n",
    "        assert self.__driver is not None, \"Driver not initialized!\"\n",
    "        session = None\n",
    "        response = None\n",
    "        try: \n",
    "            session = self.__driver.session(database=db) if db is not None else self.__driver.session() \n",
    "            response = list(session.run(query, parameters))\n",
    "        except Exception as e:\n",
    "            print(\"Query failed:\", e)\n",
    "        finally: \n",
    "            if session is not None:\n",
    "                session.close()\n",
    "        return response\n",
    "    \n",
    "conn = Neo4jConnection(uri=\"neo4j://localhost:7687\", \n",
    "                       user=\"neo4j\",              \n",
    "                       pwd=\"jinfei2yan\")\n"
   ]
  },
  {
   "cell_type": "code",
   "execution_count": 6,
   "id": "3f5d27e3",
   "metadata": {},
   "outputs": [
    {
     "name": "stderr",
     "output_type": "stream",
     "text": [
      "Unable to retrieve routing information\n"
     ]
    },
    {
     "name": "stdout",
     "output_type": "stream",
     "text": [
      "Query failed: Unable to retrieve routing information\n"
     ]
    }
   ],
   "source": [
    "import pandas as pd\n",
    "query = '''\n",
    "LOAD CSV WITH HEADERS FROM 'file:///top_3_community.csv' AS ROW\n",
    "MERGE (c: Claim {ID: ROW.ClaimID})\n",
    "MERGE (b: Beneficial {ID: ROW.BeneID})\n",
    "MERGE (p: Provider {ID: ROW.Provider, Label:ROW.PotentialFraud})\n",
    "MERGE (ph: Physician {ID: ROW.AttendingPhysician})\n",
    "MERGE (c) - [:Link_to] - (b)\n",
    "MERGE (c) - [:Link_to] - (p)\n",
    "MERGE (c) - [:Link_to] - (ph)\n",
    "MERGE (b) <- [:Provice_Service] - (p)\n",
    "MERGE (p) <- [:Wrok_at] - (ph)\n",
    "\n",
    "MATCH (a:test {Provider:'PRV55215'}) RETURN a.Physician\n",
    "'''\n",
    "\n",
    "conn.query(query)\n",
    "# top_cat_df = pd.DataFrame([dict(_) for _ in conn.query(query)])\n",
    "# top_cat_df.head(20)\n"
   ]
  }
 ],
 "metadata": {
  "kernelspec": {
   "display_name": "Python 3 (ipykernel)",
   "language": "python",
   "name": "python3"
  },
  "language_info": {
   "codemirror_mode": {
    "name": "ipython",
    "version": 3
   },
   "file_extension": ".py",
   "mimetype": "text/x-python",
   "name": "python",
   "nbconvert_exporter": "python",
   "pygments_lexer": "ipython3",
   "version": "3.7.10"
  }
 },
 "nbformat": 4,
 "nbformat_minor": 5
}
