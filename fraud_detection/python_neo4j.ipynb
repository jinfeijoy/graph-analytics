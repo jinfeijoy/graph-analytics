{
 "cells": [
  {
   "cell_type": "code",
   "execution_count": 3,
   "id": "6c51517e",
   "metadata": {},
   "outputs": [],
   "source": [
    "from neo4j import GraphDatabase\n",
    "\n",
    "uri = \"neo4j://localhost:7687\"\n",
    "driver = GraphDatabase.driver(uri, auth=(\"neo4j\", \"jinfei2yan\"))\n",
    "\n",
    "def create_friend_of(tx, name, friend):\n",
    "    tx.run(\"MATCH (a:Person) WHERE a.name = $name \"\n",
    "           \"CREATE (a)-[:KNOWS]->(:Person {name: $friend})\",\n",
    "           name=name, friend=friend)\n",
    "\n",
    "with driver.session() as session:\n",
    "    session.write_transaction(create_friend_of, \"Alice\", \"Bob\")\n",
    "\n",
    "with driver.session() as session:\n",
    "    session.write_transaction(create_friend_of, \"Alice\", \"Carl\")\n",
    "\n",
    "driver.close()"
   ]
  },
  {
   "cell_type": "markdown",
   "id": "b7709625",
   "metadata": {},
   "source": [
    "Reference\n",
    "\n",
    "* https://neo4j.com/docs/api/python-driver/current/"
   ]
  },
  {
   "cell_type": "code",
   "execution_count": 4,
   "id": "3f5d27e3",
   "metadata": {},
   "outputs": [],
   "source": [
    "from neo4j import GraphDatabase\n",
    "\n",
    "uri = \"neo4j://localhost:7687\"\n",
    "driver = GraphDatabase.driver(uri, auth=(\"neo4j\", \"jinfei2yan\"))\n",
    "\n",
    "def get_friends_of(tx, name):\n",
    "    friends = []\n",
    "    result = tx.run(\"MATCH (a:Person)-[:KNOWS]->(f) \"\n",
    "                         \"WHERE a.name = $name \"\n",
    "                         \"RETURN f.name AS friend\", name=name)\n",
    "    for record in result:\n",
    "        friends.append(record[\"friend\"])\n",
    "    return friends\n",
    "\n",
    "with driver.session() as session:\n",
    "    friends = session.read_transaction(get_friends_of, \"Alice\")\n",
    "    for friend in friends:\n",
    "        print(friend)\n",
    "\n",
    "driver.close()"
   ]
  }
 ],
 "metadata": {
  "kernelspec": {
   "display_name": "Python 3 (ipykernel)",
   "language": "python",
   "name": "python3"
  },
  "language_info": {
   "codemirror_mode": {
    "name": "ipython",
    "version": 3
   },
   "file_extension": ".py",
   "mimetype": "text/x-python",
   "name": "python",
   "nbconvert_exporter": "python",
   "pygments_lexer": "ipython3",
   "version": "3.7.10"
  }
 },
 "nbformat": 4,
 "nbformat_minor": 5
}
