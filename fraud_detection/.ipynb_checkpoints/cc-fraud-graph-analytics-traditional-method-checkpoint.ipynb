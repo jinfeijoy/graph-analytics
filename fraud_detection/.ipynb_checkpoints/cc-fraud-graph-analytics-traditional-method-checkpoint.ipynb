{
 "cells": [
  {
   "cell_type": "code",
   "execution_count": 41,
   "metadata": {
    "_cell_guid": "b1076dfc-b9ad-4769-8c92-a6c4dae69d19",
    "_uuid": "8f2839f25d086af736a60e9eeb907d3b93b6e0e5",
    "execution": {
     "iopub.execute_input": "2022-02-26T23:10:20.888275Z",
     "iopub.status.busy": "2022-02-26T23:10:20.888013Z",
     "iopub.status.idle": "2022-02-26T23:10:21.896759Z",
     "shell.execute_reply": "2022-02-26T23:10:21.895660Z",
     "shell.execute_reply.started": "2022-02-26T23:10:20.888248Z"
    }
   },
   "outputs": [],
   "source": [
    "import os\n",
    "import math\n",
    "import pandas as pd\n",
    "import numpy as np\n",
    "import networkx as nx\n",
    "import matplotlib.pyplot as plt\n",
    "import matplotlib\n",
    "\n",
    "%matplotlib inline\n",
    "pd.set_option('display.max_columns', 500)\n",
    "\n",
    "import pandas_profiling\n",
    "\n"
   ]
  },
  {
   "cell_type": "code",
   "execution_count": 3,
   "metadata": {
    "execution": {
     "iopub.execute_input": "2022-02-26T22:32:06.717766Z",
     "iopub.status.busy": "2022-02-26T22:32:06.717519Z",
     "iopub.status.idle": "2022-02-26T22:32:17.242904Z",
     "shell.execute_reply": "2022-02-26T22:32:17.242246Z",
     "shell.execute_reply.started": "2022-02-26T22:32:06.717739Z"
    }
   },
   "outputs": [],
   "source": [
    "df = pd.read_csv('/kaggle/input/fraud-detection/fraudTrain.csv', delimiter=',')\n",
    "nRow, nCol = df.shape\n",
    "print(f'There are {nRow} rows and {nCol} columns')\n",
    "print('Event Rate:', np.mean(df.is_fraud))\n",
    "display(df.head(3))"
   ]
  },
  {
   "cell_type": "code",
   "execution_count": 42,
   "metadata": {
    "execution": {
     "iopub.execute_input": "2022-02-26T23:10:24.534270Z",
     "iopub.status.busy": "2022-02-26T23:10:24.533847Z",
     "iopub.status.idle": "2022-02-26T23:13:56.089253Z",
     "shell.execute_reply": "2022-02-26T23:13:56.088279Z",
     "shell.execute_reply.started": "2022-02-26T23:10:24.534246Z"
    }
   },
   "outputs": [],
   "source": [
    "df.profile_report()"
   ]
  },
  {
   "cell_type": "code",
   "execution_count": 4,
   "metadata": {
    "execution": {
     "iopub.execute_input": "2022-02-26T22:33:14.727904Z",
     "iopub.status.busy": "2022-02-26T22:33:14.727618Z",
     "iopub.status.idle": "2022-02-26T22:33:15.965387Z",
     "shell.execute_reply": "2022-02-26T22:33:15.964206Z",
     "shell.execute_reply.started": "2022-02-26T22:33:14.727880Z"
    }
   },
   "outputs": [],
   "source": [
    "from sklearn.utils import resample\n",
    "df_majority = df[df.is_fraud == 0]\n",
    "df_minority = df[df.is_fraud == 1]\n",
    "df_maj_dowsampled = resample(df_majority,\n",
    "                            n_samples = len(df_minority),\n",
    "                            random_state = 42)\n",
    "df_downsampled = pd.concat([df_minority, df_maj_dowsampled])\n",
    "print(df_downsampled.is_fraud.value_counts())\n"
   ]
  },
  {
   "cell_type": "code",
   "execution_count": 5,
   "metadata": {
    "execution": {
     "iopub.execute_input": "2022-02-26T22:33:18.438827Z",
     "iopub.status.busy": "2022-02-26T22:33:18.438600Z",
     "iopub.status.idle": "2022-02-26T22:33:18.466436Z",
     "shell.execute_reply": "2022-02-26T22:33:18.465653Z",
     "shell.execute_reply.started": "2022-02-26T22:33:18.438805Z"
    }
   },
   "outputs": [],
   "source": [
    "df_downsampled.head(3)"
   ]
  },
  {
   "cell_type": "code",
   "execution_count": 6,
   "metadata": {
    "execution": {
     "iopub.execute_input": "2022-02-26T22:33:20.584797Z",
     "iopub.status.busy": "2022-02-26T22:33:20.584501Z",
     "iopub.status.idle": "2022-02-26T22:33:20.598399Z",
     "shell.execute_reply": "2022-02-26T22:33:20.597593Z",
     "shell.execute_reply.started": "2022-02-26T22:33:20.584765Z"
    }
   },
   "outputs": [],
   "source": [
    "def build_graph_bipartite(df_input, graph_type=nx.Graph()):\n",
    "    df = df_input.copy()\n",
    "    mapping = {x: node_id for node_id, x in enumerate(set(df['cc_num'].values.tolist()+\n",
    "                                                          df['merchant'].values.tolist()))}\n",
    "\n",
    "    df['from'] = df['cc_num'].apply(lambda x: mapping[x])\n",
    "    df['to'] = df['merchant'].apply(lambda x: mapping[x])\n",
    "    df = df[['from','to','amt','is_fraud']].groupby(['from','to']).agg({'is_fraud':'sum','amt':'sum'}).reset_index()\n",
    "    df['is_fraud'] = df['is_fraud'].apply(lambda x: 1 if x>0 else 0)\n",
    "    print(df.sample(3))\n",
    "    \n",
    "    G = nx.from_edgelist(df[['from','to']].values, create_using = graph_type)\n",
    "    \n",
    "    nx.set_node_attributes(G, {x:1 for x in df['from'].unique()}, 'bipartite')\n",
    "    nx.set_node_attributes(G, {x:2 for x in df['to'].unique()}, 'bipartite')\n",
    "    \n",
    "    nx.set_edge_attributes(G, \n",
    "                          {(int(x['from']), int(x['to'])): x['is_fraud'] for idx, x in df[['from','to','is_fraud']].iterrows()},\n",
    "                          'label')\n",
    "    nx.set_edge_attributes(G, \n",
    "                          {(int(x['from']), int(x['to'])): x['amt'] for idx, x in df[['from','to','amt']].iterrows()},\n",
    "                          'weight')\n",
    "    return(G,df)"
   ]
  },
  {
   "cell_type": "code",
   "execution_count": 7,
   "metadata": {
    "execution": {
     "iopub.execute_input": "2022-02-26T22:33:22.965687Z",
     "iopub.status.busy": "2022-02-26T22:33:22.965435Z",
     "iopub.status.idle": "2022-02-26T22:33:22.983075Z",
     "shell.execute_reply": "2022-02-26T22:33:22.982201Z",
     "shell.execute_reply.started": "2022-02-26T22:33:22.965660Z"
    }
   },
   "outputs": [],
   "source": [
    "def build_graph_tripartite(df_input, graph_type=nx.Graph()):\n",
    "    df = df_input.copy()\n",
    "    mapping = {x: node_id for node_id, x in enumerate(set(df.index.values.tolist() + \n",
    "                                                          df['cc_num'].values.tolist()+\n",
    "                                                          df['merchant'].values.tolist()))}\n",
    "    \n",
    "    df['in_node'] = df['cc_num'].apply(lambda x: mapping[x])\n",
    "    df['out_node'] = df['merchant'].apply(lambda x: mapping[x])\n",
    "       \n",
    "    G = nx.from_edgelist([(x['in_node'], mapping[idx]) for idx, x in df.iterrows()] +\n",
    "                         [(x['out_node'], mapping[idx]) for idx, x in df.iterrows()],\n",
    "                         create_using = graph_type)\n",
    "    \n",
    "    nx.set_node_attributes(G, {x['in_node']:1 for idx, x in df.iterrows()}, 'bipartite')\n",
    "    nx.set_node_attributes(G, {x['out_node']:2 for idx, x in df.iterrows()}, 'bipartite')\n",
    "    nx.set_node_attributes(G, {mapping[idx]:3 for idx, x in df.iterrows()}, 'bipartite')\n",
    "    \n",
    "    nx.set_edge_attributes(G, \n",
    "                          {(int(x['in_node']), mapping[idx]): x['is_fraud'] for idx, x in df.iterrows()},\n",
    "                          'label')\n",
    "    nx.set_edge_attributes(G, \n",
    "                          {(int(x['out_node']), mapping[idx]): x['is_fraud'] for idx, x in df.iterrows()},\n",
    "                          'label')\n",
    "   \n",
    "    nx.set_edge_attributes(G, \n",
    "                          {(int(x['in_node']), mapping[idx]): x['amt'] for idx, x in df.iterrows()},\n",
    "                          'weight')\n",
    "    nx.set_edge_attributes(G, \n",
    "                          {(int(x['out_node']), mapping[idx]): x['amt'] for idx, x in df.iterrows()},\n",
    "                          'weight')\n",
    "    \n",
    "    return(G,df)"
   ]
  },
  {
   "cell_type": "code",
   "execution_count": 8,
   "metadata": {
    "execution": {
     "iopub.execute_input": "2022-02-26T22:33:25.795775Z",
     "iopub.status.busy": "2022-02-26T22:33:25.795358Z",
     "iopub.status.idle": "2022-02-26T22:33:32.662022Z",
     "shell.execute_reply": "2022-02-26T22:33:32.661166Z",
     "shell.execute_reply.started": "2022-02-26T22:33:25.795744Z"
    }
   },
   "outputs": [],
   "source": [
    "G_down, ti_g_data = build_graph_tripartite(df_downsampled)"
   ]
  },
  {
   "cell_type": "code",
   "execution_count": 9,
   "metadata": {
    "execution": {
     "iopub.execute_input": "2022-02-26T22:34:26.988004Z",
     "iopub.status.busy": "2022-02-26T22:34:26.987790Z",
     "iopub.status.idle": "2022-02-26T22:34:27.006002Z",
     "shell.execute_reply": "2022-02-26T22:34:27.004553Z",
     "shell.execute_reply.started": "2022-02-26T22:34:26.987982Z"
    }
   },
   "outputs": [],
   "source": [
    "graph_degree = list(G_down.degree())\n",
    "\n",
    "print('graph degree sample:', graph_degree[0:3])"
   ]
  },
  {
   "cell_type": "code",
   "execution_count": 16,
   "metadata": {
    "execution": {
     "iopub.execute_input": "2022-02-26T16:16:57.174681Z",
     "iopub.status.busy": "2022-02-26T16:16:57.174031Z",
     "iopub.status.idle": "2022-02-26T16:16:57.181438Z",
     "shell.execute_reply": "2022-02-26T16:16:57.180796Z",
     "shell.execute_reply.started": "2022-02-26T16:16:57.174634Z"
    }
   },
   "outputs": [],
   "source": [
    "list(G_down.nodes)[0:3]"
   ]
  },
  {
   "cell_type": "markdown",
   "metadata": {},
   "source": [
    "## Visualize Graph"
   ]
  },
  {
   "cell_type": "code",
   "execution_count": 14,
   "metadata": {
    "execution": {
     "iopub.execute_input": "2022-02-26T16:14:20.113108Z",
     "iopub.status.busy": "2022-02-26T16:14:20.112150Z",
     "iopub.status.idle": "2022-02-26T16:14:20.120685Z",
     "shell.execute_reply": "2022-02-26T16:14:20.119734Z",
     "shell.execute_reply.started": "2022-02-26T16:14:20.113065Z"
    }
   },
   "outputs": [],
   "source": [
    "def plot_graph(dataset):\n",
    "    sample_1 = dataset[['cc_num','merchant','is_fraud']]\n",
    "    label = sample_1.groupby(['merchant'], sort=False, as_index=False ).agg( {'is_fraud':max }).reset_index(drop=True)\n",
    "\n",
    "    # Create graph object\n",
    "    G = nx.from_pandas_edgelist(sample_1, 'cc_num', 'merchant', create_using=nx.Graph())\n",
    "\n",
    "    testmap = pd.Series(label.is_fraud.values,index=label.merchant).to_dict()\n",
    "    target = list(map(testmap.get, list(G.nodes)))\n",
    "    target = pd.Series(target, dtype=object).fillna(2).tolist()\n",
    "\n",
    "    fig, ax = plt.subplots(figsize=(15, 8))\n",
    "\n",
    "    nx.draw(G, with_labels=True, node_color=pd.Categorical(target).codes)"
   ]
  },
  {
   "cell_type": "code",
   "execution_count": 19,
   "metadata": {
    "execution": {
     "iopub.execute_input": "2022-02-26T16:18:56.121594Z",
     "iopub.status.busy": "2022-02-26T16:18:56.121306Z",
     "iopub.status.idle": "2022-02-26T16:18:56.273108Z",
     "shell.execute_reply": "2022-02-26T16:18:56.272197Z",
     "shell.execute_reply.started": "2022-02-26T16:18:56.121564Z"
    }
   },
   "outputs": [],
   "source": [
    "sample_data = df_downsampled[(df_downsampled['cc_num'].isin([340187018810220])) ] #4477156602511939689, 501818133297\n",
    "\n",
    "plot_graph(sample_data)"
   ]
  },
  {
   "cell_type": "markdown",
   "metadata": {},
   "source": [
    "## Other Variables\n",
    "### Graph Related Variables"
   ]
  },
  {
   "cell_type": "code",
   "execution_count": 10,
   "metadata": {
    "execution": {
     "iopub.execute_input": "2022-02-26T22:34:33.736635Z",
     "iopub.status.busy": "2022-02-26T22:34:33.736259Z",
     "iopub.status.idle": "2022-02-26T22:34:33.769566Z",
     "shell.execute_reply": "2022-02-26T22:34:33.768891Z",
     "shell.execute_reply.started": "2022-02-26T22:34:33.736602Z"
    }
   },
   "outputs": [],
   "source": [
    "nodes_info = pd.DataFrame.from_dict(dict(nx.degree(G_down)), orient='index').rename(columns = {0 : 'degree'}).reset_index()\n",
    "nodes_info"
   ]
  },
  {
   "cell_type": "code",
   "execution_count": 11,
   "metadata": {
    "execution": {
     "iopub.execute_input": "2022-02-26T22:34:36.726947Z",
     "iopub.status.busy": "2022-02-26T22:34:36.726546Z",
     "iopub.status.idle": "2022-02-26T22:34:37.395451Z",
     "shell.execute_reply": "2022-02-26T22:34:37.394415Z",
     "shell.execute_reply.started": "2022-02-26T22:34:36.726907Z"
    }
   },
   "outputs": [],
   "source": [
    "nodes_info_dict = {\n",
    "#   'closeness_centrality': nx.closeness_centrality,\n",
    "  'eigenvector_centrality': nx.eigenvector_centrality_numpy,\n",
    "  'pagerank': nx.pagerank,\n",
    "    'degree_centrality': nx.degree_centrality\n",
    "}\n",
    "\n",
    "columns_with_node_infos = ['degree'] + list(nodes_info_dict.keys())\n",
    "nodes_info = pd.DataFrame.from_dict(dict(nx.degree(G_down)), orient='index').rename(columns = {0 : 'degree'}).reset_index()\n",
    "\n",
    "# computing graph features for each node\n",
    "for info, fun in nodes_info_dict.items():\n",
    "    temp = pd.DataFrame.from_dict(fun(G_down), orient='index').rename(columns = {0 : info}).reset_index()\n",
    "    nodes_info = nodes_info.merge(temp, on='index')\n",
    "\n",
    "nodes_info = nodes_info.rename(columns = {'index': 'in_node'})\n",
    "nodes_info.head(3)\n"
   ]
  },
  {
   "cell_type": "code",
   "execution_count": 28,
   "metadata": {
    "execution": {
     "iopub.execute_input": "2022-02-26T22:58:07.374343Z",
     "iopub.status.busy": "2022-02-26T22:58:07.374081Z",
     "iopub.status.idle": "2022-02-26T22:58:07.457871Z",
     "shell.execute_reply": "2022-02-26T22:58:07.456634Z",
     "shell.execute_reply.started": "2022-02-26T22:58:07.374320Z"
    }
   },
   "outputs": [],
   "source": [
    "ti_g_data = ti_g_data.merge(nodes_info, left_on = 'in_node', right_on = 'in_node', how='left').drop('in_node', axis=1)\n",
    "ti_g_data.head(3)"
   ]
  },
  {
   "cell_type": "markdown",
   "metadata": {},
   "source": [
    "### Other Variables"
   ]
  },
  {
   "cell_type": "code",
   "execution_count": 27,
   "metadata": {
    "execution": {
     "iopub.execute_input": "2022-02-26T22:53:14.087954Z",
     "iopub.status.busy": "2022-02-26T22:53:14.087472Z",
     "iopub.status.idle": "2022-02-26T22:53:14.100176Z",
     "shell.execute_reply": "2022-02-26T22:53:14.098721Z",
     "shell.execute_reply.started": "2022-02-26T22:53:14.087929Z"
    }
   },
   "outputs": [],
   "source": [
    "from math import sin, cos, sqrt, atan2, radians\n",
    "\n",
    "def calculate_distance(lat1, lat2, lon1, lon2):\n",
    "    R = 6373.0\n",
    "    lat1 = radians(lat1)\n",
    "    lon1 = radians(lon1)\n",
    "    lat2 = radians(lat2)\n",
    "    lon2 = radians(lon2)\n",
    "    dlon = lon2 - lon1\n",
    "    dlat = lat2 - lat1\n",
    "    a = sin(dlat / 2)**2 + cos(lat1) * cos(lat2) * sin(dlon / 2)**2\n",
    "    c = 2 * atan2(sqrt(a), sqrt(1 - a))\n",
    "    distance = R * c\n",
    "    return(distance)\n",
    "\n",
    "calculate_distance(35.9946,36.430124,-81.7266,-81.179483)"
   ]
  },
  {
   "cell_type": "code",
   "execution_count": 33,
   "metadata": {
    "execution": {
     "iopub.execute_input": "2022-02-26T23:00:40.585224Z",
     "iopub.status.busy": "2022-02-26T23:00:40.584416Z",
     "iopub.status.idle": "2022-02-26T23:00:41.357573Z",
     "shell.execute_reply": "2022-02-26T23:00:41.356478Z",
     "shell.execute_reply.started": "2022-02-26T23:00:40.585163Z"
    }
   },
   "outputs": [],
   "source": [
    "ti_g_data['distance'] = ti_g_data.apply(lambda x: calculate_distance(x.lat,x.merch_lat,x.long,x.merch_long), axis=1)\n",
    "ti_g_data['distance'].hist()"
   ]
  },
  {
   "cell_type": "code",
   "execution_count": 36,
   "metadata": {
    "execution": {
     "iopub.execute_input": "2022-02-26T23:02:54.554871Z",
     "iopub.status.busy": "2022-02-26T23:02:54.553877Z",
     "iopub.status.idle": "2022-02-26T23:02:54.563694Z",
     "shell.execute_reply": "2022-02-26T23:02:54.562528Z",
     "shell.execute_reply.started": "2022-02-26T23:02:54.554806Z"
    }
   },
   "outputs": [],
   "source": [
    "ti_g_data.category.value_counts()"
   ]
  },
  {
   "cell_type": "markdown",
   "metadata": {},
   "source": [
    "## Data Split and Model Development"
   ]
  },
  {
   "cell_type": "code",
   "execution_count": 63,
   "metadata": {
    "execution": {
     "iopub.execute_input": "2022-02-26T23:26:33.275817Z",
     "iopub.status.busy": "2022-02-26T23:26:33.274671Z",
     "iopub.status.idle": "2022-02-26T23:26:33.282455Z",
     "shell.execute_reply": "2022-02-26T23:26:33.281486Z",
     "shell.execute_reply.started": "2022-02-26T23:26:33.275740Z"
    }
   },
   "outputs": [],
   "source": [
    "selected_variables = ['amt','degree','eigenvector_centrality', 'pagerank', 'degree_centrality', 'distance','is_fraud'] #'category',\n",
    "final_dataset = ti_g_data[selected_variables]"
   ]
  },
  {
   "cell_type": "code",
   "execution_count": 78,
   "metadata": {
    "execution": {
     "iopub.execute_input": "2022-02-26T23:30:50.025232Z",
     "iopub.status.busy": "2022-02-26T23:30:50.024413Z",
     "iopub.status.idle": "2022-02-26T23:30:50.037872Z",
     "shell.execute_reply": "2022-02-26T23:30:50.036793Z",
     "shell.execute_reply.started": "2022-02-26T23:30:50.025198Z"
    }
   },
   "outputs": [],
   "source": [
    "from sklearn.model_selection import train_test_split # train-test split\n",
    "from sklearn.metrics import confusion_matrix, classification_report # classification metrics\n",
    "from sklearn.model_selection import GridSearchCV # grid search cross validation\n",
    "from sklearn.model_selection import RandomizedSearchCV # randomized search cross validation\n",
    "from sklearn.ensemble import AdaBoostClassifier # Adaptive Boosting Classifier\n",
    "from sklearn.ensemble import BaggingClassifier # Bootstrap Aggregating Classifier\n",
    "from sklearn.tree import DecisionTreeClassifier # Decision Tree\n",
    "\n",
    "from sklearn.ensemble import RandomForestClassifier # Random Forest\n",
    "from sklearn.neighbors import KNeighborsClassifier # K-Nearest Neighbbors\n",
    "\n",
    "X = final_dataset.drop(['is_fraud'],axis=1)\n",
    "# X[\"category\"] = X[\"category\"].astype(\"category\")\n",
    "y = final_dataset['is_fraud']\n",
    "\n",
    "X_train, X_test, y_train, y_test = train_test_split(X, y, test_size=0.3, random_state=42)"
   ]
  },
  {
   "cell_type": "markdown",
   "metadata": {},
   "source": [
    "### XGBoost"
   ]
  },
  {
   "cell_type": "code",
   "execution_count": 75,
   "metadata": {
    "execution": {
     "iopub.execute_input": "2022-02-26T23:29:08.109606Z",
     "iopub.status.busy": "2022-02-26T23:29:08.109269Z",
     "iopub.status.idle": "2022-02-26T23:29:09.456283Z",
     "shell.execute_reply": "2022-02-26T23:29:09.455596Z",
     "shell.execute_reply.started": "2022-02-26T23:29:08.109574Z"
    }
   },
   "outputs": [],
   "source": [
    "from xgboost import XGBClassifier\n",
    "xg_cl = xgb.XGBClassifier(objective='binary:logistic', n_estimators=100, seed=123)\n",
    "eval_set = [(X_train, y_train), (X_test, y_test)]\n",
    "\n",
    "# Fit the classifier to the training set\n",
    "xg_cl.fit(X_train, y_train, eval_metric=[\"error\"], eval_set=eval_set, verbose=True)\n",
    "results = xg_cl.evals_result()\n",
    "\n",
    "# Predict the labels of the test set: preds\n",
    "predictions = xg_cl.predict(X_test)\n",
    "\n",
    "# Compute the accuracy: accuracy\n",
    "accuracy = float(np.sum(predictions == y_test))/y_test.shape[0]\n",
    "print(\"accuracy: %f\" % (accuracy*100))\n",
    "\n",
    "print(classification_report(y_test,predictions))\n",
    "\n"
   ]
  },
  {
   "cell_type": "code",
   "execution_count": 81,
   "metadata": {
    "execution": {
     "iopub.execute_input": "2022-02-26T23:32:19.943532Z",
     "iopub.status.busy": "2022-02-26T23:32:19.943248Z",
     "iopub.status.idle": "2022-02-26T23:32:20.115763Z",
     "shell.execute_reply": "2022-02-26T23:32:20.114728Z",
     "shell.execute_reply.started": "2022-02-26T23:32:19.943503Z"
    }
   },
   "outputs": [],
   "source": [
    "xgb.plot_importance(xg_cl)"
   ]
  },
  {
   "cell_type": "markdown",
   "metadata": {},
   "source": [
    "### KNN"
   ]
  },
  {
   "cell_type": "code",
   "execution_count": 69,
   "metadata": {
    "execution": {
     "iopub.execute_input": "2022-02-26T23:27:15.321210Z",
     "iopub.status.busy": "2022-02-26T23:27:15.320956Z",
     "iopub.status.idle": "2022-02-26T23:27:18.932957Z",
     "shell.execute_reply": "2022-02-26T23:27:18.932443Z",
     "shell.execute_reply.started": "2022-02-26T23:27:15.321184Z"
    }
   },
   "outputs": [],
   "source": [
    "param_grid = {'n_neighbors': range(1,20)}\n",
    "clf = RandomizedSearchCV(KNeighborsClassifier(), param_grid)\n",
    "clf.fit(X_train,y_train)\n",
    "clf_pred = clf.predict(X_test)"
   ]
  },
  {
   "cell_type": "code",
   "execution_count": 70,
   "metadata": {
    "execution": {
     "iopub.execute_input": "2022-02-26T23:27:45.704157Z",
     "iopub.status.busy": "2022-02-26T23:27:45.703885Z",
     "iopub.status.idle": "2022-02-26T23:27:49.412794Z",
     "shell.execute_reply": "2022-02-26T23:27:49.411676Z",
     "shell.execute_reply.started": "2022-02-26T23:27:45.704110Z"
    }
   },
   "outputs": [],
   "source": [
    "### Determining the number of neighbors using RandomizedSearchCV\n",
    "param_grid = {'n_neighbors': range(1,20)}\n",
    "knn = RandomizedSearchCV(KNeighborsClassifier(), param_grid, verbose=3)\n",
    "knn.fit(X_train,y_train)"
   ]
  },
  {
   "cell_type": "code",
   "execution_count": 71,
   "metadata": {
    "execution": {
     "iopub.execute_input": "2022-02-26T23:27:53.294442Z",
     "iopub.status.busy": "2022-02-26T23:27:53.294210Z",
     "iopub.status.idle": "2022-02-26T23:27:53.300937Z",
     "shell.execute_reply": "2022-02-26T23:27:53.299824Z",
     "shell.execute_reply.started": "2022-02-26T23:27:53.294419Z"
    }
   },
   "outputs": [],
   "source": [
    "knn.best_params_ # best parameter"
   ]
  },
  {
   "cell_type": "code",
   "execution_count": 72,
   "metadata": {
    "execution": {
     "iopub.execute_input": "2022-02-26T23:28:00.084557Z",
     "iopub.status.busy": "2022-02-26T23:28:00.084334Z",
     "iopub.status.idle": "2022-02-26T23:28:00.242590Z",
     "shell.execute_reply": "2022-02-26T23:28:00.241763Z",
     "shell.execute_reply.started": "2022-02-26T23:28:00.084533Z"
    }
   },
   "outputs": [],
   "source": [
    "knn_pred = knn.predict(X_test)\n",
    "\n",
    "print(confusion_matrix(y_test,knn_pred))\n",
    "print('\\n')\n",
    "print(classification_report(y_test,knn_pred))"
   ]
  },
  {
   "cell_type": "markdown",
   "metadata": {},
   "source": [
    "### Random Forest"
   ]
  },
  {
   "cell_type": "code",
   "execution_count": 73,
   "metadata": {
    "execution": {
     "iopub.execute_input": "2022-02-26T23:28:03.660550Z",
     "iopub.status.busy": "2022-02-26T23:28:03.660300Z",
     "iopub.status.idle": "2022-02-26T23:28:07.134287Z",
     "shell.execute_reply": "2022-02-26T23:28:07.133004Z",
     "shell.execute_reply.started": "2022-02-26T23:28:03.660524Z"
    }
   },
   "outputs": [],
   "source": [
    "rfc = RandomForestClassifier(n_estimators=200)\n",
    "rfc.fit(X_train,y_train)\n",
    "rfc_pred = rfc.predict(X_test)\n",
    "\n",
    "print(confusion_matrix(y_test,rfc_pred))\n",
    "print('\\n')\n",
    "print(classification_report(y_test,rfc_pred))"
   ]
  },
  {
   "cell_type": "markdown",
   "metadata": {},
   "source": [
    "### Ada Boosting"
   ]
  },
  {
   "cell_type": "code",
   "execution_count": 79,
   "metadata": {
    "execution": {
     "iopub.execute_input": "2022-02-26T23:30:56.725464Z",
     "iopub.status.busy": "2022-02-26T23:30:56.724514Z",
     "iopub.status.idle": "2022-02-26T23:30:59.324247Z",
     "shell.execute_reply": "2022-02-26T23:30:59.323116Z",
     "shell.execute_reply.started": "2022-02-26T23:30:56.725413Z"
    }
   },
   "outputs": [],
   "source": [
    "adabc = AdaBoostClassifier(DecisionTreeClassifier(max_depth=1),n_estimators=200)\n",
    "adabc.fit(X_train,y_train)\n",
    "adabc_pred = adabc.predict(X_test)\n",
    "\n",
    "print(confusion_matrix(y_test,adabc_pred))\n",
    "print('\\n')\n",
    "print(classification_report(y_test,adabc_pred))"
   ]
  },
  {
   "cell_type": "markdown",
   "metadata": {},
   "source": [
    "### Bagging"
   ]
  },
  {
   "cell_type": "code",
   "execution_count": 80,
   "metadata": {
    "execution": {
     "iopub.execute_input": "2022-02-26T23:31:10.677098Z",
     "iopub.status.busy": "2022-02-26T23:31:10.676826Z",
     "iopub.status.idle": "2022-02-26T23:31:18.409887Z",
     "shell.execute_reply": "2022-02-26T23:31:18.408904Z",
     "shell.execute_reply.started": "2022-02-26T23:31:10.677068Z"
    }
   },
   "outputs": [],
   "source": [
    "bgc = BaggingClassifier(DecisionTreeClassifier(),n_estimators=200)\n",
    "bgc.fit(X_train,y_train)\n",
    "bgc_pred = bgc.predict(X_test)\n",
    "\n",
    "print(confusion_matrix(y_test,bgc_pred))\n",
    "print('\\n')\n",
    "print(classification_report(y_test,bgc_pred))"
   ]
  }
 ],
 "metadata": {
  "kernelspec": {
   "display_name": "Python 3 (ipykernel)",
   "language": "python",
   "name": "python3"
  },
  "language_info": {
   "codemirror_mode": {
    "name": "ipython",
    "version": 3
   },
   "file_extension": ".py",
   "mimetype": "text/x-python",
   "name": "python",
   "nbconvert_exporter": "python",
   "pygments_lexer": "ipython3",
   "version": "3.7.10"
  }
 },
 "nbformat": 4,
 "nbformat_minor": 4
}
