{
 "cells": [
  {
   "cell_type": "code",
   "execution_count": 7,
   "metadata": {
    "_cell_guid": "b1076dfc-b9ad-4769-8c92-a6c4dae69d19",
    "_uuid": "8f2839f25d086af736a60e9eeb907d3b93b6e0e5",
    "execution": {
     "iopub.execute_input": "2022-03-02T02:10:35.547715Z",
     "iopub.status.busy": "2022-03-02T02:10:35.547390Z",
     "iopub.status.idle": "2022-03-02T02:10:38.041133Z",
     "shell.execute_reply": "2022-03-02T02:10:38.040140Z",
     "shell.execute_reply.started": "2022-03-02T02:10:35.547684Z"
    }
   },
   "outputs": [],
   "source": [
    "import numpy as np # linear algebra\n",
    "import pandas as pd # data processing, CSV file I/O (e.g. pd.read_csv)\n",
    "\n",
    "import os\n",
    "import pandas_profiling\n",
    "data_path = '/kaggle/input/healthcare-provider-fraud-detection-analysis/'"
   ]
  },
  {
   "cell_type": "code",
   "execution_count": 2,
   "metadata": {
    "execution": {
     "iopub.execute_input": "2022-03-02T01:52:28.486804Z",
     "iopub.status.busy": "2022-03-02T01:52:28.486297Z",
     "iopub.status.idle": "2022-03-02T01:52:34.213761Z",
     "shell.execute_reply": "2022-03-02T01:52:34.212796Z",
     "shell.execute_reply.started": "2022-03-02T01:52:28.486700Z"
    }
   },
   "outputs": [],
   "source": [
    "# Load Train Dataset\n",
    "\n",
    "Train=pd.read_csv(os.path.join(data_path, \"Train-1542865627584.csv\"))\n",
    "Train_Beneficiarydata=pd.read_csv(os.path.join(data_path, \"Train_Beneficiarydata-1542865627584.csv\"))\n",
    "Train_Inpatientdata=pd.read_csv(os.path.join(data_path, \"Train_Inpatientdata-1542865627584.csv\"))\n",
    "Train_Outpatientdata=pd.read_csv(os.path.join(data_path, \"Train_Outpatientdata-1542865627584.csv\"))\n",
    "\n",
    "# Load Test Dataset\n",
    "\n",
    "Test=pd.read_csv(os.path.join(data_path, \"Test-1542969243754.csv\"))\n",
    "Test_Beneficiarydata=pd.read_csv(os.path.join(data_path, \"Test_Beneficiarydata-1542969243754.csv\"))\n",
    "Test_Inpatientdata=pd.read_csv(os.path.join(data_path, \"Test_Inpatientdata-1542969243754.csv\"))\n",
    "Test_Outpatientdata=pd.read_csv(os.path.join(data_path, \"Test_Outpatientdata-1542969243754.csv\"))"
   ]
  },
  {
   "cell_type": "code",
   "execution_count": 3,
   "metadata": {
    "execution": {
     "iopub.execute_input": "2022-03-02T01:54:11.779510Z",
     "iopub.status.busy": "2022-03-02T01:54:11.779176Z",
     "iopub.status.idle": "2022-03-02T01:54:12.739938Z",
     "shell.execute_reply": "2022-03-02T01:54:12.739177Z",
     "shell.execute_reply.started": "2022-03-02T01:54:11.779475Z"
    }
   },
   "outputs": [],
   "source": [
    "dataset_list = [Train,Train_Beneficiarydata,Train_Inpatientdata,Train_Outpatientdata,Test,Test_Beneficiarydata,Test_Inpatientdata,Test_Outpatientdata]\n",
    "dataset_list_name = ['Train','Train_Beneficiarydata','Train_Inpatientdata','Train_Outpatientdata','Test','Test_Beneficiarydata','Test_Inpatientdata','Test_Outpatientdata']\n",
    "for i in range(len(dataset_list_name)):\n",
    "    print('shape of',dataset_list_name[i], ':', dataset_list[i].shape) \n",
    "print('=====================================================')\n",
    "for i in range(4):\n",
    "    print(dataset_list_name[i], ':')\n",
    "    print(dataset_list[i].info())\n",
    "    print('----------------------------------------------------------')"
   ]
  },
  {
   "cell_type": "code",
   "execution_count": 4,
   "metadata": {
    "execution": {
     "iopub.execute_input": "2022-03-02T01:56:30.156145Z",
     "iopub.status.busy": "2022-03-02T01:56:30.155738Z",
     "iopub.status.idle": "2022-03-02T01:56:33.713103Z",
     "shell.execute_reply": "2022-03-02T01:56:33.712042Z",
     "shell.execute_reply.started": "2022-03-02T01:56:30.156105Z"
    }
   },
   "outputs": [],
   "source": [
    "common_columns = [idx for idx in Train_Outpatientdata.columns if idx in Train_Inpatientdata.columns]\n",
    "print('common columns:', common_columns)\n",
    "\n",
    "in_out_patient_merge_train = pd.merge(Train_Inpatientdata, Train_Outpatientdata, left_on = common_columns, right_on = common_columns, how = 'outer')"
   ]
  },
  {
   "cell_type": "code",
   "execution_count": 5,
   "metadata": {
    "execution": {
     "iopub.execute_input": "2022-03-02T01:58:15.025660Z",
     "iopub.status.busy": "2022-03-02T01:58:15.025343Z",
     "iopub.status.idle": "2022-03-02T01:58:16.326948Z",
     "shell.execute_reply": "2022-03-02T01:58:16.325714Z",
     "shell.execute_reply.started": "2022-03-02T01:58:15.025629Z"
    }
   },
   "outputs": [],
   "source": [
    "inout_patient_beneficiary_merge_train = pd.merge(in_out_patient_merge_train, Train_Beneficiarydata, left_on = 'BeneID', right_on = 'BeneID', how = 'inner')\n",
    "final_train_dataset = pd.merge(inout_patient_beneficiary_merge_train, Train, how = 'inner', on = 'Provider')"
   ]
  },
  {
   "cell_type": "code",
   "execution_count": 6,
   "metadata": {
    "execution": {
     "iopub.execute_input": "2022-03-02T02:02:15.762925Z",
     "iopub.status.busy": "2022-03-02T02:02:15.762541Z",
     "iopub.status.idle": "2022-03-02T02:02:15.795465Z",
     "shell.execute_reply": "2022-03-02T02:02:15.794348Z",
     "shell.execute_reply.started": "2022-03-02T02:02:15.762893Z"
    }
   },
   "outputs": [],
   "source": [
    "print('final_train_dataset shape', final_train_dataset.shape)\n",
    "final_train_dataset.head(3)"
   ]
  },
  {
   "cell_type": "code",
   "execution_count": 8,
   "metadata": {
    "execution": {
     "iopub.execute_input": "2022-03-02T02:10:53.820525Z",
     "iopub.status.busy": "2022-03-02T02:10:53.819636Z",
     "iopub.status.idle": "2022-03-02T02:16:27.767561Z",
     "shell.execute_reply": "2022-03-02T02:16:27.766407Z",
     "shell.execute_reply.started": "2022-03-02T02:10:53.820483Z"
    }
   },
   "outputs": [],
   "source": [
    "final_train_dataset.profile_report()"
   ]
  }
 ],
 "metadata": {
  "kernelspec": {
   "display_name": "Python 3 (ipykernel)",
   "language": "python",
   "name": "python3"
  },
  "language_info": {
   "codemirror_mode": {
    "name": "ipython",
    "version": 3
   },
   "file_extension": ".py",
   "mimetype": "text/x-python",
   "name": "python",
   "nbconvert_exporter": "python",
   "pygments_lexer": "ipython3",
   "version": "3.7.10"
  }
 },
 "nbformat": 4,
 "nbformat_minor": 4
}
