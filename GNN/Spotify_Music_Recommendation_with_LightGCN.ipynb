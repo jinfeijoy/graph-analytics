{
  "nbformat": 4,
  "nbformat_minor": 0,
  "metadata": {
    "colab": {
      "name": "Spotify Music Recommendation with LightGCN.ipynb",
      "provenance": [],
      "collapsed_sections": []
    },
    "kernelspec": {
      "name": "python3",
      "display_name": "Python 3"
    },
    "language_info": {
      "name": "python"
    },
    "accelerator": "GPU"
  },
  "cells": [
    {
      "cell_type": "markdown",
      "source": [
        "# Spotify Music Recommendation with LightGCN"
      ],
      "metadata": {
        "id": "5ym3rJHdIrGU"
      }
    },
    {
      "cell_type": "markdown",
      "source": [
        "By Ben Alexander, Jean-Peic Chou, Aman Bansal"
      ],
      "metadata": {
        "id": "8rRq8Qw8vzBP"
      }
    },
    {
      "cell_type": "markdown",
      "source": [
        "This is the Colab notebook associated with our Medium post! (We will update this with the link once the article is published)"
      ],
      "metadata": {
        "id": "QHPGmshaJp9k"
      }
    },
    {
      "cell_type": "markdown",
      "source": [
        "Note: please ensure that you have GPU runtime enabled! Go to Runtime -> Change runtime type. Then set the Hardware accelerator to GPU if it isn't already set."
      ],
      "metadata": {
        "id": "aLIg99Y6mYkN"
      }
    },
    {
      "cell_type": "markdown",
      "source": [
        "This Colab will:\n",
        "1. Teach you how to use PyTorch Geometric to write and train your own GNNs from scratch, by showing how to implement LightGCN for music recommendation\n",
        "2. Evaluate the performance by recommending songs for a bunch of playlists from the Spotify Million Playlist Dataset\n",
        "3. Produce some animations and visualizations of the learned playlist/node embeddings. Stick around until the end to see some interesting discoveries about country music playlists, Drake songs, and Taylor Swift songs!"
      ],
      "metadata": {
        "id": "6iqg8GCJ8OjR"
      }
    },
    {
      "cell_type": "markdown",
      "source": [
        "## Install and import necessary packages"
      ],
      "metadata": {
        "id": "FbwOF8ZSIv16"
      }
    },
    {
      "cell_type": "markdown",
      "source": [
        "First, we need to install a newer version of matplotlib for our visualizations later on.\n",
        "\n",
        "PLEASE FOLLOW THE MESSAGE THAT POPS UP AND RESTART THE RUNTIME AFTER RUNNING THIS CELL!"
      ],
      "metadata": {
        "id": "GFtIDibbf8U3"
      }
    },
    {
      "cell_type": "code",
      "source": [
        "!pip install matplotlib==3.5.0"
      ],
      "metadata": {
        "id": "6penBwOSf0FO",
        "colab": {
          "base_uri": "https://localhost:8080/",
          "height": 603
        },
        "outputId": "b1c16b42-3364-4422-d2fe-d24249164558"
      },
      "execution_count": null,
      "outputs": [
        {
          "output_type": "stream",
          "name": "stdout",
          "text": [
            "Collecting matplotlib==3.5.0\n",
            "  Downloading matplotlib-3.5.0-cp37-cp37m-manylinux_2_5_x86_64.manylinux1_x86_64.whl (11.2 MB)\n",
            "\u001b[K     |████████████████████████████████| 11.2 MB 10.8 MB/s \n",
            "\u001b[?25hRequirement already satisfied: cycler>=0.10 in /usr/local/lib/python3.7/dist-packages (from matplotlib==3.5.0) (0.11.0)\n",
            "Requirement already satisfied: python-dateutil>=2.7 in /usr/local/lib/python3.7/dist-packages (from matplotlib==3.5.0) (2.8.2)\n",
            "Requirement already satisfied: packaging>=20.0 in /usr/local/lib/python3.7/dist-packages (from matplotlib==3.5.0) (21.3)\n",
            "Requirement already satisfied: kiwisolver>=1.0.1 in /usr/local/lib/python3.7/dist-packages (from matplotlib==3.5.0) (1.3.2)\n",
            "Requirement already satisfied: pillow>=6.2.0 in /usr/local/lib/python3.7/dist-packages (from matplotlib==3.5.0) (7.1.2)\n",
            "Requirement already satisfied: pyparsing>=2.2.1 in /usr/local/lib/python3.7/dist-packages (from matplotlib==3.5.0) (3.0.6)\n",
            "Collecting setuptools-scm>=4\n",
            "  Downloading setuptools_scm-6.3.2-py3-none-any.whl (33 kB)\n",
            "Collecting fonttools>=4.22.0\n",
            "  Downloading fonttools-4.28.3-py3-none-any.whl (884 kB)\n",
            "\u001b[K     |████████████████████████████████| 884 kB 32.1 MB/s \n",
            "\u001b[?25hRequirement already satisfied: numpy>=1.17 in /usr/local/lib/python3.7/dist-packages (from matplotlib==3.5.0) (1.19.5)\n",
            "Requirement already satisfied: six>=1.5 in /usr/local/lib/python3.7/dist-packages (from python-dateutil>=2.7->matplotlib==3.5.0) (1.15.0)\n",
            "Requirement already satisfied: tomli>=1.0.0 in /usr/local/lib/python3.7/dist-packages (from setuptools-scm>=4->matplotlib==3.5.0) (1.2.2)\n",
            "Requirement already satisfied: setuptools in /usr/local/lib/python3.7/dist-packages (from setuptools-scm>=4->matplotlib==3.5.0) (57.4.0)\n",
            "Installing collected packages: setuptools-scm, fonttools, matplotlib\n",
            "  Attempting uninstall: matplotlib\n",
            "    Found existing installation: matplotlib 3.2.2\n",
            "    Uninstalling matplotlib-3.2.2:\n",
            "      Successfully uninstalled matplotlib-3.2.2\n",
            "\u001b[31mERROR: pip's dependency resolver does not currently take into account all the packages that are installed. This behaviour is the source of the following dependency conflicts.\n",
            "albumentations 0.1.12 requires imgaug<0.2.7,>=0.2.5, but you have imgaug 0.2.9 which is incompatible.\u001b[0m\n",
            "Successfully installed fonttools-4.28.3 matplotlib-3.5.0 setuptools-scm-6.3.2\n"
          ]
        },
        {
          "output_type": "display_data",
          "data": {
            "application/vnd.colab-display-data+json": {
              "pip_warning": {
                "packages": [
                  "matplotlib",
                  "mpl_toolkits"
                ]
              }
            }
          },
          "metadata": {}
        }
      ]
    },
    {
      "cell_type": "markdown",
      "source": [
        "Again, please restart the runtime after running the cell above!! Click the button that comes up.\n",
        "\n",
        "Here are some more installations:"
      ],
      "metadata": {
        "id": "cnI75_wGf-Qj"
      }
    },
    {
      "cell_type": "code",
      "metadata": {
        "colab": {
          "base_uri": "https://localhost:8080/"
        },
        "id": "o51SFMJOqHlS",
        "outputId": "8c6741bd-7da5-431d-f5eb-c539e72e92d7"
      },
      "source": [
        "!pip install torch-scatter -f https://data.pyg.org/whl/torch-1.10.0+cu111.html\n",
        "\n",
        "!pip install torch-sparse -f https://data.pyg.org/whl/torch-1.10.0+cu111.html\n",
        "\n",
        "# We are installing torch-geometric from a specific GitHub commit instead of from pip wheels/conda. This is because there is currently a bug in\n",
        "# RandomLinkSplit that has been fixed in the repo, but not yet in an official release. Once release 2.0.3 is available, we can go back\n",
        "# to installing from pip wheels. See here for more info about the bug: https://github.com/pyg-team/pytorch_geometric/issues/3440\n",
        "!pip install git+https://github.com/pyg-team/pytorch_geometric.git@7fc1767ece2edd614575dcbff1eb8f79f1035742"
      ],
      "execution_count": null,
      "outputs": [
        {
          "output_type": "stream",
          "name": "stdout",
          "text": [
            "Looking in links: https://data.pyg.org/whl/torch-1.10.0+cu111.html\n",
            "Collecting torch-scatter\n",
            "  Downloading https://data.pyg.org/whl/torch-1.10.0%2Bcu113/torch_scatter-2.0.9-cp37-cp37m-linux_x86_64.whl (7.9 MB)\n",
            "\u001b[K     |████████████████████████████████| 7.9 MB 3.0 MB/s \n",
            "\u001b[?25hInstalling collected packages: torch-scatter\n",
            "Successfully installed torch-scatter-2.0.9\n",
            "Looking in links: https://data.pyg.org/whl/torch-1.10.0+cu111.html\n",
            "Collecting torch-sparse\n",
            "  Downloading https://data.pyg.org/whl/torch-1.10.0%2Bcu113/torch_sparse-0.6.12-cp37-cp37m-linux_x86_64.whl (3.5 MB)\n",
            "\u001b[K     |████████████████████████████████| 3.5 MB 3.3 MB/s \n",
            "\u001b[?25hRequirement already satisfied: scipy in /usr/local/lib/python3.7/dist-packages (from torch-sparse) (1.4.1)\n",
            "Requirement already satisfied: numpy>=1.13.3 in /usr/local/lib/python3.7/dist-packages (from scipy->torch-sparse) (1.19.5)\n",
            "Installing collected packages: torch-sparse\n",
            "Successfully installed torch-sparse-0.6.12\n",
            "Collecting git+https://github.com/pyg-team/pytorch_geometric.git@7fc1767ece2edd614575dcbff1eb8f79f1035742\n",
            "  Cloning https://github.com/pyg-team/pytorch_geometric.git (to revision 7fc1767ece2edd614575dcbff1eb8f79f1035742) to /tmp/pip-req-build-5fip9u26\n",
            "  Running command git clone -q https://github.com/pyg-team/pytorch_geometric.git /tmp/pip-req-build-5fip9u26\n",
            "  Running command git rev-parse -q --verify 'sha^7fc1767ece2edd614575dcbff1eb8f79f1035742'\n",
            "  Running command git fetch -q https://github.com/pyg-team/pytorch_geometric.git 7fc1767ece2edd614575dcbff1eb8f79f1035742\n",
            "  Running command git checkout -q 7fc1767ece2edd614575dcbff1eb8f79f1035742\n",
            "Requirement already satisfied: numpy in /usr/local/lib/python3.7/dist-packages (from torch-geometric==2.0.2) (1.19.5)\n",
            "Requirement already satisfied: tqdm in /usr/local/lib/python3.7/dist-packages (from torch-geometric==2.0.2) (4.62.3)\n",
            "Requirement already satisfied: scipy in /usr/local/lib/python3.7/dist-packages (from torch-geometric==2.0.2) (1.4.1)\n",
            "Requirement already satisfied: networkx in /usr/local/lib/python3.7/dist-packages (from torch-geometric==2.0.2) (2.6.3)\n",
            "Requirement already satisfied: scikit-learn in /usr/local/lib/python3.7/dist-packages (from torch-geometric==2.0.2) (1.0.1)\n",
            "Requirement already satisfied: requests in /usr/local/lib/python3.7/dist-packages (from torch-geometric==2.0.2) (2.23.0)\n",
            "Requirement already satisfied: pandas in /usr/local/lib/python3.7/dist-packages (from torch-geometric==2.0.2) (1.1.5)\n",
            "Collecting rdflib\n",
            "  Downloading rdflib-6.0.2-py3-none-any.whl (407 kB)\n",
            "\u001b[K     |████████████████████████████████| 407 kB 11.9 MB/s \n",
            "\u001b[?25hRequirement already satisfied: googledrivedownloader in /usr/local/lib/python3.7/dist-packages (from torch-geometric==2.0.2) (0.4)\n",
            "Requirement already satisfied: jinja2 in /usr/local/lib/python3.7/dist-packages (from torch-geometric==2.0.2) (2.11.3)\n",
            "Requirement already satisfied: pyparsing in /usr/local/lib/python3.7/dist-packages (from torch-geometric==2.0.2) (3.0.6)\n",
            "Collecting yacs\n",
            "  Downloading yacs-0.1.8-py3-none-any.whl (14 kB)\n",
            "Requirement already satisfied: PyYAML in /usr/local/lib/python3.7/dist-packages (from torch-geometric==2.0.2) (3.13)\n",
            "Requirement already satisfied: MarkupSafe>=0.23 in /usr/local/lib/python3.7/dist-packages (from jinja2->torch-geometric==2.0.2) (2.0.1)\n",
            "Requirement already satisfied: python-dateutil>=2.7.3 in /usr/local/lib/python3.7/dist-packages (from pandas->torch-geometric==2.0.2) (2.8.2)\n",
            "Requirement already satisfied: pytz>=2017.2 in /usr/local/lib/python3.7/dist-packages (from pandas->torch-geometric==2.0.2) (2018.9)\n",
            "Requirement already satisfied: six>=1.5 in /usr/local/lib/python3.7/dist-packages (from python-dateutil>=2.7.3->pandas->torch-geometric==2.0.2) (1.15.0)\n",
            "Requirement already satisfied: setuptools in /usr/local/lib/python3.7/dist-packages (from rdflib->torch-geometric==2.0.2) (57.4.0)\n",
            "Collecting isodate\n",
            "  Downloading isodate-0.6.0-py2.py3-none-any.whl (45 kB)\n",
            "\u001b[K     |████████████████████████████████| 45 kB 4.7 MB/s \n",
            "\u001b[?25hRequirement already satisfied: chardet<4,>=3.0.2 in /usr/local/lib/python3.7/dist-packages (from requests->torch-geometric==2.0.2) (3.0.4)\n",
            "Requirement already satisfied: certifi>=2017.4.17 in /usr/local/lib/python3.7/dist-packages (from requests->torch-geometric==2.0.2) (2021.10.8)\n",
            "Requirement already satisfied: urllib3!=1.25.0,!=1.25.1,<1.26,>=1.21.1 in /usr/local/lib/python3.7/dist-packages (from requests->torch-geometric==2.0.2) (1.24.3)\n",
            "Requirement already satisfied: idna<3,>=2.5 in /usr/local/lib/python3.7/dist-packages (from requests->torch-geometric==2.0.2) (2.10)\n",
            "Requirement already satisfied: joblib>=0.11 in /usr/local/lib/python3.7/dist-packages (from scikit-learn->torch-geometric==2.0.2) (1.1.0)\n",
            "Requirement already satisfied: threadpoolctl>=2.0.0 in /usr/local/lib/python3.7/dist-packages (from scikit-learn->torch-geometric==2.0.2) (3.0.0)\n",
            "Building wheels for collected packages: torch-geometric\n",
            "  Building wheel for torch-geometric (setup.py) ... \u001b[?25l\u001b[?25hdone\n",
            "  Created wheel for torch-geometric: filename=torch_geometric-2.0.2-py3-none-any.whl size=568376 sha256=0550ce80399240d9cf01f23b5450ff1510a2093370802240898af18e7cb122cb\n",
            "  Stored in directory: /root/.cache/pip/wheels/63/22/d1/82a1e5606f6d44dc1a24b776759e55f4074c4df6f390039631\n",
            "Successfully built torch-geometric\n",
            "Installing collected packages: isodate, yacs, rdflib, torch-geometric\n",
            "Successfully installed isodate-0.6.0 rdflib-6.0.2 torch-geometric-2.0.2 yacs-0.1.8\n"
          ]
        }
      ]
    },
    {
      "cell_type": "markdown",
      "source": [
        "Import necessary packages:"
      ],
      "metadata": {
        "id": "EbdPGbmdgIwk"
      }
    },
    {
      "cell_type": "code",
      "metadata": {
        "id": "FQ7EnP6BqPmE"
      },
      "source": [
        "import json\n",
        "import numpy as np\n",
        "import os\n",
        "import torch\n",
        "from torch_geometric import seed_everything\n",
        "from torch_geometric.data import Data, Dataset\n",
        "from torch_geometric.loader import DataLoader\n",
        "from torch_geometric.nn import MessagePassing\n",
        "from torch_geometric.transforms import RandomLinkSplit\n",
        "from torch_geometric.utils import degree\n",
        "\n",
        "import matplotlib.pyplot as plt\n",
        "from matplotlib import animation, rc\n",
        "from sklearn.decomposition import PCA\n",
        "from IPython.display import HTML\n",
        "\n",
        "seed_everything(5) # set random seed"
      ],
      "execution_count": null,
      "outputs": []
    },
    {
      "cell_type": "code",
      "source": [
        "import matplotlib\n",
        "matplotlib.__version__\n",
        "assert matplotlib.__version__ == '3.5.0' # if this fails, makes sure you ran the matplotlib installation above AND restarted your runtime"
      ],
      "metadata": {
        "id": "rF9EWvBZNLNc"
      },
      "execution_count": null,
      "outputs": []
    },
    {
      "cell_type": "markdown",
      "source": [
        "## Load data + data pre-processing"
      ],
      "metadata": {
        "id": "nMUj2ceMI_Mp"
      }
    },
    {
      "cell_type": "markdown",
      "source": [
        "The full Spotify Million Playlist Dataset is available at https://www.aicrowd.com/challenges/spotify-million-playlist-dataset-challenge.\n",
        "\n",
        "We have already gone ahead and pre-processed the data, rather than importing the entire dataset here, for two reasons:\n",
        "1. You need to make an account to download the Spotify dataset, so we don't think we should post it online\n",
        "2. The full dataset is around 33GB, which is very large!\n",
        "\n",
        "Of course, feel free to download it yourself and play around with it.\n",
        "\n",
        "Our pre-processing code is available in our GitHub repo at https://github.com/ba305/LightGCN-Spotify. There is also an explanation of the key parts of the pre-processing code in our Medium article.\n",
        "\n",
        "For now, we will import the already-preprocessed data, which is hosted at our GitHub repo."
      ],
      "metadata": {
        "id": "seWqXFF4JB70"
      }
    },
    {
      "cell_type": "code",
      "source": [
        "! wget https://raw.githubusercontent.com/ba305/LightGCN-Spotify/main/data/dataset_large/data_object.pt\n",
        "! wget https://raw.githubusercontent.com/ba305/LightGCN-Spotify/main/data/dataset_large/dataset_stats.json\n",
        "! wget https://raw.githubusercontent.com/ba305/LightGCN-Spotify/main/data/dataset_large/song_info.json\n",
        "! wget https://raw.githubusercontent.com/ba305/LightGCN-Spotify/main/data/dataset_large/playlist_info.json"
      ],
      "metadata": {
        "colab": {
          "base_uri": "https://localhost:8080/"
        },
        "id": "94A_2r-wJBJb",
        "outputId": "7f92cccc-523d-45c7-b506-05eacb9f8e74"
      },
      "execution_count": null,
      "outputs": [
        {
          "output_type": "stream",
          "name": "stdout",
          "text": [
            "--2021-12-10 04:28:09--  https://raw.githubusercontent.com/ba305/LightGCN-Spotify/main/data/dataset_large/data_object.pt\n",
            "Resolving raw.githubusercontent.com (raw.githubusercontent.com)... 185.199.108.133, 185.199.111.133, 185.199.109.133, ...\n",
            "Connecting to raw.githubusercontent.com (raw.githubusercontent.com)|185.199.108.133|:443... connected.\n",
            "HTTP request sent, awaiting response... 200 OK\n",
            "Length: 21104811 (20M) [application/octet-stream]\n",
            "Saving to: ‘data_object.pt’\n",
            "\n",
            "data_object.pt      100%[===================>]  20.13M  --.-KB/s    in 0.1s    \n",
            "\n",
            "2021-12-10 04:28:11 (197 MB/s) - ‘data_object.pt’ saved [21104811/21104811]\n",
            "\n",
            "--2021-12-10 04:28:11--  https://raw.githubusercontent.com/ba305/LightGCN-Spotify/main/data/dataset_large/dataset_stats.json\n",
            "Resolving raw.githubusercontent.com (raw.githubusercontent.com)... 185.199.110.133, 185.199.109.133, 185.199.111.133, ...\n",
            "Connecting to raw.githubusercontent.com (raw.githubusercontent.com)|185.199.110.133|:443... connected.\n",
            "HTTP request sent, awaiting response... 200 OK\n",
            "Length: 157 [text/plain]\n",
            "Saving to: ‘dataset_stats.json’\n",
            "\n",
            "dataset_stats.json  100%[===================>]     157  --.-KB/s    in 0s      \n",
            "\n",
            "2021-12-10 04:28:11 (11.6 MB/s) - ‘dataset_stats.json’ saved [157/157]\n",
            "\n",
            "--2021-12-10 04:28:11--  https://raw.githubusercontent.com/ba305/LightGCN-Spotify/main/data/dataset_large/song_info.json\n",
            "Resolving raw.githubusercontent.com (raw.githubusercontent.com)... 185.199.108.133, 185.199.109.133, 185.199.110.133, ...\n",
            "Connecting to raw.githubusercontent.com (raw.githubusercontent.com)|185.199.108.133|:443... connected.\n",
            "HTTP request sent, awaiting response... 200 OK\n",
            "Length: 1043429 (1019K) [text/plain]\n",
            "Saving to: ‘song_info.json’\n",
            "\n",
            "song_info.json      100%[===================>]   1019K  --.-KB/s    in 0.02s   \n",
            "\n",
            "2021-12-10 04:28:11 (55.5 MB/s) - ‘song_info.json’ saved [1043429/1043429]\n",
            "\n",
            "--2021-12-10 04:28:11--  https://raw.githubusercontent.com/ba305/LightGCN-Spotify/main/data/dataset_large/playlist_info.json\n",
            "Resolving raw.githubusercontent.com (raw.githubusercontent.com)... 185.199.110.133, 185.199.108.133, 185.199.111.133, ...\n",
            "Connecting to raw.githubusercontent.com (raw.githubusercontent.com)|185.199.110.133|:443... connected.\n",
            "HTTP request sent, awaiting response... 200 OK\n",
            "Length: 278003 (271K) [text/plain]\n",
            "Saving to: ‘playlist_info.json’\n",
            "\n",
            "playlist_info.json  100%[===================>] 271.49K  --.-KB/s    in 0.01s   \n",
            "\n",
            "2021-12-10 04:28:11 (22.7 MB/s) - ‘playlist_info.json’ saved [278003/278003]\n",
            "\n"
          ]
        }
      ]
    },
    {
      "cell_type": "markdown",
      "source": [
        "Now that we downloaded our preprocessed dataset, we can load it in."
      ],
      "metadata": {
        "id": "KF8I3QTz2gJw"
      }
    },
    {
      "cell_type": "code",
      "source": [
        "# Load data\n",
        "base_dir = \".\"\n",
        "data = torch.load(os.path.join(base_dir, \"data_object.pt\"))\n",
        "with open(os.path.join(base_dir, \"dataset_stats.json\"), 'r') as f:\n",
        "    stats = json.load(f)\n",
        "num_playlists, num_nodes = stats[\"num_playlists\"], stats[\"num_nodes\"]"
      ],
      "metadata": {
        "id": "EpE7dFJge1Wq"
      },
      "execution_count": null,
      "outputs": []
    },
    {
      "cell_type": "markdown",
      "source": [
        "### Train/validation/test split"
      ],
      "metadata": {
        "id": "3gxBd579e8Ox"
      }
    },
    {
      "cell_type": "markdown",
      "source": [
        "The train/validation/test split is very important! We will use a 70%-15%-15% split. \n",
        "\n",
        "For graph ML problems, this splitting is quite complex (see our article for more details). Luckily, the RandomLinkSplit function from PyG can help us if we use it correctly.\n",
        "\n",
        "We need to specify is_undirected=True so that it knows to avoid data leakage from reverse edges (e.g., [4,5] and [5,4] should stay in the same split since they are basically the same edge). We also set add_negative_train_samples=False and neg_sampling_ratio=0 since we have our own negative sampling implementation."
      ],
      "metadata": {
        "id": "9au4M0HB2kM6"
      }
    },
    {
      "cell_type": "code",
      "source": [
        "# Train/val/test split\n",
        "transform = RandomLinkSplit(is_undirected=True, add_negative_train_samples=False, neg_sampling_ratio=0,\n",
        "                            num_val=0.15, num_test=0.15)\n",
        "train_split, val_split, test_split = transform(data)\n",
        "# Confirm that every node appears in every set above\n",
        "assert train_split.num_nodes == val_split.num_nodes and train_split.num_nodes == test_split.num_nodes"
      ],
      "metadata": {
        "id": "j0YoXGWHe7uO"
      },
      "execution_count": null,
      "outputs": []
    },
    {
      "cell_type": "markdown",
      "source": [
        "We can now take a quick look at the splits. Note that message passing edges are stored in the .edge_index attribute, and supervision/evaluation edges are stored in the .edge_label_index attribute. Keep in mind that the message passing edges are directed, while the evaluation edges are undirected."
      ],
      "metadata": {
        "id": "vYOFvmPz2-Vg"
      }
    },
    {
      "cell_type": "code",
      "source": [
        "print(train_split)\n",
        "print(val_split)\n",
        "print(test_split)"
      ],
      "metadata": {
        "id": "2MKNz9_3fDyq",
        "colab": {
          "base_uri": "https://localhost:8080/"
        },
        "outputId": "b2136469-f32f-440e-c1e3-4539d2277a62"
      },
      "execution_count": null,
      "outputs": [
        {
          "output_type": "stream",
          "name": "stdout",
          "text": [
            "Data(edge_index=[2, 923296], num_nodes=14992, edge_label=[461648], edge_label_index=[2, 461648])\n",
            "Data(edge_index=[2, 923296], num_nodes=14992, edge_label=[98924], edge_label_index=[2, 98924])\n",
            "Data(edge_index=[2, 1121144], num_nodes=14992, edge_label=[98924], edge_label_index=[2, 98924])\n"
          ]
        }
      ]
    },
    {
      "cell_type": "markdown",
      "source": [
        "We will want to load our evaluation edges in batches using a DataLoader. Therefore, we first must create a PyG Dataset object which specifies how to load in each batch. See the documentation for more information: https://pytorch-geometric.readthedocs.io/en/latest/notes/create_dataset.html"
      ],
      "metadata": {
        "id": "Fq6-jodC3LH2"
      }
    },
    {
      "cell_type": "code",
      "source": [
        "class PlainData(Data):\n",
        "    \"\"\"\n",
        "    Custom Data class for use in PyG. Basically the same as the original Data class from PyG, but\n",
        "    overrides the __inc__ method because otherwise the DataLoader was incrementing indices unnecessarily.\n",
        "    Now it functions more like the original DataLoader from PyTorch itself.\n",
        "    See here for more information: https://pytorch-geometric.readthedocs.io/en/latest/notes/batching.html\n",
        "    \"\"\"\n",
        "    def __inc__(self, key, value, *args, **kwargs):\n",
        "        return 0\n",
        "\n",
        "class SpotifyDataset(Dataset):\n",
        "    \"\"\"\n",
        "    Dataset object containing the Spotify supervision/evaluation edges. This will be used by the DataLoader to load\n",
        "    batches of edges to calculate loss or evaluation metrics on. Here, get(idx) will return ALL outgoing edges of the graph\n",
        "    corresponding to playlist \"idx.\" This is because when calculating metrics such as recall@k, we need all of the\n",
        "    playlist's positive edges in the same batch.\n",
        "    \"\"\"\n",
        "    def __init__(self, root, edge_index, transform=None, pre_transform=None):\n",
        "        self.edge_index = edge_index\n",
        "        self.unique_idxs = torch.unique(edge_index[0,:]).tolist() # playlists will all be in row 0, b/c sorted by RandLinkSplit\n",
        "        self.num_nodes = len(self.unique_idxs)\n",
        "        super().__init__(root, transform, pre_transform)\n",
        "\n",
        "    def len(self):\n",
        "        return self.num_nodes\n",
        "\n",
        "    def get(self, idx): # returns all outgoing edges associated with playlist idx\n",
        "        edge_index = self.edge_index[:, self.edge_index[0,:] == idx]\n",
        "        return PlainData(edge_index=edge_index)"
      ],
      "metadata": {
        "id": "-cNSEJdH13SV"
      },
      "execution_count": null,
      "outputs": []
    },
    {
      "cell_type": "markdown",
      "source": [
        "For each split, we have a set of message passing edges (for GNN propagation/getting final multi-scale node embeddings), and also a set of evaluation edges (used to calculate loss/performance metrics). For message passing edges, we can just store them in a PyG Data object. For evaluation edges, we put them in a SpotifyDataset object so we can load them in in batches with a DataLoader."
      ],
      "metadata": {
        "id": "OrPYS7003qDj"
      }
    },
    {
      "cell_type": "code",
      "source": [
        "train_ev = SpotifyDataset('temp', edge_index=train_split.edge_label_index)\n",
        "train_mp = Data(edge_index=train_split.edge_index)\n",
        "\n",
        "val_ev = SpotifyDataset('temp', edge_index=val_split.edge_label_index)\n",
        "val_mp = Data(edge_index=val_split.edge_index)\n",
        "\n",
        "test_ev = SpotifyDataset('temp', edge_index=test_split.edge_label_index)    \n",
        "test_mp = Data(edge_index=test_split.edge_index)"
      ],
      "metadata": {
        "id": "S6V2A5u5fD05"
      },
      "execution_count": null,
      "outputs": []
    },
    {
      "cell_type": "markdown",
      "source": [
        "# Creating the Model"
      ],
      "metadata": {
        "id": "bXPJd59_Ju5x"
      }
    },
    {
      "cell_type": "markdown",
      "source": [
        "Now it's time to create the full LightGCN model! Please see the documentation for more details on how to create message passing networks: https://pytorch-geometric.readthedocs.io/en/latest/notes/create_gnn.html"
      ],
      "metadata": {
        "id": "v20pZ_VA3ziA"
      }
    },
    {
      "cell_type": "markdown",
      "source": [
        "We need to create two classes. First is a class that defines how a single LightGCN message passing layer should work. For this, we need to specify the aggregation function (in the constructor), and also define the message() and forward() functions. Please see our article for a more in-depth description of what each function does."
      ],
      "metadata": {
        "id": "jGUib63137gM"
      }
    },
    {
      "cell_type": "code",
      "source": [
        "class LightGCN(MessagePassing):\n",
        "    \"\"\"\n",
        "    A single LightGCN layer. Extends the MessagePassing class from PyTorch Geometric\n",
        "    \"\"\"\n",
        "    def __init__(self):\n",
        "        super(LightGCN, self).__init__(aggr='add') # aggregation function is 'add\n",
        "\n",
        "    def message(self, x_j, norm):\n",
        "        \"\"\"\n",
        "        Specifies how to perform message passing during GNN propagation. For LightGCN, we simply pass along each\n",
        "        source node's embedding to the target node, normalized by the normalization term for that node.\n",
        "        args:\n",
        "          x_j: node embeddings of the neighbor nodes, which will be passed to the central node (shape: [E, emb_dim])\n",
        "          norm: the normalization terms we calculated in forward() and passed into propagate()\n",
        "        returns:\n",
        "          messages from neighboring nodes j to central node i\n",
        "        \"\"\"\n",
        "        # Here we are just multiplying the x_j's by the normalization terms (using some broadcasting)\n",
        "        return norm.view(-1, 1) * x_j\n",
        "\n",
        "    def forward(self, x, edge_index):\n",
        "        \"\"\"\n",
        "        Performs the LightGCN message passing/aggregation/update to get updated node embeddings\n",
        "\n",
        "        args:\n",
        "          x: current node embeddings (shape: [N, emb_dim])\n",
        "          edge_index: message passing edges (shape: [2, E])\n",
        "        returns:\n",
        "          updated embeddings after this layer\n",
        "        \"\"\"\n",
        "        # Computing node degrees for normalization term in LightGCN (see LightGCN paper for details on this normalization term)\n",
        "        # These will be used during message passing, to normalize each neighbor's embedding before passing it as a message\n",
        "        row, col = edge_index\n",
        "        deg = degree(col)\n",
        "        deg_inv_sqrt = deg.pow(-0.5)\n",
        "        norm = deg_inv_sqrt[row] * deg_inv_sqrt[col]\n",
        "\n",
        "        # Begin propagation. Will perform message passing and aggregation and return updated node embeddings.\n",
        "        return self.propagate(edge_index, x=x, norm=norm)"
      ],
      "metadata": {
        "id": "eLVK-3f74HHU"
      },
      "execution_count": null,
      "outputs": []
    },
    {
      "cell_type": "markdown",
      "source": [
        "Secondly, we need another class to define the full GNN, which consists of multiple LightGCN layers. This model has learnable user/item (i.e., playlist/song) embeddings."
      ],
      "metadata": {
        "id": "1u0qwh_U4TbI"
      }
    },
    {
      "cell_type": "code",
      "metadata": {
        "id": "U7w0A_cBqRo4"
      },
      "source": [
        "class GNN(torch.nn.Module):\n",
        "    \"\"\"\n",
        "    Overall graph neural network. Consists of learnable user/item (i.e., playlist/song) embeddings\n",
        "    and LightGCN layers.\n",
        "    \"\"\"\n",
        "    def __init__(self, embedding_dim, num_nodes, num_playlists, num_layers):\n",
        "        super(GNN, self).__init__()\n",
        "\n",
        "        self.embedding_dim = embedding_dim\n",
        "        self.num_nodes = num_nodes         # total number of nodes (songs + playlists) in dataset\n",
        "        self.num_playlists = num_playlists # total number of playlists in dataset\n",
        "        self.num_layers = num_layers\n",
        "\n",
        "        # Initialize embeddings for all playlists and songs. Playlists will have indices from 0...num_playlists-1,\n",
        "        # songs will have indices from num_playlists...num_nodes-1\n",
        "        self.embeddings = torch.nn.Embedding(num_embeddings=self.num_nodes, embedding_dim=self.embedding_dim)\n",
        "        torch.nn.init.normal_(self.embeddings.weight, std=0.1)\n",
        "\n",
        "        self.layers = torch.nn.ModuleList() # LightGCN layers\n",
        "        for _ in range(self.num_layers):\n",
        "            self.layers.append(LightGCN())\n",
        "\n",
        "        self.sigmoid = torch.sigmoid\n",
        "\n",
        "    def forward(self):\n",
        "        raise NotImplementedError(\"forward() has not been implemented for the GNN class. Do not use\")\n",
        "\n",
        "    def gnn_propagation(self, edge_index_mp):\n",
        "        \"\"\"\n",
        "        Performs the linear embedding propagation (using the LightGCN layers) and calculates final (multi-scale) embeddings\n",
        "        for each user/item, which are calculated as a weighted sum of that user/item's embeddings at each layer (from\n",
        "        0 to self.num_layers). Technically, the weighted sum here is the average, which is what the LightGCN authors recommend.\n",
        "\n",
        "        args:\n",
        "          edge_index_mp: a tensor of all (undirected) edges in the graph, which is used for message passing/propagation and\n",
        "              calculating the multi-scale embeddings. (In contrast to the evaluation/supervision edges, which are distinct\n",
        "              from the message passing edges and will be used for calculating loss/performance metrics).\n",
        "        returns:\n",
        "          final multi-scale embeddings for all users/items\n",
        "        \"\"\"\n",
        "        x = self.embeddings.weight        # layer-0 embeddings\n",
        "\n",
        "        x_at_each_layer = [x]             # stores embeddings from each layer. Start with layer-0 embeddings\n",
        "        for i in range(self.num_layers):  # now performing the GNN propagation\n",
        "            x = self.layers[i](x, edge_index_mp)\n",
        "            x_at_each_layer.append(x)\n",
        "        final_embs = torch.stack(x_at_each_layer, dim=0).mean(dim=0) # take average to calculate multi-scale embeddings\n",
        "        return final_embs\n",
        "\n",
        "    def predict_scores(self, edge_index, embs):\n",
        "        \"\"\"\n",
        "        Calculates predicted scores for each playlist/song pair in the list of edges. Uses dot product of their embeddings.\n",
        "\n",
        "        args:\n",
        "          edge_index: tensor of edges (between playlists and songs) whose scores we will calculate.\n",
        "          embs: node embeddings for calculating predicted scores (typically the multi-scale embeddings from gnn_propagation())\n",
        "        returns:\n",
        "          predicted scores for each playlist/song pair in edge_index\n",
        "        \"\"\"\n",
        "        scores = embs[edge_index[0,:], :] * embs[edge_index[1,:], :] # taking dot product for each playlist/song pair\n",
        "        scores = scores.sum(dim=1)\n",
        "        scores = self.sigmoid(scores)\n",
        "        return scores\n",
        "\n",
        "    def calc_loss(self, data_mp, data_pos, data_neg):\n",
        "        \"\"\"\n",
        "        The main training step. Performs GNN propagation on message passing edges, to get multi-scale embeddings.\n",
        "        Then predicts scores for each training example, and calculates Bayesian Personalized Ranking (BPR) loss.\n",
        "\n",
        "        args:\n",
        "          data_mp: tensor of edges used for message passing / calculating multi-scale embeddings\n",
        "          data_pos: set of positive edges that will be used during loss calculation\n",
        "          data_neg: set of negative edges that will be used during loss calculation\n",
        "        returns:\n",
        "          loss calculated on the positive/negative training edges\n",
        "        \"\"\"\n",
        "        # Perform GNN propagation on message passing edges to get final embeddings\n",
        "        final_embs = self.gnn_propagation(data_mp.edge_index)\n",
        "\n",
        "        # Get edge prediction scores for all positive and negative evaluation edges\n",
        "        pos_scores = self.predict_scores(data_pos.edge_index, final_embs)\n",
        "        neg_scores = self.predict_scores(data_neg.edge_index, final_embs)\n",
        "\n",
        "        # # Calculate loss (binary cross-entropy). Commenting out, but can use instead of BPR if desired.\n",
        "        # all_scores = torch.cat([pos_scores, neg_scores], dim=0)\n",
        "        # all_labels = torch.cat([torch.ones(pos_scores.shape[0]), torch.zeros(neg_scores.shape[0])], dim=0)\n",
        "        # loss_fn = torch.nn.BCELoss()\n",
        "        # loss = loss_fn(all_scores, all_labels)\n",
        "\n",
        "        # Calculate loss (using variation of Bayesian Personalized Ranking loss, similar to the one used in official\n",
        "        # LightGCN implementation at https://github.com/gusye1234/LightGCN-PyTorch/blob/master/code/model.py#L202)\n",
        "        loss = -torch.log(self.sigmoid(pos_scores - neg_scores)).mean()\n",
        "        return loss\n",
        "\n",
        "    def evaluation(self, data_mp, data_pos, k):\n",
        "        \"\"\"\n",
        "        Performs evaluation on validation or test set. Calculates recall@k.\n",
        "\n",
        "        args:\n",
        "          data_mp: message passing edges to use for propagation/calculating multi-scale embeddings\n",
        "          data_pos: positive edges to use for scoring metrics. Should be no overlap between these edges and data_mp's edges\n",
        "          k: value of k to use for recall@k\n",
        "        returns:\n",
        "          dictionary mapping playlist ID -> recall@k on that playlist\n",
        "        \"\"\"\n",
        "        # Run propagation on the message-passing edges to get multi-scale embeddings\n",
        "        final_embs = self.gnn_propagation(data_mp.edge_index)\n",
        "\n",
        "        # Get embeddings of all unique playlists in the batch of evaluation edges\n",
        "        unique_playlists = torch.unique_consecutive(data_pos.edge_index[0,:])\n",
        "        playlist_emb = final_embs[unique_playlists, :] # has shape [number of playlists in batch, 64]\n",
        "        \n",
        "        # Get embeddings of ALL songs in dataset\n",
        "        song_emb = final_embs[self.num_playlists:, :] # has shape [total number of songs in dataset, 64]\n",
        "\n",
        "        # All ratings for each playlist in batch to each song in entire dataset (using dot product as the scoring function)\n",
        "        ratings = self.sigmoid(torch.matmul(playlist_emb, song_emb.t())) # shape: [# playlists in batch, # songs in dataset]\n",
        "                                                                         # where entry i,j is rating of song j for playlist i\n",
        "        # Calculate recall@k\n",
        "        result = recall_at_k(ratings.cpu(), k, self.num_playlists, data_pos.edge_index.cpu(), \n",
        "                             unique_playlists.cpu(), data_mp.edge_index.cpu())\n",
        "        return result"
      ],
      "execution_count": null,
      "outputs": []
    },
    {
      "cell_type": "markdown",
      "source": [
        "# A few important helper functions"
      ],
      "metadata": {
        "id": "aRM_SMGB4iZ_"
      }
    },
    {
      "cell_type": "markdown",
      "source": [
        "During evaluation, our metric of choice is recall@k. Let's write a helper function that will calculate recall@k for us on a single batch of data."
      ],
      "metadata": {
        "id": "UIkI6Wga4k6h"
      }
    },
    {
      "cell_type": "code",
      "metadata": {
        "id": "0PQY4beKqSIw"
      },
      "source": [
        "def recall_at_k(all_ratings, k, num_playlists, ground_truth, unique_playlists, data_mp):\n",
        "   \"\"\"\n",
        "   Calculates recall@k during validation/testing for a single batch.\n",
        "\n",
        "   args:\n",
        "     all_ratings: array of shape [number of playlists in batch, number of songs in whole dataset]\n",
        "     k: the value of k to use for recall@k\n",
        "     num_playlists: the number of playlists in the dataset\n",
        "     ground_truth: array of shape [2, X] where each column is a pair of (playlist_idx, positive song idx). This is the\n",
        "        batch that we are calculating metrics on.\n",
        "     unique_playlists: 1D vector of length [number of playlists in batch], which specifies which playlist corresponds\n",
        "        to each row of all_ratings\n",
        "     data_mp: an array of shape [2, Y]. This is all of the known message-passing edges. We will use this to make sure we\n",
        "        don't recommend songs that are already known to be in the playlist.\n",
        "   returns:\n",
        "     Dictionary of playlist ID -> recall@k on that playlist\n",
        "   \"\"\"\n",
        "   # We don't want to recommend songs that are already known to be in the playlist! \n",
        "   # Set those to a low rating so they won't be recommended\n",
        "   known_edges = data_mp[:, data_mp[0,:] < num_playlists] # removing duplicate edges (since data_mp is undirected). also makes it so\n",
        "                                                          # that for each column, playlist idx is in row 0 and song idx is in row 1\n",
        "   playlist_to_idx_in_batch = {playlist: i for i, playlist in enumerate(unique_playlists.tolist())}\n",
        "   exclude_playlists, exclude_songs = [], [] # already-known playlist/song links. Don't want to recommend these again\n",
        "   for i in range(known_edges.shape[1]): # looping over all known edges\n",
        "      pl, song = known_edges[:,i].tolist()\n",
        "      if pl in playlist_to_idx_in_batch: # don't need the edges in data_mp that are from playlists that are not in this batch\n",
        "         exclude_playlists.append(playlist_to_idx_in_batch[pl])\n",
        "         exclude_songs.append(song - num_playlists) # subtract num_playlists to get indexing into all_ratings correct\n",
        "   all_ratings[exclude_playlists, exclude_songs] = -10000 # setting to a very low score so they won't be recommended\n",
        "\n",
        "   # Get top k recommendations for each playlist\n",
        "   _, top_k = torch.topk(all_ratings, k=k, dim=1)\n",
        "   top_k += num_playlists # topk returned indices of songs in ratings, which doesn't include playlists.\n",
        "                          # Need to shift up by num_playlists to get the actual song indices\n",
        "    \n",
        "   # Calculate recall@k\n",
        "   ret = {}\n",
        "   for i, playlist in enumerate(unique_playlists):\n",
        "      pos_songs = ground_truth[1, ground_truth[0, :] == playlist]\n",
        "\n",
        "      k_recs = top_k[i, :] # top k recommendations for playlist\n",
        "      recall = len(np.intersect1d(pos_songs, k_recs)) / len(pos_songs)\n",
        "      ret[playlist] = recall\n",
        "   return ret"
      ],
      "execution_count": null,
      "outputs": []
    },
    {
      "cell_type": "markdown",
      "source": [
        "Also, during training, to calculate the Bayesian Personalized Ranking (BPR) loss, we will need to sample negative edges. Here is a function that does that. \n",
        "\n",
        "Note that to sample negatives, we randomly select songs for each playlist without checking if they are true negatives, since that is computationally expensive. This is fine in our case, because we will never be sampling more than ~100 songs for a playlist (out of thousands of songs), so although we will accidentally sample some positive songs occasionally, it will be an acceptably small number. However, if that is not the case for your dataset, please consider modifying this function to sample true negatives only. "
      ],
      "metadata": {
        "id": "GNSxfBFw4wP9"
      }
    },
    {
      "cell_type": "code",
      "metadata": {
        "id": "NlZa_WZuqSK_"
      },
      "source": [
        "def sample_negative_edges(batch, num_playlists, num_nodes):\n",
        "    # Randomly samples songs for each playlist. Here we sample 1 negative edge \n",
        "    # for each positive edge in the graph, so we will\n",
        "    # end up having a balanced 1:1 ratio of positive to negative edges.\n",
        "    negs = []\n",
        "    for i in batch.edge_index[0,:]:  # looping over playlists\n",
        "        assert i < num_playlists     # just ensuring that i is a playlist\n",
        "        rand = torch.randint(num_playlists, num_nodes, (1,))  # randomly sample a song\n",
        "        negs.append(rand.item())\n",
        "    edge_index_negs = torch.row_stack([batch.edge_index[0,:], torch.LongTensor(negs)])\n",
        "    return Data(edge_index=edge_index_negs)"
      ],
      "execution_count": null,
      "outputs": []
    },
    {
      "cell_type": "markdown",
      "source": [
        "# Write the main training and test loops"
      ],
      "metadata": {
        "id": "U1J8uPsGJ3X3"
      }
    },
    {
      "cell_type": "markdown",
      "source": [
        "We are almost ready to train! Let's define the main training function. This performs GNN propagation on the message passing edges to get the final multi-scale embeddings, and then calculates the loss and performs back-propagation to update our learned embeddings."
      ],
      "metadata": {
        "id": "FR9CXHNz5InE"
      }
    },
    {
      "cell_type": "code",
      "metadata": {
        "id": "CHP1iV95qSNe"
      },
      "source": [
        "def train(model, data_mp, loader, opt, num_playlists, num_nodes, device):\n",
        "    \"\"\"\n",
        "    Main training loop\n",
        "\n",
        "    args:\n",
        "       model: the GNN model\n",
        "       data_mp: message passing edges to use for performing propagation/calculating multi-scale embeddings\n",
        "       loader: DataLoader that loads in batches of supervision/evaluation edges\n",
        "       opt: the optimizer\n",
        "       num_playlists: the number of playlists in the entire dataset\n",
        "       num_nodes: the number of nodes (playlists + songs) in the entire dataset\n",
        "       device: whether to run on CPU or GPU\n",
        "    returns:\n",
        "       the training loss for this epoch\n",
        "    \"\"\"\n",
        "    total_loss = 0\n",
        "    total_examples = 0\n",
        "    model.train()\n",
        "    for batch in loader:\n",
        "        del batch.batch; del batch.ptr # delete unwanted attributes\n",
        "        \n",
        "        opt.zero_grad()\n",
        "        negs = sample_negative_edges(batch, num_playlists, num_nodes)  # sample negative edges\n",
        "        data_mp, batch, negs = data_mp.to(device), batch.to(device), negs.to(device)\n",
        "        loss = model.calc_loss(data_mp, batch, negs)\n",
        "        loss.backward()\n",
        "        opt.step()\n",
        "\n",
        "        num_examples = batch.edge_index.shape[1]\n",
        "        total_loss += loss.item() * num_examples\n",
        "        total_examples += num_examples\n",
        "    avg_loss = total_loss / total_examples\n",
        "    return avg_loss"
      ],
      "execution_count": null,
      "outputs": []
    },
    {
      "cell_type": "markdown",
      "source": [
        "Similarly, we can define the testing/evaluation loop. This is similar to training, except we calculate recall@k instead of BPR loss, and we do not perform back-propagation."
      ],
      "metadata": {
        "id": "FX9jDBLm5UlO"
      }
    },
    {
      "cell_type": "code",
      "metadata": {
        "id": "_wYSKg-nqlcu"
      },
      "source": [
        "def test(model, data_mp, loader, k, device, save_dir, epoch):\n",
        "    \"\"\"\n",
        "    Evaluation loop for validation/testing.\n",
        "\n",
        "    args:\n",
        "       model: the GNN model\n",
        "       data_mp: message passing edges to use for propagation/calculating multi-scale embeddings\n",
        "       loader: DataLoader that loads in batches of evaluation (i.e., validation or test) edges\n",
        "       k: value of k to use for recall@k\n",
        "       device: whether to use CPU or GPU\n",
        "       save_dir: directory to save multi-scale embeddings for later analysis. If None, doesn't save any embeddings.\n",
        "       epoch: the number of the current epoch\n",
        "    returns:\n",
        "       recall@k for this epoch\n",
        "    \"\"\"\n",
        "    model.eval()\n",
        "    all_recalls = {}\n",
        "    with torch.no_grad():\n",
        "        # Save multi-scale embeddings if save_dir is not None\n",
        "        data_mp = data_mp.to(device)\n",
        "        if save_dir is not None:\n",
        "            embs_to_save = gnn.gnn_propagation(data_mp.edge_index)\n",
        "            torch.save(embs_to_save, os.path.join(save_dir, f\"embeddings_epoch_{epoch}.pt\"))\n",
        "\n",
        "        # Run evaluation\n",
        "        for batch in loader:\n",
        "            del batch.batch; del batch.ptr # delete unwanted attributes\n",
        "\n",
        "            batch = batch.to(device)\n",
        "            recalls = model.evaluation(data_mp, batch, k)\n",
        "            for playlist_idx in recalls:\n",
        "                assert playlist_idx not in all_recalls\n",
        "            all_recalls.update(recalls)\n",
        "    recall_at_k = np.mean(list(all_recalls.values()))\n",
        "    return recall_at_k"
      ],
      "execution_count": null,
      "outputs": []
    },
    {
      "cell_type": "markdown",
      "source": [
        "# Begin training!"
      ],
      "metadata": {
        "id": "D13mFO4ZJ76i"
      }
    },
    {
      "cell_type": "markdown",
      "source": [
        "We are now ready to train! First, let's set a few important hyper-parameters. For this Colab, we will train for 30 epochs so that it finishes in a relatively short amount of time. However, in reality, you should increase that number and just monitor the validation recall@k to ensure that it is not overfitting!\n",
        "\n",
        "Additionally, make sure that your batch_size is large enough so that the training process is more computationally efficient.\n",
        "\n",
        "We also need to set the value of k for recall@k. Please ensure that you select a reasonable value. Here, we select 300 since there are approximately 5,700 songs, so if a song is suggested in the top 300 recommendations, that means it is in the top 5% of recommendations, which seems like a good cutoff point. Feel free to play around with this value, or even calculate it at multiple k values and take the average."
      ],
      "metadata": {
        "id": "IJVGLO1X5cvZ"
      }
    },
    {
      "cell_type": "code",
      "source": [
        "num_songs = num_nodes - num_playlists\n",
        "print(f\"There are {num_songs} unique songs in the dataset\")\n",
        "print (300 / num_songs)"
      ],
      "metadata": {
        "id": "juX417Uc6L1I",
        "colab": {
          "base_uri": "https://localhost:8080/"
        },
        "outputId": "a45c9cdf-ed13-4060-c3fb-d5dbcbadd91b"
      },
      "execution_count": null,
      "outputs": [
        {
          "output_type": "stream",
          "name": "stdout",
          "text": [
            "There are 5696 unique songs in the dataset\n",
            "0.05266853932584269\n"
          ]
        }
      ]
    },
    {
      "cell_type": "code",
      "metadata": {
        "id": "Zpcck1gPqljH"
      },
      "source": [
        "# Training hyperparameters\n",
        "epochs = 30        # number of training epochs (we are keeping it relatively low so that this Colab runs fast)\n",
        "k = 300            # value of k for recall@k. It is important to set this to a reasonable value!\n",
        "num_layers = 3     # number of LightGCN layers (i.e., number of hops to consider during propagation)\n",
        "batch_size = 2048  # batch size. refers to the # of playlists in the batch (each will come with all of its edges)\n",
        "embedding_dim = 64 # dimension to use for the playlist/song embeddings\n",
        "save_emb_dir = 'embeddings'  # path to save multi-scale embeddings during test(). If None, will not save any embeddings\n",
        "\n",
        "# Use GPU if available\n",
        "device = torch.device('cuda' if torch.cuda.is_available() else 'cpu')"
      ],
      "execution_count": null,
      "outputs": []
    },
    {
      "cell_type": "code",
      "source": [
        "# Make directory to save embeddings\n",
        "if save_emb_dir is not None:\n",
        "  os.mkdir(save_emb_dir)"
      ],
      "metadata": {
        "id": "BtPVcfDkN4zR"
      },
      "execution_count": null,
      "outputs": []
    },
    {
      "cell_type": "markdown",
      "source": [
        "Here we create the DataLoaders for the supervision/evaluation edges (one for each of the train/val/test sets)"
      ],
      "metadata": {
        "id": "ysyyEdE56ZPy"
      }
    },
    {
      "cell_type": "code",
      "metadata": {
        "id": "BAFoPa1mq7Wv"
      },
      "source": [
        "train_loader = DataLoader(train_ev, batch_size=batch_size, shuffle=True)\n",
        "val_loader = DataLoader(val_ev, batch_size=batch_size, shuffle=False)\n",
        "test_loader = DataLoader(test_ev, batch_size=batch_size, shuffle=False)"
      ],
      "execution_count": null,
      "outputs": []
    },
    {
      "cell_type": "markdown",
      "source": [
        "Now we initialize our GNN model and optimizer:"
      ],
      "metadata": {
        "id": "QJNFn67p6hDG"
      }
    },
    {
      "cell_type": "code",
      "source": [
        "# Initialize GNN model\n",
        "gnn = GNN(embedding_dim=embedding_dim, num_nodes=data.num_nodes, num_playlists=num_playlists, num_layers=num_layers).to(device)\n",
        "\n",
        "opt = torch.optim.Adam(gnn.parameters(), lr=1e-3) # using Adam optimizer"
      ],
      "metadata": {
        "id": "wVLJ7DZs1ca6"
      },
      "execution_count": null,
      "outputs": []
    },
    {
      "cell_type": "markdown",
      "source": [
        "Time to train!\n",
        "\n",
        "Note: this cell will take approximately 15 minutes to run."
      ],
      "metadata": {
        "id": "pet-nDSW6jfN"
      }
    },
    {
      "cell_type": "code",
      "metadata": {
        "id": "_Z0cVWFTq7ZX",
        "colab": {
          "base_uri": "https://localhost:8080/"
        },
        "outputId": "88be5b99-44a9-463a-db95-3bbf962a71ab"
      },
      "source": [
        "all_train_losses = [] # list of (epoch, training loss)\n",
        "all_val_recalls = []  # list of (epoch, validation recall@k)\n",
        "\n",
        "# Main training loop\n",
        "for epoch in range(epochs):\n",
        "    train_loss = train(gnn, train_mp, train_loader, opt, num_playlists, num_nodes, device)\n",
        "    all_train_losses.append((epoch, train_loss))\n",
        "    \n",
        "    if epoch in range(11) or epoch % 5 == 0: # perform validation for the first ~10 epochs, then every 5 epochs after that\n",
        "        val_recall = test(gnn, val_mp, val_loader, k, device, save_emb_dir, epoch)\n",
        "        all_val_recalls.append((epoch, val_recall))\n",
        "        print(f\"Epoch {epoch}: train loss={train_loss}, val_recall={val_recall}\")\n",
        "    else:\n",
        "        print(f\"Epoch {epoch}: train loss={train_loss}\")\n",
        "\n",
        "\n",
        "print()\n",
        "\n",
        "# Print best validation recall@k value\n",
        "best_val_recall = max(all_val_recalls, key = lambda x: x[1])\n",
        "print(f\"Best validation recall@k: {best_val_recall[1]} at epoch {best_val_recall[0]}\")\n",
        "\n",
        "# Print final recall@k on test set\n",
        "test_recall = test(gnn, test_mp, test_loader, k, device, None, None)\n",
        "print(f\"Test set recall@k: {test_recall}\")"
      ],
      "execution_count": null,
      "outputs": [
        {
          "output_type": "stream",
          "name": "stderr",
          "text": [
            "/usr/local/lib/python3.7/dist-packages/torch_geometric/data/storage.py:264: UserWarning: Unable to accurately infer 'num_nodes' from the attribute set '{'edge_index'}'. Please explicitly set 'num_nodes' as an attribute of 'data' to suppress this warning\n",
            "  \" to suppress this warning\")\n"
          ]
        },
        {
          "output_type": "stream",
          "name": "stdout",
          "text": [
            "Epoch 0: train loss=0.6929642933765601, val_recall=0.06648413716606932\n",
            "Epoch 1: train loss=0.6928791577052674, val_recall=0.08865671004191876\n",
            "Epoch 2: train loss=0.6927354994547881, val_recall=0.13190728791702275\n",
            "Epoch 3: train loss=0.692490885200178, val_recall=0.19218143067817617\n",
            "Epoch 4: train loss=0.6921099358278402, val_recall=0.25416708327755383\n",
            "Epoch 5: train loss=0.6915452307687245, val_recall=0.3086568590743434\n",
            "Epoch 6: train loss=0.6907561893817916, val_recall=0.3484754104024423\n",
            "Epoch 7: train loss=0.6897018222946596, val_recall=0.37763548775922773\n",
            "Epoch 8: train loss=0.6883381155178747, val_recall=0.39536103595245464\n",
            "Epoch 9: train loss=0.6866307306947064, val_recall=0.4050363947507457\n",
            "Epoch 10: train loss=0.6845833129190024, val_recall=0.4105384559863052\n",
            "Epoch 11: train loss=0.6821252277843786\n",
            "Epoch 12: train loss=0.679297481291519\n",
            "Epoch 13: train loss=0.6760832832161908\n",
            "Epoch 14: train loss=0.672495105748456\n",
            "Epoch 15: train loss=0.6685025286451961, val_recall=0.4141791106348702\n",
            "Epoch 16: train loss=0.6642657290066428\n",
            "Epoch 17: train loss=0.6598207537757883\n",
            "Epoch 18: train loss=0.654965238592672\n",
            "Epoch 19: train loss=0.6500349663566224\n",
            "Epoch 20: train loss=0.6450184308187676, val_recall=0.4139142950511053\n",
            "Epoch 21: train loss=0.6399533302037312\n",
            "Epoch 22: train loss=0.6348364130858097\n",
            "Epoch 23: train loss=0.6298474141706808\n",
            "Epoch 24: train loss=0.6249562034264826\n",
            "Epoch 25: train loss=0.6201443292478932, val_recall=0.41573257483289455\n",
            "Epoch 26: train loss=0.6156106186032696\n",
            "Epoch 27: train loss=0.6113604429728509\n",
            "Epoch 28: train loss=0.6071405867772816\n",
            "Epoch 29: train loss=0.603204778163739\n",
            "\n",
            "Best validation recall@k: 0.41573257483289455 at epoch 25\n",
            "Test set recall@k: 0.4199230335217113\n"
          ]
        }
      ]
    },
    {
      "cell_type": "markdown",
      "source": [
        "Let's plot the loss curve:"
      ],
      "metadata": {
        "id": "cWHKxIFG6nXa"
      }
    },
    {
      "cell_type": "code",
      "metadata": {
        "id": "ebxqrIOCq7bs",
        "colab": {
          "base_uri": "https://localhost:8080/",
          "height": 279
        },
        "outputId": "1bfb2a0a-73a7-4ac6-9797-cc076655da47"
      },
      "source": [
        "plt.plot([x[0] for x in all_train_losses], [x[1] for x in all_train_losses])\n",
        "plt.xlabel(\"Epoch\")\n",
        "plt.ylabel(\"Training loss\")\n",
        "\n",
        "plt.show()"
      ],
      "execution_count": null,
      "outputs": [
        {
          "output_type": "display_data",
          "data": {
            "image/png": "[encoded data removed]",
            "text/plain": [
              "<Figure size 432x288 with 1 Axes>"
            ]
          },
          "metadata": {
            "needs_background": "light"
          }
        }
      ]
    },
    {
      "cell_type": "markdown",
      "source": [
        "And also plot the validation recall@k over time:"
      ],
      "metadata": {
        "id": "aotsVQdY6pDJ"
      }
    },
    {
      "cell_type": "code",
      "source": [
        "plt.plot([x[0] for x in all_val_recalls], [x[1] for x in all_val_recalls])\n",
        "plt.xlabel(\"Epoch\")\n",
        "plt.ylabel(\"Validation recall@k\")\n",
        "plt.show()"
      ],
      "metadata": {
        "colab": {
          "base_uri": "https://localhost:8080/",
          "height": 279
        },
        "id": "aufUYQbL8rok",
        "outputId": "c271ba66-fdfc-49a8-f0b2-14a7d5785450"
      },
      "execution_count": null,
      "outputs": [
        {
          "output_type": "display_data",
          "data": {
            "image/png": "[encoded data removed]",
            "text/plain": [
              "<Figure size 432x288 with 1 Axes>"
            ]
          },
          "metadata": {
            "needs_background": "light"
          }
        }
      ]
    },
    {
      "cell_type": "markdown",
      "source": [
        "# Visualize embeddings"
      ],
      "metadata": {
        "id": "pIvtdBz-BZ7B"
      }
    },
    {
      "cell_type": "markdown",
      "source": [
        "Now let's visualize our learned multi-scale playlist/song embeddings!\n",
        "\n",
        "We will make an animated video of the embeddings over the first 10 epochs (which is when the embeddings/loss are changing the most).\n",
        "\n",
        "To visualize it, we will use Principal Components Analysis (PCA) to project each 64-dimensional vector down into 2-dimensions so we can visualize it in a plot."
      ],
      "metadata": {
        "id": "L1h-S22oGWJg"
      }
    },
    {
      "cell_type": "markdown",
      "source": [
        "#### Projecting down to 2 dimensions"
      ],
      "metadata": {
        "id": "ZYKbFdXeG0Or"
      }
    },
    {
      "cell_type": "code",
      "source": [
        "pca_embs = []\n",
        "for i in range(11): # just visualizing epochs 0-10\n",
        "    embs = torch.load(os.path.join('embeddings/embeddings_epoch_' + str(i) + '.pt'), map_location=torch.device('cpu'))\n",
        "    pca = PCA(n_components=2).fit_transform(embs)\n",
        "    pca_embs.append(pca)"
      ],
      "metadata": {
        "id": "k88S_mgOBcAO"
      },
      "execution_count": null,
      "outputs": []
    },
    {
      "cell_type": "code",
      "source": [
        "# Load playlist/song details\n",
        "with open('playlist_info.json', 'r') as f:\n",
        "  playlists = json.load(f)\n",
        "  playlists = {int(k): v for k, v in playlists.items()}\n",
        "\n",
        "with open('song_info.json', 'r') as f:\n",
        "  songs = json.load(f)\n",
        "  songs = {int(k): v for k, v in songs.items()}"
      ],
      "metadata": {
        "id": "GdgB0MBkBnqB"
      },
      "execution_count": null,
      "outputs": []
    },
    {
      "cell_type": "markdown",
      "source": [
        "# Visualizing country music playlists"
      ],
      "metadata": {
        "id": "SxgLcsTWG3uU"
      }
    },
    {
      "cell_type": "markdown",
      "source": [
        "During out inspection of the results, we noticed that there was a large cluster of playlists that stood out in particular. By manually inspecting those playlists, we noticed that they were primarily country music playlists.\n",
        "\n",
        "To show this programatically, we will find all the playlists that have the word \"country\" in the title. This is not perfect, but it will serve as a good estimate of which playlists in the dataset are mainly country music."
      ],
      "metadata": {
        "id": "kKXiwmNyG6dr"
      }
    },
    {
      "cell_type": "code",
      "source": [
        "# Find all playlists with \"country\" in the title\n",
        "country = []\n",
        "country_colors = [] # colors for plotting\n",
        "for id in playlists:\n",
        "    name = playlists[id]['name'].lower()\n",
        "    if 'country' in name:\n",
        "        country.append(country)\n",
        "        country_colors.append(0)\n",
        "    else:\n",
        "        country_colors.append(1)"
      ],
      "metadata": {
        "id": "FuftwZrBBrrP"
      },
      "execution_count": null,
      "outputs": []
    },
    {
      "cell_type": "code",
      "source": [
        "print(f\"There are {len(country)} country playlists out of {len(playlists)} total playlists\")"
      ],
      "metadata": {
        "colab": {
          "base_uri": "https://localhost:8080/"
        },
        "id": "i4Vud5vnHPLu",
        "outputId": "ef075c76-9255-4682-951a-99941ccf3734"
      },
      "execution_count": null,
      "outputs": [
        {
          "output_type": "stream",
          "name": "stdout",
          "text": [
            "There are 736 country playlists out of 9296 total playlists\n"
          ]
        }
      ]
    },
    {
      "cell_type": "code",
      "source": [
        "# First set up the figure, the axis, and the plot element we want to animate\n",
        "fig, ax = plt.subplots()\n",
        "\n",
        "ax.set_xlim(( -0.5, 0.5))\n",
        "ax.set_ylim((-0.5, 0.5))\n",
        "\n",
        "colors = ['red', 'skyblue']\n",
        "from matplotlib.colors import ListedColormap\n",
        "cmap = ListedColormap(colors)\n",
        "\n",
        "\n",
        "scat = ax.scatter([], [], c=[], s=3, alpha=0.3, cmap=cmap)\n",
        "\n",
        "# NOTE: this plot below will be empty! Just ignore it and go to the next cell"
      ],
      "metadata": {
        "colab": {
          "base_uri": "https://localhost:8080/",
          "height": 265
        },
        "id": "3IffldfhDBCo",
        "outputId": "ab6345cb-240b-47ab-aef8-135f445780a0"
      },
      "execution_count": null,
      "outputs": [
        {
          "output_type": "display_data",
          "data": {
            "image/png": "[encoded data removed]",
            "text/plain": [
              "<Figure size 432x288 with 1 Axes>"
            ]
          },
          "metadata": {
            "needs_background": "light"
          }
        }
      ]
    },
    {
      "cell_type": "code",
      "source": [
        "def init():\n",
        "    scat.set_offsets([])\n",
        "    return scat,"
      ],
      "metadata": {
        "id": "_JkcqhfaDBeB"
      },
      "execution_count": null,
      "outputs": []
    },
    {
      "cell_type": "code",
      "source": [
        "def animate(i):\n",
        "  embs = pca_embs[i]\n",
        "  x, y = embs[:num_playlists, 0], embs[:num_playlists, 1] # only plotting playlists, not songs\n",
        "  data = np.hstack((x[:,np.newaxis], y[:, np.newaxis]))\n",
        "  scat.set_offsets(data)\n",
        "  scat.set_array(country_colors)\n",
        "  return (scat,)"
      ],
      "metadata": {
        "id": "5z5MY8-EDBgY"
      },
      "execution_count": null,
      "outputs": []
    },
    {
      "cell_type": "code",
      "source": [
        "anim = animation.FuncAnimation(fig, animate, init_func=init,\n",
        "                               frames=11, interval=1000, blit=True)"
      ],
      "metadata": {
        "id": "XD8t53fHDk6H"
      },
      "execution_count": null,
      "outputs": []
    },
    {
      "cell_type": "markdown",
      "source": [
        "Now let's watch the animated video as the embeddings change from epochs 0-10! The country playlists are in red, and non-country playlists are in blue."
      ],
      "metadata": {
        "id": "pVa9NFHzY-s1"
      }
    },
    {
      "cell_type": "code",
      "source": [
        "HTML(anim.to_html5_video())"
      ],
      "metadata": {
        "colab": {
          "base_uri": "https://localhost:8080/",
          "height": 310
        },
        "id": "RimWC1eUDsVb",
        "outputId": "0f6a6bce-cfec-4692-c6d6-727bd8decdb7"
      },
      "execution_count": null,
      "outputs": [
        {
          "output_type": "execute_result",
          "data": {
            "text/html": [
              "<video width=\"432\" height=\"288\" controls autoplay loop>\n",
              "  <source type=\"video/mp4\" src=\"data:video/mp4;base64,AAAAHGZ0eXBNNFYgAAACAGlzb21pc28yYXZjMQAAAAhmcmVlAAC8km1kYXQAAAKtBgX//6ncRem9\n",
              "5tlIt5Ys2CDZI+7veDI2NCAtIGNvcmUgMTUyIHIyODU0IGU5YTU5MDMgLSBILjI2NC9NUEVHLTQg\n",
              "QVZDIGNvZGVjIC0gQ29weWxlZnQgMjAwMy0yMDE3IC0gaHR0cDovL3d3dy52aWRlb2xhbi5vcmcv\n",
              "eDI2NC5odG1sIC0gb3B0aW9uczogY2FiYWM9MSByZWY9MyBkZWJsb2NrPTE6MDowIGFuYWx5c2U9\n",
              "MHgzOjB4MTEzIG1lPWhleCBzdWJtZT03IHBzeT0xIHBzeV9yZD0xLjAwOjAuMDAgbWl4ZWRfcmVm\n",
              "PTEgbWVfcmFuZ2U9MTYgY2hyb21hX21lPTEgdHJlbGxpcz0xIDh4OGRjdD0xIGNxbT0wIGRlYWR6\n",
              "b25lPTIxLDExIGZhc3RfcHNraXA9MSBjaHJvbWFfcXBfb2Zmc2V0PS0yIHRocmVhZHM9MyBsb29r\n",
              "YWhlYWRfdGhyZWFkcz0xIHNsaWNlZF90aHJlYWRzPTAgbnI9MCBkZWNpbWF0ZT0xIGludGVybGFj\n",
              "ZWQ9MCBibHVyYXlfY29tcGF0PTAgY29uc3RyYWluZWRfaW50cmE9MCBiZnJhbWVzPTMgYl9weXJh\n",
              "bWlkPTIgYl9hZGFwdD0xIGJfYmlhcz0wIGRpcmVjdD0xIHdlaWdodGI9MSBvcGVuX2dvcD0wIHdl\n",
              "aWdodHA9MiBrZXlpbnQ9MjUwIGtleWludF9taW49MSBzY2VuZWN1dD00MCBpbnRyYV9yZWZyZXNo\n",
              "PTAgcmNfbG9va2FoZWFkPTQwIHJjPWNyZiBtYnRyZWU9MSBjcmY9MjMuMCBxY29tcD0wLjYwIHFw\n",
              "bWluPTAgcXBtYXg9NjkgcXBzdGVwPTQgaXBfcmF0aW89MS40MCBhcT0xOjEuMDAAgAAADwJliIQA\n",
              "F//+99S3zLLtU2+2C6j3op4mX0N1JQGblsTtOoAAAAMABnddzdfZ7UFwH2gAB5iyR2B/h/8ABvrg\n",
              "zJuP+BubKKWVtz+4V6x29iCZiIXbxoFg3dMpe9pKbZ84UpCTq8NDH3ZvqvPIOLvWR7F6Va5uAU7m\n",
              "dZeLEKkiNUxecnNTkD0QKKfOvAGP5ttbpE9C1K3Jepj7IDMJb0HPTqHi+aap4YTX/TIYJi0yN5Q8\n",
              "ebYavMbmlS6jiZBfRquHdtlcWIj28WGHELdc55vZZiHvOfTLCepP8c51/tU7nti7pUb+6R5U5zmZ\n",
              "yzDktrqFcK06xSP6b2Pv2bJKsnR20/GA1pyfaud49s80ifULhRKzZrG9pcsudqTD87JY+mBdoAAB\n",
              "tA4JK/gsFvnrEMcFAmJwnKJWyux9gXmz8IiY7V0WkZWMBWxMaGuas1v2mq6aurysK3aGpGZ2lE4q\n",
              "C5083qJAS/Z1FxHCGHJ6SYawI9B52G9s/sUTOgcf7kWN1nQbXZyCVtAf7kF8P67Qnx31/OEZH7bm\n",
              "sXsXbBZ4Lnyt6FPNdJPhYadeI4zMKbIh8rK4jLVzJ8e2eaRTIL/mRaTsOugLl90Hx9TBFjh4lbEK\n",
              "l28o4w3ZkH893htuFp9Js1iSkG9DpzsYDthbUFA0dcR/m0eZi+Xw8WgtzdWKbCcACBv4oqPV559f\n",
              "Mk2G7ttf9Hfpnduat0w04X6FMZPTd4viJCI4eXdZWjnY266Ct//4kV8bILmZOZNCWoeFzs2NGJ+g\n",
              "qNgwYmIHr1ObBhZpkjVOs6S/6win06i8l3s+yxM15daNQYLfvkM+HwLu9LNq866/OdeEJE4SVcs7\n",
              "RoSC0EJAA4XF4iz8zyAc1A9tmPgMl1VaTiX0Lr0hQFMYZ01V9s1x2Rc3v+sBD0plkbW+9lFdqljV\n",
              "7Cm1OwaMfpV7Pnci3bvRa4k3llZIdUTgmya0EJWMjhcrgjrUd6CPO/HARq9wH7xpMxt8TASTcSyA\n",
              "fguQp8tYO5DBrX7Ts5vUR/rPDBwc3t99wFzyJQylhBeJvb+4gs2OhTccU/sAcI8jIYWb8PRmYMQs\n",
              "7C1bqsW0oi6a4tJl3Wgx4NpI2bz3FBt5QgFRgTqtNEiAF1c6HEFKty18MoMcU0exmsxfUleGQf/q\n",
              "IC422rRARjb0uqQ/BtEfZpK097w3ilOKiAjNZ+6wUCEHkuXvbVcIj7oFJR4G2kt0eQIvDfhpnImw\n",
              "DyL71XigKGte4Jx0KGg/UZbJxiZNnDMrqkMCJUSPdV3OoyCsKBCqmaBTi84iCSd+Gf9vuhiuUVRD\n",
              "0OxQUqcxTC3/9WWrwly9m34mafho5S9yCX1osz0cWMZCI44Ejpow14syCu8YsTEj9NL2DfJASDW1\n",
              "puShShzbCbeGqZ8YHy7V1of41kg/9NqUCXNv+255puCJMGz5LMV2NWD/GTRnng6yYCLeDqqPTZVp\n",
              "czdge7PnNQMe1jMjuLIG4hRRykYYget/jPB9O+bt37JNHOQXy9KBFGE63wIfQ2xsNpMm32qi5CcX\n",
              "FY2dnlRyCjGLkbMM1aNF19z3my5T6Ghew1ueh7+0NN0St4rLDEpIqQEbVU+j+R9pd2PvAnku0xi1\n",
              "FPLANPkoQnYI01E7uHpSJtywHJmX0nnkBim60mDPBt9FN6D4IeTkfq5ll3k0icXx67zQJ2Fp1x7E\n",
              "fMHMDbwvniJRAyCZ5tkzfHYhYHdsQOFP6BaIolGlcpbuv5rd2YMTd36/yO5hDMnD0PAebHkz69iQ\n",
              "VUbKxq7pKlLKmz6oqq+cgeioz3D++zUbWGFuodNGwG8BSvnNwO1HxTpYOnrQDN9zl9Arl7UcukEL\n",
              "NnFrSqracH2ssCXei1lughVBWZwGTI7tJ3Y9KtAfGGQFayzV62kUxtO1r5z1i8PNtxV6P2oCgEXV\n",
              "o2tfK7/C8cEKAvlqNtjGHoO6pbxUjoe+BXeqYxHBqMtWpo6++hQztBMiNyNo8ZfAuOZ5e3fx1Zfw\n",
              "TE4BuiO0fhLiJJD1LF2sXZYfTJ6fVY2pbJeKHH4csO+g25IE5gJDxSNJyCMf9Ad6m1WE3cPcpjMw\n",
              "aLGe4JFxCd9FqzGRLi+PsijF6ZUnKzogDYLfAx5uTKiuMOafWYP/b4Hqy6adnWkIq7l9oirpoeMf\n",
              "i5WZUVQUJeyFYy7q3ttlhrZZEJo+nwEgzGK3KIzalywP2cJX/H7PoqhISYqUNH2k6bY01DFuPIvC\n",
              "zHN2RtVa5ST69fDrD63KoEu5zgTgn+i04Zp2hfeVZGwxMc4wJR6eOOtYGBj3eqY6LcnAp7rZEaSZ\n",
              "C3DVm5EoSdJtU03tZ77/yRqpA7GsO/HNRkx3jE7S0lUotmVzFfjXtmbo5svg4S3+RbxGoII6eQ1Q\n",
              "ZVGWd5Ye0n+kkNvNemVbP4Rxu5NPJ8AC1u1dY4qGlyMB/vi5EIvapijPTsoJlD4uNkaqpmxYO5Dh\n",
              "pLC5FpPCblnG/kVdZUlECXRYbFi2e+Raod8UlFItU4Itm+SHkLZcg7+FeZNJ1tNfY1yirZJQh1Bl\n",
              "HNsf6BYUld7PnynWCkdHfKlH80ElI/QHhhSPc3ke1Fg0ZFnP2zEZpJV75q75LjtW0fhKXSxnUt5f\n",
              "Vk60utspL797XvWqnQiqw43wMhiEc+6JgeNkfHhDsPG1rEaASzxencIEOBke6GVoUGyhF6efic/t\n",
              "0Lycnm4RKVihHz4W4j2NBHga23g5TyIrohmpeUjZrEizw53lCLpwEOl0AlmdVI8hkBdv7z5nAExZ\n",
              "amklYtingX0m4atUYjyMgC56iUVgHc6PLUV21vpFLK0qkyXh0yUEMh/82ht3E28snoCT1SQ2njWH\n",
              "PtTFE6NcFK8XemE6n/t0neZs+xKAMYndXyPBcQBubs9jbDBK0I3bodiC7D7czECkc1LBbuF+rvOD\n",
              "sAQbV6qtmauZtVVF0TIP5G6vPNiSdVW+MOTHbu0+Sg3a8TOTjs9gngC1N/sgiiLGuFmz5wdZ3YZk\n",
              "QO2lqyvz/yKalKW/Uqce/Pdpxswcp9zXR8Uq6q/Vt22ta+lBdBthxMvbFNj7RmX88cglSsgdCf+t\n",
              "x9mEes4cJB9QvcbcnTEITGdhru7J1EU+3z/sfmVXrrPtFqAPNY3AcYwz17nQEn94qB+BFclI6kvm\n",
              "3twYqkhCbcm9ARl8N74RxqsiJf7Idh4/7UfDFY+M10yuCp5LxNN3yzuo8w3eHNAH5JqhqSryV1Aj\n",
              "TO4Au9J3gcOktXdPUzbefaFWwAqIPfFnDwhtzWTyjFA60LU2fEyLyY3p9PhQDUzfUItQGSe86Gee\n",
              "YJccAE6fA7lrALr8GW5TLmGWspIp+Jj/kCrWMQ3eUN7GEOboZN5SKTFOpDowBM+h8xFI8ku/HUEw\n",
              "wwxKoSXbRS8FlmEtTbgXNNwWr6j51IWuWw7xRJZh+NeO2EJ8JNBDyhU8/2wSq3EZruFRk1YmR0j+\n",
              "01HiiGfrJBw/iMhU2Y4Z91htR7HKOFmNrINWYTAeitCqfETPh/UJ+aifgIRjHE5riUu2T/gLOCcC\n",
              "CAUkz9trmplZP+7CK1pI02evlPJ8djgNIOQpR82Cau4cFJf7xCvKbuV4eDedbaD2hQtUkt+CC5hA\n",
              "sz0s3MWyBAzOcKOAYGCtbx+7IumlQvk5JR7uCR7oK2TtSMZTuvMxByWuV2sxqXxudaKTZ72y6aMg\n",
              "QPpLCdWy8hQmwy3pzMXFHdjTWNDf3XiDRvkUezNBCux+V/hKYVJtrmBdM9pNmec9G8EWZBz/5V+6\n",
              "WTL15Dq7ka84cR2GAphFUb0doGgZGxCZjVSYNSA/RMH1SANWh2xSjX84Zphg4g7+LtnfV9wuYO+c\n",
              "wYDJT+FHnr6sGbAawIHfuXAahfH/cyPYOmPEHgN+3iR/o5MSD1cbCEFqWnxruTvEl3nDQ02B48s3\n",
              "ViDwlnNElW8fA9tdjzf/3Jlz7DCvGYNsGv3R9gbj0DcHygjxhl8GC5CG+Fu50o60lhkCbHBcsXWM\n",
              "Y/I898wMqgkaOoOxjhKRwNVL/FoNo8psEhpKHjcyIvF093XasZqkkFNnCPSlX7dX2sU0wyOcHCuR\n",
              "LZCNVAcxEcfYgb8E6m1sLuh9vNfPVprxM4WbEXy491xwk3ZGks8zfXcTzPzMzC1uFGHQcTb9+83O\n",
              "j1BmGyXCX2/edjbcU6Wtk4aW+6xYiG/Wc0kErde9cZoZxltiUksAyOz4mJnwwRRwc0R96kcigYpS\n",
              "U33wREF624eNQESrQf0OtN3899NIND5hWby/WW1evUfsMmhm0E+6H0WO8okn6LhYy5N89GDrD9Gg\n",
              "c8YiH206FaSjTrZugVYmRXuhXXvDIAx0/Kosp0gmVw4SbxzoCbwk9D5ZeEiRCdt54ZWAKDX7u1Yr\n",
              "/BSWMAwgQHJKUu1QgcZw2T2kqhMEsQLO2ekkxeBDBYHXEdChFz6VQ6sRzoVvsJDtHRT/dP7pDifQ\n",
              "frNWjjbK55F82NGNJ7PVmRPS9xbMhknzr3o8/7hSjmFttwekpTL7OSU0LjfWtbM5JP7JocFFQ2Wr\n",
              "l5bQ5Vl32krYbe9BTfDTMZt/Qptk5nNm5cUuvSRe7/CuMwmT3LvBnG7SdVPIiTQuetDk4uAhiBbN\n",
              "ayzoAuuUe7la3QiF9M8/rQyTv7h9XaO2VecU8IJN7J1Y4MXgOOalFxibQH1DlBRrvjPaIIjw91y6\n",
              "NYLpWvPc0ATkHAchKltkRM6vDA0DmPIECdoVlQ3x+CbmG2U3KpppWlFjS0kwijiIUrFCratHXpH8\n",
              "A7Xzq1yIFdf3XVBCkH0RIiDp3sUSFZ2l+CxIgxYamejfOWH+Iz5UD79JGPsET7zrIMT7Pa4RsbTO\n",
              "NMzws4xb2Yanl6xK3Oc+uF9IWfWQz29Xp7oZ9lzw8b7fc/YVG+wfl2XIdlu+oaf1SKkfpdhGRVKW\n",
              "Wj14DMdtOpKKtNWidXHIg4BPtE+Yz/uG+aQuoc5zgLMKaD8EKO+i8VtLeWSMHOyHcu3JXByUMEJj\n",
              "7mmYZUj1BY3jA3K74iP6ADaUJmJ9/mf/3C0VMXddtPwZ5INqcE1WdCKJ0I6Xj/8hD9eH4KccaJrs\n",
              "wuBVVzZLPbOLoG6QwzR7RR+Zp0IocmWqPubSkgqmnp58Go59A1SNThiIS3/6L4tLYWJueEZFT5vD\n",
              "a5TE3d3v3WGAeVjejAAAAwAuoQAADFNBmiRsQX/+2qZYADuwseAAEtqilC3sxHIDDheWGbr5P/4S\n",
              "QkP7ZuZW81jwX2DhUdoFxnTfPZgSohtY2SnBRqWtv5OsjcVFcS/j697rFDvFIJpW3mxmHa0Ki8PI\n",
              "ylggrTlTVrvUQFRAv1+nse+5xWUVzGQuwOb9RHTRzKFFMYvGuYzDmVtbMC8rmAhMrr7VdXFrB4Df\n",
              "BwPRCmQimC4kS3jpa5erksWMW73GjnO2utdzmIBHlV/3fzFrquBNck+6yuzIOUhG6vMOdMaQvaks\n",
              "XMQbewf2AQRsP6pV9wyZzyN0TQAVUVrT7vh+y69GcBAQ6jrRtoOgdFohwbYp8kp7y7pmbjddrkUt\n",
              "HVsZ4aUkwDuDJNuucH06tQRP8Q52Hj0P+VYx74BPU+wSPk2Ip///u97rPu9tuy3U2Zl7iXKSDccV\n",
              "36W8FC3fG4Hsuwc+ZjETM1p6Xlr6vYD9iuRxTUgmnqPy36jEnKBAYwdu9LAn2ccA775wlwSlWlPI\n",
              "qQiOg6SIh/FNPhdYnlh/D149lD9aJ2gP6A8uVn2xKbRHtl9YszJ8Ov2LuFGABNVs2awZZOhc5z6X\n",
              "ZGxmU/DLDSyRN1wyT43O9pDbKMKTPRWWwdnyNUEMdDx7j+M03CBz2YnBv932Kmz9k4eNOoHdQIDv\n",
              "wsxj0QeZssNpFnHYvJ333A9mp0MYrlYbu15jTtRMdVAbFlQwL12CW1X8cj1ApjB1suMlWrBv/p+p\n",
              "acnlkSB5VweFEvU/bg9GKGio6YVM9O1hZMTIZr0OynJF8mYlA/S2fP2Sgxsb7eFS8I0wkD0G+bZZ\n",
              "vdFVwvAZM/IquPndhaZh5TvnKuHVnEIJ2s3JUveVOydUrOvkRccLZHCVwcKEvqEKiaO2nid//gHi\n",
              "PBicxwaW7KokdJtRGvKxFxM1tId/AnA/LkuzE/+UF+VE9HF1oUOLYkmTwRttlOK2uFZvhIxQ/hCy\n",
              "7S44WYOByk6Uykhx4X4nzKoSPfNLUMtbL50T1DI0lc4I077ttQX6luZ0HhLkO9vjvFBcqeXTUI+9\n",
              "hA/7ACVJJdv6O2DiEwwadH4VzTQovBus9pv4y6xGG5xsKGhRLDsOC+G6Aef+Mxm9ct6Uvz9XFD4V\n",
              "LbDnth1ISQGGTcz2h6KSgTaw7L+wEhpZ3vDxzW2ol20+D9Xet+M3EWW8H0taHf4TaNfXCbAaQTDk\n",
              "2v8cuYNa2dwEJa5NyRFeP3/tZHHVGyI073bE1G8tvEO3mL8y3N0Cu0JFT4d4eznu+vUu03jZWXVq\n",
              "iR9r5FVOnUqBGLWgkoty2zzMHTBKQKQUYeq65EDbhkA2OdrxH2eyxYM427sx9PbxASnwdXRtenJJ\n",
              "KQvxdpQ7ibCSCUrR0a79XxU8U7ug6RbcFWVJStBdJ3YGCiEgXbmVxsWANj2GseMbDoFWWRXhxrYW\n",
              "ohG5LevRdsPOd0kVv0lx1kxx3F50lD4ok58j8bKqJbvCTiaG5GcDzPgfMeBJDh7XPtakMYIwX7vD\n",
              "WSva0WfIHviTnWJmlXBXcLkfGyUHrGPniWz1gAOkvHfIy7IBAaV4+nuN74fuGg49ih+r3ea388aL\n",
              "gQWmz51mU9RNZGHiP1BhYCsdNKeIb4I7Jsz3K5sIhX6Zl6Iw4v0sq9KLvrd+9n/F0mnMBSSK77CR\n",
              "o9LhTCthBOWzFuSYritgJcOP5c44zkIF1zTQgAZSY72wUINIB+YHylVM6Ai/gQREM/KUAN0rTHsu\n",
              "gxojheK1EPbt511wq747s96UmFVaUIT/Ng/3rASkaawfrUjOCkTRefQxZo06jWTSog8t4NYKrgz5\n",
              "eO8K9FEy2qJlMoGjDqbwQM0qRNcLPvLHAdcugezq4xBTeIavC0IMYq7VuS2sKYjZrPEripeShvLy\n",
              "11Gtx0UqFWxInqA5pQjtvnyYXmRT75sligFZCsNqZBeddcEitJuaUIxB3zvv5ELcSJhbnchAXGiK\n",
              "D7cMABkwGv1ecPMpUbb45UTbAGDapW1gPzLdB5ETf8leIhCNmo7HrzWiUl3nEvnH730qobgsu3BD\n",
              "1IbFR72hzeh6FzN3cj6cCqX1uvGWvxbi4RkeeRDanF2BpkdZf+VOiOX+LiXZoOAvrjOvraBkuuQC\n",
              "u47YPtrTay2Eh4WmW0eE+z0U1pm2YlT+B9ByRBFDM8uyLyHo++A3l2OHIUGC9ttqSC5kMuGmoAz7\n",
              "5Nwr0pm4QS3r85mrY97oH9oQ2y3ndNA/FrstK/3VLO7dCZbgzRrpge3Vth6EOblfEaRm2A0LvNTt\n",
              "Z6/LAIIbSn+QmjXkuChRdhgu7kpqZ5EeeMIu9mpDzUGZ6xV4JcV9bCo4M3rFPWVPFdsNqXhSxcuC\n",
              "b+8+KOe9WpTXAY6yogORtd/X6AG/okAHEZ10WAUTxWHn8EFoMqYxWj56p4wh19TFx/0s++SQIXLW\n",
              "j1o3YciV8oXucLTaUvisJxnDUUvtu+B1sG2y1izrl+9g/KaLrE998d3tCo/kokMOH72h/znAWle/\n",
              "Hk1lFOw9yPBMlMZRnFbtENyC2nAlnm1M8R7updi/3WWFCm84mgOOPuinPJt/xJUrHKJ9n5xG4Rau\n",
              "p1mllBvNeC8eSko0vj1GW2AJBiqsOzfjlkrS9psEHut739vZNr/jqIP6zeD0QCV41bBbMx1exjtV\n",
              "yf/BhZjEnlHGjfqHCEK4LVDMKgsfhrVfMnaS9cwvCIny0r8HvLhU04xOksNtcioxWHULdsXi5ne/\n",
              "5TDx+UZjwgc6/x8kGndpUl+VZwDy4xpaaLFy6vNufkCSqxnTBa/xthylpRWyk324eg4bQ9cZtNSW\n",
              "ulQfmQKeNEN+nMLDmpvHHBm4l3AN1EjSQP9/M+4F9PUXoWHiP3Z65wv49xfM14//AXg+haDZJMFh\n",
              "N5p5e6rw5IHwRUIYH1CZTxiE73K1C3NORhfAtgehNBGAe/MDs5HUSmDhLXw2NjHhVBs3e0iJ8aMG\n",
              "Q2+iSqou6PtcCbSDrBWzfiwLN/JdjDmvdpuPBXnOf2/JJk8yUZj9wUJf9llaJgrr2aHPZbUXNdcU\n",
              "m67SkuGiu/NzGxxC6eC/l9mpN57ypYAx4C6jGhj9LzoLp6rBPPqGsgkHLmaKp6cfdlJLGkVvkaK0\n",
              "QWq6mx0YgGF9DXNzwuLvms3iGUfOSsspOK2OHfAteBP+E5nx66REgK4BTadiAOLuMs+D1oIhS7ee\n",
              "HNPgnSLbiXqfy6gtMFbqtYhMMj4AS6Xm8Ox8bg6CrzHD0sQxZ6GyKsxz76vc5t4VttvrPkjnlTN6\n",
              "hfhgUWjHftCQd/qd762yq8PGMhfva5KaJuIF2vSnC9nWH4GCZqbDxPHmuLVb8MCTbfKzKoaA9Uxv\n",
              "MYFZmQ50IcPbuKUO1yd0FX8KFJtqStLimqIBoOow7WuR0qRnnGOung4chcapu9VJVodacxqT9Qci\n",
              "EXH2YkftmliRfSbKSPqzM2MaInonR0fTCGN9OHPSa0Uw4+NunvS0j1UtE//APq7bEupdc9ik2Z+V\n",
              "5xfHOsPKazwDYkAOkOPDR5mN36bYM+idIzpx1gGZOI/wlvnnbsQmvukMgZA9FSNok4DeDIq1MYB2\n",
              "qDQoG3eT8CGZSNf5mFBVce6qsuNvfej3PHPaATF2t2dllDPPmv3EJz3qqGfU26PoYeq54RRy1UDZ\n",
              "nQTBgurClJcX5/8K2UAUrrDcLznciwp2ppKM0UcuRoE3g+AzxRcJh3i5RT0F6i42A8TWPqmNiFyd\n",
              "lgs0X2/1nVJR9MKiz/NPFLCd11Pz+hnVTmT7IVd9cpmzpkkdETiC9R2GqNkXazadNRMO584LtXvr\n",
              "KdPI4eANJzCTClXFuIKhGAU9TOFWGpAkl3aIbPlMGWO/RRbq7acZMW92eQpXHYn7oKO0IJRGAEzB\n",
              "F4DCylNSsMbLc1vaypP3fDOrjiBVnpN5/TaMxNl1R0alr9sVrO0oGP0QRI99BJm2Px7oZTsPPrtU\n",
              "J2WJsqwCkKkmzJoOF8qtfKsKe3AK4mM0AfcfZIqNyXeWG/DnJZ6Y122SmvgX/6//4INaSdIGlytR\n",
              "RLH00vXjEua7qv3J6v3abd+4i8V9CvuZx69AVp+6vN7DuV/jPUu8fnkyJXvKJSofNh2ba7sVInqp\n",
              "h0VOI4ghx0MCLGFtuvJ9zVjL3J64HXi+5SG+Ylm+4R1cNEiCCSd/1tfMzp6Z+DQlXGKJZBULRm97\n",
              "XxPkwZsQB1Fd7GpFe+ddNtfNKpKHhdY4fMvMBu9fELutwc90Iz0YMeIJyAAACCdBnkJ4gt8AABpF\n",
              "IpwecazMiDzkjcckMAcciLOd/N0dp/LcNrHL1H5tNsVLCNW4j/2Yf63YhgkAhgL5TzXFx8j1b/ov\n",
              "imDx3ybqlh0m/qw0QupZATWDh8wpwU5TXc+k7nCgKT/B4zGosRoRQUuEoqTVz2b6p6qOvBZy8LLc\n",
              "SDcU82k4ZnyveIbxFRtzk830M/8zooaZrJDxKt/ZYLPFo2yB6nzAgUyiAIIrz1VAqRv0rDIzzSTr\n",
              "oXXYWX/r6FrRTlKHvvRbwiGDEFyOiN+MaaRIC/NMZFUvBgWaK6XR4f5fcuwVyvU0YWdAmyasjDrW\n",
              "8vRgGcc/V4xf6klXu07PNyB1ekGm+TNNyeVA24/+FAlrjX1LZfHa57DrXgB1k9iDUuBvYesS64wN\n",
              "Bhh5aiAlEbF8+y3EMpNygkRPlGxLw7/vBbGyF4TtsyIXcEVOv1mvt3WgbdbGa7hKNMfWH7Idfz/A\n",
              "HWjg4jdX0EpOyU04xqqFSRrDhXVavvNbzOr4UrB6dP5cf0UNou3+RzWK2ljwl3duy32qHW2Sfsyz\n",
              "VcTQWu99kTC12MITg+ztZBVW4c3fVMV5hR759LPkCNLXQH7ibcZ9rOKGRd+z8aTweMByiqLKfbBn\n",
              "Iw0zEvqYtH0/EArLNmHJX88J6Oot8+55spuEn4jIklRU14NV57MNBZ2fsODICVQj1tqniwf5siY2\n",
              "eo+TVMTpdb8rmZz1UKTshAfrTATzi8RWa6wwVxrz14rc4xKYqxRk10QSw6oDSLLJy9xlaHPHnA4f\n",
              "Y2g8Gkzmhw6yxPu4eOCziYETGfvMeyAKpR1LuheDnsyf6zL2m6Vc9kwipq4YiuifiT8e/ZV8Zsms\n",
              "5ZmtejN42fc1IvhfELsv36g9PJCj+3hsnFpgVNzDqF1cEjXPvGfSYDs4UgmRkFhmJQVnLSftABtl\n",
              "WggnzOykOoC53z3N8bHHbJh99PVW2TBJHuKOwmEoglv5cxqRld6LEEVHgUOt52DzYhXWvjEpfVEQ\n",
              "B6jzmw93rqZve6ePeGkh7JzzTKtdCM3ob2ofOi49w8lslObl4KZcws1R9yn2VDfY31YR1F3udxEA\n",
              "d1W9n+UydGOFTX+5DhlWI/zFT7Sdfa2J7QnjRQvm5UAXTV3idKuEM1QYYhrteW068T3kLxDIRLbv\n",
              "AL2jHwOoncJdi6/AGMX7ZtVSe4PdIdlBnIwh82RrDaY64fjXR8bDIczyyx3IOn5Rx+MsIXGXBFqR\n",
              "OHreK9C/dRpBLbBRMmlP2uMh/dKyuQ+GJSJSCrnyxBoCvQdYrzwCw1nItoxx8iSHbVpKtYk5oqWG\n",
              "lLoXjaq2Hyedm7jGFlZFjhMheCKqAkMJagZPhAzvtRXeZCYv4pCPcqzvoxfChvQ6Ar4bRYpekr7O\n",
              "R4+vC+t5lGBPI8SlpXByNRbcty4w0moJ7KiWisYNqfyCtHesywFHptvE2g5kuQNAbMUdFjAloTRG\n",
              "EV66aT7hI0h9CCO71gX4rVZe3yGnC7xbTKv1FTjOm4Gdz/N5hRZ5+bDMWSarHUp0Kt/lHgXdNiA/\n",
              "+UbSP0zqEdRB1dgTJKcA4ZGi7DW9NzEAW/WN3CgIdW4USZvhUJBLwyfMS9liFBVPb3QQkib6X+gf\n",
              "vfueAq74DHzamCdeSr20WjP/c9eagK+7Uja3li3zxmvmrgRn0t8cbowua2CGbKPLdmAHlgU8gbsQ\n",
              "JtgsC+57B9h6qTvGVLVvTw2Y83hszAJZAlejUJkKZ82PWcpn/KnPMo9/7bdrGCl/0A2j2XAIpyEG\n",
              "8FHvt2T2hWMAcc30eSfBwr4+z7ncjkHIs4MqhsyrNw3bMAN6pneFhPh09S1Ls/T7op4MhtS//04d\n",
              "ok4105xt/7tF9fj+D/LcX4EjTEQ16hG1SVdDgab4ibqpgjL/Ok7uE7h+hiMr0ekq/xzg3A8tx+3T\n",
              "IVOakqfJ0EXSWvNeHubN5cvX1RTkQH4jEFlMLtYWEUCi7EcBNRwtYNY2Pn5PHUlAJyPc6fz77FkU\n",
              "//3Dh4DKepwQ/uu74QhQYcX3BZUKnwRbw+tDNEIYBY+5pS8Gie4y69k+V94tFERszONolUnxnyyZ\n",
              "QOqIVH5/bvMZkqQX4zb7Y/Wnuu4FtpZ2wkOazdBXWKlTJPcPi1dhaUxFNTpxa3zhY1cs4nc5evYT\n",
              "2Dii4L3BpLmqTY2tTP3BMCN/uOa6qQ7FS6qodD2kk4rXvuxOlIUqVyz8107EZEBTpImhdqhHR/a8\n",
              "TtEhbSSmpde35w1p547uytdZzJDkCgrY6Z74Mc7+HNtX5Df6dgVg06WTaIfke0fBx78d1s1ve5+R\n",
              "mu9/q4erx5hdG1LcmTZYWoWGElgs2a7lLrEza73VpEp+FmySJQyacBWKSptnhFv7QsdbVIo3echb\n",
              "5W2IuB1ZE9lTx+Y2j8IJFaB8U88s6RuNcS+4+mFxgNI1dn5XxqZkV784XAONrGh9K2qkksYaeQLq\n",
              "OVFQ3X1VXUkANFjARqC6TNkH8k9O1SHtX69bCWzaKa2PLdEMCvzHVS6vZEpaqVW7HsRa0UoFSJBH\n",
              "VZeKokLzSE+N+bBfbeheXHeF22K/gBjtU0tHcSVe0JVIAF0bol86s6X5k69D0n3+eCnarD52pRqO\n",
              "WLm96tlMqei+QraA9DIkhvi6su/q3LhaWzYJXrYHC7IWcVUepz2dkvMY2GodNKJw/FFgwdEzBLgc\n",
              "M9wYqh3jTEOh0QZ7GaV3ZYbX8Osprsy1dzxZrpEa8mSQukgigyY4n/2atZXpQnNI3mnuNqtGh2iH\n",
              "Rciiy4MUEUzctrsNbB4pO7mese3kc2QSMQAABwQBnmF0QV8AACjGrgvRWewRQANAhkrOSU25NQ7G\n",
              "YnvZ0s65r1fM7da5/7xGgwfxhnPrL78XsnehMABMl+Zybn5ju7ki9JxbTV2H4Ut/2iayilzJO4pg\n",
              "gkfbhcAM8eq6xkPQvAWBj7UV2BsK461GXStzlD7aeNkZVpJNKTC0PBBCalDa5GjwhgwyJq5KjlIv\n",
              "IdwIb98XROODxLbP/oTwpqvmeMTDMGieogdTN9Ko7dWCV8mE5PMmM7jjR+v1Lb0iAzisB+Gq9Sun\n",
              "AHBbNp+yoZN+PLkC2ogWg2p61MPSFTM2EIwVNf432kBlR7+3v4h7Nl3kyD517KwpT2JHEplPjRKq\n",
              "3IGvTnB/NZUyErEsNURunoYNTOQ/Mu+1ouDTOgKmSv8PjcQ1DWUudKrRBETNLD+BBBpe4H5ex45m\n",
              "hJFRCBs86EvPnvxtSjVGR2HUyJMTHsigB3Rf1vFNu3XHjeQAWy9/jl9rnFTxpYe9PvfMJheLR9od\n",
              "8IindU64Oggns0flvZAOrXdMN1FyEb1dXqJmLwF7pz6WtfLqJhSWsVpZJi2DFRXJ/2eoEEjmpcw+\n",
              "LVIBrV9kKCBUuXWjVF9EiM8a7nd64m/InBkbFps3TLzoLVcDGlu4BuSzPUHrXDG8SIXTq72AqPA0\n",
              "gCL8V/o8BYbvFnQPkW1dZciWUllYTgXZizTPBcCixs2WHnTS39+ritVowl8l0grgid31ha+j9rad\n",
              "3hzaxPSg+JUD4PNlCSXw8fpCWVsHfpxnL9GvJvakE9wQ8UtpZzdXsCHtFLDfZGystY+HrYIRD0qV\n",
              "4EgV1II0b8ELeZ/MvTj3oWAq3QB9DxwpALRV7dokcFEI8ErtMdwfv31f5OBw4t6OJAI0ZhduBMw6\n",
              "3iKCUbU/+zc0uGcOXOBqJzGDKTfxR8zkD2DsS8CQqfsDycNdhtlAR2BcLsF7kSEmIoQqpSi+fNf9\n",
              "U7C4Pe0L4+c9vpWzhYlZz9ZRqYE3XWMgEPk7pdxU3sfYeC3QuRfIdwpU3zwPzSnu1NbC0xNnBqqX\n",
              "dSzC6p7Bn2DYLZ0GW110KWNxJDJ2H+tIx90JvFWmhFxMEp2JKUnAsbM+4ILQpvx0BM5Zvu3TVyCR\n",
              "7VyANYJSj4uT5VLCaDnpd2rgClgXg3g1iWbm0Rt35HEywEb/GmfFNAwUO6/wpaMcDBwc9ZWYw29S\n",
              "U6v4w1GeBvZ4M2V420alnxB4FmSXZXCiJl+yGfK+EyATrEc6IraCMbIMebtO/DIhZ+O/cAQukwBe\n",
              "oCksN8r4sTHbjvmxKoO8UWXRahp9ldUDaJzTpPyH5KmuGgqpQr5r3GNmRZFmq+URZyMnTXl4lMVy\n",
              "YEPnE3Lx9CiOciSJsH1zDKQyEGOyMDfRUTarhSZV+1XIUWuAPMk5LeainkwefFGUb4Kpdd59leYl\n",
              "DJg3qwH5R1KLBVJIO5l9aUz8oKgIpII8NET4UBsEBcOS6XLRKC0gnAdrq1US1+SPym+tUjd+6ggs\n",
              "jtUYCzIfnc1NjZYUPe77xflTIVGgeUM/5rOih7qWR1AV3bVGUoCJXu2sVFrDxyp1hPXGgAS1rpTS\n",
              "jAI0o63ZFwNJm+cDMuYD6DHtLRfcz/ifOHzAQsR/ic/4SPh85hye3DOyCSdI7Jw+WbNIh+uCfiDT\n",
              "r2B9VyEDo3/y41Yocd5gjFkQZWfiN3TZHFYZinI1GbRaHTTmOFfJ1g1873m/13sXsYYucHTMGnx4\n",
              "kqj3lrgfnrGihm2AA+LThhaVzguE2o0DM0j0qNcPLq/6ijZIHR6fBCsQbSzQnauih1ein4h5YpyP\n",
              "DZuOTPC8c+tN452Oxq58XvVqKmcpf/HLanq18mmhKQ0F9kT/9spWuDY9Um2mpgsxEoXVqUjajKrY\n",
              "h5/HI425xNYAztvYI+CmAkGXYTBJZntPRMVaztpk84TIOD6YEMc9pWhqi2zByX7+AJyZS9hx1KcM\n",
              "r9+29rwSaDkFIJ87b3RB64gPZJ4/YAm0ZrKooBa88ek0rTf00+a6Hm+nSo0P1DenNuhTr+m+gqZU\n",
              "MsH1wSnTq1Pnegdy0ChvBlZdS7DA+f03/DoHnTXCEx7y+nD3M9e7pclUa8TWNUNOCUYWTj9ht+GJ\n",
              "ZI54EkrokVZORd8zffEetTAusSKWE44uWUKxG+X3ehVx2nJQDdQAFdlwrfGbCLmanMsHb4+v9lj0\n",
              "FbGJSLoxwdVrXTow7Um0+B4bQKqPEzeP0E0dtxWIY4KsRXFMyzYH3HPbnuQVJ+L7XgTvL2mx6UwM\n",
              "oDOmC7Oz+wzNOwWe9ec6ue51aJ1rye0jt3a9V4/eVP8req/ZCY4dg073l1HJQVmLty14yurVcCGx\n",
              "b1nKhnlk2flPDBS+Va8uY0TMSO6h74z8hd/JGVGtCMPDXsI/aOBW3xIFcciF3PG46jDIVoDtHMwD\n",
              "ZgAAB2oBnmNqQV8AAB1aHRH2WpBKSygJmcEARhaf4iUXX7nFzxUVwPjHVA3gOnE+o7oK3IzIG/5W\n",
              "O3HVX2lwt/MRCM5iAiHTYGyJTZ3ExwrSk3HsaymS2NAV+QOv1BStHCB4xfRBeOhzcKt/Sr3iRl2Y\n",
              "rSNBHfFMC0jm0bN8+h+3RwHiS2AIb/qXPe+s5F1W6EIztAz76PE2EPO24J+RO99tw2uCSSk1gzAE\n",
              "R11nUDG0CoVX9Fhry9wnEirMvydiMMgbNpVSbUXloW9p1i7E+UmiBI/YGqSRIWrYcGWQ0ul/q5jh\n",
              "HK9yny+iLGc+AuRjXd+olaZsqsqAY394glFHhmpJelF4nn77CE1lY1GQ3mtJOCKEnu4N9XUfD5+G\n",
              "+y9J9jI0gLdyiV0LsMEkYCsTOqquMBuFb/zD+Jq4gtroqQv7dAL5wjMhah51XCzR2ywSb94W6F6y\n",
              "Dh40PfKvUWklSZYdS44Y7H5HPOMyiOjuM9sRoEWwd+ou+/jDM1PRDWSwUEue6HE+ncp+H3qhjdiZ\n",
              "JZTpYO62//bSgqpEgJoPxm/emW6mzlGjVvHMv1CSt4RwQilRY6Sx42UNSCMXiDYIKP5MPGCyEIfR\n",
              "QaJMGkQ4UHJvZc7dkvOygqXUY9Zhcpey7WfoU/V4pGnVD7SmKcu9q3L9/0SjtrBQdGRVdRWyAweX\n",
              "aEB9R0zEwGGijZbTYkqkV4aANXwPDB3gd/o++vbwxDJTtmO2irrmv63dYyU4+i2jlWcdWOhzd9TI\n",
              "fV2b7hgjS8P/dcBiu1MgWJ5scyfQG/5JE7ymVL2tfgi/Owf4jzFuLo9PJb1ssMXfkxwCL/lvoAgy\n",
              "1tuu45WUsc7Y6Mpqp+JkDuWDDkxsWAuqz9yDLBWqKIOup1+Srtbtlq/Qh+nZx4DvG1clFWhA/G4x\n",
              "GuPgEvv8qj0doeBgTpyhC1YeJs2gLMPFs4ItCIJw0lbrxhgxNoyQ0WnPSqpvzHz1vrCrdBri645f\n",
              "43B3/Z7YWEHq/EKerslNM31dbhLcTIjgf6U/ue9I0Cjx15CeE4YANDbhdgSq2yqEg6Ankk33jdFb\n",
              "zCjwvlFY1hU2PMV6UE1s4NkASrBtY6bcoivKnO5xQvI8+zsJcabx/J5XvNM0IHB1oTAp0I15ej8D\n",
              "MoCzQAxysRBY1aECEDN3v6yr9TEDZW7A8HfX+/mbLUI94Dc2wTjUoQe/el/NtKLoba5Ppy6HED6r\n",
              "W7AiM1Hl0NEKL8V/BQGZhgiBFBXXpF6COr01Z3dxxRx6OMX5uxIHlugGpm+bkA16eF8teej6Ai8h\n",
              "IqDF+hu0Q8d0+fBIpFKbzOI810KuAoAo7u3/LDGW0Y/npaYyjlvCBwtVv2uOSRfXQTTJy7Bvih3L\n",
              "7hLT4vcI9Tufw4rrOjtbHiqmnVqCWEVCLBdhqnT1O+0oiw0rvN1qGbl/CT6kFk6/ULqXUg0muZBg\n",
              "HyMjV5+S7FO6XObOPYTAJfzliM/V2ahj78aM/z6+5k8e2qG/vYGK6fgIsNDox6kmz3HGvoHfDTW/\n",
              "k+QBd0UFP6G95BOEWUJS/zKDsQFqHuGr1H89BYp7gLQidxYAT5LE5Ch307Ji8G7vSv4dO98qz7tU\n",
              "hHT3MR9ZZ4+UWW1Kb70n0ujzku9bgriaBsv901ZO49FlvCho+qQqp81ipCe6qnDsaaQCXgMKwAHp\n",
              "FNEGxdM9/zaTlqN3SfeBpIudFVElk6k5UGsu94RBcoaAuFRanTuHJTeNZWJ9vER5CFvhZ3KCFfeB\n",
              "19EQz9NGFAvGN0KdLyulKvNRelM2cPiOqxYTahh0yuFrUy1ARDB6hgsAQ7OhehL2je89WrkEMvGg\n",
              "lN0CfS1Wi5PlLX+IwT9i3r4hTuQ5KnzT9eCPZPBuL7UP1eyftK3EEBvhbMg05DvxKl7To/zKm6SO\n",
              "bVvqsbe/bfyTZUHl4WJ3C4rnOpSXv5KkxZ2dCJluz99YDmJbsMkUJvS9G2uYX/x8aByNdKUC1b1w\n",
              "ADOQGhu/+g+UHLCbdN0q+kgU2O8e/hv5dC407k3RWWJamKtwjRZIdZDBK8t8NXmx1S4j7fvwWEy+\n",
              "Gj6GnM/r/OMRABqjpDyUrx8gTXvs74z0dG7nDyJbPncj3v/FsRU8a/ekkK67M90H803hgBB783c/\n",
              "O9jX2OauhsLRIrZuzzRqGfbJ5byj4rYn3SPPDPWG+U8cy+5ndKNE/RR6NW+CxoB0MVksOSN4KUHj\n",
              "b4MPzmxudBRUpKD9iWWBiIz/1qNSye3vvZdlNHrBExT32Gci3/0unL2CLDv5ukX7JGpBGajrkiti\n",
              "0j8hqQp7Bc+9Bdc5hfZKQojRYJrR9QIoyk0cUyvozksdUAJS7MsuQPp+BkJJAGRautAQAZ9NYdgV\n",
              "he68mqiuwiuBW9tqGiT+wfi24pVeRygoJ8kANUabPCHzpk86sYPiQMYXlJGcbXlVBLUuaNlL49/1\n",
              "HQ1GfhEkDNAkZOoG12FFgdVW2rI7YoT3MZyPlXGKwh/zwXpglpESYsd6Khg0CRyH7jCcwF4wpssS\n",
              "LinWXbMJnGmmisVECcVY9caTdSu/WwAAGp9BmmhJqEFomUwIL//+2qZYANpvj/8oqNSgqFSshlkf\n",
              "53W3iSIP5hTgnY5HIoyhDqUvACm0V/uZSvOwU9davULEE7zp3sUGx0qBdX2u7eMa9Cl3OqULlzhu\n",
              "ntmP+9ZgyvqA2T5oYEBt+EdQB3vWlclYOVI9baLRxyPVdyJIJGLU54fUenNUJtuHa/Y5zpeC5CPs\n",
              "vUiRpfCecCdJKLn2obnELuY6R9BRL01/Tu2BdY0ge2thWxU0opdw/pKPxZ38J8qiltGRhw7fE85A\n",
              "K98f2b3ScioxsYaajbWm8X87+ZuXnfTHB6O8oijV200KLzBrQ0Ur9lVGVd1KQshfFVOq1bxstj6F\n",
              "SD9OClFsQXhCNR+V9xNK2K6TrgWoOHbtGOAfLLHLpSaTkVwX7yciIuBlYRUUkQVfwcDTeRjFfs+g\n",
              "5onpq9Ypa8+6oxb1SPQBSIMiPbE/G2tnHmFogmcbpTM7XJVQ1w5hU+7MsUJte7O6HnSVdlP6sz1Y\n",
              "K4s30zZKnypN9XkIxzaRyGKp5jmJijiNdfkS6FSgXlyWDbu2EVeziYkHFpUkk/iB01YYwvB8rg5I\n",
              "WLnBzl1yoFblA21Q6sA3Fl1UEC2hRWXonlx5f2BQQ6gQwVq9gqxGn7WfB5yA+vhu5REyXAiJNJW+\n",
              "2S7EywIeHCki7VvtDEG10qhv0RmOxc7nB3sdINrkufgd+EuU76IvAvVGzDV3nS5pAwryF43fCHVK\n",
              "ipbMOFMr0TWUU1v87hkWdTU1t8zE5+phOlFOgG6shJpwlyK/yq5uV40olTya15Sx/HrMRMohKyrJ\n",
              "c6FxQMjDQED6uKbKTei//14BPqCCaIxwZAV/dLLje1O+Fd1BhOkypErH2XVjCyqM9AA6xKjQCr+l\n",
              "Dc6RJsWxDB7b+B4P4shkH0dDs21fGyYTg99hk8SL2oiw0/FIuV79WRDe/tH6SP9c6aaJWGa7Rd6p\n",
              "PbYxiDetsz0tMer7MVDIwKDcheV1fMWmwX17CZZtxiB0qSO5khlc3FpaC+OzJlqmFT7bghP79hxX\n",
              "Kgaf2VsFjb4e4pf+7Si89kI+YTRtzJfcJyOk3IO9hAt7mo4kS0ZNeArkPHDFalovMXufZsMzHmco\n",
              "6wvUPHHvQFl12zE68hIFdGZQ1lR6aXIkofefO2yIdUqiGVzIpZDScNQ9QNTY1N77YLJPQu4MGxTw\n",
              "AqNW8zhJe+TcYVqzQbziDgil2WNRfLxtouBvIiNFzQrzt9+7jUSUNlbLekQ+Xo3YFAW23GgCVSj1\n",
              "CA2c23C6SUPNWD2PDU9MX+w42rqx0I2MF4+uRherDRZZs55Db1aIABjDtVeibJ4a8AA7k1J/EoJZ\n",
              "phBrsl2ya0wPsUYORgI7g4fMBujK+slG8ncBu9dLDu6j6B6NAvz0JZ3G0DbRYQJcLfX+egsajm2e\n",
              "miLyJ1Y59ojNtWgLbDhyILv/TU7Y8+mQTglM8NZY5OHdDYDThkItXrGCKs8YwH7bkw11/JL72QDx\n",
              "GreGzheNRUuvZvTiKWwDtVjAN6HD8P2+DAZh4W85lvTkceU3Mb0Pc9YDEUiqzD2vAtJRGbSiDHT7\n",
              "B4LgtZ+OIFPOahIaVTwktRpzO0SSN9yncyB5ehmEGWcYYx2wf9W+HmlkUtmf5dCFlYoK1s2MYoGS\n",
              "8B947zVNoekQKJck/3J6QydNqqEb7Akhl29AXo1qR/9IV7OPNlrIJbAsxbscez4nC57+ubjCmdER\n",
              "yW4invbjOb96Wd7zn8uRXcP8BenOLrfIBkmZMHoEoVGXrubh2gD4ysAGIjirPKNTPAoSPakrJWxx\n",
              "D4L2i7+6sf5QTn5eAbK8d/jg8rjlo/4DaEraLbyEtBMDU7sY8vO98gH+sZzPz53tiWIcogNqSCwM\n",
              "XgsZm4AVUQu1b8kDDghZuOoG6Ab0AWMYutEgHzO5/oHWCvSaIAerlDqXflLIgx8fILWU/Vc/MVyV\n",
              "7DkWNpGsTqkUMoKpnVXBAxLw6N3cIZSRqF/P+I71mXH2p+mpGopQEpeT0JkPyzVD4sXiOPDizRDv\n",
              "/jx6z9iF8/DRmT0fcaiwlKlgVkPwbZfq4IhvpM1G0oZNCafFQKpgaT92yP35Cn7zPmnmNONrbuJx\n",
              "1lq3WyaqprWo0Rk9RCcv1Ou8koLP/zptqublrIOpyWb8GctEU0DWiFNGsV+ByfBzUvUyelg8ctYQ\n",
              "sZoDO8Tax63c/SrEeDQ9d2PxMeST936RH+1oW7kikIRbGNO4tIniYt8cQJaYLXBw8rhZ1bfpPCTT\n",
              "YBMznSSRr0kIZXEzZAEkxFJ81O3qNM6I1ohm9+cfnDKNHbdCo0zKp8f9adKSt/7GZhw2HDFrmTVR\n",
              "YNMIoDkdNGy4y9jIVfYwes4RD4lUlLSi36Fy0HrCW8Tr/hXQEYSaGKcWl5mUU1nNhFY0MQoqPFsb\n",
              "yX1AMPilsY9WYBqbPQ2OfpxF9R4MnrM5xVHQw8GKMRar+7tRm8oKQCijw6rZhkpliqVSR8k60PZB\n",
              "PPb2RN1k5NAy7+Bl43dlHra1/VJK+1duAiW7C7SjrfKVdthjnJuzW5eiZkgDTNHDc5toZayjV7+V\n",
              "IX+jxex7rTAQ2WPQ/s/KgIFlaDcTdKaA0XuNjTj/ScotKEShymNo0BFm1RhTrhtcq6+5pIrLk79T\n",
              "f4pOMA4w+z5iA2yx2Q3LkGKdWvMUh5mjxfM3gzxsH6QRMMYUIUNZxzrzJjKdXSoHISrW6XtBc5ao\n",
              "BdCLYqc9VHoUjcbcxlX3gCxgBu/Yc8jfmwZXUaaaTtJ6glWghuFodYAHTI5D1nnt9Lwn6njn0inc\n",
              "Dy3clXXIK8PQ4y11q8b/+1c5X3GQLcjsLorPVdaKixUfiISv6IldyFTYcc5cMiYvCigBWBlS4hrD\n",
              "SToeMa5J1hUL2lxCCICwxSpsBEHBir5dg2ekM4NKlBBLjdzjqDy3wx4yAmxwUp2KGxspquD21AdI\n",
              "aHwLNeO7oduCcjSWr3I2tDIuhJ17MzPfayFe1y6Lo1akTZZTVaXrqqVb64Tau+bklEwo0mP8damQ\n",
              "+viQSc7DL5hZtkmHCFwm7ZW0RYL9fyLjqUEkkJqesGnnwqOTlrLSoISqUL0SZGTpS1OfaSShM+ew\n",
              "Z6q/w0ie7HRCRxJe9H+q+uHvk1Fj2T1NyE3uwQqjaBqXCj5pG+w3bXEhhz9QnZjLdFOycMea8mVY\n",
              "3OFO/vehheXUIETHaV+vZQrh0DqDhBz8kTHX4TKbvqeiYwKtbbFZgFnUf3c+w2JhrLfn/4VQAPmu\n",
              "ffzfuX0Ph1HGJXzIEFuRVume/qP78Wbk1RzFRo6ek0SawlmiM2Of6TGdS+4Vw5XdYAoNUYRrX+qC\n",
              "aVWnbi78R0/oP434CG2/uIjih1ucMJV6JAiAirYLN8u3yefOYJS7W4R4O0eFVQghYC/HUDoK+NEs\n",
              "mDsmAV7wCdRC6+Iztm8LEsKHza9Y4/Oq6MybwHo0kyLmyehzGYcudIfAhh+TQG73wh6fT+wdPPkM\n",
              "lpHWKuoKb7hL68S4lq9jV7av7G8GZkSo1xftO/ulZOhNouvZcB1FLA9QjnHnYGxeWq6gO6mfaSQ8\n",
              "Wly9REpbMObrfKybo8aaYXmIXggQSvbDDcUeeKhGpC973iCWW175YnyCZ8b08nEGSlgUWT0nkh9f\n",
              "dXe0dujlIuXEiHQdPbb9EgHZ76ljuCZeD6LcstVXm5yNiKLsJ0dD5fVv2ALZCutVlhRGYSNgp5Ta\n",
              "3kcGlYRz+OaOOHgpLJQi7+4ZxXX4+7/Ggy+yi+6WdOI3mcBFjLDZ3QXrRMdy7CV6ukpTPuTKwE/c\n",
              "5rkyW6MN4UBKvwlYF81E1hATVNc/nOw6cM9MXel3urHp40RyhAILGf0lbIOZ5MnxFZmDijPC2CBE\n",
              "WGStdeuI/Z8p3uPFb3hC+xF5OHBRl5qiQvjz6WrQyw5eZXCBeqOfs5gotz6qxXYErZ0pQ4peHroS\n",
              "vytbtfDwCL2qXshLfIezJCZEibGEXZOfxErLTMrqwhcZ5qoGc+T4gHKoTFLqwTwy2HuIdcP55PEr\n",
              "VowAz8WiJFU5+I64XwPpP2G7FoZaOf+O0LslAP4kVckF14ZqpkWrDK+9qumyuNyreALfn0j/SvU9\n",
              "9+7uN4juEkDVpytEg4HqgWK1Sb7Vf66vZMjzs4Jd6OudfbEn3iIc0ACoTSIcXYkHdoJKhiBxBunA\n",
              "LEtCraJ6Zl+fkwx0DPndDJv1I3eFMoSLo2NN0My7HXvMz5d58bI7ICPQJ9gAELBmWgb6tE/vxKR3\n",
              "wkjOwMaUxGOhD7ySNVIfiFeb7yXWkYUH3XN8O+itfPQ6xqqRH+QX/g71Jw7+QvsdmHhCFQ8GO32R\n",
              "Jcyg0m6kVtXfYIoH6ogJ/sp58usq0djv5LvT18WtNPNvPkG3gmvRu6NitBwTUL+JD3VirgdKTGcO\n",
              "H+R9WekWKSuXQlz8KzUwyg53uUc/Z3yZAkhw0X9YIRXuP1B74FGsz8zO6rMgusjYE9/MKHfO7Kjh\n",
              "aLkT4bFI4jd3LxjLOz9JmRCe2XBFNGnuGVp5gDilf6uGex3KYFHxppzH4rYYHg18Y1OLJqEjjQ4c\n",
              "dGVdMJdVIn35QhwZMQTjMczCOlAf9g7qQj2sXgnV/XosFdHvLtpnCkPQc4jD3gFO6Uv0z48usXI9\n",
              "dZ/uvG+kOuGLpb0Q9lj/vjNra96ecipMmu/K/87lm9nuj0Q9q9YKPyZ90QRFEVIgs5YTayzhIWYI\n",
              "6YXjUUBbgWnoMJNWKS0WfcbWCpQRZy/RieMf1GMKi7F3tFjUZ8y9TKVaxYxUbnrbvVgUgAJwZVrM\n",
              "qHde+LuDpfNSXDXLlpMFOOHXUpHl3V+8wrz3jK+fd1nz5YL2hisM0cYRvhtnGq0Y5G4jKpYVWJgF\n",
              "7kkJtc+nSsomTtIG8dROyujRYG0NG9lAFxda9AUyscFJyIDJLh3k0ytIYtBTlDognacd4QO5YHuO\n",
              "3eKFAnCLM41BcIQK8fihFqvUjpcMFH5lRC8mgNzKtHf++ZzNVdKRQ0NKxqZimL2Ob4s4PV1T/mvP\n",
              "JvqETWYjCp51E2vBjq5hoanOxRIhfi9jkg5s4A6mmAeyruv7s6OA9GWSroWC+AfhT2DQ1QKaifoR\n",
              "LLP92ZuNGzPySPPSYEpoK0bz10Xmx9PVXEcsckm6Pl7ojSAUfcgyZ54qydMiT24zYY8kcKLJ4dI9\n",
              "a2gpWLkGTdzArr9wAVG2WYRPjlUmIABW9lOzrIJp0jZ06Km2iGIKHz1lSMLgM9RfclgP/b546R0T\n",
              "g9IgQs+mMDrdSYP5+EwnMmhjdkZeV6sa/DnIQ+e3IiV2+jKiB7j6pKaNenCrs7CTQPzwuIFY2bAu\n",
              "EDcQKlEU1tmT+6XNpvNgxLBXbJaXtMuCHW3KZRUt62wWWPDoi1z2u7rQqhE2kyODr2cd4wwD6+CM\n",
              "gIpgK8g6UdAqSOf/sNXFrgOAYh+dc3LjzKC5Ez/NfWQCcEdSOnfdSNXOXmQD3DWgVVUzZ8ZN2DaB\n",
              "Q6dUHhi+vNopNVU6cbARejTuvlQmSRsKhNGIs+VzYdr7GnIe2HH3uRvTyVUf/3ja8Q3q5Evwxu2c\n",
              "DM1Nb6cmVhaaqLow854q3zfHhlWkhOX2/Ee2g/pLWCEXqgeiR84MAOzhoJjG8wZuHeGcm7Bf7dQ4\n",
              "rqTroJG2q86DLaC4bX3/AVpJPVxqBSB4yt+H2xKKsaixJ486yJ7U35demuNznLkTMxIFxEwmKHBY\n",
              "FituloDOE5P0nS9M+9B9njliHnFhLocuIKT0/PiVwN3cdTxmpXByKLz/AHzttCHwsPEJ1cD1PqaL\n",
              "jdSSxJhnDaoM4B8V28L3icD7yl4BXYCMsNE1KMNivHsYy6k5gLr5qRr0pEObWv0b15xOMYiUraW9\n",
              "nJpaxpjpU2euGuO5yvVrhTk34kVSV9BLWhj16QGrW//29NbCYdgAEwDB1wt9IRHv/yOqKB8NSrLw\n",
              "0loYZ+8XXfoSH08TGeQ025wKBzu7K3ciULZPoeRlYEdp+Gw1J83Mo1Kody53vFzjKOWWGNoLxGo6\n",
              "aVp9gM3tX8HVl6XtyLyeo1dhOH04qXFVL9akySo2SA/o3CKh4OdS2iAf0svmTJGZ/gbM6XdQ19pA\n",
              "5HCqwez4SMbzM9DqxutUX843BVOUeYIBgK3K9mM18+LUtky5xNb36O8tbQGcyTBIsL0it6RcbH7k\n",
              "ob8P6mZdePW14bt8M4iXSPqYzHbeo38Jw5xmMxzNJNfZeUQce5zIyIf+TH2tjsPzTCOh9XasFleW\n",
              "VHS+vw98XjtjFtf+lBNU3aa74wvAWEol+Q8hzh9zZfiHQ1DaqOt87mRVx2mj7A+GgAyuYfS45HAA\n",
              "H5rbHuVb4NOH22kC9JkeeHyaL2qGNM7T324G77OveS4Yi2X5MaVQR/0pGWBQAl211uHIN5x4N2wo\n",
              "h02BWJ8PbbP5hdVa7XlUGdos9kSWNyM210Tg3pEM5pzlj65e04BKHTjjQi4RVT4fHUEId6lWJqX0\n",
              "a+kOfkDkLq/AkzwXY/TKd9w8AbW4GWOd7DZVAJBJqva/T8tkW0Ws/f5Z3oKUNHR7XoAiapaOxXdI\n",
              "Ie8beQk0P0hf6thIOsz1+t4QEJ92zcjR2ExrZMhhcgpC5uez7XNyHoAO8rcIKJSUy/3Uicvhp0y8\n",
              "wfZh+dGbjgQf2DsTVBXqXU+EH9eQke7T0iwIL2CyocXI8kWN86bblwdk1B3JX5yNkYc8+2R6KLbH\n",
              "fal3lqm8V1mRVca+L4G+KR6g2XbRVRGwRb0KDWv4GSZ/g2SANfAE0BRCBGwMp3w5jlgkO3cApUna\n",
              "1bZFEzi0F+iAp5r3yhaZWthaw3ZG4bdSGzecOBA8PMY1JFILwIwHYLo9gOWeFoTzLs3sZ/zbltuL\n",
              "NcCEefzosTmiUtGoVZoAsEZV+/PKB5Tpb8zWkDl8GJvIZqxbZ/6k58fkGXhgQGx880dTQ8wMgcwB\n",
              "fu1dIlF8NBU2jv1pnCciTe7itatTObrMksXksKXj4u9e3P9/+rdABXiqVWS4q0TzpMyH1U1prEu4\n",
              "RlH04QfSOOzAj1jq+MVDvXH6KQF1JCLrHta1+ZWkTSLl/nwPIDxDl5cQi3v8wcCQ71CeUpSrX/ys\n",
              "UVru9tl9REdaFiwSyHyP9PoH8T3YmOuA6JNg6OSDzSv8vth1WojS7FfJ/4Aevfz2ag07J9jGrGT8\n",
              "nENguzVISmxeVL9NbD7YesyQ9HIsm2F0Xasy3lmT5EDns81BHkvnsZtwYYP3F3E1Hy7P2TkRI55R\n",
              "DZE5fTWtfxRqVO6+W+woJYL7xe0Hvr8h6xTXoA47KUJlcg0zRa+AfM/m+r0ZnfT7572IVAKwNS1b\n",
              "DS9vtn1ubE9wIgXYU1YXlLpXGqJkOm/KrXh6zWyIMN4DvEGNgaerSmERtIbSE0dkZG5dIpwDDs8j\n",
              "6j0cD11ZmrPb6IPNk7Xu/5PaPwxxhCkk+XjdD2ZkXg7i7m0EHjogPpupoS/KYJnpt+R1mEKO6R5x\n",
              "1K3N2MUPgYtolG3puAq/PsmEfwDeWLdEdARu9xrUkeER7XTPTEQorDWxAAvV0liDbyzcqFR+1dls\n",
              "wlbOnUTBeWvyiL2GXXMTY4tAIIQ/Z7JCmFUmzBX1pEnKOgyWItisi1qGSZg5rESDEuAlgKuEwDRM\n",
              "aWena5Qf/NzwJOLN/f/U+UPYJZA2qLZxp/SmzvztQVA/R7T6oK7NwVzB8r+ZUvnbH1MXhKx2vgvv\n",
              "ZlVAZ8EHg7OuDCzf0G4mVgP5+5MvTzGbJerWjeifn7iAxH8/7sDXA+469tDAzcSVlW0Ssmyyat/x\n",
              "EnuRTr1Flkame9pNZz5lQcHBgi5Qg41yq5iWCq20zdIVMjj8K7mP800kQ5TTfEqRf0dX6azSLD7W\n",
              "R3PgftzTFDsRXWI9KVe6MdzHNIhQldWfH2bFQjZMxCYR3tNdowB/UyZS0Zeb1ipsWMJWSeGT88Lb\n",
              "/wYVx4+1siaV6cWObZha4T+IrBvVGbA7dU6vPGLNbnt5fdf+ZQH0xR+ZPy7ptWWKStYLbplepOsq\n",
              "XdBiBFMsnVnF6GI6cOYaMGVrnwutdWDd7ePEK6ff4w5qLcTI0EaexSVHxUe7Ze83ZYIX9+FHN8vy\n",
              "vYXt3fYNgqz21WkPHmi9dMabIQsXJ6vHxd4p+tGyb19Vb3IYxOiZ79VfmbdMTiX9N4n59PVLT1gB\n",
              "wBVe9jXToMnnxyaOgQUeBFb6oiBhhRtSh6UrT68SL/Fh6DA77aQRDH6esRlO7jgXMx3NcwgGIbkD\n",
              "n0Pkosyk8moJPk8Lw2G+mg9paJ8Im09RBXrx040T4NDxXm0ntQL212IVIOPKTJis6SftG8yac5BH\n",
              "NI+Yt5mMhnxWoSAlKSs8ToXDtkyLZG6Q3l1IPEB5qTwj0gLpkysABwRhJ3DtyS9mSuphRhYAKSIE\n",
              "skwdjvjZUsFkvlbPcyYy57s4ACiBZ5MIrPLQGBZq7pYxYM5nmHL63N0p98f5tI5oiJQ7LSCUxcLn\n",
              "mphiD3U0fIgd0xutkC9CKQyKL230SlaSW4zncVmOENiBgdgCy8dti4VwAu+kO+kUoNogcAl0A2OB\n",
              "rdoA+fPcg4+t6AOXFIQU4rxbmkBDVqcJMNcdFfBWPRbdyrkqBajktpTv+Bahd0+Fa3SWzaHHLtb/\n",
              "U+gab3uxJZlwzMIGd3bcEzk5JEC192hIFOix/H74gmhQit+CabpQLU12MnXTNSZaOUBG0SNTOntv\n",
              "MqVjBXk56g1AmeDU8+vBCHX9DwQ5NWdyP28c0II5yPi3qo2b4y4ya9zImC2Kdu4Ieg9VXy7he6MM\n",
              "F2SfKeHJdJrO8LTFq0VO9mghyz9QWjKEpku19cVfUhn7o2pkHgGMIFeZdHPHb+cYeKrIFY0NGudH\n",
              "eQQldd5am+f/z2m7JtdYjKSY4Kpi1ITaTvJe75bRsbCy1EPkgnhY2haKD875gDQA5fLWeFbvC4Ha\n",
              "m7UhhcztlvtqOBP7FFdFrht4faARLOPs6VDFEUzWyfml6doeT8Mc2X39Jvyba9AkVb/dUHGTMjB1\n",
              "MbPp/2fRPq9jag3XJkMF9ijz7xRAJ9ItTXqFDKx+MyvuAu45SbgjWjiyXdHtuY7e+dbNmLqKFoAS\n",
              "L08OK2MH7B2oT6HhAjjzi9wX5kMlLW6yPNBCPYQoaNWjprG6M03ml33AQ9IFq58CGyn+dv2I/SZl\n",
              "sQAAEUJBnoZFESwW/wAAXxfFedq8HmuuihdtxlH3rBNgKHuGhAND3VjeBut2/eEtk/iyNBXtQxU5\n",
              "XHziRzU+foBbtPq6DIjXQyLmSmZG9KHLKE3raDgp/EWCFMt5caf4IGuhQpRodNZGuPGPpZijt9K2\n",
              "9Zme6aZCjxO47k7IVn5a+2V/ghXcBqmY09XdlpsI3ojZUUytGZz3UFCzJ6iODLizgpF278hofh2l\n",
              "EtVJyjXgGLc5bspFJlOqJgv6YYW2L9pKCS02PYVsN5qC8Us0UKZ4QSAUuZvGFqzWJZGaGXDGLCV7\n",
              "tLA3UpeWqyi4pCdsXSLSKHSAt6evId6q1XiDqEj3Dq+Nadvhx+JzJhl1wccHgQJQ5s4vFHioe3LR\n",
              "nTcHw0XJlMHXPVXjE2LRcOzeUQ8/fISQcjnidc8hcevxZkQtiiLewk6fH3ro7t2eqthIeKeUMiwo\n",
              "h+hBa2JpQrIzGfG7sIsV4X/TU1YRQaOI5cJW89brkM4xFaptmIMDJm1YTzk1hVlB5UE6icZZUA8j\n",
              "9szFl+uwYqC7eXGMpOejBZPH3+M0LWNSiu2OY5ObH8zOiZuM1r0zsAEnWscdhktXFRSKGz6iGGOS\n",
              "DCD382J4kZOamQJWoAdEz592gDHDew+8tfyRifdW7b+tS8MZ1Ius1cUhut0L9qwgdDKd3pLXXe60\n",
              "FyKzVNaaKq0GC3DUYiR0JNgOBAZQOClsX6mePs0CUi4X9M7DUcK29O/+kp+ko1SfKrFaaMkZrYON\n",
              "OanXOXa28Hjg6SU8qVJCLvZOlXFqv+DwIvXherUq8TGy1H6rz6kSlwgHXjlEz12QMthvGgw30VFZ\n",
              "1cvFHjUxDwCKN3NwSEz1Zc5gEmdY+utXg8LMTwJRd7wBXkBq1ipk7KWc1bfmJXwpbl0w47BdH4+J\n",
              "93RJ/WKTP0r9+y4FIeM/eon5SnOC5tComLEaKj9F+iAcizI5dDb1FW8RqmA9ip4Lxy9gJFsMm2vo\n",
              "DP85EUTzA9CRgnTv2fFkinAIpJhnOZXLU6+Mndos63U7O0TBmmHE2mv+LnM4ysJKQKGQAhmNbbxt\n",
              "Ku4O0LHq+nmjW5eo6mfdCxY8OJFNqRNKEU0xcLPHHtIJ3qGtUh7kRV5EGhzlSH8mmGnhabrXBPJA\n",
              "V8wdnS0oQkTNWYwmqDiJxQ5KF/ePe5XRnMSlYb1plnlr9qlyvmbLorIu8+xyyQyMASwEmzdDQSak\n",
              "omfD37bd4DxSHYjcPoBpSgW6JQmxQ8JujKNT9U9XEIi6dtG+1GiX8xYrAqrNDC5vG00CfCzuFzGG\n",
              "k3BEJYRCqu7MUBxtQvZntWAUWOnRiNvoeZb73zrbVauX5fZ0WyzcG567G+vquFfxiedlKELUlf2x\n",
              "x2PMDtnp6G3JHFkJNe71zoPLcXlfsaASbvVn8gZQ5Wc7mrDWQdvso9difws9fY/p7ksdc6iuGA9b\n",
              "+rmk2VhQyaAhvRcLmGHOIJg95AkzeRpEOzxRYOsGG0OHvQSJVPGensIjczqnJg03GI3g8o1uQmqv\n",
              "XJeVs3xRU84wQxC0EFF2XvtElu5D17XCKHGUHxkJITYWA6lRyGz4hFO7IDtgZBdT98dQdoNiEa8s\n",
              "HrEsbG43+M8sy4mt+q6YcIyQD4p1brKfF0YAqOK8re0GqFp4cCqhNTS7+RR7oc0KxvHCNWY3Xh6P\n",
              "ck3Cqgp7I/MWFBATIxgP9S8Bceo1pETQJZg/TSt4GmlGNBOi005dFuIoBGEKvTlrQne5POoA8m2U\n",
              "C+W7Ou3+tBmD+vs34/Va9cgMRE/Z9JcQiZ4P0uB1JO3dTfxGlG3EfMT6fzus3c3eSHZGJ4wPDb+H\n",
              "hUZgp+00OcMUC69O22KKfi8RN5IBCysvklYtj6o4oM+KBhSSHoDj04Fchonrc01tbTfTDuGgYkNW\n",
              "AgI13MUsfplIx3tR5Snnj1HpIaxjooPWYDzUP2dVo8r5JpF0ai2It/PJ6QERw7AhLAJIv4VU+9oU\n",
              "GqhiN4AVjlbaVjnMRn8cOj+SDIWYWyjoWWzj6IXT/TXAKxv8rixnhImfkRw1p7GWPKtSNao/wsKF\n",
              "9Y6t58+qn8LwJ9jNZpbu6rm7wBAWPuPTiYPWmuUQD/qg7FvT5WJPxXqS3Nj4UUFicwBSMPeqPkkG\n",
              "qI9ZBpRqLN14I+wJnb+WjralukvtH2hJVYnZ9Xr8kkmU3Io+hYoDxr+8DgK6huEEPruU7sBiaBsD\n",
              "qFa9lqWRrE6gTVBaBbavQ5mUZvxMP8KO1jlFusKNPKn+1Bpc3apbgm6q0Mb+C39GPmLDHan31RBv\n",
              "hw0ETjNG5i7+Pq7H4VEvMMF4lH+4faibbfogzot7Zho14thf/7fXEb20DelX3gtIciglWayCgOqw\n",
              "vEC617+D2bp1AW7T9kVwnOEBKNh43UHVxcEg3rEOHibjhmw/A3BbonGOFUwaAXpINUghs6Yf5NRS\n",
              "3s3iDkT3zpfG10uIxkF+eMbopAeF1ky+YLjLWwI+rbc8MtyuQLyGY+dv+GbRx3c1wwQ1rJvXz148\n",
              "eTvItdyiyQs/YCdYK8wgKwaxXcUBC4vI4TKUu0QRKQ+H77FcMxE5xR7DIjnbVSul0+ihK/g65ZPi\n",
              "vy7/N+I/MiPAS5vNkC2o8+5XQZCwN2KKRFVT6lntRzlgyvt6P3a/MngUup1v3JHvfTQXjFehjrsS\n",
              "f8AkK00SlQxRddrRhdkjGycUBfjvPD0hvXQ8ewvlm/6d2sNfZoT0sdac7VArHPPUzn6Bd8oUu/Mk\n",
              "Ik3KWKs+SMCs+TOxxZ0viDxi/3rgBhNUoD+gxaSqakEYrPVtEVh2q/barMajegJo8GNcYLk9lVhw\n",
              "x2IBxUcHeGsoVY3alOT/df/Bt5Quzews485apycAslEinr5wyCHNxwwjFxRcDm9zIgVLtf9gfHh7\n",
              "731fr0CzYOVDQOENID4Yv4f98KeaVFcEhoDKy4pX8rB+cSnvHKi6t5IXZP3GqJLGs+nG/7oOqBzS\n",
              "GPADDHx6P3dSjsVn7EPuv1V4hz7YesvOOnkIOeeTuG6jBH9NhO3u5KLNljBt0SuqZd4EyArkJWnA\n",
              "gH9oOsmlMk/H9gAhMfPLRQhSjp5TGTop2VjYa6yz8oqMxycAlxOBSdbvkK+kP2Ye9wiTFwBDcmO6\n",
              "BZfKogNb6Ee/bYuGfJHhLX/HWHOn3Bq1tTFWDEsIkU45l3LlA0TlgMsta5kSfYh0h6AMOt4OveiX\n",
              "jcF9oqzjevz+7cd0MkiCqu7gLHoTT8absQJPLup5sgBNY80kqVi/RWH/H9hUMF3arIx+r3GcsDax\n",
              "gJYKvQmbypvYsGyOUwEHHYxT6KpOx97UTSRxLzHJirHF7ugYfAgOZwf3jllqxEz4L1kzz3m/z5xG\n",
              "KzrY8hyhj6RQfX0srERVz3335zEK32dpLGDo95br4vAHjtMh1oETLuvLE5nhHdNRy+GHKnAqxiq/\n",
              "Fz6TCDYoWtSFFKt6oFEeR+1OZWRkZTBKn/KrXm55st0f3Fj3eoM/hiNCLy6iput0+ReUarR4aNmJ\n",
              "ntMyxn6Gnku7SwF2F2OuW13Qk1+eDfce6VG6ZBIheHRKUBqcve9QDDHsfevJFvdQnLtd/+lm1NdR\n",
              "eIenLbZqnIMD3NICqWAmBR6j6bQOtHPjDatD+oGGw3odV7Vd2/LojGyx4kTxAHbZiS2IaECm8lwT\n",
              "6ChzTpTmfWqNPyvXdUZ7sxb3Lj3mN2tGQL2CPymTOlqlOdmfhx0BGkYiH2XbZ5xJDgxYJPb15knn\n",
              "J2v6RACL0a4vC90bi4ChYuigzSnnegeaeqXhDcWcr3vosEMlv756QYavC7qVQHz+HugAAqoW6zoh\n",
              "pbmM7/qhxCUSNNTgoQC6BChL3DGZSMOSIY2elRiK4k/rY2cHtA1FBGR+ayv7geFK0IqpHZt6WSeB\n",
              "MV/GWYQjpHrF98EJzX8R5agIHMwPiNHcq+LD0LGCPT7+zRxFqDaFdZig8ZZjnSyOM6HMyLjRn3R0\n",
              "hkQU29lk/Z//jwlA720qQmo/nrtHZssXza2QvHh4JO7lkVkEzoN57FD3YQUm+YvQRJlcRGjIkaPn\n",
              "7wCVphqYwi9+b3Agdh1Rv3RkIyMf6bdpAuUzOX6q5r+qx+x/iO/LexyDFo0s/ZVcGNcvSra4FAXs\n",
              "7rzVxVmBk8OPMkNbCOwHkM1eYPnkI8s7M6V4UYTrv53xKqbyBH9BUJtXTN15ICvi1ijGt35TDFVn\n",
              "s9hG6HNMhXjDzUDNsYUAYoLdH5O7RF94/H80WwkvWcyEKj53JuXuLMtQv8evvIPOnGqv6DlOiWcu\n",
              "R2pQg4K1HXb84ikQKWlzhMvUNb/WNA851Sm7uJV0YOGd6ULAuADT3QI5jNvogqLGIEzAuWe1KkxS\n",
              "xA1BvrqSr52M4bJvooZUZRfFHggW4rr+xuVauKGF8ecsBRJxtj+sMahgUZuW4S+PVyV8sXT5f44X\n",
              "mghM3wdQoWsMoWRwu4vod4Aj+yj2RxmSEXMWqlMPORf0yWDbJtHdASy2aQKYWT/gBkOnmuIHc2Pk\n",
              "ow5xog2q6PUe7xgVS7UUf0vWKPaHk/ypO51ywThYX2VHDXQhU7ZuwtKEyGrbnDvqT8t9ip1G/Njy\n",
              "iPo3OsgrHhZnp69J0Bg9UQuNvByuONXRGkHrluvKZlp76k+BGa9SnAyu+2u5HZf3eiXzYuLY1ONy\n",
              "Zu7n04ElUeyeV8Qouh5Ws4C8Eo67mvs5bn6FXis6zcPyqkl+bwp8lS+qsR7kAmBc95zG8JJDL6da\n",
              "4D0IzRwyTwD3eOvAPrV95Ta45Mg1piTw8Y7nRRIJny7KHXpMdIrQSlnPt1USKBOCSzlNjyo8BPmj\n",
              "UeKrfl0RbyvgORON2rULK41vnqrvctrMu6PZTK7msMIUiRBKvrghVK82Jb1bPMoFBuIbBBkl6ABj\n",
              "WyZ+GCr7FgXGoeJehSUFN3yPnqOZ9icMFmMrXghHOjeT468R7Pswu6Um/uTI2Wy1apCph2uHIVQK\n",
              "KmtwktIGzsWAub4T6d3hvxAdy37vtuhEPXer9HkDrmqrsJ3TUt6H/KXnwXGUHMEdVx62AGpI1nKl\n",
              "lvYEg05wdeTOEtJz+fRllQ7EG/aRPEY55cFUSL3/C1J8h4xOCV1Ug3F5csAoOWobuuWH6KYjdPj2\n",
              "0Cm/mH3RAvRmNjMUFlvCfh9gz/diu69nw/DbmlIsaC7YzA3OdKx6RgGIcSR0U5H324UAlbJ5QOoW\n",
              "dMo/AerGim/7F1QGyNlgqFHPBasBq4CVpJbM/yXAuJm+uIYRiruAQuKXW19wM9g6zGO5GvbkX51a\n",
              "Kqm45Pznzs1edHnCprQ9B+jhNW7rfaQgEtaLpWlbneowMykwrK+aEXQefsv99JGZ7AIJTBUix8rI\n",
              "mKw+/yb6vBi3cXeXeOe9gCGfiaT3F+cZQG8isB2cJi270BI4I7zz91qLzFUIHSEIPtvOQ2NROQt6\n",
              "et+NZi5gigouP5kAr/NVU8FZbEdC2CahRCuJxQUoHB4F/XaTTP2j09k5prNafd1rBDc7N+SBuTBh\n",
              "8ACEOHm7RjKx1e0wkJUsfghHiDi+0s23Up0eICzn0lcxvjbu2B185GQxdbKAxBEY8wOv+HfAm0Kp\n",
              "acquGXKWsFnkS4UdIvYbi9dIgqCK7Eb/uWIsHAYzGslzWc328nU6btRv8vyOItUNGPAygjpdpoD7\n",
              "L/9gLgpkDfRQ12IasaPWOmRaxk+gCqyM+FjKGRrWcREQHgqmnrM3NnSGh5V+moUvpseCysLk+Jc0\n",
              "+inF2VCtpYtVkkJZhaA3WwiUSZig+4FuBHwlud0nQQ/TuppQ9/lIUO49sJRPfx2l7K3GROlvoN4m\n",
              "fnlSSOAnc9/0VvXSkQUtWoFJiURZgqn+voElofoBwBb7m+RZ+jUfuxNT61H4/W+AUUhAyCncVbqz\n",
              "ohJCyJQ2YfGnN6lhSa2XR5cOkR0KK3Mt6j5tANJv/5IIGQAAC/4BnqV0QV8AAEUnRUigp3Sv3/iD\n",
              "+TApxg766FhBopkBPvojMNNEO51i9pDJpL2kFXfGDYLYwBBVZl3yrW1ekv8eaEmhFkLdNSHFO2zl\n",
              "Wyk6tRLDC0qe8/VRHo+6uF6aAGqqUQX7iGSS4O3c8pXVvn58WWSvDL/TZ+37dVOiJe+mlBFK/WgM\n",
              "Mdfw73zzkbNvnrjgVZqVMAskeCvt3b5Aynzac9C0z9UQY6EtjGU0P/xvKK0LO78tZ6U+vUJVzGEW\n",
              "S7ANw5zen3qzKMSxd7gz/wAFKH2+sQzybVcGNAwNCzR8VG2FaV+UryJ8HKBgWbbeMIFbPzUVPK5p\n",
              "eboxL08zxyj/qH4p1YN+WRC+4h8Od4M4uTRkUCHqCEs74c/kPSfJgdcb7H/2oloS3OKxfFvI+NLN\n",
              "WGhNRF+CeJ9x0/ZL4sNS6/mG1q1rQPI/ZbmexRyau1rdLcbu1zid4gIN88ADK/pM5ykdRtteJ0UE\n",
              "5UrWsjyz4ahj2d6hdOjp7tYQBH016pGiAMkQz4BEE6uIx6fL+GEzkSCyxj89yALiPskzgxey8Mxs\n",
              "etNCEoxW2fCsmqJvggOR4zMojJpvm6zbbrhK1BML5qqzFundRI4HjgRHWvS1/rBV9KthnoiMWT9p\n",
              "KkgT3GTFMOb1Ipbzbgv+M89Ir9tSomq5p6aqoLz/67ymhZ9Eq8RRIqUlls95luoV8/WVa+hLKxMD\n",
              "wtqRllVZwbn+pQc40eOBoIde/n8mFZrmg1OW/RhXV4HozuRpkoEWFs+iAx//TW+jiKtI9AROIV79\n",
              "dTQoSVhPFwHi4nMtSYo3IMcpYJwj5LPZ8O0vMdpo6LyQPHJD+dW2pfDd2iBlyqDCcdTd115KELoO\n",
              "Vhc8wvu4qf6NnDdHeumkPyiIc3JbpvUm9WAUjS/Ee1iXMU7fAzvQm8lBiYF+pR8e12EbqVxCeD7r\n",
              "+fqlOCbYR2axB+ZqpB3cOfGiOoro+iQi5+8PN+Ud1yH5/Q6qYtaB406GcKnLTEwsgILwOOZ13Pn5\n",
              "IEK1K7BzHkRU/rcm4vrd9Hurh9t8t/2oz6oSst7GcY39TwzniuGOTefINmDTGp2VkUAxhS+sPZoe\n",
              "iDX8pGWCa5wfy1kNcyA5LyUNSzQHMgKpG9OCPMm7atoqB9cyMvw/eW5ODNbl94ll0vUyJr49bbcw\n",
              "FymDyn6PrRtN6KuVKBb81AQE2ay4ZGFgFUDXiMT84+BOwUUPoxLSIIJwaXHfJNytiG5oMvSxbRQu\n",
              "kphT37/ryb2Y3GWC2lrhZOzjDK3fz9JJ7148wf2WklWvwAyd90WQ7OOHBq6IzeZbOxNLWqoe7Hwv\n",
              "aubONkZ3NQEcCryL8ybp6mg1LBQApJ0Hy1WXECR9Lva3ySF7G6l3LUXJjeGy6x3UpuZK+NsE7Aez\n",
              "A5gNeQGsunhp/PWWbnZuz5/armZ+cFNkmsi2QfJ90cPN+QPnwpz9AWevoMcFsi3D7/juXXbjA1vd\n",
              "1Du8CI7K+pvs6MHVa3CSeS+kDqW4l2ocS9GNmaPEtN3zoo2MHMT9DGa1CEgiZl/2bSIA2lkxAWCI\n",
              "endwOYKdHG+wx3FOPf7DFxqycl8D5fBgA9lIPP5xFSh7ae05krMZUy0qK5yk+81Sbf22+TrI+elW\n",
              "R0LE8VgPwQw1tLr7pnHAHPeLd2SOlwBVb3JYB0IQPkXhesq/GQ+1wsG3i+0f5i/CHEITyfsvpY8K\n",
              "O8Il0fS6gey+7MesdLWurI8PWDb1TyU7HCRvO9GJb69TJP4vMcGPCe/kXFCdfDW23Hn5pL5MOtko\n",
              "yr4cbf4M5n9D62vL4zW1kmXt6jsuA68Q4rXOSLeuuOLhGU9vvDqqxuOjvkEjSjbanCoUwNb7QeRg\n",
              "ezUV6PTW7nR8imeHuEgnz2wwqJF6jPn2+FwpvrDDnMRU5cyNnX+Nb1+b/Cd2b5/2U3dG5DKsIHyJ\n",
              "drsMuT1EM7YwNuSGwjhrFVZVseD83Su4l39Ty+a20eau9EhpubQnKtcn3kctdHPQYcqzLc2KJ+re\n",
              "XQpvP2xopeRkI5fxTFAx39aufGYt0W5kLIsmv6Nnfbi1CLoIy2vZiAnSFCaDSoNAuuK2iySsZ1xw\n",
              "8PPC2pWU5B+1oDbOl/LzoO04a7lIp0O4MyGKfouKYPJCfxrDvWakA7frBdr8HlkoIW1RHX0O6t1C\n",
              "Dl8tO9TmNr231WahNbZxuEzlA6LzE0oCESxPK3GDuyeI3Z2fyMa1SKq2iM+z56Bo7mmxWer6Xaxf\n",
              "Jn9fDQDI9ksGGwKjHOT7zwydMuolCGfLDIfw5GQaMR+O43RZf6IntfR5BFYqB8fVrd8eY5s8fPVW\n",
              "XZ0vap7bREOeOBs+L7AFA16Uf6SIrFmSaXPfvqSWnC14aTwSnYmofK870US+gLJF8HuPFAc6dUdn\n",
              "VYbz1zfRO9pyY/x0iPoLATg5y3F6y5wdJwPQwhFUYK7wpf68T2/hjYCneveb2tBgU7Kd6G8WCB3B\n",
              "GRFfs2Lk5jyJLHDdWfBWlStMrEH9TBIoElT7YIGllzLtj7TPGt01EFmuIKMQVQ/1fc0GgtKcvrAl\n",
              "CHT+GEMcV7Ncs9lPwQ0v2mmUtf1PIoyeaTOk8Zxtou/djlo4IJLX16FvxAT0rE7AFq0KknDXrI8m\n",
              "k5Wz4vr1pgfQPllJotuxOEop/zkX6fGiwGa9nQd6uhAIOgSRGmJ5ixgRqVt/Aog3XCgeKRppQLeJ\n",
              "PselhMCW8cvBFevkHwaQYWDhWvJuMSz9wv+Rnqno519mm0UXvM/5RU2DFehj7w9F7uJJWPRyYR5Y\n",
              "6jo7FJIbsLjrISkDnhxj81kyaccnixTe7to6fRarGwF/7V4G8orMRm2lsRv7Vg4I7USB9+VrCzwG\n",
              "Q6+KXMJ0Vn8f+a4o00rksngtVVFNAHBAYCB/DJsgsFYTGDr6/Lm40VQ12C/uMRZX0oC6VrWDe5rW\n",
              "KI4kwlIn4AbQONcWuHgF2VoFA7gc4mRZZ7kJGR0pcdhs2k34ShozKBnJ9+FQmLc2vefi7q3z+I7B\n",
              "fOCpwnHLjafO+r1LwmL8Omhaqv58uEILqYUPsKSTMdX4jx5fDdwnMhPJznp+qAKO4frewtzBQQoN\n",
              "8hl40Mmp9hshDq14CLt+XHgZPZjLrGgajwUL97i+X8t6DZa+w2SmDFmomI+Q2x7lKxX7RrRaxc2M\n",
              "9Fm9Yn6mOZTK5egxrWKcl7w6Ll5Asr0v6ebTL+lVt679a09QsRAPjTUJukIL90Bn6GWbY/WCmTMX\n",
              "jdjZQueEoNdJwxwtqn89UJo/AOPsHloAJDKoZBHYH29/QOhmnz2aHjCIL0CGFAFwyQE5fW/t+BD+\n",
              "pVsoQsv8Eb09GDFEPMdjpCoE5gI8O/OJ0/rvBCrZpqku3+f9U7Soo7p0qaESKnn/TzHvQqj73v15\n",
              "K2NOIzYCI4bSL7d3Q//YvxrKG1cjISgQCkcJqZuFgmwNOF3EJfOmifvXD0YvlMJQ6vvflNNOR51S\n",
              "cs9p6VzGR66gWOb2QveJW3QusfnoZCa2Hq1k6/TKwQm6zKuDgdNIV13Z6PnlJutXVEHzFxGZMKBt\n",
              "Vo6daRWP2s8IVdCEWHXnlHp209IZNWDwm7yr6Hti44GeZg3gkyGxsdI4sMdb0/AYR2tsNUOreTGJ\n",
              "WkwtVEjfGNqawvZ3yuKmD4yCR7Z9qgvMxLClyusKIshE2+bJuTuskD4l3r/stzPPBGS4Db5LPBqO\n",
              "idTmlnTucaFPL2WD/L+JiBILo/6MSJ0Eq0aV5RAcSNgs2kqL8eaZNohsnR92Puz9aFYvT2Q08TXA\n",
              "VAWGo6u+V1j+uaHWU/jBGyndW/ve/71AEpgVkeD3elcx68v9XOsEQnGMWzTYEW0C+pt85iLKMO/K\n",
              "0ppZso9VjjZrmUndX3O/6FWTgQTecQuPwP3VbDSxkYIhAcf9eb4U8o6K2nl9iGLz/6+f/q53SkFc\n",
              "WRQUB/kJ2vf2FADp/cA/XBpFrfFi357te8nHdodj2hOERCzHcw78w6ndUNpyoUav8TDxg3n4eEF5\n",
              "lUAvXdmHoXMJ+mTWR2xdRcV0vcci6EKWyVVIyffdD8eRFLf2jGZS4Y6VKBEbPjCannsMiH2wfK6H\n",
              "mOHhTnpq4DktezZrmK7ZXEISZtFM1Bw0IQ0zzYrZAAARAwGep2pBXwAAkk9q3lBTzSv3/haGTApx\n",
              "g766HFMUpFk6rwtHb5h4EbLSncMvP/JoEQh2rwGQX3VCXSWYvEyj3vTAWupeASdhU7vWbCRjtOyT\n",
              "x9FFBY4nt1HkOySTKJ/8EbwtmAKw0eoEISNwYDGPZtoCaloScFoSZZBaJcJuyR8SnoNpxRqUSMnx\n",
              "oBGYapS8dzs4d/KoL5tGmlYBZCx2A7W1jazFoys+9x/d7YI67vO9pHbdH7mMz5WeZn3tm1IAyWgg\n",
              "QHX52nhKPiyF60sDtI7Wmp4jNZhI5LOFxPpEwhuMGGeQwKoiVsgymh6iJwxPXCY9f0ayDD6t/wN+\n",
              "hxzCBlc+nTDurWZgqgMDs3Ymz/ZKGM79+GxNy0QyOLilrc1L8AyR9fWsow9g5aFdZc/FAZSzPIuw\n",
              "4FSOKut/R/qZWhmjwoDZlimVtm+HifoNuz3KdwKBLKGnz5cOfvfrLvHza9iM57Blz605vreRmyfF\n",
              "qN5Lb2sfF60h5Ou3DLJ83cyRBPSnU+d2YU0o3YFkbFmdb6CIC7dxnBa8NJMAvnMeK92nmmnhDRuq\n",
              "j1IsUeSZxum81DJHXHwx9JstGZAUxlS9pDjI5O+xb9MZd0ph6ZIdvdpsQy7aopT9IsfR3rnLJovW\n",
              "9Dgd7O1kbD48YcQcsk3Kb7ECnE//oEXlyFybk0vABJwNVxMC0sdQHKEfqsuZzy1N3ed03ZQqHEq5\n",
              "PKH9eBv3eSoflXdGsacX10GZjCqsQZffzaJXHY5wfAXLbQ2ljrfp079RZVYblgkdlXbwv+4cXoF8\n",
              "YKAaKOqcl1q4+vC/Z/63sn2RARXsO/rWbHR4Hhmh9wjNpUVUBkGWgLS3zldsL2Pu+3nqiJ7Jk2Gc\n",
              "4wPTIx9DODPOGLQuwgDFSmUQWAl5OWvDW+mNjPaKkuakhbAybC0GxfpflxHTiGdV+WDdSoUVdVTY\n",
              "mRkM4Yto6eHPeagrUvpIGjgrkGnuN3hVASckGuiEJeMcYEJ5iJ+LrXRK2Iso1mHzC0iQZsgVJP+B\n",
              "3qaNH67lcrxA4qv1X3ZzkFhKucV1Vne5hq+Je4cgphZD78NjJU+1wkCVBll8WZLhWIohqPwDXIrV\n",
              "CjTIkcc0kjvo+YkgC3VDth3tRAoqxyrW31taJjR3kT79cIqKti5f1BW4vhAR+scJPZcikKeNnfXB\n",
              "NcpkaaiYW54PkQvqq/0a72XBQKi4RNjiRm2P2+NTLSuC/LaWI/40y4Z66zGDuKLksZuGkYkzQNaA\n",
              "xJQVbiIMyJcrzf+LsrQojtZF9XATXD1x3MpUEEn8kxzfqqrL0diQos3aBI0k1ChPTSW0JezTaxea\n",
              "7PPi4U1Gsjtn/CC1UnG+gOifwYL38XdQnNYE6TFxXD0JE34XOlZz2atGIEFc3RWaNJpIXeFt/k3e\n",
              "vWQfGx3d3EfYsqGlMVDYHlZ666ExBWCqCK2ZEADFJbRlnPsdpy6V4YWbje663cecvff0noA0Vqy5\n",
              "L5DgCrTuiKw52kY7NJjpRdj3SJ5gKHotVGKFj7JbjDCWa1GEzcAPUfZ8LlR2wiPngTS+flIVx4/j\n",
              "+2ZA+6vVeothPM2YRD0TYBQsOZuj3xgZxns2uh3Ea9twKljSdYcIClgIOAQDYc+tIEi+O7tOvaYG\n",
              "MExcTwkYdBHzd0uPUZQPpIXJgXi91IQ6k2pcd3L5ysmuSOvlnpKPtpJf1tc1/6fE/Yh8FsHvPyQd\n",
              "cTNOY5o3tFVjgtri0OfSoRmyL4/zNw0pI7+pJq79h/P0TEziYypjPo7OdTDlQbpp/wMK9DAgTQ6o\n",
              "6UPewQ3wYQU8On7mC3qadPyULXOCbxk6NAksw3q+/nYIX9mVutl1WWjfF9CvSGrMZ5xrT36ZTBqv\n",
              "BNdqdTm0jvbmZ1c6RNoLSXGleDB6Oi3XQVPzVH9bqzcLs8xpszmGMru49eUeYmPxGYkmKnIAd7+C\n",
              "ljaGfIeuRfi4BqI/nD0Bt+wFITtWgqabs+6hEDYvprmYPhiYepoEhNbox5ayn2CSE8T8lZ9TaoGJ\n",
              "lg8jwlQfCPKA1JsoyKIHNuBkZlNFaOM2HpHAd8aTwf8Avk1G0sVlcJaYGdkZwEXx5+f5b4Qitynf\n",
              "+N32k2GakuAkUzIEdA1tFpZZ1/nBJzSqXtyuvHxGgwZY8Wy6b9EUOgB0eYWUnb0M6tztZNeFL1oz\n",
              "+zVB2zwrWtbBo5nfPs4JrEgDYF0t6wPxdZXPdGP9ry8ezVLZM4QuL8yQkrx7u7yKV1xM8kYHdXtl\n",
              "LAPtbFF1Y6V5quphNjBdFTk2uuHg/lKhJD84nj4XYkWO+U4AZk0iNT+jsrBloLCvyRfc+f2LcuOZ\n",
              "+AR6rupa2SnxZuhRZs5e88m8F6qUeSPhtPRr6oN4foAiy09PpesLHtVYunwhWEQoqUbW3MWdW+cP\n",
              "ZrggI9fur93u9095ZK619GOBxyFUPKCU5ZaXNK2vJoWvH46te5o74/Ywhp6m0c3FgCxbPTYbn5h+\n",
              "Htc+Vhv7nIZGX1NMCjX+bn836LF2KClNAQ+6O2Q8Kk8ydlkmBSCQlQ/yWJ5HK69h7A4ffbcoTN4f\n",
              "29GsFJAJOTiMYLX3g+dvUVLOdIU7CkXq2vONi/4Z5d+TDeSgIcTrT8fQudyl7CEFZBZCmrhsYIvL\n",
              "JixtpJDeWPZ7njYdY35oMlN3OHUbpoBOjhgLFVWd14aZLa8RE7TarflMjJFz+Fkj1NwAXPJbvw4q\n",
              "2UxRmNPEbsN/BOErxFR86qRr9JG98i23HGNtTEeOivQHDqo6OoIDui6vNr0vSpM/BlBqefUNzXuV\n",
              "sOE2UYBdXL5YtQjx3XYgVWQTEgORe0VxijtI6Q+hzSycffhxqkDlm617aErHnRCGrVGt1YauYQcz\n",
              "KtcUxHzl7w78XWKTAtK9FTQmu1m8ylAxEQXtGH0oxeVxsTIqiqhn+BzNjiMKbjtssur/EG5mUQJE\n",
              "IFWtMx7kTAHftSp7wNe5QkDBkQ0WCHcHtRfW05WE6SaFhNlqe/VSlQ7NlOWwTRIsfjPyVb7//lUz\n",
              "9DSDAI1iW+7a9GzqQ3wVWvoVAU7Jq2eIdWfTy3mr5x8Z1HRACdHBZJcgahUAOfds7PNt/uLuCQ1H\n",
              "FVOw7vJv0qGYRnkQlvthlvvkDUM0J70Up/HemTEi9uRVKpA8rhDijvmp5B58aaBbT9FJ+L94Vafp\n",
              "zO1JH5yn5APiua8/g6+g4GMxy/w0QboBPbUUd8HEYAAasccEjlDyv4ItvrWKH4gnUIAnWSQMLFik\n",
              "xn9FNFBArzhnRjIQUpIjcUE24Jf0QQw/c/U0O4rX+ZVL44HCtCO7AEdEXLjvPoGQT24FWIuKgxzH\n",
              "LbfutB1tQaO58PdKuyBLoXHz0kSd1KrSTnhPWdGb9iedbMvJJVGva6pR5R94m/2aidK4YRLkk681\n",
              "HxeWgp3BMd8bo48h0shWcpbinmiTB1dtDROHbPg11IcIVnBYmSr9i0owyEp6LZdXzyOCWcJhaooq\n",
              "P0eeuCk25WAUw2ZL9VULHpZW7mvYyJCkUigReKnbWg2ktiRSlBvIZuybcTmapYJ3thZCHA8gogP9\n",
              "mX0ygwTlQyp3rrT6u+jH397pNBLJ0dLn+nq/KZneM12w7nh/F/K1A4ThWsq20JH+HTAGHxA9mrKE\n",
              "XWuklaIKxieGtJtbU7fotWgnhWPWzPRZzK5CZQdwIcWMLm7UwzKekw5f5i3feCIiOsSKaGRtrxDp\n",
              "89AJzRxj6EJqnWjZrN2qorBOcuu8slTuikCGICQsWGt0t8PuyFWvRh6ye2bSssnoPr+/akN9TjYB\n",
              "PjYMib7RopTBJfZw352qfZKAOSFm9g5p0YgNFis2pJQjiIZy2NL1AODYk1JDCr3Ss5DH0IBmYvJz\n",
              "7Mc90w+zZFhKhKq9CRn05apOBesDAYmw3e22ZsoWHI+vDuTQ6Ovjt8qGD+szpO1BH36lSn5b9ZuL\n",
              "50vwL5bVJFugUn6nHWyPTt1TGW5YCJPZAKDeGkhmrwjAWj2weS+zheYg89bJ3LYr8fQxQVZSphJ4\n",
              "cakDhahkjzipemDIpuDGlVQpSjD8QlND3Q4MoX1xT0ggNgh/KPd7Cvupq/vOL/VXrsOD7OhNuH8H\n",
              "Sh7AEQfMAco1lC220l3XKGPPE/trLqyayPj3pSUbX8Ud9kS3V/TpBf9/h2mLdcGDQyMJdLMeTfDN\n",
              "9x+4TAT3GaY4lG0fxxGQwE4MfZHNhUcf3R6dJ0y7bYzhnDHG/MT9Ge8V5wMBdjNBf71/hDiIZbhy\n",
              "fQmjmNa8dleTnwbqCXVwUalBpy+0xhuhXiC9BkwUnEfgEiZ/KamukS2NKbIufWfKJWJRAhL55MfM\n",
              "2sq+9wbSChzJUjOxiCmMELdBSnlK1ZQDguzyIJSRumqtnS/acLDLu0ZcGk7nPuimjptE55lGuW4m\n",
              "5mw0yhrG2d3EgejRZ+x+rXaLDOAVkiPn7sC6zxZSCtHFd9EC6CHQdFJA43N8+yiE5OotyacbEBFe\n",
              "SHq0JW4bj1xWqQrN0pq2a0ovuWt198HjjqidxSBYsmLPI2AXddCfKYfYNZH3uzf5w8cJp1dJUOF6\n",
              "Ec7JNUPBeqVkX559tnqc3ppXfCPqFc6lantDZPphYPrP4lAggbR0Z/45yi7a/VMqy8X/BP/RPzhX\n",
              "qoN0nESLHXuihR8LkaC+AmhaQB8ozVW5D0ovrEy9ktSvzB49kr6QNmW9Q4/iJuOmgiysk6BFYVD2\n",
              "CK5VtpNf6CR0kHqPXr5BhTBxlrjniYhY9kS7IEwPkob4+MCKqKQ5xgFADFxNQw6QXG8tYoLjJUyo\n",
              "QZ/9cpiZ4eYIzp5GNYXnbv8n5Cwbd7OQbcrGZ1gdPF8dXCswBOMPQUcaXlDXME+TfHvCxCoAWPI/\n",
              "l9HW+CvW/SPTRNMW5OeUlnJYoSWeoxC2jv+zF3pvEjs/3DXIq2BbvAjGSDn+aJhfoIuBMtEtXY7y\n",
              "IcoUkrc0iIcojrKCkQFIgUsKtpazaT+HkNx4eXxZySvFQMJyEmeKwAwUYEMsY2L+ARcDn6Ucymbk\n",
              "ngUH5ZU1vBhd5i5NO+qCxoRuTcth/EI+p1ef6A/ozrfhJcovJBHeDkvJxTxASNPaiT0eGuDqQBRm\n",
              "DQYjohPvbGm5DuGbzu5VJJXCFMzMalPysYPo/wvvYSfwD7e9Z42NndiNt0hCfpcdlCUJwZjQK+Ls\n",
              "Cdssfk5psl9d/RKq7IhT+BLF5eZzDqta/7hxoyV85A1dGuFxObMmlKjSIxmhUaQPm6kDHhScXw+k\n",
              "SLB0bs5sx61FSZHxjriwt1e83JJArjQN/ktyyaZ8XOhqDn4dgvgOh/VJ3WrrJvJHQfkfFFFRUkuc\n",
              "jEWnEWY6w+hYX3UOV48FoPQnW3iuN4w4i+5/cY47ONWpHn7+jzFUN4ohi/beGvco188DF17t7SKm\n",
              "rA3th+gRICc08T9GqD+Jm1yRXyWwmNNLgI0Zx3bSZ4XQxflr2kNYgG2uo8ZbDKvO3fN6V4u6f3PZ\n",
              "73AOnCNQYkVmxMDQlRhIk9celDu2AANVGEPTedG+uWch6+L1/m0Gzw03AKSF8VZsV1zo7ywjRzl0\n",
              "7l+eNNmfvTpFxAcHbAp5bGHlaOYmHl53Qnl8/LEBwM6PHFYwT5l5B3KFiGIj+JEnRyvDeR9ILkVS\n",
              "LKZbvXTkvxihMg0Saw6/pJzScptHqCbh8Txa6A6QEKfsQiu1CQ1cMXS5PHN/hjxePahAGxNb9yoe\n",
              "gXiiq6lVVzt0qeUz/RRk93F+ttJa7Cny/2JITMSU3C1KHs66pmArOcdf9xN6MxbyjDNQEvNBaQDm\n",
              "pwMPQh2BK9+ZQoM30ZQJt29oPuGzoNdoLhEOPH8s6ZC2a+Z6xBI4BHGmSuWbwT8xqB1HWnOoiiXg\n",
              "AAAmC0GaqkmoQWyZTBRMFf/+1qVQAdKG+EAH8htcm7fYxyKeL9Mt0Ixl2BPjQIhOXBFcUDVpj0T7\n",
              "7WAbwXtMo8u71W1ok3oDNFvJbGJizaqb0mAVmRB0jC8giVggc3EiFJoxtPamch/+2oEeasmkKlUk\n",
              "yf1UT54RuTWU9jyARqdB7UwMt+Lgv7y9mQoHNMhzQ3zz2RArS5D3I7eVn5a95d+9phOSRfkg3Qxo\n",
              "tZfxLcq5g6XqVXTXrbZzh8zJzpRbenK9CjHTQiRSkQ56g3EWxV/+PwJUqxnKqLIqXefyBiVkG8k7\n",
              "H/l/AGTGZIGvimZu0zGIKD4QdONHtHzmP5T0wIrCog+7AAAJrk3GOQbVaCPmktfZUFT2SzU6Lukj\n",
              "+/7sftyUzxkAWTNi/0bb8PPzAkixcnfu0jH0DAs6uSiotRdA+NBBUVSSsl6BvqrdrE/XmXto0Kt5\n",
              "w4xpvfHznVGvAbb5twWFS6BnDH+2zlUofpn95HFgb0C97N/0W6gnFqwz0fuFwct8vxUqEECeJkYO\n",
              "S1Hn07f24wbWxy9FPFEdJQtNxWGwc+6DAm+OQlracSS+jyB4ErGCxtnsQ4uwBtliHZ/Wv0yNZxwM\n",
              "jD5I1m+m6EPnM3A4SCYIfymTq3fgsrZ/XkmUVVkmUIqiOzxOpSWb0DZj5nOoWSHFIWF6Dkhz9F8j\n",
              "W+Q5pzNoFPgihY1PlGRq/JNTzMl6hN2uuCP44vHrF9iT92URdjlN/d+GW841Xpy43KL7JCChOqVw\n",
              "FcEgdhjuPxQ7aKgHr2XCenJJoFChPdYWBZ5eIsAyHC+KUz2QvKnrUOn+Wvvz5cINl2zSq/zFaBF3\n",
              "2jo+oueQny9GonsAsWViToZz8CRi9qM+3PUbcX6e8ZHSdBU/UpaxEjNN4aaD7i3x1v5hiZS83y4Z\n",
              "/HwgZChs/yjkWQ1zPR0V+VuEFSWHNgWVQfIt591N1LLcCDyQ6FvAvgdDYQJrZLBS0J9vk/mORPMQ\n",
              "mBZappWpJTCPbSkYmy6UcFZjIDEogTvJn3+o8o86kuVVyuKIWzJjh0XRJx/fQ/BKC8SIdJoQVMJ3\n",
              "Hcq8sNu3bPXzfnrRvPkEQcGg4N7X21ctXqOUvTcylvVLSGreGn8TlL9jvB8LJK9A/Xk+SPHSULeP\n",
              "QEuO/Vqm0bSFOO+0y0Ew8h2gfe6jRdRZvchJkFGZzBhy+1XZbAv/F2SmWKghC3P/f9rJ484kTLVL\n",
              "FhEkshOhHi/5vR2derY8b3V2xABshwTXJf8a8LzVR1MniYAa5ZEansOGrldk7CVAnLGIodS0DBGX\n",
              "IIGDILcBwz6l/YJMMr+1f3/6wuhGS2wmJMpAEzWWATNdfkLIVRgCfmGQu9pqgeBcirw5ugLc+7Y9\n",
              "/PoAN13UQRrVRDqGWnve4Npo0/ZJCYZMT+XzgMQYK1cgnJVcuhKLzwfh9uwHwgFiESmFhS1aqY8A\n",
              "u0TKSY7NgZEusvaUm17jSG0IaEQD8uMeL4dN3Nj3u1DRc6n1dJA5kdYrpesZrZ5hIZPfBHwDrsVF\n",
              "bqryOXV2rUHmF8xSuH/Z49eVgxefh2t8neTCV22CjCE6kLaUn7GGhD5u6IrkSgolns7+lKaAAFmD\n",
              "UxiQYYcXzesMJTx8Y68VRsHcF7Nop+wTAC2svXMzrY32gEzWnsQJ46pTFYNwhMrY85711RJoiNZ4\n",
              "lCGs1+D+0irxjOgaJLraTnsZ0uv2I+pYgVMrfHCCAyWxFHG8dmQ1WLIfaaq1Rhmdg8WZOJG+5RBf\n",
              "XFhJYQBfCUxcIs70If+5N1P1GCm8cVarZb95QP9tAYQOCsPM4uEM4yxdiRkLd1i6J7Q72ws11SEc\n",
              "PeYwNcKDzRAz/5ZjVvYWABEY1nEqvCKqD05/JJOoUQYZ8zV6KaVrRtSRM8m9h2nSwzYks5Wjx+LM\n",
              "LBC/NTLWcb/sZMAOni39gz3ZP9X0wZLjwMOp5QCbqjuN9nhohvt5DqXVSraDgiPj0X2AeaPvX+Vg\n",
              "LYZYArEjMq+4bqqjG8kzWa25V9QJAjB7bIErnz0nLj0XnwYlTubLzjg4+SSGGebVhdYZvcFr9Vk7\n",
              "YpPhGQazSkUXd8E76Yy5AZAksS/Dkzh6vbsxNU6D0Jjv5Kgix/xPcdqJW6ZvKtuJNaX9lDSC4E/r\n",
              "rJOYlDuAgAXVx+coEs02T7xTPDld0eq28Jp/Z91jFXllICGhtF2jcN59YXoHmCHhoXOuqhzYjf4I\n",
              "AHfXm9hYHJKT0j32Rc1y2vBnAWEpx61iVNlfNxL5LHjpYN03dMlWk1iUQAj3cMey0nwDXQB1Ta8/\n",
              "zMC5lDBwUgwwTxzwS4IH1vK+rGhZ0IMZZtmQZGmJVZubgDk19vxFgDLGLgw17EvGOtz6/6mou/iR\n",
              "MuNiKByf29kAljqeVySLg3Ndq6H/6IglxOv3UXnzoOFUTr8vIAK8F/5UlVWjnydn3EpyG/LQHF9M\n",
              "dXfL8soqXQzveqo7huXW9w8CCRVUrC0XTdXhzD/43mibhpc4kGnQcDFfuIJYzu5r1A9PrKMFL0yn\n",
              "guyv67I1Si2MeMLqtVUpJiHgcAMoxUUiBipkuk2enkP3ydmf+pCplTFl+KoHS+dJV/tq/lDxVn/W\n",
              "fFAOz7btSkMeq9Fr7ez7WyewSZPsIvU8w4vLoCRITFRAl5GAuclfIZXz7B6GJa6M1L1M8BtvYAaJ\n",
              "dK22QRVO05z12lRk9+uYKIDx9Sv5BlsbMltN131VrjQkOwInUnTbWBfJ53xAonM1ocpzeGHNw039\n",
              "IKv0NMwgXQwrpWmUg3UNkqVKCbyL4BVOofreElcM9Fna4f/Bj6WsElzFQv6rVA4NBiUcaJJXrioU\n",
              "q6AM7Jc44J6voyxyqH0PXfkNakGVvEKjRbbEUYU+iu5rFQ0l44X3l5JpmwEp6SzqGl4OYImhcIva\n",
              "vCvQ2IpfFnJfIQVr+ONlleBCcx8u6gonYgkn93bKSdcISNYyGY8S15g2XFzNB6vJ2yTHXh2JuyFQ\n",
              "kGF5dwTHfA48QuivGjVnjuyJRdwyT88lWgHi7BiSPik/v4DBL5IdL42dJBeyYke+qkCUZuH+D+5Y\n",
              "317OfsPCQ37gRzjr8TrsUoSDdHHhMZLRbHRvORtAbWMltfOGZiH580KN9m5y6xc0pZCJ6cJ+e7fv\n",
              "Ql07b5j5i2i1egs5MA+yrwkLfke0HRGXEsNUK5S4fb5qZmvc2qnT/Vn10kk1hMale9FlcCR20Eoe\n",
              "PdDF71v0kGYWAYVbSN3RvnPte0q5QhKbrBi2elJraMa7+C3K/k4KgXXd5xOwFlNj26GwEe72fA9j\n",
              "YrJHZNjg60s6e133+ED3tw1KsT3IzLEiKkiNygB+YQWLt/OY606xcw2FAvC9mhI1u4rZKevWn2Lq\n",
              "Lkv5Ni8A50SBWP51eOCxtI38iksadNs4jDRJFl39q3dGOkzkoLUk35aUXw9Sr3l/WMXPpRulGdRA\n",
              "h5z9d/T6nNuG+i92x7JkAJ2ihFBENYpzKtVenQZmXWFiR7YoHYNhDZH2lSBVG2mO7nnsYVSuRDRQ\n",
              "wiPS3/gZ64PB8hFOy7miUJ1OFWCWtA9k6AvluAmI930HqkDNBs5+3+0SJ4GLkGVkJYyeBBOLmLwx\n",
              "MJbJE9uQ9z/bjAxxSMcsVuRdKjSJ1ji7V4B6FKQMKTc26tBF8AVpgyFeB8S5aLsB57C9tKV8Gk9W\n",
              "K2uwkf6f0T37H+oPfiwDTiVX+3TQSwCrGrGIVJHaUgerq3CBgwDbn7zbD1BNWDoMqTz7y8tO/WaG\n",
              "F68BHyGYqQ15Bm0anvVuWyyhAgweu6HCrxgNRUvEeqec5lZ5ixahVr3wz6bkjVqVaFu+vvQrgmHx\n",
              "MZ6hRMf1Vkiw8xGFlhMmr9GGkwhWkSEToNeQvPAoafut1WIrEF2bIeX3UEOLV4mgGCsPSyv6iTTf\n",
              "oMk2KZSW2SnHarMLnM3JX81DQT0X3nkelXKNS5Vj5f0CZt+xncZKLp4gffHcbXk1I8Nj5Rh3QZbA\n",
              "vThWkaOELA0Q3nuV/s8Yn51OdDwxPcQaAavPXbUUuDDoBlac9Ig1af7RWvjzFIO9FAV3oC8Ao5Dz\n",
              "I8/b29ix4Y50FYHYCgEKem2m5j0jzxSa0u/HMHiBnzBdr0G4vBBTYZWWTWsaha2Fl+WRZj2zkAk1\n",
              "UeJJd2wfkEpRxld52JJP04hZ4wxdASKN8nBqAK3jAHeggAx2aVvBcJBqVpe53L2vSbPXNK15tF03\n",
              "FkdG+Zb6xMTfHKwr/FvhbTHncEDoA6U01swxWp4vM9isNfMrd+jsVObus8kP446RJKKqAjzeoFhq\n",
              "f8FxILwuRt31A3H1Y55ZWanVKYhTFeYdVz8W3aYONUGCTxjue54WyTdlooHmgDDVTMzuTdSrZJ72\n",
              "R/QsCeN+nQ58yH0psi8JLVUeTc3zL2xLuViuSeLKzEcPS4lm8EBXH9nb2cK3cRS7JQ6cu+++c49+\n",
              "IKgjM3Wcu8MsgfWHdCGOaxTViLVXluPdy4XHRrvuQght5RPSO9Z4rUJsRXuxlRxZZRONustNGkNa\n",
              "9K6kAhIDaKNec+o1x9DyVS2XZ8/cl7t8yok+cT0ZnkLDdCXrZHWQoaZthUg21HIWO/U8Hj493MVI\n",
              "03B+EkkcugsTj2XD2iC7HOr8QVdZhMY9SSpYL5oYePqfANrI/ZehLApiUsFE9kRk6MvVH+wNF3ew\n",
              "Qt4WodFyWGXQtig8iOiZNr4oeriqkJYwLdCzUiQeKvWae1BQCJIulzT2o5QOh5Vma5fKyXIk0qLm\n",
              "1Ca6rD+JqFy9oTVYekE6y/no/DyLccuxwn1EsZzQi14LiE0nPGeJRRs6vMZ0KeN5peeeBNvbOA5Z\n",
              "n7/HMEYSI/b4C6c8QVoYa74fJHxesoL6Xq5p4VtcmvyFeSd/IM8i2CN/WjhUNjq8HtvtQ9RHXAOY\n",
              "oaeDBhJr6TQRsNiTK024cvjyyYmKp/6O4Z0/u2GtjX63vqH4xEpeEPQCZE0YBYS/a1luGM/p+kiH\n",
              "XZ51rO05qzk3ZZZqACNqFv3+cMbxHUDpQKCV0C3pw1x7M6LyfjWIXwTj2/aV21LqD+MiV3CbPiGB\n",
              "5xTuWvbbJq1v6ZH4AaSatwa9V0GWClkP2GNaGKSa863UZ6suLa7D+rmpXVvjkIh6gf62JhK9Bnq0\n",
              "24snkuXjxLmHjT1LGyu4+z1VjCzJ8w0mLe6zaH4+7SyG+/r+q8ZdZPYm75MwBrmywbIg8BIWwxqY\n",
              "EtSGKqaHJ3EcJWCvVS5zTkfNf0daca/piOr4rSm4NRdbCT6rCKUQ/VS4N35nRq/a1sQiIVADPSr5\n",
              "TV7qg7Hi4C3nSCuFG6vohYK7+/2sbuq1O9Ni4jPRTLKeWtC9IIuf0h5QEMXoL0gNUsPho76prgb0\n",
              "6eoZcggIbUE8FOrj5GC6bW2+Ra0Gb5Cjy1T7arCdN56pNroTvQmqObhT2C9rW0y4ZGMf/yKirBeK\n",
              "UY+C5LtCwU0/95svQvMbjzitJpGsEluOIIAIIu2KhWpm0EYNPpipookUsBUz2GgQlSOtzcDoD/vj\n",
              "tfbImX71dXCKSPmfv8s27eanNYHq3cDddiPEEYeC7YyK6rmyDDmDp6/2ZQFNIhfDJ08edDp71PCC\n",
              "fzNEU8ULFSKEWW2Ozvqa78d//tJTMoRRrQtGry6TYynfe+ayAS+23K7Pi1O+fStUdpucnjfFFRfg\n",
              "wNkEN2W3tb8yWaoKfWfVHyfmqy6tWHNWZjzQu1BRjSaJONsqHi72jfTIuRTf9O7WCEGYUUkm0scr\n",
              "LJBjRproG1qpBWwRSII9AGr2dVAhgfjkfr1hdm5tewP5lpyCKwCN1PfydN+2T8Eg4ivyHxw6sh+E\n",
              "LHgFvZyeeAk919KyZtBL2lQnmN+Z55sLcNxQD8s0ULyM8whdQIfSxBkdyIHAimmYgya9Kdv08MJp\n",
              "Wa1fhjho/irpjgPTkZtaEuGAC052hPGZ8ntgoIxafAtad60igGl3QVHpEVOYO7iHIrpWLaUog8EA\n",
              "v3fC4AUzQMJ4pHJbjnA2O8Y0grXojdi4tu/Yv7usnRzSqT9+8AOoCB8BylSkA5tQZfzdCGwyQ/eE\n",
              "NMr9bPlg/WTR+P/YupFaafpnURoXjMDsKbzXX3xchTC5fyZBECINAkEGYxCXmnH19/QL9geLf0TF\n",
              "pX7rax7k7un6HZ+auWbagoGhOhWSSHiCYXEgARJFH4MVqJdLMZFrIyjS+7mOvB6nJPRa0AN1mP2b\n",
              "ZH0Yg2DcZjW1RtGDRAUipQIQp9FD0A+y3QxGJRNTnge3cqoQL9gt5M3MpSTtNWj/YkfuYdvWi0pH\n",
              "DE9OZ2sup9Ni71V5cSdKa6H+kjtqH/G44Os8FT/p4280CyFXRFzZA2XLebQ+PcKAhVZr1X0T57ZG\n",
              "CKoD/faGbWurlT+lOchdcws+w7ji/qbTlo04HaUbqRK5yTy9modHSph+NXq9s4LYCjPKXhi54gel\n",
              "93nWkOHE1fcPM7Fm5ZEUkln5EeW8n6PC1HAqo8dQyFgSyS2xEn/f99SLI+daAeajqM/bNG4MC6Rt\n",
              "lTI+l89lSjoKvI3hBAIvNRhuLWP6oehwH4y6cFPSi4zvdBchd37rN2aacPW180ODSB4Uo0PGp3CB\n",
              "UfYZkUK3AW7rXE5QWuLW9TsIso9HCB0H8A8JKj3cc8rTY/nQ6eiqz1vtLTxUf5c3RmcG6SbRu9qA\n",
              "V0KnBNq3WadvIWoSI4FOpoYGG9crWzmFoq97JRoikzz8CwRCzIgQRT34Q3Ed0fCwe0zUMFO8HlFE\n",
              "1t4F6m8FsW75wf5uI//CRKy6tHGmJksJTyDz5RtCadkfwPk9AxUGkTPTkZWQYRe4JUt6tFjKLuu6\n",
              "IJuvgiKdCU65hhUlBlnHrFjCs4zqeXDc0dZWdCXpdX5Zuc2vXguvWQWB2lB8NVoMrucFGVtaHBVi\n",
              "htykqqswbtHZJsfPFqqOY3CswoWugezYDlwa/IgPgXmNkmO8eEq46zCxOiCgNNHZw+qu529muyFW\n",
              "MiJMYa6Xds61+DymM1RtL52Wi0Utnlx6Tbq0q4xJY/wTd04d1tcM2AkpexPt/HmUVQwETeZuZTNl\n",
              "Zi7wJ+HOnDh4sBn04WgDnAymDf+dFTmhDky3RBc90sw0L/jOIjRtcUv0wTEKxVt1D5JM+OYSJIpP\n",
              "WrlFQeo4nrgYvjkGCbI057BuFN6ZXsd+Re/4ELCJDCqoMP/WvlKp46UlfWOOumrXY+s7RUMlr0QW\n",
              "eI3HLX+oh59nLkFIfpGMhFLt1bC+zZz8CDNgaWnDq8yTeHyg/6OuEmlWEQj0rhlx20UjXZSUfmxj\n",
              "8cZAkuGA4Gqk3B/nDwGAULUn01nVEEHhJ3BmJzt2i1O9k4/h+C0kbElGJWUXhHW0V8/Qi7Xbh631\n",
              "RVFDZYKtK2I217BqG717uJsjvn2+PK9b8YH5AcHJRWNjUl86GF01N4ImgFloRuespidiJ5u4i7We\n",
              "vwrdx0kBKOYe5hGubH4sNR1Q7xYDqm3SsenUteRgYQgEEO0ZFgY3vvnur6nLgfhv7O6OqIOk0ydL\n",
              "fBRp0Xx1YxeT9UTu7JTN9p3/HdMvL9NLeLOBWEoeJDyTbIpg8W8YDAjJLFdNjj3vG968AkwDL/sL\n",
              "Cp1MWKlqZtjmCBxUPM+HwxaVYvFLkVQ3VJqh8AB/3UXMpK0O54HGcO41ohYqt7OkEHAlYRkmejYz\n",
              "9NZgfFuQvjcgD2mvF1I3WRApDgv3JmBcl1nN1O6zqye3eFqY34lQFpegBFab9+e705IHdk0YoIvC\n",
              "LIqnvSfjgaeZXdFocZ5Adg8PgYtujJTG7eYUuJvTdrwtVtzCrOkafrT4J0O+1LPi4p1hUUshx7fO\n",
              "H0mqIY1UaThUm4Mr87uMY036nbZhfa7u8a1D5P3Frk8L1358MkpZcQMLxdNdOF8abPT+oLnJEgF9\n",
              "ZBasn64WjT/GbYTRtHX9FvzYXbvr5W7C89lq3kWiXl8ZUsNP+sTwpe7MV4NjOuAsPCYVIkDqaq7f\n",
              "e4jJ6iFBUNjAAoHpF/zuO1pwapAjAcgMY1Z39c1QeW3ZaOfhK7jy7IE3SaRa3v1MSR8vKcouIKCf\n",
              "wn6wnSSk6/aNI1g/fx+NrXkENpNIlHL4eRVS9QIpi5W6JF7vUBpUwPNCc6JncC7zLOEqo3y/ER09\n",
              "QfKeDh5O50fspW7+uOrLkc8bqFkaP9OreCiHNUagQ+LJuV6aCLR4urBDfdxiiBldHMn2PsxrvqPH\n",
              "QohLnMFhp32yQ5ojQrO4w29fDh9zACP/4Zg9/JcEUJkQQbj0GLWXLqDlhESdF556hScI8NUhDYa7\n",
              "moyTnf93+oLmqmbENHJ1dih4P97qor7hNntGZgHs7kWz8mJtUKSm7FnmAZs3wkVYZDmDXaJz7wAz\n",
              "p8zqUViBYd4TtdqqmjdUAP+7cA5J5+RzrzVVCJGXXjlaZBoqIplVUT5vqfBEFgvBRnmak+3du0EN\n",
              "0t0DHdDGu5iUDjCsN8eFMUxIehIW2nmnCDiO2CksfelIr2mnmkRJYpen6hk4AqgnC1vUL6le9xKq\n",
              "iHp95s8+FwFLmMMMJNzSHNHSzj5kys25ImJCU2ojBBMzczjSABL4wsVHsjs//EIg66dVXg3uCKki\n",
              "wrZw4kWNEhOY/8XSXnIOh+YkMaVXnk1Uvdz9IMXL2dBcSX6ei+mP6uPfVbVzXCmagN1vcEGSCijn\n",
              "WFk77ET19ApueFnSY43vZUh/YnCfi32a8rpiXOXeYndwWLlO/Rf0h2LrhcrwfTKRsA14AOfx3+9S\n",
              "6wynKdA4iiYcYGHLQqoFQURCUDQ0dx7PFkD/L8rrSnqBow2wHsWASDJrS1tdlqRJk6cKNnGHEdAb\n",
              "3OVyv5ttxSesmLpJ0G97Tvkh3w92iEgBMACo389/Thjh76G3TKwrji6nuiT3yyWzcVfyaC6opHek\n",
              "o+iJXOhpKm09geFoQhasi2awgZjPuXDB9IVhkiF9MOLbBZXHqQ/lTDDYOXewCQIp9Aes69eUwveI\n",
              "2F7weFuE7QM3hplytZWIsckZ2jW8YqIAx6xalMYLZPtXc2c+TmIzzY4t2n4JVKFW4QCGA8lHX12R\n",
              "HKJWuCf+pphwhUnHPqfp6w+OswlDI0/QYsTfLP0oeeuAWh7q2CD/oX8Fzx9cICj1Ag2f2fDjzQ+M\n",
              "VKNKmTBLHsTUHHnwKUWLpfz+sXEB9OoVFF+Kl2f19t9SJ3gWNCJ4vdmpSkqRlDR2rIAFC2g874Je\n",
              "YNPo9BpUaYCvpyur4/cfn0XXDxDqReuge+MMwlJaDDQxP9ftU9Z+2MJlOArhzF/iYG/bH6wtv+U8\n",
              "KKOJcF0/mFe7gYft+a78HqTBSub5QlKxQpd8eWmpQ+jiV/e9UMEFAe4Yxxsa+zhz0f/474P2s3fW\n",
              "FD8zR6HZAmYjQsjrTj2D6Z6DChkw1jt1U5bA3ViGw0oxIDmwRnKW1QQ/WK1j6UtgXLrnRY3dubeJ\n",
              "jaZeD7HABBYa6HfvrJotZs6y1UVTOeAD3+7erCrkGKKh1vrmkBjRXmbNrRp5ACoGSy131s7nxi6Y\n",
              "00Lm0jFn288dSg/cm5PZpdD92JTY7U0FO23yOabihNbP31gQOOnAhA+GgWsmAVv9VQ7P61Nvv3Um\n",
              "95eHSpbNJG5op+lf4tVFt7xhmin8Rx/WNvQE2uw1asDAf/5lPS0MvlCUHkiLhKJYO0g+p0d9hAtC\n",
              "gTBrrVT2J3hmXMTZeyjHa6MkO/0SLyEVDZ6Yg17Mzaen3559fR8I4F9/gY6PgXC49+xpFw/gMto1\n",
              "NyGBwV/4Pj1ywC+7cxDcp5rHS5reFjIyyVEws0BxvDQQp0ui8k14QPZ9JWVj4YkOUDLXUvVWPJFx\n",
              "1KhlcnB8oNpKc1mMubk7TxZV9ry/8PEHxXM+uV1c20cdLHSbKBjrbYd8w4bDGFXI4kQ8JpnlgyxJ\n",
              "z1Sj/1fqeVCzEf5L8f9RitXotdNaF4EsqfJZuTOzUE0ZD3gDmxpwRP1ursPN4hM6VnPee4JTleqc\n",
              "YXbgA0+suj5xu3VebN4l3pBkbYzKb2Fh6RKMe8aU5PBjp5e051ZW/4KWqIzO4Yp2IV0fY+qH4b86\n",
              "uEGHsb3Dd+uuAYFI3UlzNE+C+tFC0GPdccgFa+hyAX33bNV08+YUm5IC5uT/SfH20jZ8VuL2X4aS\n",
              "So/U2F/AOL6YcKWiru7HMy6qUL7yEq0K2hjGJ2HA+KI0ZAc0Pwq/5ryIyRB1tCcAyxVGI7eluVgD\n",
              "T7gA5trnt0xvtvAae+fCnh2sTEGUEFRPch39tSpITUq+eDpHdcd90zD2AOQ54ugPiJEHfFXmNTEw\n",
              "ZKrrkmYhZuVqTJo0ABkBnIXegIRUitfUUmlw3su8gdtf+SU3Lz+ejbvlgxQjJMMVUTgKRu6s3JvC\n",
              "h2bHLNX1yHXbep1T+rFLa9Qkomionjf+RwqgqTWGunokEYWztPd5G8CvNOoXc7p++daxLMticdKl\n",
              "/DjSBOPF1SOxftZ589EBxuXNINL1TVRgz1PjZOZM4GZINSGgOjxidhCDTEth0bEmC7Q5Q00sX2wi\n",
              "Fi7KOLeIUHQ0WO7wv4QIv8PGrbG4qMLXrQPvSK4og9stf+KW8Z6/xUHRsrhtIcWUkJP5oq6qyp5r\n",
              "Y6DVi1WJeNhgjBXgbHfVpcTdUUAqr51jJAR7QEoX176NUjcEE8cM24DKexLaV9AqESbAJVDmiPCD\n",
              "rWvo1zDovkkhjiRQQx/HXZx3xqTe8IPXdfmW2Hhf+IsPD/exO9gSSzIUcyIBr3URD0RjVVY6Ga+b\n",
              "fzrgSI11V4KjDLmYFONhIxIJSf1PwkPlswXgEBhj3qO+j1bcd6EBHOfDKTCVNip5H4KisyYlJSf1\n",
              "8P8h5GFzIkc6BBLKPhA5qGj7skx3fSgvrNTyQO8jLnsCpiRhowiXpO2pc06mY1rhlFK0u2yhz0G3\n",
              "CZLPPJfsDgv1RnrUvs25OvpdW5pK5Q3NBbcaZVKmj3rXaVuiZKjzzYAySjEgLS9a4zA++FtXx4MN\n",
              "qAkrtQN42izmc+R9sTVzq6lroOUxo39Wb1mKoxSroM4vfhatqswHDgLrQ+YIPfD6zB8+RaABbnnz\n",
              "pu8PdyZheXla9EmO5dLRGRAHNKJczAxguQyeD9RhBuRhv9Z67Wxq+2elcYVj8i12EQGysOy4HCC1\n",
              "K/zg+4EMSYAlAzZRZXKhO5egT5Szce1dRiX3QaqC+jye0R7qQtzEqndDGlcFu+BCwXTe0xy99fPd\n",
              "pSoOoe5NqS12El9vOfcGmfWQDw5UUtRFDko6GIErOlwstZHzc+Rvr+FmLdTp2M4N4In/+fC6BWFx\n",
              "WtlWtr85LwKUMtlJ8te+5QDQirO83cFpLt0T83S4xmAB0mWQq4wwtHBixGToBEgMVib7MVnmHROg\n",
              "Jp19cXq69Peh704n5tbIDE8CW8PB4D40rrbzchHgi7Ocf7YqBjLRXz5CdaatBYZUQiG59odgQ7m5\n",
              "sR0ES/hToK8gvlbKHdwMjljXLHnPTzOY3BeJNncLVyyE+g9K3sEnsJ5oHpfCtbT0YTzprXMJ0D8E\n",
              "9sYfisSg3VdYmsrvftDIWlDkPrKnKP5J2186Jmqo/nLDlHo1dh6HpCpVlXuuNz93l2KKcFI2Jcse\n",
              "m3z7k9OseaoIpTXul1Py+YAmnaOd4q+tEmQVHUjn7T82R+OvFwpqx9czbuhY3A3yY/PKshjERgN1\n",
              "you3LCypbvLBxvyMJ/ARQPCacG4+ctCfk6fry3IFuIn7p92QRgsyTpdM7U/qXmM2Bs38DYpEjP56\n",
              "Zmrkfcdt7oen+cqkriIDrBv+eC1bNK7HtJVUUjF1/cbbIYsshpb/orxOoaJ1wwMNUtNEKHIfEQSi\n",
              "nkO/H6ipGKG1cn4W0kX3Fw7hLShWfqdedQH56B5NUaXQuWCbD5gUtMITyT+Gl9IACoXKCmRGT0Oy\n",
              "ETEMBDmVY4SiN4uro0Zr6PEGXLor08PHnYGmu7Rnxlg03yXF9VeL/HlZA4OeWOeWhvLBTEi23QCQ\n",
              "AQh/nA0qmC4Fmr0GcRmneMTYGwRMhHPotso4geMRgJ1AR2BZMNFKJd2lJ/WnD+E1iYVjQrmGYOhB\n",
              "f2ZJS37eBaAigjRzcgV5fMZdL6VPL9hA9h0klh/z/0amtclyYsQRInsSiyQusZy0WDoWsIMigJNK\n",
              "jeqLYpMJ6BSPHvucbYiY3S9gTBzGpfkyg5z2JBJMBaBy49vmkoWU7ASVh1B8Inz0tmkmKqRIBGvm\n",
              "e2zDUchyWUzsuAJdxXp/qn4s8vhO2m8k7CK8R5TxCALN0lx39dgnTBI+WmiET2ToE65oN6MTmo7T\n",
              "EjoccbsW8ey/ie5RpaqAegSoV3qFK2Il/mnFiGj6yhB/YJXE8keErK1PUYisaAhvr2gqQls0pXDf\n",
              "z4sxhc+OAKAOnO/7fu/PSuvux9YGpnOiUq1bknysQ5deHpI5jipgLJqV+xR2Bsk7MTfKH+NbQwIL\n",
              "sYTTfCljDUTmwuesqFjRnfDS0Ysw/xhrvwQWKpE0VfgSEi0wFL5ig3V1Zz64ks+lJfNJCmqqxcDA\n",
              "cASTSgXatYFEwZnpLWGAvIej70Le/7modbzyrkzCxMCYdAuPCx4yCH72EalsJAUGiOszp/wtOAa1\n",
              "0NgQMdVOxkaSnwtUZpZow9alMrLQrTMlx3eyttC711Dq0ZLRAEnlox5qrKTCOC8Xx2PqKtf8kDbw\n",
              "07kt72tGXHZibKIk+bby+6Z24PPTuiPSyOnFJgVYMfeOchiccmaMYSgWT4BF4/CrUBnyXZGeuiwb\n",
              "OKCKVZeofC84Le6mh6HBbMDwC4xqKRpIeo8tupqwGlzo/kBhQMzPnGu1LnPEBNj9OCwfRGAjNVo7\n",
              "3E4WmGYyOQ0GXTXctGAk1RYMbIOoBdmJdVN6mO2103p9w8a92KUFHecUGZ/2xNakL3AL+WB5xpus\n",
              "gSPenkZAbD/ihjAOFzChuYALg9YqFjFlUUVni/KECtD4OMVf38ACZ5VrRU16TlRn6ESFncAoIi8I\n",
              "2o9R7CTBlfHIYDmApBy6MayEgrxg1UFnbprqA8gA0IUXYYcnKx7nNMbNnJZgzt1EeYG23x8I8Wj3\n",
              "fy+yQDW47lTV1D1tpXG+d4pPa0ZfD36EQLbO4s2pu4edrcnCMqXLm/44we4Dm8vs45jkYdcAABjW\n",
              "AZ7JakFfAAE8ntW8mFAw71ABM6y9/xK8GdikX72EKafgjhxmsSVCL18uzh/f1aLqN30ElxgvsCsf\n",
              "PeqIbE/E0nB3uOqSUqHDQLxIVlguxj2uTQO/M4FhLgEbvN58ZWiOVv6wke6yJUdPQLq65lmdIa5i\n",
              "rqgfrFfPQs6VHdl5DNXR95fhh8F1KuBgpz8rugKGi4jCkTNMfeRmF1UMOsPMSLz4h9+olz27ExPM\n",
              "aCbj8eDNoZ5OxJMvnAXQ5nIo4uuWcYmYfYqxDhKjQLvz5KE78vqf6x1i7ks63UpamKkIzy1ZEfC/\n",
              "Fxn+DQ6LNV+hfspvSv6d5443lati1lh1I4xETCCRvRCvTF/BQQT2v3V5pRlQOENa0Y4SNx5ayVlI\n",
              "frIXEhj0QLWkCic1ZLj0qUVNLwraMow5t3eYznB8fwEsQzE8ku+02zyU59NDS25Q+lSvODAIfSbH\n",
              "rzWV1FHOq6M9UWFa8eYsnj28b0cQMQZxZ2KAIAHga1tEgicsh9CGZoPVn0kf+OQeRZ1WQOey+9yD\n",
              "pX9oEPs9c+oIVo0Bq/wOgh99YEhLdmFPqnG9HRyuNSmnpZolq2LRr81Oi/CWK6fpgpgcoQCs7PMY\n",
              "O1a+oPUSoTkXMA8PnJKPKunjfSH8VjDL/6nN9mJlIG6GRBO+mDIyIdD81D+EU8/P1lIwUVGnLZm6\n",
              "OX+cByMCKxxh/dIk3kxOedmiJeqEk7SO3MeFdpRaZV1ir4sgsIOTqy0liKLisW5E1XJwC/V+yvks\n",
              "qpYNz407nWzd1IXcfRbMjJHNI3bNInHHDuEmw2T3A7YXdou872pmf2ANTHnoPzfCESfXhLN6p796\n",
              "tmNnJ5Ql9GpE74JvcLh09wiFLyUTcOVetw+DyjmtKO/Ps7D+kGkwpiGnGWAwbnzfEmu4mX+b5fQg\n",
              "uFVvLsJNl/pN/NBVHWKDGwwhi9Pv3AyjBqbPB9pHv9XClmfrDso6YWqI69ML2p1zQRVlPq/JkXH1\n",
              "yhDc22szZ8L03TOBGtuOMh7qSaYTTWTL4oz0hMXB6pLQ+f2gH265li/9DBvtkw1IEtUnMXpo2+RP\n",
              "qL/BzhlKHu8lwaFEH85yd5hl7FQ+uVKhAstzVZabzft2r2SSezjtgvrz5udCyl+t17mqqoWgkUNT\n",
              "S5VcorTP1IXPbJYtw83bcaQ2No8owfm044Mo2L8SBeLIrfYYbT+knro0Q7w4gQDwv4xOc40gknLL\n",
              "LB9gPuWVvi/agFz3CskEt/8SmQud0VTUZUh/HSANk4pGTdlAh3Qv8KBJMuYi8t8OFRYWHNfLJ9eQ\n",
              "4cX3QdGDnUdQrcdGjssnNpRg5hVGD8YHRHfQdglSMD2pQGl7xzhfFUnTJl41a3wUkyi7fLWxPNAU\n",
              "XEe8Wf2KkEWag+K5gckpEsgurgLjdLLxHQVKAwXDrtaHcpMma/Shc/ZNTUixt+oi3FzIWFNMnFrG\n",
              "ccPbJA/b7GxbMf4HMK6ZCrfi9Ytw76PzTFvigX85wXsKQrhewk+6YqXsTzmEn9KdhqTWuZxZb05b\n",
              "FT3bMMuUMzroHrX8HWAUUiggmXepsgg4zEcbrzpkyeAIynXAIPZG3QTbNrmVS/Bc4L7SqNk/qVOj\n",
              "oz00+2dFZJtBk7RkkYBbvClmeSpDdiYsOS+cHgfmYy7tOHYfPY0iVX99XQmYtYBMzKY/oe6DeOnQ\n",
              "W0f9Q+MWOHbrRH5AU6ibeUWdFE1QIqSKqeldYgkx/ErdlrIT4NABu0a8W3EwszzzYx8XDt0dEWJ2\n",
              "bWyliDr3P2NZlHhFUe9aG2/5eM2z8kSxWtUL0xlRCYX93MJrk2P0dVbMyjeZPo/GcduLBMLOd+Mp\n",
              "vA/gNvxMtOQ4aeZFcBxTJlodXEYEKf8w0CdwWwZu5wQk0HXWDO0LKjJRaRy0NQZiGeqzQQQjzFBc\n",
              "j7h0RgVPlAzwM/f4JJD+pDhIMX/NVZNmnqPRjYFiF1bNgLB3UVtEIbUHGnniHXGdZDpwRgIyJj/l\n",
              "hS84Sae1BDtVyZYGUU3sP2zI+4sGG8aP6CsvRAY0e8r6I+tGDaTkcaX3L4LtUThVWp1zQIoDbBgL\n",
              "NoFm/tcYSQ/mxBVQOfxuKb54yuXmDWva4WIZiUABhnWhFkMERCKhosYsX/pW2FswwpJZuxrW9cGa\n",
              "52LDgIilGcwxUPmtWkZkZgfuXDs9vT09iPghjiK4XQT1bvn2kHe2CQj7Xwl8YVBH+vh2LTESmdv9\n",
              "FAUKoMMtT7grQlDpNtcfo/pUVFMsJX5hfWimnetOc28L54Yftadkxokglwzx4nrxB/5DADZz258S\n",
              "mJZdH5YQ96NsdzhgUuOF2rBUeeCLu5WdMFnHEAFI/MQt1ohGIOtexESY4fCty6rF7XQka1cdnM9K\n",
              "d9R2DH/qipg8nJZBvLVLFuswnq4NKV+ISaPAU50t+OQgrUC69HT5T5g9Owvvdt/0oHphIP1Cz8OO\n",
              "Q57U5bDCf/XaGs/8CO0vqEV2C6sHnOwei7RCpRj5Ujd8m4vaxNpFQ3v1dC/gg692MVhMCEbtPSBX\n",
              "B37GLLuD3O8ChVsmXTq/m0sxFzgBXskslTYQF1AYRTIKpABiNjEYgv4unrxCCqdocG1vOkV73f2P\n",
              "S7RxD3OqldXR4bYX88qcyYwAuugIleOFOilcf+fWNHULPdE0ZpnlIJDUG3WrTjIOFnar6mheD+AA\n",
              "/HKtZj2t7mXzYfaVUYaB28todblss0kSQbsuBgAvCLQBc/8gqbohHuI3K14bpq2rN8Z0lDmM6TLS\n",
              "ImWNHJ1n1Dnfa3mYW/6qPp36JdfAL8/8pF/d8Zvxah8fwtstlRN7hxv4l7o3CeWG+x13guFGFDcn\n",
              "8jkCsNXsMd0edLaeaLsl3FkRNZouyVSwJ05wNe2cPLkwBkd2SznyFselJFJLq6dHoe1o+Ppb4qyF\n",
              "lMg/Vm28AUAdRh4I9TOOGRo+opqIQ4GHV5PjNTEAC0wEeqkWBCH5qVncpKGdJqHPCL89cTb5Nbec\n",
              "BTPaVtT5e0QeBT4Ztel8wUVcYF1Ji8APppxbv4J0lzO3jLQYGSW7ExBwu9mFzEJETLw8JMkfQ1CP\n",
              "78v7zlvDL7SRxfYfUXSYaRUN0uZ97joZ/FnMZYUNOWXaXBbBoIBLitR6nZZu/xubPFp5ouHeHHOP\n",
              "ET3+xA9WE6lqlsU3/YcqD5VDtD7GhgO5LNlQtwdHcPdsxguPRbxmW5DzjGPuTeB2o6btImqNOuJ3\n",
              "Enr3r555tZDjHhruv/PJLULN7b8u2MpAFCMpzP7Pqs1xTOwFzp9vHLg8O9QGwZMWBPJCjZBzBgba\n",
              "FGfeCV44QtasWpH7vFUHqxlh6whl4zbQvfd/7Rfwd7OL6UhshJle+sEFuVAqTsZOmkqx6fMOgPWg\n",
              "T5RJokkpK7QISTwmbyHNpbcfIkafhK84awv/G6FZ0qqX4jfGme+Hi+8h6xatgKgSiCXrUoFa5Kwa\n",
              "J2idEsawiAZrcujugLO8dpjqi1Nr9YCDgfSQKRHOHdsP/SQJ/+3zBT9Ex6DveXdp8mdiXO91mRBS\n",
              "DNgGwd5KBD4EO+P5iEw+E88H2/3/+hpcAuybvrAI7POi/c9FUg6IB78AZA7YxBOmAdLTRgwEe201\n",
              "BEonLMr2hv/yOM+8ATFmcDWWLPQaMRwKhkV00ZVP1q0MCWMMUdOlj5gXA04EseaVsuzIq/RxAOkY\n",
              "3COjj9urXAIWJLq7c6Xh1U/wd3eDQWgzLHCr+ypJqTwAUOqssah70Lfs1paerBUPnuDBX9Hk4Jz1\n",
              "7KwKRgMZpQ1jPJ2We97e6uJEeGRFGkBrZp3mmiKLxDO/FhqEXCH2eG09hl3ZDuALT8Rh3TQ8eXs4\n",
              "cPlV1+Bv8KZGky5MmStmyJ6Xx8Q4UyjlZCp52AZF87peY9oukue3u0pFFiGiOg3uCfgcO5KvGjko\n",
              "XQzOdZNMobz9Key4kxxG8SIVkX0hBBpqbpM/IJdnFhr9nk9vUpHyaNSzht/aiE4icxNxXJ9ounfJ\n",
              "+YY9rueWV9fhZ/bO+TBg7S8qPMsqdzfFhgBDeF00SlV2jp3r8sLzPeyYJK2znlpX9EqZ8v+nqioC\n",
              "T1VOkaKugAshO1dKJCJbY3+s3V9X1lEEbOuq9j/KwgsXISllzn//KWy8/SvyZvwH/SZqM0X8sUM8\n",
              "o6MKtKZyv1Rw8dwebblcQvUL6TlnKpTg9NMOEFA0HuYVqz0bJm3LM3krRkaLh7yzg2KRdnQ0qr9k\n",
              "4Lmr2vqUGnwcUBJ8KtvJX5MJVg7gRRlLW/zkbdPBEmGA8D2ETQRvIEW4SwkrRstpEot1AHWpsu9H\n",
              "lcj/qqD9c2iGHtVCh4Uf9QAZBJQtucHOIyI3XMfHlVqxrxi9Nv0Ef5OFI1MBtIPmgezRMYug5STL\n",
              "wH4Fz7nKaeHRRf2llrKxo6oh+U3YfhWILuf+P9OZjJZSUfweji2kkuW5uFGFfqZPMWBxvsjQ8L3L\n",
              "hkOzK7ShnZzisuoP57vJwGhINkLJvlniHlx1nCWeAAdOQqHWQKXYgxElll6m5dMxCPsZTX/MPsse\n",
              "nnJylsB63s7Vvi8TNAp6YvF7i1xwJExCahSHYC5054Z98tXZR/DMVkjAjI6aaMuxi5R2kxOuRR1z\n",
              "586se+HqqGSMdy+3UMZ5ymFhV92GdzI5F9gc40lEtWceXfJF7egc6a0hm82uPdQOqnt0BSEZZy7i\n",
              "l4D1RanRZMpE4vPuXA74xWJZ8aOKmGTOtJLmYfjmoIXclHhwxAfMiiqZlDWtHKD4ixk9t58dJ5oy\n",
              "kd3mbHYfdJDeEyKnAbnK9tMPBFeZrsnZmUoCEAz2FDxaW8EYBbxDpxFGEjhR+ZQ93Gv1GLkc1vnp\n",
              "TJHEBrUc4E5atJxsImXssnzqokIFZ1muIUTEUexE6rKBEDop7knUyEpPiuTWJKify8XCkuwFPSum\n",
              "vBbe1MBTz+ltzwmWLkJTQw/UMPnoH9Bkim3rPHv1UUQqe7iUq77FC6i1AIQ7Dr1SxqGQn20yn2Jv\n",
              "NdQayieX0G+y8hOrppYYJT7J7vpGVBpK87i8MNIsAELONGWVifh6zhaCla7PRT9DcDCZ9aT5uNLx\n",
              "yFoq4gVm0rexPhcp6EjoKBIjW/o9xqvfZT9M/CoOWo6eqVKD27Gj9HYwKgCJ3IRs3srCsFoCY9K0\n",
              "JeJE0/KRfTHJbzurZYa6uuzFZ8tyx8pIytKklnpC7sWTRWX2pjHy7XuITBxnBKMCOsl/ZgCl+q8q\n",
              "/JdpXL17rnxsGQ+FXiI1tGJkBADmp2GEPsZL6CY4GOuAMwkMO0kUyB3ChFaZ/PBItB89jFptjkEB\n",
              "+nMF4CAtm2xPjYZFLnx0FsRdCqwTFbgrWSyWxUeTv0Hre7RpeiapCKevnWeSbL5x40YsHxZgJGys\n",
              "ppekY90Q3BCzE+1v30bqAJVUziB1f+T9I73+ehcOB2WL72dB/t7S+VeMdEMgArsMq/KIlF4HXF3y\n",
              "2b5GEXTjjhDf/Z+hLfcx5W99gj7lZ7tFv3tQ4IcMyR469YvMWflOaCI9YLvloDWbJAnQBX6qdJS3\n",
              "y7CkEur39se50FHpGdtKA6mbwojWeDWcq6XXppAzAxxxkBp+G6efwaNxOA7rn11Xqam8AJqmnOoS\n",
              "lJCovOZA3foNtH18HzcpeEctfCbuzamh/UISO6m7KbkznNB/fCHK4rE9Ig1P+lKPNk/HQctEEP3P\n",
              "XdR8uNh4iSZvKfB1Sb832kDZpQAbEUWX1DRxoOVdPmvLA3t13+v9cwoXz6XJkWkACE3ZVWdy7mb/\n",
              "lBBYGGz2ZbR/Oecx5+woQBWfx5bWHqRy9/jhkMJxE9qTzvpwjGsfia9YMH6fIjRQIQXP1MMJ2ZIm\n",
              "gQUIeDLhxIcLy7wXM9CbM9cdrtvzaLq9xCx2agJ/WjSU258/Cf35OYOdSvzRYl6bbW9bXhmUcJ1s\n",
              "Tutk1MazprZGlsp/oEi6M7wBi8EARDJDu2urWWFAStKg/FRXp5THPCIBlntbI4jZf447KHzHIBF/\n",
              "3YdFPHYXDUJFctKLYPM2wTqjUdPTc8SmHCAIFzZPYDDAsQ/KDarYD5iCkNFzEjNXJ7DVeYyQwj7d\n",
              "6wJ0Y2fmn2JOgfsFTunAA9cV/r5EF+iptVk5DI7u3PxvHGKy8xUUijU5JRdwL4QzfZrSRMjGlTCb\n",
              "RaagGn+A194f+DbT9ItXRwFKP0R0uYLNv51N+F1RBlScEQ3CzjQUL5XpwuY6Yibjpa+h2Cr5KGQC\n",
              "rClq7MuU/tvRz64H3h7Qmd4lxxPFVCZ0+thXBPC1WF2SGLLHJxUt63epu4FVVsgorV3rRpiQdtTD\n",
              "HwJi9Xft6uw33yQsb4DZY1VUd8UKly2fz6q+GbNyTzhcYX/+zHyw/2wp0A78eWh0YOd+gFJbxIAj\n",
              "ddyAKCv11HggH/xq8m1aVc4OtGUI8RH2o7pW92oHT+PZAps4g+RU4KqJkL1o1bTiIWoexMO5rm3i\n",
              "u74+IfWEjOhC7QmrFEzWhNGibBwygHvGesZz9GvPnDlIMdp9gKpCrkDf0X0BKk1ZCjEOUwY9wiAR\n",
              "ZliyHthGCOUFtykuc7280G+o76lRCVwZVfat4SWrME6qctnlJjdqqg/+UdtTwTvcg6TxP4Ge0aSJ\n",
              "Zv7P0Wl5SjwGe2SBluQsPmHsYWWor57Rw3AlNb+tFp2s0CUbbX3P7EYWfsHWEq1BdGJ8J6gPJ4ns\n",
              "hZAae3xnsvv0vo93dciYhdEisC6gMJB5+5irM3Ver8bctr7JrrCyPjGDbHCvY3Z1MtSO7C11E2La\n",
              "5YM/3+sEcmqLDwZrazMZ7c+FDUnSxW8YpTbRkJd//cBiLUwmA1JU/IgfNLTot76JdUQvyo1TAnSm\n",
              "33CJ0geTTRp/IxzS/K2eVmigGUFm+quxlWKISOculC6zJpLm80aqIZleHm3UK1ZzhjMdjOz4lIAv\n",
              "UTG6OPh0FyonaRENFT3lhOAN2limyQhOhiCUuY/OTVA9lbBBWdnRXv3lm45jYUlT+Ez+CDb7b+Hz\n",
              "axpV1neBXxG8Yn+csuba3fNJEC0XddIBkiCkTAb46Q7Za0HEgunEfOMPDpGuAcjArd+MJFBZtgmt\n",
              "EbY6VmyDywQBUHLmNn6f5xkoNsbQyBrCR0Hz1u1QmBHVbX2h/fqGpOsiJb5WrCViqSND+vwae5/z\n",
              "est1UGP9FiIuyVyWEbVPFM424TC9B74v2fLVhWRnqbsYQprZ/E01RcY397EHAlg04wxwd+6I2mH8\n",
              "gC1c4T5DT0UfVgVUapLBj50pDxK/eB8mfGMagSOkZRuGiPJ6fxIyW17IvLnqEHOJfypswg3vLG8Y\n",
              "xBzheQHk5CFbr7AS3EXzu4MiwlWPtk6qnYfeiPra4kb82Rn8fl4/8aQtTLsrQLFh8br/mR69Jowi\n",
              "EqniDZc2UCnRwfG+6NmfAr+2MXlOvunas8nkE3iDUZHjeAhbjeF3K+ClsmPdtj8CgZl3nC6NOdxq\n",
              "5hKKamqfZvkIxc7swAszTLuGrGFgHF31W03d3fHaCluQePKsGhuG8Eql+lHL8ZNQX20uB+JkME2i\n",
              "2/WwbAy5ve0cd8FAHAch+rqBlnLHW9nTfm51olFVUkRLmyBYVeIDtRDJFCSaUp34ZS1KXzg+2XRI\n",
              "PZxsyhXrlD9mxLapYphfxopWa1Nl4dO2tYLVMvEWRsXgdHORYDvD0L9qF9NREA1Ity1N9RypSyVl\n",
              "XXaGAMA7prpAbIPgf9bEIIgxAj9o6LXMRIaBYhRUc+4aQQAHR4hHXwrf3uczolPOUjnlTJY6QJXl\n",
              "KD+evpWgRXJDOMgGsntxeuAwWizrMfwjoWMWZ3Q/5lX+kJsDOXGq3V3uLoAlg5KuPW6idJ1mxYcu\n",
              "G9i7ewfqSqolr20xPrDsdBN2yOFCcHVNE5y3DyoMIKNk4wrT2exomHp6f12e0kdNsrFpF/EDzQYF\n",
              "Rh9a2xqW/PAwq21ZNCuzncw3uhZme2D7gyMV1ez4k5tpopNTAHqppBVZo3255L+d0arOThBQQhfn\n",
              "H9adrOW/eG4MGNR9xfSOvAVbutWyFeOpT6zU8j1zWBRkZXMWfevs+sovuMZA3DsqZxnLGBbLaIdU\n",
              "m8NDMPY23UXo+fLPryOCrGg4cGY0CtBx5axP2K0pcYG6RsAF6ijArTWVXnPl2nbR9PAy/NQEEUk+\n",
              "g5bCyN2LOnLDajNIQ35X3HvsLmQ3CkK2mWGrM/3tSunX3F2dbma3nw2f7M46H+RR4Va9GnWgnPYU\n",
              "1gBXgGWatAb5uoVxVnDvoxKCOsxrmAKJFsLsnPoSlV2t2j1cnn6oU5Dvcl6U1TRrFGIrgQOLGTfu\n",
              "KBCg+BEjeV9Q7vcJTozx4x9aOBYCbi08tZtfX6lggjCBPTbz6AT3fQiNXqRaGDU+46v1bWseL8Qt\n",
              "h6mxxnO/Q32FSAPCGfekeuMaozaIlNN7XbTKqpSoHZeTbggnLKlbq95WVpiNUXgS4EH4RhvIWX8k\n",
              "3ZopdhnbQT+aBT+foVdBinzcDsJkpORso48h3CKNkQDe87Mn/gnWW1x3ukDauYY/X/i4Tm+NNcjh\n",
              "pO5kVeUXCdNlQgmGAxCAWWxw0OSIjjbevbxzLBZxRQAAA7Jtb292AAAAbG12aGQAAAAAAAAAAAAA\n",
              "AAAAAAPoAAAq+AABAAABAAAAAAAAAAAAAAAAAQAAAAAAAAAAAAAAAAAAAAEAAAAAAAAAAAAAAAAA\n",
              "AEAAAAAAAAAAAAAAAAAAAAAAAAAAAAAAAAAAAAAAAAACAAAC3HRyYWsAAABcdGtoZAAAAAMAAAAA\n",
              "AAAAAAAAAAEAAAAAAAAq+AAAAAAAAAAAAAAAAAAAAAAAAQAAAAAAAAAAAAAAAAAAAAEAAAAAAAAA\n",
              "AAAAAAAAAEAAAAABsAAAASAAAAAAACRlZHRzAAAAHGVsc3QAAAAAAAAAAQAAKvgAAIAAAAEAAAAA\n",
              "AlRtZGlhAAAAIG1kaGQAAAAAAAAAAAAAAAAAAEAAAALAAFXEAAAAAAAtaGRscgAAAAAAAAAAdmlk\n",
              "ZQAAAAAAAAAAAAAAAFZpZGVvSGFuZGxlcgAAAAH/bWluZgAAABR2bWhkAAAAAQAAAAAAAAAAAAAA\n",
              "JGRpbmYAAAAcZHJlZgAAAAAAAAABAAAADHVybCAAAAABAAABv3N0YmwAAACzc3RzZAAAAAAAAAAB\n",
              "AAAAo2F2YzEAAAAAAAAAAQAAAAAAAAAAAAAAAAAAAAABsAEgAEgAAABIAAAAAAAAAAEAAAAAAAAA\n",
              "AAAAAAAAAAAAAAAAAAAAAAAAAAAAAAAAAAAY//8AAAAxYXZjQwFkABX/4QAYZ2QAFazZQbCWhAAA\n",
              "AwAEAAADAAg8WLZYAQAGaOvjyyLAAAAAHHV1aWRraEDyXyRPxbo5pRvPAyPzAAAAAAAAABhzdHRz\n",
              "AAAAAAAAAAEAAAALAABAAAAAABRzdHNzAAAAAAAAAAEAAAABAAAAaGN0dHMAAAAAAAAACwAAAAEA\n",
              "AIAAAAAAAQABQAAAAAABAACAAAAAAAEAAAAAAAAAAQAAQAAAAAABAAFAAAAAAAEAAIAAAAAAAQAA\n",
              "AAAAAAABAABAAAAAAAEAAMAAAAAAAQAAQAAAAAAcc3RzYwAAAAAAAAABAAAAAQAAAAsAAAABAAAA\n",
              "QHN0c3oAAAAAAAAAAAAAAAsAABG3AAAMVwAACCsAAAcIAAAHbgAAGqMAABFGAAAMAgAAEQcAACYP\n",
              "AAAY2gAAABRzdGNvAAAAAAAAAAEAAAAsAAAAYnVkdGEAAABabWV0YQAAAAAAAAAhaGRscgAAAAAA\n",
              "AAAAbWRpcmFwcGwAAAAAAAAAAAAAAAAtaWxzdAAAACWpdG9vAAAAHWRhdGEAAAABAAAAAExhdmY1\n",
              "Ny44My4xMDA=\n",
              "\">\n",
              "  Your browser does not support the video tag.\n",
              "</video>"
            ],
            "text/plain": [
              "<IPython.core.display.HTML object>"
            ]
          },
          "metadata": {},
          "execution_count": 33
        }
      ]
    },
    {
      "cell_type": "markdown",
      "source": [
        "You can clearly see the separation as the country playlists diverge from the non-country playlists!"
      ],
      "metadata": {
        "id": "hM8BuHDQZAsU"
      }
    },
    {
      "cell_type": "code",
      "source": [
        "# f = \"country_animation.gif\" \n",
        "# writergif = animation.PillowWriter(fps=1) \n",
        "# anim.save(f, writer=writergif, dpi=160)"
      ],
      "metadata": {
        "id": "lTQAvdmjL2O9"
      },
      "execution_count": null,
      "outputs": []
    },
    {
      "cell_type": "markdown",
      "source": [
        "# Visualizing Drake songs"
      ],
      "metadata": {
        "id": "lQujiuLjOCct"
      }
    },
    {
      "cell_type": "markdown",
      "source": [
        "Now let's see the animated evolution of embeddings for all of Drake's songs that appear in the dataset.\n",
        "\n",
        "We expect that they would slowly begin to cluster together over time."
      ],
      "metadata": {
        "id": "-sl2Ogv2OE2t"
      }
    },
    {
      "cell_type": "code",
      "source": [
        "drake_id = 'spotify:artist:3TVXtAsR1Inumwj472S9r4'\n",
        "drake = []\n",
        "drake_colors = [] # colors for plotting\n",
        "drake_sizes = []  # sizes of the points when plotting\n",
        "for id in songs:\n",
        "    if songs[id]['artist_uri'] == drake_id:\n",
        "      drake.append(id)\n",
        "      drake_colors.append(0)\n",
        "      drake_sizes.append(15)\n",
        "    else:\n",
        "      drake_colors.append(1)\n",
        "      drake_sizes.append(3)"
      ],
      "metadata": {
        "id": "vdp21WfdSNlJ"
      },
      "execution_count": null,
      "outputs": []
    },
    {
      "cell_type": "code",
      "source": [
        "print(f\"There are {len(drake)} Drake songs in the dataset\")"
      ],
      "metadata": {
        "colab": {
          "base_uri": "https://localhost:8080/"
        },
        "id": "WOeE6KPYOVxt",
        "outputId": "ee9b179d-e646-4f21-9d86-40fd89b3d787"
      },
      "execution_count": null,
      "outputs": [
        {
          "output_type": "stream",
          "name": "stdout",
          "text": [
            "There are 118 Drake songs in the dataset\n"
          ]
        }
      ]
    },
    {
      "cell_type": "code",
      "source": [
        "colors = ['red', 'skyblue']\n",
        "cmap_drake = ListedColormap(colors)"
      ],
      "metadata": {
        "id": "rSIXoEcXYvgo"
      },
      "execution_count": null,
      "outputs": []
    },
    {
      "cell_type": "code",
      "source": [
        "# First set up the figure, the axis, and the plot element we want to animate\n",
        "fig, ax = plt.subplots()\n",
        "\n",
        "ax.set_xlim(( -0.8, 0.8))\n",
        "ax.set_ylim((-0.8, 0.8))\n",
        "\n",
        "scat = ax.scatter([], [], c=[], s=[], alpha=0.3, cmap=cmap_drake)\n",
        "\n",
        "# NOTE: this plot will be empty! Just ignore it and continue to the next cell"
      ],
      "metadata": {
        "colab": {
          "base_uri": "https://localhost:8080/",
          "height": 269
        },
        "id": "KhD5g6B3SUEb",
        "outputId": "99a29315-9c23-444e-f04f-cd7267a7c5b3"
      },
      "execution_count": null,
      "outputs": [
        {
          "output_type": "display_data",
          "data": {
            "image/png": "[encoded data removed]",
            "text/plain": [
              "<Figure size 432x288 with 1 Axes>"
            ]
          },
          "metadata": {
            "needs_background": "light"
          }
        }
      ]
    },
    {
      "cell_type": "code",
      "source": [
        "def init():\n",
        "    scat.set_offsets([])\n",
        "    return scat,"
      ],
      "metadata": {
        "id": "-34pe4BFSXOy"
      },
      "execution_count": null,
      "outputs": []
    },
    {
      "cell_type": "code",
      "source": [
        "def animate(i):\n",
        "  embs = pca_embs[i]\n",
        "  x, y = embs[num_playlists:, 0], embs[num_playlists:, 1] # only plotting songs, not playlists\n",
        "  data = np.hstack((x[:,np.newaxis], y[:, np.newaxis]))\n",
        "  scat.set_offsets(data)\n",
        "  scat.set_array(drake_colors)\n",
        "  scat.set_sizes(drake_sizes)\n",
        "  return (scat,)"
      ],
      "metadata": {
        "id": "WL04-6KSSY73"
      },
      "execution_count": null,
      "outputs": []
    },
    {
      "cell_type": "code",
      "source": [
        "anim = animation.FuncAnimation(fig, animate, init_func=init,\n",
        "                               frames=11, interval=1000, blit=True)"
      ],
      "metadata": {
        "id": "wFOslhM1Sk0D"
      },
      "execution_count": null,
      "outputs": []
    },
    {
      "cell_type": "markdown",
      "source": [
        "Below is the animation from epochs 0-10. We see that the red dots (Drake songs) begin to cluster together!"
      ],
      "metadata": {
        "id": "bHSvwnp5yfWj"
      }
    },
    {
      "cell_type": "code",
      "source": [
        "HTML(anim.to_html5_video())"
      ],
      "metadata": {
        "colab": {
          "base_uri": "https://localhost:8080/",
          "height": 310
        },
        "id": "cBSzl2q8Sn7-",
        "outputId": "bb885b3f-2d9a-4338-ca5a-e4b111a3d71c"
      },
      "execution_count": null,
      "outputs": [
        {
          "output_type": "execute_result",
          "data": {
            "text/html": [
              "<video width=\"432\" height=\"288\" controls autoplay loop>\n",
              "  <source type=\"video/mp4\" src=\"data:video/mp4;base64,AAAAHGZ0eXBNNFYgAAACAGlzb21pc28yYXZjMQAAAAhmcmVlAACBvG1kYXQAAAKtBgX//6ncRem9\n",
              "5tlIt5Ys2CDZI+7veDI2NCAtIGNvcmUgMTUyIHIyODU0IGU5YTU5MDMgLSBILjI2NC9NUEVHLTQg\n",
              "QVZDIGNvZGVjIC0gQ29weWxlZnQgMjAwMy0yMDE3IC0gaHR0cDovL3d3dy52aWRlb2xhbi5vcmcv\n",
              "eDI2NC5odG1sIC0gb3B0aW9uczogY2FiYWM9MSByZWY9MyBkZWJsb2NrPTE6MDowIGFuYWx5c2U9\n",
              "MHgzOjB4MTEzIG1lPWhleCBzdWJtZT03IHBzeT0xIHBzeV9yZD0xLjAwOjAuMDAgbWl4ZWRfcmVm\n",
              "PTEgbWVfcmFuZ2U9MTYgY2hyb21hX21lPTEgdHJlbGxpcz0xIDh4OGRjdD0xIGNxbT0wIGRlYWR6\n",
              "b25lPTIxLDExIGZhc3RfcHNraXA9MSBjaHJvbWFfcXBfb2Zmc2V0PS0yIHRocmVhZHM9MyBsb29r\n",
              "YWhlYWRfdGhyZWFkcz0xIHNsaWNlZF90aHJlYWRzPTAgbnI9MCBkZWNpbWF0ZT0xIGludGVybGFj\n",
              "ZWQ9MCBibHVyYXlfY29tcGF0PTAgY29uc3RyYWluZWRfaW50cmE9MCBiZnJhbWVzPTMgYl9weXJh\n",
              "bWlkPTIgYl9hZGFwdD0xIGJfYmlhcz0wIGRpcmVjdD0xIHdlaWdodGI9MSBvcGVuX2dvcD0wIHdl\n",
              "aWdodHA9MiBrZXlpbnQ9MjUwIGtleWludF9taW49MSBzY2VuZWN1dD00MCBpbnRyYV9yZWZyZXNo\n",
              "PTAgcmNfbG9va2FoZWFkPTQwIHJjPWNyZiBtYnRyZWU9MSBjcmY9MjMuMCBxY29tcD0wLjYwIHFw\n",
              "bWluPTAgcXBtYXg9NjkgcXBzdGVwPTQgaXBfcmF0aW89MS40MCBhcT0xOjEuMDAAgAAAEXFliIQA\n",
              "F//+99S3zLLtU2+2C6j3op4mX0N1JQGblsTtOoAAAAMABndh3P/s/B5qALz4oXI1enQW46fHZIfW\n",
              "e3pl/wS9h/AAJN5fgS5+AqBoPapXx0PhGDGfCxYoU9tP+7Xmru+rUypXEgBconwVodiDwTnSAAD/\n",
              "GoUdVh6/f6qzpHT51ZRb2RfovloiZZ/6wVE+3B5ZoL/Coyrv5iC+ILi4CGBRntsnV+pkOsRYAkMS\n",
              "tYe5IIqsZK713qIVt0k2y81jU01xbV2wBE41PPw1w49xfsnphpOwd6L7KIRVjgqPONAblQcxlay4\n",
              "SPsB5KeopwkTRFuQrBHzIFzsg3jdb/VC5Tbw/e9jeuX0DeW4QT/plWFeZKqEnciqngf6Rt6fgWYe\n",
              "QvChkAtnUwf+8b1sg76Bu+URhXDqC/qFAY+YEm0kUSKi07890NwYV6Udr3BqRNadzswb84A7Qh8i\n",
              "/Ea48esnGzEM7EGz06qgHMUi61fVoR+D7Zhc7Z89uSt4r/FeN7nBPeuFQ33+c/xIisYhdz759/Qp\n",
              "hg4LePfIQ9Gx2Qzl5D52KTEt5qBjm3G9Ml45RMhKwixJgAACBvqXLWpO90Es4MiciYQZ9hgPi3kj\n",
              "PptwjL638vMTZ499o2MYJIxGXWc0Pf5NUcVBLqd4NN/F8CvXJqrIIwDCuUlNJWTZdx3u5wgHoOZW\n",
              "CZfFnCmW9HPOVfZD3YVLF0XeNQ3wyaMIGf85RcILJAtfdv4vp8fGADkjDCk9Oq5c41i9b8aia+9r\n",
              "AHCgScuctwuI7Ut0u/2mlzI5gKEWw3iR6dTTLjV4gcYyoQgD5IZEL1xov8RO61jUSEgLHONyafJ6\n",
              "I7vAm2VFcuaamz6id5tkIqZo/0sbYO0QbO6zvN6nmDPyn6Y5cattIk3Rn7m8bPPX0cr+Vly/HogQ\n",
              "RPVs9BqwFOzLDdW96Z2VYJTR6pPktmhS7sGK/BGODYP7DWJ/F+OIog626+lvfvniOC1LKL2pLCb2\n",
              "WYiCjDq/gSMr4JLmIEgK48Wjk8PazUFTjxbXxUTCyeDIMf/evK1zZ8ZzWszZLS8Lo4YEmW4CxoIN\n",
              "ziwhT6y0nwsNOu/Eb3kT///1ly9sUb49s80i6ukOZEh50A6AuX3QfH1I8CYlo1Zyy10MvJbCt0MF\n",
              "uQxvrFkqKYSfoQ9AldAQKMWS3igzbq5LO5J2RFEyUx+gKJTvtDRp3galZMgi9LlsBNmewtiZIS0S\n",
              "xWokxvYSyYcLwq20Of9epr6c/abt0ZAtyCciYh5H2qwOC4JSdvg/1nhg4Obgj/TLKxjBuj51VN7f\n",
              "3EFmx0KbXg3uCUiIbilTgZHIVN55j3qd7NPX2u6RcWky7rQY8IKnnSZJlskDnPOL4Hzo+xDFquWJ\n",
              "NBs3QwKLor/OnkrrlmZc55VbugcbvFCL7+7EZRQYJNF8vRZL0O1541Bsvm7Rmur1T/MYmZIAZDQ3\n",
              "Fnpy+NWgFh1h17/ZMo4i/FLeNYRjMVX4S3hZ7fgzIaUHL518BRIL/k0umgSZgTKJES5vJaXp7NLt\n",
              "zWtwdw76kQuIoeHoJ7MqK/TqexWR1c5NGsUhTGJRc2N+SSRHi/JgGu0xORKcmMU/agHxg0jeL7he\n",
              "7j8TmfNTzbbaWnAMrF1ZrNyQI6tc7U2lcuZsUst7+A26lrMgGv+vvsdEnTOgC4Wc3BdMD6APnN6F\n",
              "7yvdK28wLwI/tuUTLvjAvWiLq+yzuxMtpqChww0YUznN1tDQpMxy1jme7NGpirGqaRztvBEzx6yb\n",
              "lJ47K/wu3k2/H28MYd1DVJ4eVEUMwSHpoebdbUqbBT3pn0sWM6+yHmA+oTFtnMcbidJE/iZiGGU4\n",
              "WkHvBdS+2Zk7S5ZoFOR2rhdyqyh8DOAa0guMpGbqxU7ncRZkByuaen5CxhAukPnGiJm9kKhXoQuU\n",
              "dWonkdQdvdG0HibXvaIkiKm2JC6Xe4fQP1hqkeAyvS+Sm1u457T9lZDPF1/5ljEmdaxVCUQvF0Sv\n",
              "EPoI6OiwmUrZVvytQizDomp1RTOOYIP2Kxrl4HJgsmdYFxs4KiEU+NvfWxSrmaswaUzklzfbFcn3\n",
              "RJuqJ1OS2adUpzid26Jn7pjGF/a2O4HMHyVFl6YtM9ZNQeIuWnjNvmCTRNveszLx+GF+9pyHIquK\n",
              "lgh1Na4emZJ8wHePqcS0z4M2PWsNq+y5pSEQZ4AjVGQRw1pSGpulCvsUv6yfSZnqZvSEytyGERni\n",
              "T+9f34nIKNmT9/XOeshE0AT1DvxD4kIW/iW3cUmufydtkgFBfzSrBYS2CW0dgHFlnWatcq7/VmqQ\n",
              "XnQa5fKYvkVoG6jJ2JL/P9dTyo4YAhUkAF5avV1DHCRzQWvzxit8sJUkGUXiAGM4lADwmzQzQtrJ\n",
              "2L8R0P6OS9Pit6YmIiWnkROFEPUZXQH5UpgBrlZ3dFQikcm57qqn3ffr4BP/EWr9pCyl/t5kxC+E\n",
              "e2FKR3rYYznp1uG6aTwMYeMpDISKiJqC6RRmbX9/3FRhLC8PV1Y0Gbes8Uxhix9ckiW8SjsucbAl\n",
              "9EqbvD3f7b723fq3W8515AIdgcNCsCDbaL41ogAvJEqOtxNPnkcT201mbpf+ifdjPIIqZ6UTy2ks\n",
              "s7gaBDDKjqqA10flQ0rHKPtF46/3bvFPIGnoK2xwR1HIltb/M8m2ikjB/C1YjxRmt8r0hYxh7KvR\n",
              "FeCL0qkpIhSgeSYJKVn9o9+n0NOBR7M0EK66VziIyk4gdjI66pZxtZ9e1GX1dSP9QHz10ynVzqfd\n",
              "1/3HYc2Vqm1Yfc99kyFvCiYKdEqFjbT2GeYXd5R1uAs1aFU+ImfGQTsEUrChsQKnukIa9eYuXAWc\n",
              "E87Zuwg1jbXNTKyf92EVrSR/zaYXpKna/4tS6/YsYEgghgg4pMnSQUzdH88bu/5c5YodkxySeSZG\n",
              "wjwEz0s3MWyBAzOcMADtA2mA4uNNZm64vv8lOjVk6yFMhx4uMZTuvMxByWuV2swJrTswhTVGOmH6\n",
              "72E6RuZrh2I5P1jSvP+4NNm12Uh7d8c243pkvHKJkJWEYHMKcSmLKTG3Wrs1yqE6zDrfvFBTTGu9\n",
              "CZPdxkuQpN3n+yeqYGWEJ4Y7v7XvlmZDvUHp0oEC2sJvrW8lrx/CHQcfPDnPbeq//uzuiSl0mf7e\n",
              "BRlrFN/ZJIoDaG+ITr9dR8h7HSpDcbC2XkUMIpYfLXseiFN26lKuQavJS22yO1fqpiD4b04bHp+n\n",
              "189d/DN/F1TCapeHkYg0Ocola4+jiP23jxn0yFd2iXMzIazdMT771J00CnhCsPHDs31XRXqe5dAV\n",
              "hoMmkhBgtB5Drhgba8bxg+6XEZSJEJNIO7UChs5srbuxe2SQeefbvVnYnmyPNzrVH+kgttsRnjI8\n",
              "u5tSXxQQG7Q2NtckqmW4lNk0HV9nggb0L6lnch3Nx/p77SqMEorYAewcJoQ4ClYhbIt9yWkjDgLg\n",
              "8nU4fBLJvNYQ6f6DuSuNmN+yn0kB3cUKRHd9vheUesbcoOvFyY/U+8cBkaWT2mmB3X9wBo3A7cwc\n",
              "Os6OpE5k1nee85ucqcLeH8XJoMOd44bt6DSqlcRwxJ9JJxv12+Ok1gA0Ru61T2wGS7YFZBTTeoyt\n",
              "EVc+klapAgyUMI7kplyNQKAF35d9lmHL65dhfDAI3OS1PVPNXzcEBrjgDOIzf9p4Q7R7xC7/D93h\n",
              "KWHSTy1OdYJjChdgKeRHKyR/Xjo8jKMMdw8ZZHZ+lnNxO9ddTWw61jevcy0maYdgtirJBZ26l1da\n",
              "0X/1ulHBFWCpZmS8dLwCX/QQjbA2/NT8hCBJkWXAZOMSoUEw3gbJj25yCbbjp4Puwh3cv88R37U4\n",
              "cTjpnJ4gw95UTrrBZBT+r0PJpNBTTrTe4h4z8ujhNvsN6am6Dx+cudCYwLBUJp1R5X4G5VX3jfYh\n",
              "jtxX/ppT/Si5xJ8enf8kKWr5lsnBglUUfSkXyO594/IjUvv2r46Co7UezOzd2Dtrf5kd0mFy2XsJ\n",
              "23nhlYAoNbP/GIs/pYmECo9mhHUn+ln64zXEg2gUCBB9MyRGzWp/ByuT4nutE35Flp5lAEkEBZJM\n",
              "kB+7GVnSbwqyYp2QBmW7Z/BHzqveY5jXxaONSPKS1svANGYh/nOhN2RRC+i58/urChhW1RtLtoZF\n",
              "TFPTYxQxFfMq2oQurghhuuUUOJnVbzDxj+PCjm0DZeBdUxgilIYqPfyOn4xsunkAyWv7IpthLagQ\n",
              "AH7H05rJ11EpYuObd8BCpTrIlDN/6pyM3GNzNa3+3fcGQmrpqWTDe9ohRrrGxAJOHL16xG3HJyHw\n",
              "eFwDWCrVLrNUUmPmXDO5Vf3/5W1douSCw3ExTpHtQsgfcm5YAGGaH8CoX+ekC3pWZ+9KpJds/lzj\n",
              "0YE0R67oMyBZ+CmFLF5Ugya94+H9DzSvxfhhDZX1mVkqwS7ZBqv7uvezs0rL65UOayIWtNvDUM6M\n",
              "jx4JONydEK3G8iXF/NZxmAhmFh7JEij0+uLaKbaNQs0G+98yedL5zGJFkw+8Gtb4nOlBrFrMeeUX\n",
              "Ia/XPMlLwumJSOXSziTDaC2hc/38Yd35LgTfU6eg1wY72xhKwxcDHtru/cI2+Yef4yUItxy9mGz7\n",
              "PvevfEYwcLCgan9ybq8+aETClkZY1C8KfQW5jhJO6bDPdF3ZL/PP+whSnI8iEWBbPMXTKqG1Pp1A\n",
              "GoIUE2MJNqjH9oAK9iD8iwE1WLLsR+0qXu+bJVoOBfvaEqH7EPueGDg5vdF+P2v6Zdu4Q731/2pq\n",
              "tXz/CJuGW4MqHq/ocyj4RWDSGnFLe7eblPRnE4t27NFnrM91gNFQhWsQoVhNEhgHmVShwTdk1Gjj\n",
              "RhF7byL0Ye2QHZyCkkyy4A02fSCu3xQLV+gCvWdKqlVWq5cRo6fRkPSGni6dYNuOgmtcylDRKb4H\n",
              "kFFQ2Wrl5bOB6KSj6KdSpToYx/HwrKMMEcnJ1ckVO6oS3aMA79YDCZPcu8Gcbr4/J2mneiWeg2Jy\n",
              "t70gbXsxzzoAuuUe7la3QiF9M5ga2Ba1W6IdpD3ql4QSb2TqxwYul2Ns9lxibQH1DlBRrq0VHVKv\n",
              "1s1y6NYLpWvChbI2ZFcutBP8/eezDdvOUf7i88A73TZSerALAk3/xvdAZSd/wgE3JRpcfQ8baJZI\n",
              "sFM9ofAsDgRXAv6PpfSZlXq61/FLuf5F7drF3+rGMPpqiN4rYF3oTswmovYsUpc9Gq3yvr/tTVQf\n",
              "+xgh8hMiteaIEmhuHFwEMCFMXnSLOrbEzujke7Tw/hS6xC5izKzSpmdE95Zic4ovjuEgj3FMJNtT\n",
              "1qmWDJrv3jFbWVAzf0TgZHJbbcHms4sezgoqGy1cvLZ5k/1+9poXG+tavayKBT0T/bJzObNy4pde\n",
              "kB2CS5EJpZbXzMsYpmUZ1YhlE9Sj2o9E/Ehy3Y2OTEPUWW9/jQ96DyAVAU4ihE45R80QwacsiX2S\n",
              "2wZvcC2EwMi1b5JslAa2ibFlL01da1x2TxJjoMq3dh8vh72Noig44gf9LBiFvFKEaV5ewCWbYwLu\n",
              "jct2+XqgBdQzXwnVEUwg0NHY8cVJwUEsBoJtymF3JdnsG2XsSzkHhWdJR//EfkmzhoGVJtRCta1E\n",
              "iqmLA/ilS35qhSidAcBXSE+FZZMVC5rBtKCMCrwnDtrNQhoFG3vnk8IYApQWWkm9gR3GVt46NkvY\n",
              "Xu39N5jFnEKAZrdhRpyIHer6fNQ3NvKZ6G2T4eZR4AXWrUzsT1Y4jfyPC8NuHoUX/Vs1kml1nKSH\n",
              "fuEz+nKeuaEuAfszyOAB5zhED3rEgfRrXqIEF9/dy0OJt0S6BWIZogUEnRJlyY1CU7iweEGyVkGa\n",
              "Eh6CSbsM3XRauY3K5atUXG6Xu9JEFgvPEy9zykk8rkj7Yfj01NKX33U36xydXDd2qimpbMQjIlnM\n",
              "IujxF3y2akilJBQU4LfiCwXSB5W96QNsjxcgNY4yUe7la3QiF9K+qIjfdOTmqtYbNMRpHM2NJNpe\n",
              "xAv2EpGOkzkdAAAEEEZBAAAIq0GaJGxBf/7aplgB3YcKkAN23gSGlUzaU3KlDR204xr6uA2+jVAW\n",
              "s3CC1EQhIvG1o7q5C2DuaTHwayZgK7ONaopNEXYSzSBwOcpoQzbWx0dJ6ipNjtAApfLZUhNBdSUJ\n",
              "P9ALyvJqKEZRm9k1Y29+ztWKaeHUHX9lKhti17OJFqAdnZ2y5PbI+KCaQXRt6T/KdhTA6czrRxEQ\n",
              "RVJOu4TrFfpVuW4rJVFIwDgmMTlWifbHplVUBrNP4oC5GRe+9WgfqPnGWpp5vcjpeuqAfZgJoidA\n",
              "+U9WSmPCptp91eqeAX/bTWNZK6078nrskhVQ1rAE8OhLX+6yIWGXeg9N+FkCFZNSu/ZAj5QVr7O2\n",
              "iNQW8IPgXLxxmcvU9bVulKGa/II64hscm1Xv1TnN5vuu5SR8dGGB+ZMDm/ZIaKLsL5hhBppq56Lf\n",
              "iO9dPwO4tCaJEo5i+qqaAlxooH4X3tiPa3AmAMGuJPdyxPETXPTS0cAhX0LdG62gjcflRd3R6vzg\n",
              "S9Z4rKU9deefnzO7utXKM+e/ABOlgAgztzVGAR4yM6j5tmuwi9isyyyZ0+YlfEIq275pcBgg5FMa\n",
              "+TEo/YUNZK1DwsA1qiejgpG9lmW4OTwM9FFprGOFsiySTywsXj7NGpxRhuONM4xlr01EcbNN6TjH\n",
              "7hn1mLx7/HCJIiolCpf2yBoZyfddL4dcfZIqRMOPz2DtYwze0rp4sD4E6QurDltxFQO51/hqD3BX\n",
              "qnSWCOSGYDtOg6jU8M9bjA89XgJOFrtbhTTgx2PPk6ZJVbbb3UEuFX0glabdKoK/3trDYqBvJf/Q\n",
              "UFSAjckuewD8zue7qTy4j8nuKhqugwQM+3ASuC8WOEVydpT5bnr5hl3Diu8r2OqYBcnnJM14AZhy\n",
              "yFj91GsU0y1S0S2Xal3RXQOOW6QI/361EN52dRKa6Im4PiTdzJUpaur+M4Z4bAUenH8He9IjqdXG\n",
              "SQghISInzQ0dBnWrpfEVLRO95puetN+j57dUHarVdjEJW+PsV3qqjEVqmK//tCMGDmdrYNNbU875\n",
              "4j2Vvusx7fsxWhdGux01rmR+ZPWl39Hjqg36oqIJNGAluzCIQN6MOJkHwyZa6L4hlMyxRfBr1D85\n",
              "1lOkSk01SwGRkX1fTzXE5KZMtRIKBNt7V25/jV4DntOPWlvmNVe2WeIu1qgR/PpiSCGW8iSmRmGD\n",
              "OLiu+76eGaT1LYTqyAN0dGqjwFvq5kaRSE/7Q2uV/lEJcxzAwQkI93RGh0FIrDi3CpaeGg6FFUGT\n",
              "q1i4/qJTHUbYGOXEBEr+ctsEdvv/bBDN2NdEdPF6icNDOx0Td8VvPjjFKFuzOzGMaDnW8Bz49At2\n",
              "TzgK+JLd7ztsmoNhWCW25t9CR5u79Rot7dF8VIYEGaR/R+/Lyyj3lBUzUNUEuhyCITOOdlJLuu65\n",
              "LEdIVow8Q7636U/ZhLuCH2ofNw8JjK4e+3gvoN4yasBhQxjcebQPO/hFt4PlP0ivoCyUWxXfWKoL\n",
              "QHm9RoSsqpx57dCxh9QAwGXQ+29AosoGaZOdCPBzZhYRNdAIywL0sDE+a2yLqmuxXLbmYJMGAouU\n",
              "gaIqDlKBsvsyKest2GnoJc5nXolBACfAFxI0A466MM5RnyiB6o6yuqRYP/hy4R8BU3W8k3tkNuub\n",
              "K0mboEjlFPd427yVjjQjlyh9IyEVSCQRgM0l9vxbmkmGnVCbRa43TwG1x/SzSAGYwa7kmDREGQqk\n",
              "25kwI6aGbBerIcvPAIP3ewntXdZe6c2SyF+hVSi5SfS+diHmAgr1Rh3jR4CCqW36rCd4BnG3pVb3\n",
              "mjotsb1Yk0WGKxxIAKGVlZ9feGW9V0qEQQJ//jqed1zebcGUnZ4QjZ865/2eFwDmqzfZa8yd6Es5\n",
              "p7D1edsDz5A2loduBB7iVkvR60/mqW+u2kw+TIF6VN6aGnAaLObDzPBKjiy/S2es93a/6VEernoG\n",
              "3rsRi+4E4Ktha2G9oR38Pi6j9I/z29w+xHaii++ktzyfLlC9VOSqts0L8wJeOGkxFD86Y80S+8HH\n",
              "LRiVHfPf9syZ2TASyo0NCX1aFrZjcamNkx8NP4VUTSr8AZlwpHP2K8y9dDzGGptcQdM799QehyJq\n",
              "8GD6uJ07zfBRyPHS3uYVkSuLk0EYexmdWeq/Zr4JZYvZZV4ONhpdexAeO2ughtJYB3yvpuAEhK50\n",
              "MfaNI+uaQNRXzbvyW4FCdfEwN2reE1+Lmy5ju/APm4vhwG3+5TBKgONMLAXL/Iauh3YnkjEBy3A7\n",
              "dgeDMecLyafP4KfNn+Mx4+Uv+iE5f08QeoRGBUlGCFFHByDL1BzHLnixEkLk1QzKyWKNYSht6rFP\n",
              "rI1XuZURejdZfxHYoZuIAqYEepBJgUF9QHbdIdynvk5Yu3BqPbrzCTKBXobE1aXWocuqmLmxUXqE\n",
              "CgNs+W89nsPatS1cY5xiRB2nsfs/eaEkTGXHubxIkk0GNUX9cXl4eG0EC6u+nkUA45a3QEPZ32eL\n",
              "XImjvaxHO1i0OE/J8PMGAdrsxeQmhq7oA+3rRNaQ5v6U1hz/WNqzG450sDvybIBhKGRT8jt5CuN7\n",
              "KIAq5vbHVjApbQAE0sseHEEoaxMjKSBxr9JgeRmiOL2moG2+d0fb01grvA/2yBoQl8meuSoyvUBR\n",
              "UiKOEnXQxPaLb2Arb2B6fa3LucaQ18sOoWyGgYrXvSrwKV/nusQDa0fzmJbBjhh6+znv9EUYrjzP\n",
              "OnchLtrAYMzG8HqAhZ7mD1aq8qCbQ81C5hriqL7bPyI9cNfCZI0hdf2swSo0Q8mi5gKBJ/1OvK75\n",
              "lI7r0xrp/MhZ2z7HFaFMe++yJAnYG8SPaTyd6k7sqgRN5ivcb8gmBecE9MYANysO7huz8xiowiJU\n",
              "jzJLeF+v2vTIIqmfrrL0FgBMkqbrW5QMoxtssH0JmkDAhOtZfto6y5VhwoZVc2OzYhC+OZvS1c0y\n",
              "FZ1FB72I3cRHl4z9IAs4AAAERkGeQniC3wAA0akUoDpE34Q44iGHKRADbaQPVd2rNiZVV+9pbspS\n",
              "u/2uSqUKw40P3J8TLQQFOA03niJJuQFn4Zq648V7mMjzNiXFZ4peEMPwfXVVwxkTePElYxYVfrl/\n",
              "VQjGTBmiugytHmiBKauP2BkkFsq9jhtup2vzQgwx76kJpacKjgRSrxn1CeE4suE53H3G5KE0j+/A\n",
              "Te+YAcZLsyejv5AHffmpqoXYgpkLKM24nk14hXEymbX/e4IrdgxVkUJYENQkbXKkB4TRCGkcuIt6\n",
              "xyedGnWMLhb2Cwcwn8CDSokTj59rzukV6mkqDZZ6gTFogwkoewg4skI32Ltu2UbW15QiUDfrF5Ey\n",
              "GmUsuIxMu05l6nZ2aiXf3JqPLDD02gF/aolc2lPS3MX72kbMK/zxr1s/4ayoqZI31YNREQpKwlnG\n",
              "tGcUq2pJtRvTokm5ZH1TK+Y+tWgX5NCe1SXGvGxTjbLinyaTnMgbx+c70PjYQDLQB/BoGPQZMU4y\n",
              "QTnxGViPq+IHDZophBS9UHqmBiV55Ed9rPeg/11l+0m0YRlksvoXygtJNBfVr/+GbbcdpYV2NCjW\n",
              "viUEyY8GNCBGHj11Qi7IPYKnax2XnRWaW78czpNiQxbkQCK1W+KxgvZB9X8PkWBZ9ML5BaJQ/LQI\n",
              "nIJpqlwLjISiLbedOof9gpg+PAuXz7Oq0+HpngZbCg5Y2wdB4Ad8RsQJ+Ja+agJ+Y/KQI/XG1yeI\n",
              "R9WO6iw49LGWycSliLSIPLhLR7fMz+xGHn6YqJdXh5HecnKr5RIMeIV26t7r31OVWCDIl2zkItL6\n",
              "bnqIngjL44+pLsLHrwR941lL+faSPe2Ii3a83mGhl8WYXFZq6RjkGwaxNxOM+GdMADaO5r4waFvY\n",
              "/oZxdXDFzgnbrcUDnR+OQk4d8lR/0u7Ka30xa96IqpXXUhxddC9l3uyox5xdASiFeerh3+hAJpAp\n",
              "WXjHXHgYjFCphNiQXoUQ61S5xrxCkSWmg6OUZI9RERRY8+01XE+GDpnr3OcLicyS0CWvcgdnSoeF\n",
              "juEE6EfGU6UN8hIqadlvEZU9OgeQFnGfC8HC0iGLqEdNisOHzj/MVDzngFXGkyJUXkcuwtif7tYZ\n",
              "3NrprWo+LyL+Vqzo3ROfObVU6Ar8JSJVzIrC9RTA8oSBOwr2ggBqmfYb0DSvcJkwDPkUqFG8RpXS\n",
              "Gq0vAKfPGKw3RM+etCmUmwUsZxTxmKEMLBBGLTUAZhemOrecGOoFkyuafQste5hBDov6jLhl/ywf\n",
              "+qxxgGN3Abu6OsBVMtgvTAnXgf6E2N3qNVM/o4x8J/GrViHms3Pt0kJSUFFjLAIMfSBbYvTmgcQn\n",
              "cABG4Gsk+s/VUPAqUfSjRu2kUbbzG5KpiSXaAcW3DiXBJB1kKNvU5kZ6ZkIwTByooDBMc2U93nZY\n",
              "QH8ssPYx9WgdrAdheWBFsXuNVveFpgp9Ugc+ALSBAAADAQGeYXRBXwABRTVwToFjl0uUXdoNqICE\n",
              "MCGrqcZNwrROQj8XAB7pb5ty0PzCP+gDaunZJs5CK/GzNl6e6nYW6yArDrqrVNqtrdjbrHFNO5pq\n",
              "k9SxTI6MMznunxdigGPT4ofjFJJq05MscnrfsMWKJ1+bAkrsq7ag7Ly8xNIXh4lWEB9MWKxsH0Pj\n",
              "4krpJJ8zp3IE5PGo+JJYnCzfW2PeKnZbuMuQ0A5MWUhrNNpH86bSEcob95Rbk3NTu0ujBmcqFcZ0\n",
              "9V7pcrdb1W66qxIM69X2X6gBTngxH+Tzjo/OlFcvsXKZ7OXgm0q4aWBOioBh0sGnh/PZR5fU0o/0\n",
              "mxTGewLHceUpCNwcZqRmjigGZag6PG1x1aFOGyeCvnAdy8tOgtkqrfj3E97FpD7i390asjlGSV2a\n",
              "apLe93V/GrqtLFEg6Iv+MW+NjEV+VdZbUZClV1cvYuWcHoJKX1v9+ekEgBSXl4oRZv9z692sAlJT\n",
              "K/ohAqaS7BL6TLcctaMSgILFIL/hevJ+VR9zsu19bpyMGbbzq2KeQT+lcjTGQZq867/h6tJNA2Sy\n",
              "vxyjhKgoUBz00IB3Kq3FXv/U/WHqvdhq8pNUVWfu3ywlTD/7WbwoLfLJSPG49xpgrgGquTdTSmKK\n",
              "swPr8uUDGjGt0zkB1BdbqD6DMGIiVtHhGeHUEv3bRVlwxqeoPbzi3cfE5AMQR7GK0ZneNn7yLvpH\n",
              "agA82oCQOJ3+B7TggCDwBX9W1vVtTLflPWDyvdVW/JhI5U8wgE4+kME9zqC6i4GO8u6RrCMDuHQU\n",
              "KRg2wxjYnrraEXZtco2g6tvkDNMko5qEjKq4lOzDjz1o7y+zk2zMwLA/SgvbOaHCmSH/YWXmeIT5\n",
              "ZR+VGXDIEkv21U7ksaQT/l7htmZFPHxB6kTOtKkSzh7KXUUMMCgWEnke7n2JhrOf7bPsIYL4xK1k\n",
              "qscSK2wbSuveau17Gg/hEkAxjj/ZpGA2vRnD9UkGqoS2EF/8x3/CIYrWDzMWnwEcrWm+Tlg5rrs+\n",
              "OPXNBiwAAAP/AZ5jakFfAAAPfbHYCDqpoT2nH1gBYcMrm2ihRdOqjHNd/wuKABEb2l8RnmJg+6YB\n",
              "bJfXWutQDtkesnY+1f1iCjrntjq2ufTORjrie5rCOfHMPcaMLU4qTXwyGIyb3+C87yk6cqCNUhwQ\n",
              "+Kf4RN5wsl7pVgEPl3MHxytcMGda/P/VPTD0lBtIt64WSIoUlNq8DXQLjpS+2ejfhGNUw9fBSbQO\n",
              "ZsbHTYfoE2WgWw4bNltaUBqTegcvkjUVpx5wTQKi+qdNJh6mhl5EyzsGK0dDepi49qNyL2gc4sma\n",
              "c2T+MYGMRiyE6lzV/dz7lYCnYevcekh5JNhGZ/zIAlhKeRrror44JFAnm6FyzoxzBDrFQfprmIR+\n",
              "dJIzzV08bukxIdAnbZifrHFEAXtKClzNp6trb71j4QdyDcfBL9TtHfnRFO8be+Vux0C8Pbjk/YRZ\n",
              "OwuzoIx6o1vVaJhPZ2hn2n9SxbHzfGFlTdBHtmR4va6vGsCg8JsBHdnuwCVLbKogLTrIYqeBK9r1\n",
              "wyob5Zt79aF+YE5vri4vvleWjSXY7iAvpW2fAReDzmiJk6GuXwMVlJsaRTwcNDZM6bKJeDkKvTzJ\n",
              "Um1KmFw3p+HTzjb6FsEbJe3xStYOUDwWuZSwfY/2mfUxn8eFX+P6tD42oOLwMbZ0GTy+G7RvUxSJ\n",
              "6/JMW3Xt9hGGYWaUSN/Rp7d0Kb8JdHXVDj3epOtqd7imFMsG8CUr1+FaCuTIaRuPLpFofujbcJjx\n",
              "yn5kcehS/ixsPEmnDxP/YqRUCqtQEVfLZQlIV3tmNaI66fdfUgaBWlIlg3nPBMc5SiNDPXnpYr2P\n",
              "yHtOeByI7l3vfzDauSCXtyufS7bhMoFSCSvnoAbsaUNQryA19MYBSX5WVfroc0LIvlOG53iuXH43\n",
              "KFzIzbaHudwLWgWtDH9lSqeevoOoNlAV7FS5tPGLOZ3UDfKKGzBPc9MGZ9+qscwN6wqjx8mi4v8N\n",
              "xdB8kOQ3IWnjDCEiuxMZXlS0TY10pZzTYSrvzwPGWK6sPo5eByYH0XTkUMhrutKcxVGKkjhHSJWd\n",
              "Wq2f1dSpSglv4cLkiPhZeAE0TnWCopEpHEvBttjFeyYj+d9ZL85VxnCoE1IzwMGMtGhp3VmWOYmG\n",
              "l6HgZDHLD6YJU0zoeTOafoU+47y+Q2qu/lXRvuBVd7IOwXZ+DqzqaU+9jDaE27b3fUjARhW3bAyI\n",
              "kjgrnupRibeP1LXCHD1PXtnxbQd06wM92LhyJkSVkiOfkyvKEprC49mOHWn3xgihyb0VZ+ryHjlp\n",
              "dnLy8dnf/X/UwRhk5txPRdXEEZxKgrRBTANeDn5EOjQNZ3t6JWizWvn2ADl9BJUMXCk0lKdYdmYa\n",
              "w/P3W7lBAAATHkGaaEmoQWiZTAgv//7aplgAarfH/xPndgBQVMnC4Qv0MTDriknY3bIs1M5PBZea\n",
              "js6GY2PuuvEfopUZgfuBd1VLqJTwFC7m+vpjxd2z/gMwZLGRvZ/senJxgCkItDcXJGA88kOvyE5m\n",
              "Oeg8Ky/ADfmT9KECcTBcfUAeqENBCvuwCyX+p7EeuqotBYQKUIt4u7nqImq2q+iXR+i5/QLHzZ9X\n",
              "Vu3oaIlzEic+bJgckYfkf/DSoD6EHexSLpQevzXdgBMODWzjOk/BSnh72f2eLvLp4RtKS55vi/L0\n",
              "7AU1gNqqsLFxovlKl8YCce5bpxPNvkAElO2uHpNwCBt+Y76qWLnhOv8PkJDQVWT5gDUQFHqMSqF0\n",
              "ILHmAkeh1ssKnCLUSWfevwy+JLm1Ny0JyIXy0WDVWsow3IUXYME3SWXBy+YPYm5tivNzlPcHMCMx\n",
              "KNTdvsieZ2rbLLbuApray4dbdT8InyRtWSNS59vnTJXw2Nf5EAYOv4bHmGWh2zXHxxIjqeFOa1U/\n",
              "gezv8GqKH9VRVV2If+6XhteG89/BFV2m1eFDYpD1JxK6uWE8Z94bq8867bW50FQFWne6f3XGVfcP\n",
              "K/CGF+7GlY0QnS79LnU1VJP/GJD/ZXe81GNhZ8t1m9bfBDGQQg6vb7iYKzuZEESAvIUbbIhzc82k\n",
              "z7vZWLGV2pEJmO2caSgVkRFfOiLZZhXcuKmYG6romruMLBpLyxw0E+JTd0ofx/SMxh64XaZpLW/U\n",
              "emseAj0LFYsHdWqAYoqVRHKq/xnYUGH+CTPWeps8knXyOZBZcrF7Y3LRsICPOtN0CEmH2OHEpCk9\n",
              "4uM3h0dWvF1Oz4ODBjj0xzeO59Ki1/+our/IRnOwB6MDqOAUTiLnqBRDBeZZi749AlW+SCdPGu7H\n",
              "B3RLKwNSGdWdpToLfxbNdaOhxmefXtOPquQiOEpNhPZ+G8G8sGBANrLHLAGNQD85/7A3635Ov/oW\n",
              "YQ8aqy2ClK+bldopbuRIQ0HZdJOOljvqU0UHNHofQ1Ti6Kz1dGVHyQLfXC8rSQLkbjcUBiK8Ha2I\n",
              "tN+iQUyvJwgCtcDMw8bL2Cu7v09L6nelaBluiQeaD4/C2zjm+fDQIxIDltbC9xUyqR0DFmYmBkzK\n",
              "2MPxoBAfFuMuf//jOZ18yohjCcQcGF3v1pDXWNk/b6wYIt8ZSRKDKrgNooPZ0yKPliVVqsDt0kEs\n",
              "/NKSRHw7pQumTt6aQt1mISTIqpZTfqnr+yyGcPoTaJYx3k6ptPthNFJ4DTR1zMD6/knn+v/FwwMX\n",
              "159p2oa1ylCcOJ6OhjMgADa4z2+FDvO2GYKdQ9bKbKjX5wnbR1Tt2A4ZqNYt9uWxm4MbFvYMzMoi\n",
              "FFGOe5vp0VdyS1o4FAl+hjLwkYcW2+7iLSaa3FdpqQvds8e97miETz7xr5Zzmv6MJqufVG0jRHNS\n",
              "ZR6kE+uDX692ONlELCsS3jVKghSE8loEMVdbRojqFo1G869SRI7Y8fQJGbWxx3QZRVGviHgJmUl/\n",
              "VhigUIhwCS0UIsxnpZ8LnfWRqgSeitag9VTaDi/NdOdpf954vV+orYefcioG3gw6L23cxcf5x3bq\n",
              "iYos/XozDSWs5ELZrI2p0FFOH9SeVW1+McVPIKFTanqSsF3q0kGu0BJWcS23plLXuUi9CHEM6hbK\n",
              "wZxDx8Z/q0o2vmX2I1Q2JxDw867EZFqtvaipJ+RzHdL6KQoKZKHqq1GeVODSSaZtiQbcgd1tdUft\n",
              "gVN4VEcmmj+JnQXTop26f4p+oqLzMh4zc6z/tU8wYvc8D09PhmGxQhJlT2Pdox7uuVgMS3XGSuce\n",
              "1gs86COGOySCt+6VAr4KmTg+bxV6V/5T4AvZJi2kHtotNpdtR1V2pPwPulHwVY0EoRMUZo4MMV20\n",
              "E9NIyISxG2Qc8GLxCNO/BrjZcHwQbVDmKehRs56Z7x9vdXBPymhom/6WVerk6bTh9Nre3I9QiImB\n",
              "RSOoMbgiNnTXuU7we7sFofU2hN5Gn8xSKWbVDcgxL4ty8C4mT+rOv7DwUP8P6WFEDWi/kx4V7pCx\n",
              "n3WYsqci74xN57ehdWp4o5FjvEKzOt/yb+Ty8GR7W0XQTh7P2oD9X2bVnsml07V6F3vPvMRCV1jn\n",
              "E9Jx4D252wpFJaS4hzEEpt0x623P4nLZmqu/13Btz/G0BTKwi5hawZzeUAmT6d3zFOmysSxl6y4Z\n",
              "Vb3NJyQp/5BY03KLHGoK8feJk6ASIumJJL2DDIa3EKrK+WyM7bXVFzFe+JnpIt0WgUgNzufHL2cf\n",
              "eVWmQKOm7qPE+hg6XPqSM2BHpL7xTfryevkBD6LwtnSqvZRIYOeYpyesbhc5V9dwMcYWKi5WSOLI\n",
              "bAK+moyQhY60YzUbwjwS7XhKVocA+P4sWX8EHROXQnh0FO4BSt/Nn78Xq7dUqbzNGEVgrbCX1fBw\n",
              "JLpE7kVlkVzwDrPzHGxgHZLf47pKacTJaqHd9AyeEemkF6rDrff/LGVCe8DG95BU5RV2B3t6+1Hp\n",
              "L3m0ioRb7T9TLAWSrdT20+tJ1MbhxUsEDPX1Fl+y+WP0wFkF3/5vUYWZSPRZ//K26WNDcpCbGFje\n",
              "T3TTgksa5benhrPVZBxwRBTtaO95KJNUkTgeI/PMaXnQhcqdLyH9M3BWPqQgGBcr6V8Ou48gCTef\n",
              "EhAesWDJrDUFiE/1M77YMVgOdmRqsmn4EjFd+f1EQgcVvsAXyGwW2TLZpOLdvjorSH0q+rjWRkfQ\n",
              "STMxfuE2VsRNgQFCO/1X2JViGMkOhiyW5OmtrodE5CeUZDe9ZsEe20a6AH+/nXCFKG7O5tWSbPib\n",
              "Fl7rA+JFAifqOprkxFQbgT+q7tLI43sF7BMN9AoTcyeu8q4P0xajDRmCGYr1CqRwhwANowbEo3TZ\n",
              "7LFx9711ojfGBgurWYbA+rApq2x1ThePxyWKRi+OCLXG/PLFmKgDvmB08JuXqIaLVkGcfXXBhH16\n",
              "Lf8QeFm5Z/Ek3Ao/5UqrFhMuv3xuATd31fC63NvVEOXxv4L4L8sGet1RCvFyJEHb7UFUXv30tj6F\n",
              "ppl4PcOgxzA6mLmGSlXcI6yQ5CCLOLo88htLnC5xZP55/8820dZinWo0oZL1tAN0GRkJuNZpfnNJ\n",
              "h9tVn2j2zTAS09XRZ12aKGcEV3z6uY08917TdWVpLgCEjImfXzOsj8XGxrVdu4JWiaG5AMuQy2vk\n",
              "AW8stXee070a9Pm9u0hYW/pwoLYlTlBXjH7eYVBUz50+pMfzc4JzzKIpf6WHg8+AmTVgmiE8/bai\n",
              "mMnX1CUmNJVj4ifMaATTUXVE9WlBJEhXmDoxozsHym25c2ZJeAhl1+YkPUgHZQYB1c8Y+7IGBnbb\n",
              "qqCmqBnuZlztfRffZwOnU/cCLX9Txl67KFA+LTUdnDeT3vQBvzTnY/mpNDqDK1CnA+gl7deX48mx\n",
              "VmfayBtTzfra2/sVXgWWzEwUEFfkUW0PhgWQou/RE/XExYzOHti367zfzFypr3vLVLV/ie1iywVd\n",
              "Fj1b0MwhcY7UbkTaMIjGPBYZGijQS2Uy4nwlTwvno++34QMQYDd72NZ68NrskuQq4b0tpmqEcuIz\n",
              "KPFXfEuK25ZI7Uo9qKRErni30zmwYjfblyWqeQBVqMLPu/TTV+CZJUZIFLMJFipDF2t0+Q3QHsfi\n",
              "TTjEtPKC9Py5HFkv/u4XW1RXt2+PvhHpf/y5JVpkWKPJsmY06SQW3GKZwlZN9Ih+Gfb++5EiDm3U\n",
              "TI5qGDrh1fEHOVqnJ3EKcDAhUra0dOPk1rtoNF3QokeSWLWm29y4BO/dt9VpDGE5rp5gP6vRoFwf\n",
              "ATWUt9lPv7M5HptyDAZdLmSukTqhqII6OnOXxJEKN/GmdIn16AJfU7zY1ScSLbDqsc9cJbAqvYWo\n",
              "vQtOKsmez7fwrh6GyYmbjjDnsY5zk3jKsNa7coN81jN0vMJKqWZCdNSzf/FfMqLMgdQanUlSWNUJ\n",
              "aSV2HDr6ikfE44Cr9O4oF7vM190P1eA8lYQZnPA5pbhqJy8qUN8KhrYpqi+Lv3SjesNbQhRk80CP\n",
              "Nh5+sQWz7QIWjzt8TCx9lkv2M3dNOplyfXLta3/tZl0O3TGlwNa60PskyQPF36uuBrW9Ch6p5Bfv\n",
              "T3jo844hFZzvlMye19cInbPqcChAZUyQSdImTab2fhfMSJlgJMmgz3yH4qOrwr+lpBwzK65M0dDT\n",
              "ne51KjwUlAfZU8GOnnibMePnxhtMCC6DAAlM+e7FDfHA2A108j0CdngplUTzvKsBs2ra/f/RSOeh\n",
              "J3/LrCwfd8B92zIiKPGuRw2QAZMu4gAhxUOg407woLOwE8YL3ggLNd6GP42OkRMHjnHiPEUdvCK6\n",
              "IS5bayH6MMRs8MDJnFTH/iyIcPX1hWbeckpsKjjmZMuMXz9e5NWBd37W3xXd9thFlMZscnK1/Ptb\n",
              "MnG8LsmoilqcdKnKwVS1n0fwf/hRqbAv2YuJRDH03KXnrhDtlTmKROYIIuuDS8ldYn5uEQ265QOU\n",
              "3VfLNIogNGM6V3KmFCkE/k8JQXXo3Ci8Pu5IlIOKSfxoZ6LVGpJ/YxmLgvjCPKe1BArvWoFbcu6u\n",
              "HEavOKSzeRwSlJvqqFbpS+DmUjllCyevZU4GM6TrXkjWE7V4r7JFouvR2CGtsm1K2587DNIREqtK\n",
              "GZJxlKvc0aYVWI6qtfhLbK3Hz/szb6uLW549UnDVw6brZUL6LjcOK3NgMzP7PVhUVwvzxquJSbKn\n",
              "rMj4nf8q7oTach8YVAnpL+GnFZG/hEpgcm1iGiB4Dbm2H++QOVZQDjjPaeyq59lrn81bw/XRXchx\n",
              "I5A7xu4Azg/P/TkWpuA5btb+sjoWZjZiKQBCOa9iXl3WaeAWu6savIggt3XPDwDxPE94Fz14SIzx\n",
              "Ys0w4201wY3/TpaZsqdYw2fKpJ00UhY9zwWGgnQ9LA+JlyTgnKgNGbMIPI0z4TYSWR09+k8yxHDz\n",
              "0PZ92GTJqCsr9tWjbhVowpEXgqTQ7veT85QLweB+buT7ShH6dWC/RV8h5OSYQ/E3ksfTWuX7MZnv\n",
              "xG6fB4u7xHrpA4ouLyysxgArGLbgigw8rp4d//cws8C0ov9yQqEHTjfCROYQj7P4NF/rwWrNLQaG\n",
              "t6fnuUXL30k8S8oE4nZtyqTx5nuun13eLPjNO+SuVKbJX+OmmJOyPWkWGDhh3QMsUHqky487/trM\n",
              "pfygWFS+cCPZltAfRl/hJH+XHy2kL+WcxbnGVthq3o59V19Y4mV8scxtYfBjkehXVfoEgS31p4wB\n",
              "qsPSp4n70eZUpcfNSHsm0ERfQpFEekASeFuExvLzgzOnEi6dztQ/d5f+uxQhoyR5/XpnlZItWust\n",
              "FiOMf5SlQN1guBcUqk02ChKZ4QP7JIPusa+7UMR0Pb+9miVNgB+c9xDSCWOGVUn1coj1hDccWKYI\n",
              "Y4hffg3g5SdYrDXcMERYlxhkdiPQvAkWGauVbA3lK184hl+FVpeEo6/TOSBxVJ5iTZUp+pcz3xQO\n",
              "Iinx0y2gXTlJczFjSQRVAe45Ea71tHA+Ugf20ODpS6LxOyLLJopn0ZPWkbiQWzduybzEU1U8k+Ro\n",
              "1rec6M3QU3gHYDkS86w1nugg/2qjB4mrAlJn9YbFQ06/vbb+yy7Dn1noFLRgGqU7dYEkh7q/c7jB\n",
              "oIH/usvgOjmjhbOiQVJuAMdRz1qxg27ki5GhUAHkN3cvgOR46yCIMAKEAdXbudldPsjPlAbG1Pjj\n",
              "20QsV2C4iyKouRPMF0ccjp0Bl/+1k7yv5UGmVPHBeRbwDOugSbde7UUCV5n2NcPASsdVCSMPF1/D\n",
              "pJfMMXnwR6hh7C6NKVSMdqxZiIqtPdyVIAV32XBLQuohUoNo45pWr7Ao0aqmzPJnazKYAv9WVaeE\n",
              "Zk5qQbV94uvm0FEpLA6rY7AujIBw/vEZppSEvNWf0jGQlZHmUP4NlDRomsviCWBo28VE5gc+BzCp\n",
              "KfP7r34uqnLyU/ocKico2kfcGMq3rtEL2QPMNNldHagcs30wYbkPvvv+3IAa6hhfe6yTJ9lWEnz7\n",
              "AfUc/zzniwaHOJjs5BP7Se67WiO7xaqDHVjEzLKY4b/nP7fIX2KgxDWDw48bIdS6bB6I/RhrC/NU\n",
              "3wAPSstPag5bVGJxWliSXXyMpSZXWONMkaPyi80ZLOpsbUsKx5XUF7OORE+VLZevEGQ1/X9r9sy8\n",
              "pOD75fv9fHNPChEt0WImJwiO2unOErqgkespYvcW/WTY/8S/K4EXHQmZfTmw9qkv1A0/AMRIzusA\n",
              "8ukcri2snLGzF6AkQu7Y+x5XtgNf01TXubWe5imVR1ORpV8wH6oBzqpopofHBpRR7RAgevHTMb09\n",
              "HltY5W5Xxu/sDQ7vUyDghUhjludSD277w8eQpiVOlwauvm+7hWy7xiauUBcGGq5HlIpVZk+FzoPT\n",
              "5TLu+GUzdDMvVvwhxJdNObl/gydCkzp/6ZtxafLUzf9Yx/tim2JHmUJsztSHOG72uUPfjL+PoDr+\n",
              "PVy1LouQDKIrsc9fl+dScF5VA9Ir1k3dFaYmQ0PU+mpjwb6HymMVdzpf/XoyslME5qTvHINSHtFR\n",
              "L5cAAAxcQZ6GRREsFv8AAC5eYrztUKaEn/hnwXAQSIY+h5yMmbxFMRXdt25OxeAzaR8bygl1lzta\n",
              "BuCFH3SBVogRAZjgKVsrS/Gk1XGbeMmHu1vq8dNDEQKliSDWPr392C/L32Jk6KG5oNz379700rkH\n",
              "G19j+kCbOUh3giSSfL8SBGE81Ckn4tBDXfI3Dp0koIL4WLiizG66EuVKmXi5W4CzCQ+QUaFxDcrU\n",
              "3J8qonkNyuIUjROua4tEwakAQduz/+67SIhnaBKvwimO82EQBHeK1/G3ur5+/knUpa1LmNWrCyu5\n",
              "BJGYLek3DH+EeTF1DSFTBVClfCT2mqtXqPiFSXqYsU6ZDorwkVkJnCxA89pDrdd9jzYwAIfv7mv3\n",
              "dwKHM+ntyYHMmkVq9FmfdCefJNl/PWd95qrUFQ7dK+63tnzMkbbct6teViDzKgGzm6J8rqnH/lD9\n",
              "vlKWsr+PHLHXbSbE9J0W28ev8q8vJS9jbgxSsbuGsMXIQSP3mEd9xMjlYQ93+OB4TzUopdFjp/bC\n",
              "Y3vzakSXL4g1FaFTRCsqOGEXH+UlaP7mWYrFebCjIoah2rGY+3piaIIXxp2vsBst0TrlZXWR/1cC\n",
              "wxBw3WGwoS0iYQ8mJWSlB5Gl9wIwe4zpEMe9VW0uWkGmbYImeuqEfhFnQK+tZ/yfgvGrJhpecrDa\n",
              "TdF4uLEeBpqtfewY7u4BfrasVOT2A/5Y3vbQPVVbgU+lws+aX3AyHtk+cnil89mJKBz3oairbJZa\n",
              "tkapqxnAlerWewSb+cEOOyks0cPodPSb6z6OYApMi173s+QRv0a+XiH0q1cc+s66LVWGOSEH8xCq\n",
              "1h5TJwETJD+UzLFihIy2fhFvofphaas2pYXgu4Kd1q3/Ynh7AbbzXzqr1d73TBgykMfZAWqJbBxZ\n",
              "Brfa2EGyhpSL106exgqskO1nDzKxRunWLjY7nlreVjijS0FqyPHp1S63w1sPZsP7jZ34YCt/fhsx\n",
              "nGHmeZncatW454FGK7KXOasL7SnJq2yGvtoK+CM/TJjFEnOc4Sd0ATTX1tbcM4yG4Dua43wzWrnV\n",
              "8WcWFUmNiPIKi0f9C9wZUXD56fhywXptnwkLPuVlIsFb/iw7VaFOimThMnAg/q2HHfpDW4FmfyRo\n",
              "Mixg+lFL4dELYMKgfE7SNzJyI26/bPHipDJtao2sklM1m7Rh47/qesFiLSCwd18fC7jO8N5jGJQZ\n",
              "FiPEDQFRO5EVTLEKdwqUcbfHBo2KklFXg7fsfx5ehNGm7gs8xckJOVKUJjbjLEfvSh2STRQb6yPM\n",
              "ugaRvb/j2VOc19o1/FITh7fo///SMYkg0JPT7Im4J9COW9IbS88joyZFyx3D83JjwD3lVKlT069m\n",
              "OuYg7y0PJFx5TjWHB/okx4OqY2izazclFbos9DGtCxBmacigw0wvwFp8o99hbXwuKfgYSPwDbM5O\n",
              "V+FVMiyBtndhtvttLUJZsCI1167p+zG40soMx8idxUuvbClaxWltKmHcV78Euja082UKvFtKv0L1\n",
              "Dndc5+1jucasCjc6NYcuFKKorQ/dch9yyJ6ZCmuRTI597XUpOZM4ObpbGFTxH98afHvZce2cnexi\n",
              "+N0w/20hDy9yzth68WRkA1EsyVhWZpvnVuouoYcUimbVEipxekWkJYOcgixbeeNGzVuZKykhObS7\n",
              "e5bzxqRM4PT3HrURV5oR9untG9gPFZ8BJ4NdRotixwdi7vjpbYzOPdTDASOEcKqQacHZ6HJIIXeV\n",
              "oUSeiWESC+T7tAZDgIFmco5DMHhJzPzNfx5fDlCyGEx/R5QvHppgPgncwI2hDRHT19rjtbDGJHK3\n",
              "wXZaQqWn157UU+g1rMnd5v4/IEKp4SPMLOoCyw+Au93/SXH0FF1TY71gShWf7mEX+jljuf0tkYXI\n",
              "Qp92tzFNLwPEsQ5eUZgjNPulsLQDHf97/jUV4Z+UPG5PnZP00Dj44Xb5mTZViF8quqM35WNH/AqN\n",
              "TDbp2IHWhblhkPXdCgk+MdPZAp/s54pOO4mNBhbRzNgW+pMcyHbMIvrNuP2JRqA8vOuQMP1Xg68q\n",
              "rqm2GPLhLRhOu/tM2g++OElRqcPisafZ3ALu73Vugk4Se/GNjism1b7zNP+dQ+QWbtWxRbmP1k4S\n",
              "NEcBM2ecaqf+oUPuhnTskAfmAbryw21mbi7MfzxLo4PdB8MoqNt8aYaWzb12DOk6ZEWl3f9LXBgv\n",
              "LUCh1OruFuk2d9QG6QIaIP4Zyx24OUeQVdDI78Do10dXiV8D1LnRAYQmUvXeaJby6Wc7/F+BKdYg\n",
              "9pWYVnk94ZjeUdY2vf1YP4yngI62Jx364SaBGU5b+T011wVoGRT4TaQAI61d5ukL/23fKdckhRSk\n",
              "8x/ficRRDkHpLEZB1yjiSmZUDOEdQ64TmcAHE6UF3NfA1b8r7g62xsafTFHZuTiCatFUvU8UYy4F\n",
              "i2ye3oSWYl3JZGtovc0pA1370ZKyM6x8kJsS0PL5epKDJHRQSO1wo7fhH5JIPbu1/6IEd6RbFjg3\n",
              "tjCbNxvFOqou24g7vjtu9LxLr04fSyODEFstrCjMguWS8jbIIxNoNPBogLLZ0KKAQ5aSeoDksIMz\n",
              "/hoTAOKkr+23FzzkxH05k94JeNEEAcCN8vgOvqFSaoAsIx087Z15OIuaVy+HTcACipaABZ77Mk7I\n",
              "7nndyotqaP/waIuTdeTbt66GfTBNhKIJ+K/SxCzEYnJEfAkpnDdwLUIrMUqn2uEV0yXF9D89R49D\n",
              "/pTvJwv3iI7+XoGNaj6i7fUtiUyeSpfRDDr5WAgeP/6Xda65Do9s0SKkVp745Zow3hZeNVvoUz3L\n",
              "jrY8BoRTblTJb5WeurC5pZfDm/pSJVnjlgtuNix06bfsmP5bFpHTp6SxaQ8h5zEXBUZsYkFkfk2H\n",
              "mmDSJl7alRiBtnAxczI0Be5DL+bvrlMch1n6Rj3gKL2EGyuvoTw+bnK5xWCcRh/bXqnkiZmbsyqX\n",
              "bb9aF/bKoUoUHsoTwuZ+TwY9FO8STO7Y9gDOdj0icubPWmAzXSYlnh2FMNE0n9w5AIag+wXNW22c\n",
              "V4PTZ4CWgsChO5yENHP3KrqePrwGrm7sI1woEAjBNHU5TYEwofU9DSlzA6OmnIH84Q1q+xpU3aZR\n",
              "jTlZREWRzO/OV7hms/8qCWOsLWpOfJx75smHKw75BjAP1A/cjEemHinrZiV7IEFqPR7HqUoU/rMV\n",
              "7YDV+xRfeS209mVl2EeOWkggOj0yOXCbscw7oGnfs1+rEhyUmUgBUJI7+N25ppzG56ed+9OiumCt\n",
              "T59CwSHsFnS3JLuDEUn2r0ILmlov9vmwQQSemvt2xHdrVJWyFi1N8dgEGLN/OXkFpr10AH8NyK5F\n",
              "jiUN6JaXVRNhHmU0wcRpAfknegfQmCzUo1XxeC7Jps1lE0Q9x9iRmb83rltTixtZreTZair5XLbr\n",
              "tvk5xt02y2BYvOuy9Ndd87rxPL11TtwU9rRuubuBVD8/Ib1a6Dm2opNV0cA+eC0JTR+IzyJduXH2\n",
              "wgyab3mXmtYFUhjI/vct1v+nlmyAA0W6cebBfztuZfr61f6EyzX5Gk+WA1iNRCSkB0xIfBevXceD\n",
              "20KcV6tKilCCeD6EKLqwFyfc75GnPbSJu1NqPlR8j1txPR3BRD2W3UHlZGbWFc4TTcuqXleDtWvD\n",
              "ah5L2S1yZvjlOr8x+NPbQgBAIvLLXguH5LZ43DpcwufSt/VRWwuMr1KUvtaeMGpHTbwOXi9Ld9Zx\n",
              "5qEQQJb4i9CuJIHAIBMaoGyFiruWEu3UjOITgTJTJCQSA/N/i1djOu9y1STzTIal5uFKCHp3I0Tg\n",
              "aWj0A9uLqsNimxOfcomTvXSb2OfQlV44wJoCh0MtmYZygfygQQ6bDSD2rGJMqC6UL9heMMU6MN9A\n",
              "auzKD26tbpk6u1l2N2SCnaZwuYAptmntBVHK1pjuVmuBGEU/gf2pMNfL7b3b7x7GiZ/WGQjCfY7r\n",
              "N8gvHYPBj6Xqu09XB345FZRKeY7AtHnrymdPDcX+6BcdOX8NQ/OzsAST9VYPHy2fJLOOqxeDwzzO\n",
              "a8aGXLRWR5BUbbt5nX9j+YB0tl2TAioC+PX7aBntfKw/9fJumonRWFHukQPy5nVXqf2BMIzPhKtQ\n",
              "EI8xY587YdF/QqqxRsO7NBKHM19D/iCUU9hTS15PhsIWysrvGSwu/OeTvd33V2vTEJKZXBx2QeVg\n",
              "a7Gh2ypM9jJBgEq4VxEKsBnxtaUmeoJ+F9NchUBEVFhRmsEAAAcTAZ6ldEFfAAAik6KkQFT/9jfB\n",
              "oDGOzGrbf3/SiqaxNaARv0ox0sjDMlAultCoyanDKfCbHs1R3c9jJ3okTLvRq3PllR4IWAc97PyO\n",
              "MaIGPa0NY/mDN/YFU3R3ge5zOYKTYo4qfU8uxDHFDazRIQ9jQ7y3QeNEnV7aWwgDHfqRnTD3zrPu\n",
              "YYBGJRwqzRwxa5bmhLUYtvGzl0NLso/+u53rdmjt4lDzi3NMh9ANyVsJqn5bgk05ocJhDLuywAXV\n",
              "uBthnWZp7vj92ijDIInmw2YkOLfPl03LRXRTdM5LxtOzeJssCP0Cm67wCYsiDHStvD0wlovNZkJN\n",
              "MQjxVJQKRUJzma+VDMOGivAx4GwDP67BBv/ZFME2x5HFs/hauNyeysgsEmi/bEgQJnIPMnHgO5V+\n",
              "ZW9o25Z/L2p90FTPskN9ikVtxMEtz8wSM4bpRCg8mLBETo3E3wB3fWBDD11Q07njmuwFSE1jWaQh\n",
              "7uFhG6JL5vSUO30diVFwIuahIsJx79tz3vUC+zxucaFy2Un9tn9BwM7/GO8vmBuOjjCO7KStgtA3\n",
              "Jpt7m9Igon4TffuTGs1KAmt1AyArxhGkoGEdyClJ10ay9CAmXnMn3dq7q/EWO2CS6cYil8KQYRBi\n",
              "7Gi6mVQbJmw7JvVSEUGKAGUtPVJ5pJ0XgyC7TMp7LMxQx8dWFLmjPwDosUUAEZJQdsZrLti7EZEn\n",
              "za0w+nRujsOL1VL41weWL/Bbpe27BFauj/a5mhhdepr9JRYrGi+bpmnDT5VBPFaGxtWBw/09TgZ4\n",
              "IlzbB1Dr8wAWjonFXLCOxXoBnQ6Wnb2et1wAOeuFjDjkwCB3kVrKsiMO2rYQbYtlwRe9sMfxEhH0\n",
              "boKl1FgxWSu649edbS8LJbupVj1hcr5DXiASorq/90uRSahUpDmGu5yA9X2celtHNrB4wQwmhv8C\n",
              "Vvo0robaIceLeHr2GY5KmEgzCgcKDpSOvb86jI9t4lAqH8KJOwI7ZeJWvuVsT63nksTx0i+CHE9H\n",
              "xNJH3ObwILDqSqphA85PkdhYcBw30jaIzSC4nSGd4On8IwpvrFSdUZgsj6CDdKUy+i2C30wlpt73\n",
              "rszu88aMvxl7n/gLkxyNEg5O0aDOifqQAGjBFmlYs+1/7fI0bqQsO++3DpAxFINHs6QZr40q/ccF\n",
              "aFE/GcB7lrEphZOjHTHM2ndqGQ8TABooJXiYFoU0Z738XFX7+QriqkHtf+2CpDknmUYp796NqjZy\n",
              "Vdw4rq3oTld2byv9gEQP3vYF5Yv6NsgqDGJC63O69nWsUVoYZWn7yVL1FXzXw8i31Hbpm1k+t6PR\n",
              "Lpzkk3i7q4H3NBqQGKxmOzatCTYDGfIdpbbJ3OsPOS/VfYLBuKtduNzoCnFnpx+9Y82CCVcBxbTm\n",
              "YR84dctH1KMMO5aLXDy7Tu6amPOJB3RQuTgG3n/qxJ8Om2A3NbIwswJvQy7fvh+zIxTYrC1eQiOA\n",
              "Ltn7rJnsXzR3Fr/2h1m/eU4qt+AL081CbBaUqJPQ8+3lePttiFNDd40kK34R9s9tlu65R0UUDV7R\n",
              "7hYETWwzXHuw5I5pDmNYcvla1LoFN0kpXTHDBuE5ih9mCvYgTNoVeh7b+uC6pmdQJuR9UCQMVz6U\n",
              "JO+j1FyNbsftBWd1lb5f1+91lyOD8kP/DdgQvND3UY/ycCR8M4Xikb2BIMWdzw5Fqzn6vk0TwLXy\n",
              "FRz7Ut0HJBNuhHk+Ru9CJfeAHtWG75ABJCroLE/1M68PHXjRItCAJZtTavwQkEltVOhQlG8M6PUi\n",
              "tsTWrAnJBwomC3LC9XhF+pwsmALZ/zAlCgbazi58DDslkaOv+j3mrnoPgw2tLPlLt26cW3XfFvgj\n",
              "UzZNmIUQSFMCNaPRdc9X8V6p/JZGfwliNbERMXo/DcoWheL7rx/e1VCflbSlUrs4kiP/ANoF5ut7\n",
              "olFdkv+SlrT1mMAtylUom/La/tGLiRxKlg6yhM1NzMrwzwcyzLbbjH1bGz2+a8SI30yWoviqUs35\n",
              "u/K4TRaxk/nPTx+y6geZ1ASQC7crxAkMTAHjMFrQ5FhU22bXkwQxs2egE+ZOoOeOriTg9Ge8uZfa\n",
              "sZ6ctj8s3yHn+sdP7DQYs72bGC8VyLc3FsIhhUDxQfirhdQgTyHMYLqlPptDGUXJeTpDdU3ZluO5\n",
              "p0gzrulSbWNPwuUMTZqaLxRVLdhPC0YntcEcO+hHbbRZtRfA0vUjiCUZyLiMwjiWlayH/hmILJiW\n",
              "pskUWC+2zR7Tvs7nsLwgyE0f7QaEhBBVfQEX+5tQx+OiHttmp3aeQ5gFhum0xoFd9MndJQLIt4iR\n",
              "rpVYw11+G8DwsQQndvl9rW9QG23QZhshvQZhVnainUalZa6/EsKqTWaMXHjdt1GuQ/yit77OyiCg\n",
              "TdohqgCdlOJwERIsE6OnstPkwloT9sy8MbkAAAmLAZ6nakFfAABHJ7VvJ+o5fQSXMG+61E+15ilJ\n",
              "ii1pdl2z02wS6Y5xkQ/IezDQsz0sLHJ9Ri0ZWIrS65X/fi5xRW0xqFPZZl9LOoSqG7CppNAPdXlP\n",
              "Ra5zoCUps8mLW47UBt8KIuy/HZDCt5qYa3IxX0QDEAwWd/v9BR+7QlZ4PZdQ28XjjNlHblJHZcR7\n",
              "SG9+2IdjuJmcfQikh8RHcxVPuS7wLuzkAdsKD20mQR/M7Y9osOZbvJs78HyeRNkwiE/0isgpYkzl\n",
              "zcDsNkWM8nLXg/7VhhN9BV7G8wHdx9l5yeAfp7yCqNbgQPLS/ka9TOTjqmzbfC4K/3nAQrY8+t32\n",
              "OH6nBwFUSgoty4b1cttZi8S0/sp72xwJxU7ayQkZpGbU2MRobbsWQ7ellNfg/Lx/4RcdsT+RuSEG\n",
              "GF6PuRlQ5mefM4iDrwS8tynRIE94GEeDDbCLQ/C9Y2E4dqPdwRmcUhVa6faMaNqT7KAK5fwBupCp\n",
              "8w66T9zl2vmubXakQZAKXgHQn7avau9SPhVrEBDkpWXlJyXtL5hHAnFdQ5tEUZkoXAwjihp9LuB5\n",
              "EvlmGWEOzmxoFnA5V9i85Lp2ser8N9FxVc0DTzP/3WeJ7IYSxbPThyA7VdQkuxjtFlmePwS8Kxvt\n",
              "dCqzOZcWx6BdUxzFq7ZZW7NsT/xssZiUhps/5SEfGgBMztrR5HRGmwlOou4gLFE3nfNhJ8NQOc32\n",
              "k9RmT1L+BaGBwtB4FI32XFD+m36RLWTAjDytBIVJIfwIrVFF6FRNdFMW+pZ72Kd0gxrfT0bEEt50\n",
              "M+d5+ruOkbv7ciN3eyg7s/2nLdWfzaQf9CARGpmPZsPMMqqA6cHA86V3bHocrBRriF3ws4NU+S+Q\n",
              "GJrr/sjyBzZZ1hohIggGETXDeoNJy9y5IkBRnkvaQV+y8R/RiG58Q/VpWW8qopKxpn/PtEGV881V\n",
              "HXLw05QgG0p/L25et88o5cwxg1NcwYpfHw/IIHMiQw/s8I1SeorWfN0Zl0NHo8yVll8xu/PIQOkt\n",
              "kWLm17gF85BTLNDlhBfhAroyvN8nbcR2HL8z7UADOSpcubA43svfUj+s9J8HNjet5UuVyhF8Al/O\n",
              "DAWZyqiHdtU08laxs8h3ZN2D1Xad2pwk5yV5FYAZi7g008vIQiJb7MN4Ig4PsZhwjcI7lUDdcFVX\n",
              "E7TBF/16D25lLbAPWP3AZBUI8wiv5gift1CtzYVvFJKwznKzH/oKI3g0cOGBHqxZK+gaq+ZkzRg6\n",
              "LXBdLMkE0mz+PGkM+ICUC61gaqi1yrRB1rwH054tVlhDWhSiatrg+PhYfrybyAda0RKnTUVIsCvD\n",
              "gfQ+GcP+H79p7HPNE5ytomJNTq9icCgCjCcNzJmTAtER1P7ecx7vB3NsadiwVfQx/xGef9+qG7Wl\n",
              "toBKeHTwZY9A6QniV3DOy3yWBacTDPN8ue4sEWJYln2PQ/fmgfAas3xa1ATGyoOKS7Y9ojwtf2KE\n",
              "Mk8LZmIYNqJrQfzG4/oiSkMI02FPnxaooJGslwBU8b30F/MQRFXyhKEnJ2qf70XOLGCLCZRdmR1o\n",
              "gvk8yJV2UNLs6w+vXVx2edblD33Qg3AjC3NOAY5Cn+NGNnscZcjGhYpDvAPDDxLgEUPLhrtQbAQQ\n",
              "1elptu0dJwG1BMuWWPji67/F6giyEBBFDnszV5OAeLISOl2rLe2YAVdjlpGEyCKdOIss3CoNet9O\n",
              "YFQr+YAury0a/wiCXCitjzhe4TGhlGlfNk8NSmMDieDXqDSH/fg5n9VS7EPb50jJGKcbaMG9CUz3\n",
              "pP5EHmZfwYK3ycM2YPm4iVug1izBPUZzIc/r9rWK/XsIe49psmxa1/tG9I71Yli0uhS6TVq7dmCE\n",
              "fWgTjjqk0FTdnFONyqahPMUwLplmN59aIczHMEYVpfgiLcdk5OEUaYXtnrNdHGmiCeRyAJvadm/A\n",
              "oq0b25PztHNyHKjBdssUXfhS/1jGUmJridPPejrcvcBnQRhpLVRgoL4SL/WlSdefOjjI9EiJS7ns\n",
              "gyiR9+I4XUAE8iLWC7M95QrCCANgeZkVgNvLJKRDbvnRLTxyLKrRZ/bWxEvd1uzj71BN0kGf2pGr\n",
              "HrR6W/yVrjw+/HcOFtoLPtqyEGPvbwoUg1ukgDZvg8jWOTzvrfV+igKJ5j16wC9igAM4NvyS03D6\n",
              "hBxYRMgBhKq48NHKaQASHRXXu+ByRw05LvllbKO3lRcnBZ1lxfWVr9i4TCI6IZCjoXXCEtuVdZp4\n",
              "XKHzf3GqHGdlb4ADXj1s5jB4vltZOU8sIinFxPp9d5XPpG7XNTp6GXMxLJAObhLURSxzM/gptgUO\n",
              "ggsTU1Bc+gIUSBqvVjqUdtemZ+nRxKrCKEMacPWzTqODPJjNC1wkxKb6OoZqtCxrJfgnoaVyfieg\n",
              "Izh4uA1yvQBoZZJk3LQU78HuUTrp0mT8QiJtHYfAVosl2BBhVhYaNzmps2K8kDCaq0tkgFq/uQwP\n",
              "c6ujBHDzd6GVLgLEmj99jZVaQzh4BO7Pz7XbgMgLw8PgihVbYW2ZB9jNZ16tgfTcGpt0/fkkLtU0\n",
              "JDIPQjflh2Gseytlwbt1NPP1JLofxlpUN3ToT94fxyHuYEt+bpHTWMJiu75/okiD3wMx5kurzaFs\n",
              "etZdQgTWxYWJqWYI4I8qEsHG5Da4knlk4JBswbWS7ZQGiG/eqDqFJdSV1/3WTO3o8N96XFqUxGjs\n",
              "L9b4PzbeYRMGE9dNViVdPo40G7V4jkdtTDxkYZmARCM+9v0q7BQd/UDAq4k8rHZ0lvMaRAIXoYn3\n",
              "ggYlvIZl7eXPJm9aPzfHuZwqzE1Zed4Kx4h7x5FmSVmPw5yBWJh+ab43tK8VFgsDo+x0c/10v7FV\n",
              "rDnlIBXSThNzEdb0pvBBbpeVOK3QaJkqOOFHyZjsklWI2jfutQcAwfMy6pJ6P8O7D2NpG5BNO1ZZ\n",
              "hYr1t6V3cyyEWItPnIwcubxQTyeVjqL07sJYgFq/qgKS46gb4IHK29Ddxiorlv3u9glj1gJMVTGL\n",
              "pnKA5L8qyWK99X36rVJQIMfU0MSJvtUNk6ezESf7edyYlJc36A0CkYNBXCJFK1Db8EOeUJ09kEAm\n",
              "IViF3tivE6+MebKJuy3gS8sVe8mHlUkYyn/xe4EC+XlkoQP+spg6FwTkD0nrGV3xF6zL8K+G7eN0\n",
              "ilwXna4Y3i9Zgb53K+k1OHcx5VbNMOszdqd2Qa82SV2QM/mj8ir+2scSXqCufBNuJ1N3GbLl5rvl\n",
              "aAQjcBl5LVd0eDlOaiRVWfWQ8ip5kAAAGitBmqpJqEFsmUwUTBX//talUADecQ+QBCrzA3VvgLCS\n",
              "RK6ovPwMHCPnFdR6S18hWT69fsa+x2gUqdpfTFuGZXhR7gpO7hm9DdXwGc+XqkuZt5s59GQNMlvS\n",
              "/kPM4qBbnVtLBFSE+vk17SaeBrROyIZENFrqCjm9GVV0So9/dN2QJRTEnw6tYVphgzXZvcCIVmgW\n",
              "Yq0Q9sD0WVmI8POpOPhAjY1Z815Bs8BXQ76LZiNveRNcD3Q4WwWrL3vjyFzQHzJawUSS0aUwr6l1\n",
              "qeUG6xfpxTNjc7Ua8IZ00iur3HB4JOjcDoaD5IGVfubUQxC+yOT83ExZ9sPgL6EFbD7wWoaRki/t\n",
              "s7K5Kxi+hMa/mFjjZT9zLlL28qeAfdUoGwe/fcGaw85zKEvchAQJnPaM3KjF0wD+AIbt79wfVjRT\n",
              "ZAFNoo26/so4OdCIr2UxGt2gDroanJ1mdNg6YYnAaK+jbjAswt/s/2Jawe0HeTkGjgS2ad2DQQXl\n",
              "E0qbJMAXA5Ps6r9zcxHNSKpPlIMiRKFvCafZHQayF4eI1US5NOTqowx0ozyPHLgXi4G+hq7tPcHf\n",
              "hCKMw7azIgYUGUnsFsb/4V+wpMxiQq3L7J+JgI6BG4TkdBSa/og/pFEJExJofBNZdx4ovhBVN7lY\n",
              "bL6DFFIhf3/RR5MHCAPtcRgYyqsp0dNGeKBgw4gtR8PJ7ky/R6hcKvbOLa3Q3JPCz1ZWOSrrFC1r\n",
              "LYJg4QU1RYX6ImCCrAj+3RlTbgZK5FKk85W4YAcVovKdt3y6jIH4FWQfNqcuZA5MnN0XnKjyeCSM\n",
              "Bn21X2cC8suQ4xxK5AVQkoweNgK/zrEPzkKr3nTTEuNJP7DnIhzQmEwguj3O2Fpwwm8hFDAaTCyq\n",
              "w22Eqk5MqzdfcBvohoCevtimPEx8vGT2JlVzRy0BBzhcArowm3YrhowVCK2STivMWcQqEAHTVDfe\n",
              "fsijlAG/u+uWroz1+/JX0u1BVfnMxWc8FCiDhwxlTGyiSsgTKyHEN1wtbVQ7gBMN4Y0DvqT3wpTv\n",
              "aGtX2LdliKYHUe35bwbI0yHE4cAirt4UpoZ/ggKEDuWWhE7oVfsvxkULWyn3eJjuWMf7iP2Rlpfv\n",
              "do6jbNj/e1WJvhGnL7uAM9mqapEHN5oLMXbwHzFeIBKRXd3EijkS53etuB75nr9AqHWNJjw96Jhh\n",
              "HjP3Ux+AHpJtJBHuamTv5+hJ7SPwngne6eJW/x1DxUYye8ViXN1SQ9lTYnjTofbuP1NCrFULhrFx\n",
              "ofkcn5VzAt3d+PkyEMbhLXH3VGQDFncQlKsOrVRFT9RcRmhuGl8Oc9ljVRBc7/iE0acL043Xxbzp\n",
              "6q8TQj2LKRCuU1sXMqnMBkcDGIA2MWdrZJaM+os/2mQJZYRGN3aHJadulJoLMonPfwbX/eninlR8\n",
              "X/33NhCGGfjaZuMDPjwzLtu7Emig14GbHIevHZ09jtVVtcZWw828qIo2rzuF09hSDgcBlObwNe2s\n",
              "0xaWoVKSouZ/XdMlOBap/ISqWHg6SM+RzgdZi2rgimVwZNVcUZuYW0+vddvTgIa3koPQiM8rjGO4\n",
              "BMFG0zpTEplrffqH+LR5i8LfGk6BoPRbdv4GGT2F6FmR8R1xBoxCWFjeqGZ8n5fGvTVDNldGRauv\n",
              "1Wi6ydBIdFqSOac15ZBwpy3BqW2YbAtsGUw2NHTlXEP0a2ntRtvuXpBD/LdBv9FXl6Nkg2nnzFvu\n",
              "H6dTPt4Lu8HEa1M8uqJwW0rYf9Pn/LsS6+LccXkW4BA8HGz0dd4qJoQm5NkjQvGNDTNCsZwKs2b7\n",
              "Ayd9g2vTVDmHnosFftVHZIjutMks/UzmwJ9vCeDqoTexFNJD6oXw/Vs2dWqyj3/4KlAjnT/aUN0L\n",
              "xh6kiWgelKax0m2QFWnLXYnWEKHKxtOqvSkE0bfLRqxsTMs0IqUXCPGrXLjxdLV9JjMLTXhAhpX7\n",
              "1VoFG3vGGNUwQ5ghx1D+VhHg1jnyuWhzG89MIlwPIp5h5LOnzwB5wfNZLj2zlGarrafGJ/bQU/fI\n",
              "xAmx9XWQU4NqqQUXcYe+NY0HOKIIeQ/H0tnPXg7FsbdgP/q/l48QXFg/G42x+Bqp79+0RvnoJHIi\n",
              "NW+cyBnYmn1UsC4U7tPpzDt/ZOnHy0Vas9HBgmMgxeKw6NzVpAeS9LND/cLFvryc31f6rxTGrQhm\n",
              "qSU92kn8i4X4QW/xbVo5Ogcmf5RT5kuFAiG710NkL9Cz7FkqlgtrUBQ22lkggsDhcxRxmKWZMjYx\n",
              "cLLCTCW+EFB7gYHxDksipPeAF3q0q8As6juRBNdh8blJTWACzCKXjxCXRu2F8tqHRe1RXb/dbXVd\n",
              "PgU271iTDwqMPHG4NSHVQVLl67ua6ev6s0yL3/wCkdBY/tICnnqmqBFf/p7vTYHeI+CVHzK9elrc\n",
              "qcu/19U3vgKftTlE3Jiboy3GFcSjy4FziQ7N2OKPtYBrNJfNnQI2ceEUhxm38R/ETb2JxahvkfvD\n",
              "5Mv2ZQr5cfydo5keGPznV3cMaGNzLmv+7ANdIeYpKqpZxUbEv8YoZ4/ntFqT0xyzb7V3oGhrON0d\n",
              "OxS02HJCK+DjWF5sWY56lDzLYDXavRQzqSiM2okUJCkAaUVFqpyB7ZSCIugcjK48A/6NS1CJnylz\n",
              "YQzxKykq4/SdEU3XL+f6+H/eY5H2fL8G+QTuOP+eH6+s4Ao4tj+fa16tCBiQ8slMNo7POxWV9ddR\n",
              "K8iCbeFwdH4sWF4PGdcUq6nR1tjdMsfdSkG2YAmO7RHXRzQVZaMAq+NqV2V9O7Xm7EdxHx3NP29r\n",
              "QsbUY8BqgFJwWfn/wQjicVnP+PIGDnoY+YjxYw+ghc6YfyPx0QfU/V37TJGYa94RfLE0P2Y3EVu+\n",
              "3rMdJ8MXvi0R9GTRCbjtyidvHKv7Towgx6sQ/rv2GbsNYWjhpeFYvcrhJm7ze2WNweHK7NlpsLUm\n",
              "HUH6hYLPX6ZSuWoQkrEJQ7ZwC1dGVw+K2zdagLxP/HUbrRtx/KcnXpGwEUU7hhptpuCnkiasQr54\n",
              "LUsEb7jTpQinbcMeXfHaMOJYV7h5cp7tSRkU/fgUrBlFCm0lZ6NLDLeSPyQ8Bis8UdbAZHkFuJnx\n",
              "rkTK0WPmmfw54XfAKe+fXXfOFMogfWy2ZiJ1e7yQ7W1GkJeB78pWZ5ysDsdMCfDLTXKp8gH6g14p\n",
              "4T/w1/ccHCLlP2LLClMoRQcZ3mLRmTrVIauTstNvhQZGuPFdGn6IN5Opq+Hq9JeyUxwJfLQY59/9\n",
              "woe6Pncd6biu6ipM6CuYko0l0DETI/SR1T8IFw6I4ZybY725NMPbwoHjy3HtkXxgKj0B0CedC+Ow\n",
              "Z/VCb2MqImeO33Nn0SfbS+VWPWOi5SWa4YKyz9g5kDO82ffOIU9UoxuuaRL03CReQNtv6whYL1WR\n",
              "Ba/Ui5fesJRvamU8L8gVDKKdJMIJ4j0snUysMhceJPx50o+IvvKaGugUI1Mi/iOkjbSMn2MvQba+\n",
              "EkbUxfwwL1jlJhz7rRy2A2LhDwO1YTJlCLghV7nG/mEBxTFxwCbPoYvqf2qAUsMyWpYjHYydfXLv\n",
              "//TnSgpVwZJKbA87u1cXniwePJe9l0Bim5fR7ZktmPxz4QihcaVFpNrQWnOajna/Avi/UrcwrlE8\n",
              "aplaNL0ge3HEpu/D8YZUPRYawBTzgMfB6jcJNTfHb6ADmsI+kj119/npipQRbem4PNTsPcOOEPH9\n",
              "bLG6ZMkHDg4+rATfB/CiSQ9pl/YlEYyznHglPRCmCg+JBqWOwOcrG1p6piDX05jmOY7n+VBARwho\n",
              "jMYg3NZdspoA+t23Mv2k0qIpkGfB0OmSPslWVeYB4NxCHm5ZYWFx6jIJcjfEeddWLnmyGPaGD6Vk\n",
              "WI33kXM11HfaLnmiEOJG7KehA88gV5AB7p+Fjpp3IveJaFagpUDP3hSxzoeqiuGpuIW3MwH5ZI9q\n",
              "SZBdnotUlkapy/SxzGe04izPechc4PC/2QSWKVmEzqh/gNKEjT/I9HpKOFPS+dUW1qhYghgD51la\n",
              "IU2b4q/AK0cZxTqdkBf8Pe6RNMSBT7s3Ueu7hzMtnEP+W4hUAAgHG2ua+JfxKQM01Ta+1DOoI1Gi\n",
              "7+Le6Jxo1+c1Fa9yg80NqucPf9byNfa2N1pg9q5sJW30vSJNIfIiXZkb3vK4KAjj37Og3Jawoyii\n",
              "2Oikg6U+ewdRdp1xvE9d6EP0Kj82BvAJ4LJC9GvocG9gOf2XkJwkH1jrnhz18dnSG1MCT4au/pAa\n",
              "sXXeaMON3JJz1fBM8I/Metvl5GSNiTdzKRBfFaW1J0oOeL8ctuN1OuwGNfo1SmM3D/+pjOFtX9p+\n",
              "WtcnkFutFFaLOlrWVT0Wj2ngUJOma7OULR6iqUiTfmIsEFC1DVcNsWYESs0nJYNRs6wcFY2gz3wr\n",
              "+kxHNGielWfCTaDBPZqea1DlP9AMKBnEBqGw0PjV2bm8ATd+Pi9Qos31QMCrBi8+CwaR1U5KZUyn\n",
              "ZpR+l5KMXstRezB2UW3mD+JWqW8RsLhr1DIEOUanbLQZY9zzm5JmmL2Nds2GWrZTlmjbvwWI4aLW\n",
              "PXRsiMf5OQ48F+3i4VVtJzV5Tl8wSqrwXZPa+Mn3vcv3XXIoLTxu/oJ7p9q+TRFyH+Vjfuvl9OSN\n",
              "rhsnS/zKZG6S9oX+v/OMinu5AyQnDjrPw3B7FTaVAG5sNzNP+ZzILZaoQZXyCgbRFhxkyr9wMxap\n",
              "+bWDDiunk7nZpBQauJaVAVHBvIatKTDPqHMTKMawgoLDXqYRiDc4H/dhS68HtEIABx1J+IuvdRw3\n",
              "mku/fG7K8sdhyMla5y+P/zMDriKClreNnmy6hOj2FPn4QWOGJ/+YISqkFVjFhMPE8sUk4qEaZO/V\n",
              "Px0sjzcN1cOI4lI7E8U3s6CAxU/5gC5x7WtxTVKts3vXQ4DPAQOKmn4A1rvfszCEZ4MTAIT3S4c6\n",
              "4PBoNkE1icHcIfHhg42NTumNdzJ98XhbsVc0jg39WjmUHtRVN1tYaoKJCg25skN76rDh2wkZ9Zv8\n",
              "mk1pwumkvyHX8Qg1ZhcjSfp1HMw0lyyqYO7V6j79rCzU7Fb1OsQf/8lbgogMjao2PKcCdgANfclP\n",
              "TZdBqspr1Vi0Y3LTlIAf5Cw/FrHeAwXAuFvAKW9vEvgTJrSk8nm+AW8qxPgzLg+QlBuxQ7cvaGQR\n",
              "PYXTIaziC+mPFoACM+TG1s975+xJM/P8cCAhDSjU0jzszC7lVA7sV6BCpSFauQBCpVlF3ORG6VAM\n",
              "qHoTULe4jeQfo8epEUTXldQpD9xlPj0y40wReE4Xvqq7DWCeNRWxKssxZPB/ZHQGKSSJQrFUlZmz\n",
              "q5P3/ko37X4NVq50iGF1YtMYk+dm4cL4qRzXcNQ7qrHRCFjO3oschDO3wDVVkE07lE5Ae26g0hqZ\n",
              "YMWJOWn0vX9uOGgzF/McKh6SebzZD4MMB1lXgomDDG/wC3JbTf3nMZ0IkJWxKBMqap+TiimFdURE\n",
              "YCkn52c6oWDMUIrUeVB6DARqaR+Sa0SYv3abNc8pe0f0LADkMW547ITzIRGkYP95M8EQ9g5Gr7i7\n",
              "AJ3oyKzjAIfvNk1nNMO3JJ+vmJFVVgxxwD3/bu3YT1q7yq6fUMn+sNwnkQc4SEzWTK4P0Fl/PDXa\n",
              "Nk6msi+W257neE+CbKbXtmH6DCJSQB/gGA1cfhmGfkjBSpZoAjdSzAGAOYWOz0F0Q0Qt+i7h2fwo\n",
              "04eL3ipp+AdaVqlFm2GTTDkimWqH4mR4kYaPZD/UUNT5ekDP+QGms0SxlMcQFLzmftAdepTPoG1L\n",
              "wE5ll0bt2+bq4dgl5k3jrFI1IHbo/YnG/31UrdrvlZ0z3SC0H2qUzPgH1ueQ4aWjNLESHjAvpENL\n",
              "Z8WeU0Iu0pUeKgmIFNE02jq945lpKT0CF841beE6t1kfM9dfTXZEUB1AmYNlOPXeqDkpwd2nVAQ1\n",
              "SOlae6a7BoCDMF6FjD/xrVWc7WYL/Sel1xb39HYxL83kvovOY+vNtMb6+xAA6cXG46eJiuolq1/+\n",
              "pxGyFjEpbM6sEKi8g+zaBbf42lKVMZ3lXdF9EDjGoqxd60lzg21KpbquvCwl+H4wTdLocMVrJR69\n",
              "LCUEVHGPyiMHiMYVMiGKxsi2cg/ReX2NkN/yRiJhYjY0QkbhwnAuXUoX19cghhgnRwhYO0jfLmYJ\n",
              "smv5gdXBqaXgTde2SWYLS4Um8PizSXMbwsiv0snbZPPqw6RUjgtvELrEqir3k23dZFdaw3qleO2v\n",
              "lhbGb74Xtsk8q4BeK88mn6iXP9HFsT1AvxcZF13J4yMs7wigRhkmqMNu9WmCVw+SL7Jmf1ekUGu/\n",
              "9gLArQv0WqOBjJ1zaqfMrsB81eVtNk73Vw+WprDjsCVIW/X56JpEI+CyGuSWrPDH88/cCZkT2mhj\n",
              "Am0OEkuIfR0C0k74XLscF6svOYnNeNKHzROtZrZy0k+dnZmXHr/hcNW5CiEgLRmpnmGgcA93fJC6\n",
              "3M0s7u5GCDI4jqOCvK487O8lvtaVmjfAXpWsQIS3CdaH/5amxyZ8D/coe7i0l191cHQedrE+mSEm\n",
              "rT2Jqfi9XLShEt/djGFqhlN1jw4BJUZKxwV5aw5w1GksBDEtsV329YZ8iEECsssGKWEmjl4GHkAq\n",
              "0bww5+BwVCaNRsliAM4l9ojwCJw/23UmCzMc0okcrA9cPPkMNC4XsZRACoPMVW0eUKf62BqpuK/6\n",
              "ekTSlBs1hRx0Zusc4EALpuQYaAGrrAofl0IKgiihSlN+rDZqOxCRG5rbjE4MCHZtNzLT8ciNty6K\n",
              "9yh5gKCRCNLe2gFQEW4Yhq9FkzofIv95pehQxpsQ15BkpGXEm0x7a63TXUCnGOjfW+4ngCJfzlQ8\n",
              "f+toSmj4P+6f6B55Y4DTJaCeagxIDN/5ib6Z4xuRTbuVrJJoIDBXkukBKcWYz53eBiY8DkPZQMtB\n",
              "oS6z5UqpnmBWh0u3oc7MsM8Obk9X3earuXreOQ8612uXzoY49VSYRmiyuBtDVtvxi0KDJkkBRRXn\n",
              "vGWP8X8LLXloY3DEltxR+1jEEfVs+JzVEzfD26Yuol3AWPu6NU+6E/GdLyslFUtkOnxogXWOR53a\n",
              "JLA0jOKJVYOv2ybDNqXys6U28OfyZBLU93B0Q6NjjvfsSLDd6AdM+68LmDA+3y/uKFbfXrCDTUhO\n",
              "7cPXFVMClqSnnM19782ZCnSZoLeZQbjo943l79AjBXS7ig9gN3JSowgKmjBW5Zvu/IPIbONHAufO\n",
              "fAM/o6lxTQfzTXeNZqcis9/m9rqG5IHSoTqruXEaRk3aiIo6pfrB/V4pN83MiRz9Pm2gA42fs220\n",
              "kyeQNMQa2E/8FnU+zAZve1w+N3bdVAYHROh5XJjfDGvPIyqxzEKfwFDjVdsmB+XEEssuwXx7jXC1\n",
              "ST3QaxUkbsrTMQvnnXV+j/pQvrlbRPbVI5ahhO6OcMkPLiVaNkds4QTGPVb8GNnLlaK86MTe7dhk\n",
              "iI3+FvSUvTMLam/Ig+DN0J38LOg68ecYRISb0gA0hKca7UPkXtxuf5mKJ1viOfygEHpxsipvq5g5\n",
              "vlEsdOJWW8JSsRYMmja7fuf/kDGMHDJAfpvqkw+bI6Ko6JCL5JBBJ7ZZRExcNnKmtQDwY87q9Gv4\n",
              "s+PrCKQ8higOsJIIGOMkGy26dlImT20wuCLwtaOuqlJxuBhMpeQyo2XNsJSG7WX/ui4OEkcdYh+W\n",
              "xpkDCu42Sw0qFEycYns8UpM22XyrOWM5+jg67TiuebuYQgr9EG2A/JepXiWJQzlQp2RYBU5zu/pr\n",
              "W3pi6czNN6WNTiJkn3dCr2XFaJbkqRpQl/c9EFBHVDBmeLeZNTTdWDr8Kz1mfwW7U1al0u4YNpIX\n",
              "47Ba0OJn0eU8ZwZMezzGDoFLjRG3aMlBCMnuHFniiDTPslU3mgvNLnXE0DZSoQkeZrc4CpDfDdwo\n",
              "xJhpOkVL4AikxNAqVnQ0Z9rTYLmAy1sFRDT4x+V1wvVJlAIKjDR/KgpmtOv4nJDzrneTZ0fPS1Dq\n",
              "+ijsazrqX8cLH8c4+Hq3Yuil/qUNEVR78j3/Tba2s+rD3MDTQDStPR3Wp//r4BA3LNkHxe8l7nUU\n",
              "T4Z/xN6yF14/enDyUAxQ7Ohwm6TvSBpD34tA9J7N2dUexOUNwGOo5y+d7AUCPhiazA18L6F3R7yW\n",
              "/hn7lPAqXCwGEUc0bUh4Q2asynQsVrIVnLjQK15YfrG9vhrVZcxb8Q2tJxmyBTTvyFbakL9qunV5\n",
              "h7DTmpqhiRBMHoTPcLfBuVqQcmxiLuX58g3Uq4NBzoz80IKSnhTaEkek1p7K6r1xnliQRtn3AjPQ\n",
              "ifEzc4HznNHlwTMyXtLU5nUnUTNmR+EHSDrX/t+8vyCJnksBvXuQYh98g33t2lYKE+Y/gGrH3LOq\n",
              "El6DsPX96QHrIeCHuADXNyyWbNBdnlBNCXiDJqljiEn2voDytNTZ9nAm/iEPnYd0d6bjkhXlwKgp\n",
              "vgNgi0HNdn0IGEEmHmfcAXHhfdaPJTaJOo6nHhnN+K+SU67NKG7o0oo7sJC7HY6cQ+c9OOF3Iomd\n",
              "keZQaYH7WM94vozIrhHkUBKYk6COD7IEsW/bL4o70OT0k7HHiY+yoL3D8Y6XMRFlaGC6VEJg0scY\n",
              "p5CjeEiR33b73+pjHE4Qd2JVawC2PU1FQ3Kha9h9aq+Af+uYIohM3/YYxm5YEax1MK/mvz8eT3QX\n",
              "AouqedMIAahPgJYOoC+AHGPOazhYFo2QLbr7ygVEh5sgWRYgvt5lUFm5DRmrh2j3PpxAN9s4EEKr\n",
              "ti6MvRClSOecdquaifRHsOKiSywdxJWzflkchsvObtRdlmtPL3RssizzYBbISHAy6OcS6oqRjoJ7\n",
              "WlyW2W8W1AWfDxVTl5nwMTiJjojF3kDEGTEkGdbUicxcWCU+H3wuATelFqeJ7dTHVbix6X5IIPCJ\n",
              "Lz4KOauZOATLr0CH3WXAkDCCDiXbnbNhIF8WlDnZ88CXoXDhy8BQtEPpv7788bB/+F6lskTcD+AA\n",
              "AA8yAZ7JakFfAACWT2sne3vqSyE83D9J/dFFUAX961buzj37puzHU9PM4LMxJvlrDHIg8uXoO1Tx\n",
              "I54wLIH+8hwu3ERMyj8yQTz8rqgzGMvboKZKcpXh24VX4UfWAl3CzBzhtZ/lpBm7rh9hr3yR+Chx\n",
              "UoxrVZN58OsPLNGJ8nR8vThq/h7Q3yCzp6DnSeReoHEkc5EopRQI6TcAy2cea/9tKM+ll2dG4dgW\n",
              "F/f9u6YUzvgxgvvUcg892GXHYtnsI00lfC7+f+6SEfSKri8l/uqblDwQKx97N0tUjZMU/2RqxU1t\n",
              "ZKtr5ZowFEZY/zcbhLrinPCVYgZqu4SpqtjP0Hh6FGWnS3+xuQmH1VKvEUVaxnYpv4wLCd26D1F8\n",
              "t4Qzt35CJtLeCfj9ZC0HR/OvyDNEinpMGjdn+ERh029ZT+O4OTjdcFd60AmBdnSF5FB/8JuQsIdH\n",
              "/XqBNs6yTqDWZ2JtAw9qa+ri6YDAoc/GbIFdLZ+DqVNhK9cJxkaok8og7gC3MfwF5qed7wJeqMFE\n",
              "9Rsw+2wyMpz8XxdOvzfZH4MEkJozX23+8YMETnT+VqbkaTEWesSy2z2bU5/pyFyAQJbinjdNPkON\n",
              "sbAHSqKubsbPjxucf596gux66712xMVPusw0fCEqkV4WdOr2kCf6R+hpEUV7Uj9rCWep31Gc1IMW\n",
              "s8Jwo7a7tRtB+38oJ//v3/w++yeu5gWaLcKYkcybAWKM+yEBos9Kkvs4249WNmN68BeOi7gqL5lu\n",
              "poliNNmSTg/rpxwaZhP7ndOoQ8XH2ULnVjR4KHWHitHY4R9B2d/0RZE3k+Fvsty0OznlUYerCHD8\n",
              "y2+/XsP5mhEYtZWl39nwO7s4a76MFmWULFt6hYVVPJME4SZcGoZBtdLc6O31OX15TszRIyPz+QV+\n",
              "Bv51yxGVP1n35c/ynyc9V/+UU+SykvDdxuF1pHLQtUCrDebJ/uohnsmKSYiCnL9FBrZt2JTGnOWn\n",
              "H5q2B6eLwLSmsRvdtNKLeUnvCH0MVKrGmFtdzrJsUCGtD7CNaB1+zw3RIPJ2AvvTyyTHnNdE3ptM\n",
              "WUZsUtW7e6Tf/DyoJ/svvRbVR+LHDd9ZJxEWXJVbTOgdQ2J1Vf7GnPqbyyO9bNMhIKG/bN4leKsd\n",
              "hLUtVOWwu49xge4gqDWoDO6IJguRXIUJ1UaTMFHySRPPEaglZclqgajgpc4m8qOWdoIjfn9XkZOu\n",
              "obHn5ylNghpVOa4vvgaBIIcdlMgm1U30Oq+RGlv31uQI0fkbbpw44OOFM5xPQlfabXRH5k/kvnRN\n",
              "4EvGI9BRHQxlPinEjEBW5/5oM2Smr29FX7Z1ZDYCymg9pFVUl0W0Jy4AhtSLTaiO7ICBvMvc0/K8\n",
              "fPY8rqZ0A6QuR0m3Ku6W+CLhjHPTGBcMPwrK13tDLYdTorlkGFesuDeg/1voulMTqWb1LmwH46+C\n",
              "aUidCZMrURyGkFoKbTSTCi6x01cv8/6OUi3EsSjWS0aITnSD+0ROWIRefF1nSu1dRiaDO8C+M91i\n",
              "eLPwhwpmpR5OE5TfxaaygfqGHYavonK6d+z8C5hd0OPVN/jx2XCNxDFruZ65ioqNUgm7spDlNwp0\n",
              "dwumGUf2Nw3n4XKNecgVToBuuFMl3rvtI9tCBKhw9nkWHO8jn0UQsI9gnX9ou27h/01ghOD2YFa3\n",
              "P6ZNRoukgeOIh96ie4MqlXQh805DS3Bj68i/986pOiNRsZNsaiZ4/UPD8rWuXEvwwQYKvyDwjyU1\n",
              "ekI99uMoV6tZTCiPxZF9oKINjQHlJ9YkVAhC0Z5vp2UgsAu2wPXW0MMcdUQ8YUVyMG0vg4TytEn4\n",
              "HVD7NoAmDC2zJ4q5GfneN+W2KerPBw/GtNVUL8GgX0liB7gxIVlM55OIyVOYxwYWJM0t8EYUaHOH\n",
              "PZviZlhuvgSHpZUPTXJRI+hjHfTVTDbq8yB8LAiSb8EYTWeqHsuLWn6toKCOmfpNMMrp2ULqZDfO\n",
              "ByVk6QUgiTuKJaZ9LrShiqJtirLfczueB1X2iMzWzG5v2jxDwBRB+xQ0GrTE0z6zXJevCa5AVhtQ\n",
              "znePvXdIXMcH4oD1QsBF0pF9iyhJWwyJ+993BEVpttpgPz2spmemwPOKxAHplFEHYY9Wqs+578vm\n",
              "YRP0m/nDYmT3mwbSgew25wrnwMvrEHFh0o1B7dd1GdNh3WHJ/3h28Aan4OjhIOsMPhCg2m4NQ6pl\n",
              "upgCCfTNRI9rJX4IfzV7tJQMi7X0DlDLlMhrPGvVhmm2T2oZyTjy7rRw10EnmjoRvFIve1FhuhQf\n",
              "GHo/Wr2s66pD2ctjLQf0jtJswKnk53qrLpb6hBIvXC+xdFzT+GeKLJG0t/j37ZYTnZ/r9K0GJKl7\n",
              "0H6Tm2JZ/A3l6WorL/XYCKhW+ByYuhbDBfPvLoMdg7nMp/n/ymiaJCITPwG1hcLwBCEoxVt08W5p\n",
              "pVlhIGryBGoQqrDMnt0S3AGaXQJJlIDffA0K+ZtAWPJxub23t2VqacC31e6KdwC8ETiw8Rt8oEDp\n",
              "0OdZ35MKf51AjZPX5f78KV/f3SgRIhUlnQv7x41ma04kvIZStVDY5dBadgSMZz0L4I/0K5tvxVuP\n",
              "Y0grb/mR9Fr5Hekvw+fgV5ZcrW6XnMgDgI5eoCfrQAT5juDy4g+VNTwJ8BTAXBuT1mvX2a/WPbqY\n",
              "XM9VWOs23vNEYLMkdYArzRIz+6UajSHRAzB7jUpLpFSw5SPD2pOAmSXpQSQbaeppCj0S+K3S/lVO\n",
              "EBiI4E833dgvE7Z8uyaFIQAjvEq64PIFQJbKKOMxOeTl0GyG4kP50JYWPUFjfegaQNwjrfpj0lKi\n",
              "AcwxIZcqPzs9FiMGm+pbGc/ihpKZ013UB52i/Kkled9qKRv+9odxXfd77oa5QWgWuch4Lt1iQSAr\n",
              "uCa+gUmP0ynfmYbvzmgSat6J8VFQu+Vv7/afk1nsNSplieWwMFxIl+1RABW4//85X/vL1yQkjRFo\n",
              "5UPKt+Bt0mo0IuMyyKW7GiSx3Ia0fwGdMO223L52dWRsIuMrSjV6FkkG/7ltasIrK5dVSQ8ZnW1W\n",
              "501o/tOnfMeyj5jFsE93VcmxnfB0r1BGi9WZhCRLCAfFgGW0wOUH1PuuGhXTFc1B5aakUeimlxdU\n",
              "47ts0FGTk0/GeG3A7O0VGnlLIkjEUpPenDVexiLUwvSpERUKEpVNXIMbOGONl/nOtaygEhAQVsa9\n",
              "eoh/o1xtIbOyWTJEMW4XpJiKo2nn5W6MF6OGbNYPCxc5lcuygS0MelK++tYF+dXzv87B8Uf9ptiq\n",
              "FFR2j/9K/j495HUmQa6mmBLS5YUezRtlygu4SM6imtV6IZnttdk9ZqSHBstD6N6CeY+xVIPozR8p\n",
              "MuIi0a6e3FUrJKurXeKzAeafP/Nh2VRGZrHQ+Co6nLe77h5Kf8IAdTYwxEmUhCffGd24FFAMmTC7\n",
              "yFAzUl/t652OtltqeikqY0Qx6ciXXLneQZgwAIYT28cPUF8zJ5ta8LT+frhypkOxIUC6fr38C0Yv\n",
              "NTvoWgNwNz5FA3s4dTVD6coy3fO+1G1fMXlbztwa9PiRfk4QTt9kigQ1u8IOlqnyz4GbfujGqZRU\n",
              "JzGoOUiYfyl73ynKnII0y/EDpM8s6oUb3i9Ir9EKre2Mx9Dp5k0b35ZpzV4v1xQOblp80tRMFAeV\n",
              "7xtzALn+T6WCXHzsq6/vu+I+tHMjwjEOzQLB/+x1w2YMfQNxws8bU2jAt4+Ub14jHxdzTJdBw+vr\n",
              "Qg8voo85ph6xNAGlzs4WeJZK8yDiPMogeMWG8hfGbDKD1jPAyv8DNLwymJldZNJ6tp0N+ul3Sn3p\n",
              "eLPisyHbAcusq+tF4HP+Cl+5FOzxFF6c/3SV4GyuWNKfeH5M/AP7aD9sGf5ywA4WbDh72aob24Om\n",
              "RKHGlsRHUaLG0jZWJrHdT3l+tHXaqEtL4YkuCaMB0VBLB07Kczc0Z+/f/ScUx1aJinCsjxPEpmDU\n",
              "lbSCwhuBUwAtTenHay9PnqLWcrHY2WOkihDohBj+Ps++YmItFKGobasrr/sn++iCXv8dm9LK+b4j\n",
              "hx/Ei4qrwjNF+wLCon4xlpxDdC3QymwfilX6/nUq4+fByIBgscIcGtqOGPCC6a0CyD20uPXtmEKs\n",
              "WlNpv/DCCi0GMpA9q/+MNiA3xEnN9f6oXl3UxeQ6hlXy0GN5xPKKVbXJZShnCzOeH90qfYlLlTrX\n",
              "Wf+Ke+UASyLiyevj2eYGo/X1AV9o9zpJamDHWbg8SK7HDVmQkMlNtgiy4ZT2bq7eVIdwq7WAL0Dp\n",
              "/ir5aSzsuS3GXmjWlnvaUUq9AFKMbPnWIeORkaaA8Oj+xrrJJ/snpwg4GE1DUdmAyUf3D6zUHcBG\n",
              "l+pVmJZrg97M3IRtvBjfsYzyYeCjuoRwp8ZqlQyNQPV7cjR7RNtelylJksM3Th8rjEDctc6nPfzj\n",
              "ZxmA6aO3FjLESxuFbsIEDhnm2k5rZSc4oRsYXFTBObt9NlxuaD/g+FvSfGb7yt+vogcCpVP1UNrV\n",
              "Pz7rYJjW54JVSMvzTorwg7kAs4/Gz5o4WDaNnowolIwYmv3+WRHEELuzwlBHPnDQ5rezP5gSdxJW\n",
              "uGUIxrWta5wctSHW0BtDTNDYuhMKCOW0rjmoMgUR8wtTjhbINo9sd7IUnVAMs8qg+d3G9IPe2O/P\n",
              "fESiIBvbCsXD7zZsmD8ghA6qIOkEtNdKqa9EAw765E3KZkPZVER58fqKDuhBxd5ywCejmSlXRsDD\n",
              "ikjIQzIjrl6aRCpkQqT5sVXmVgwbFyZ7XUi68XjwaNX+ZsS09PD2FcEYPzBAPlleA98S5GOz+hA7\n",
              "uPK97inSL8Wkm2jUNYI9uZIJzUSHYnQc6l8Ip4k6uBTiM4yIuA4GgFs0JQ508Swy++0z2lp6IgkZ\n",
              "5/yt0JMYlW77jV4dSOG+GqVaiSWAPhLAbd49hmHw/qMr6r8Uii3fAPzwYUI3MYikwMsoGF672TyS\n",
              "zeHmEUI7/8VDIrVuTf0YvEAAyGdXxcqtAl0/gN8G69TiqKDRCVr65gq+PzAnO1hIJDkpvnhYiGoj\n",
              "y9h/Sp40stke8gD/02ExBpxuz2i+z3ITTKF0u5z3udQ88tenoXlMGHw0E/4DPlzsfsF93Dr3ICP1\n",
              "6ohuzGMtEy1PnLzEOU8q8KLyUGO/3uW70PSPwmp/1YlAqtpIlufF0+GIlxQVEQdNpD+Pf1uMGqhm\n",
              "5hSOOr8rOLA/E9qo4eX0KU0AAAOybW9vdgAAAGxtdmhkAAAAAAAAAAAAAAAAAAAD6AAAKvgAAQAA\n",
              "AQAAAAAAAAAAAAAAAAEAAAAAAAAAAAAAAAAAAAABAAAAAAAAAAAAAAAAAABAAAAAAAAAAAAAAAAA\n",
              "AAAAAAAAAAAAAAAAAAAAAAAAAgAAAtx0cmFrAAAAXHRraGQAAAADAAAAAAAAAAAAAAABAAAAAAAA\n",
              "KvgAAAAAAAAAAAAAAAAAAAAAAAEAAAAAAAAAAAAAAAAAAAABAAAAAAAAAAAAAAAAAABAAAAAAbAA\n",
              "AAEgAAAAAAAkZWR0cwAAABxlbHN0AAAAAAAAAAEAACr4AACAAAABAAAAAAJUbWRpYQAAACBtZGhk\n",
              "AAAAAAAAAAAAAAAAAABAAAACwABVxAAAAAAALWhkbHIAAAAAAAAAAHZpZGUAAAAAAAAAAAAAAABW\n",
              "aWRlb0hhbmRsZXIAAAAB/21pbmYAAAAUdm1oZAAAAAEAAAAAAAAAAAAAACRkaW5mAAAAHGRyZWYA\n",
              "AAAAAAAAAQAAAAx1cmwgAAAAAQAAAb9zdGJsAAAAs3N0c2QAAAAAAAAAAQAAAKNhdmMxAAAAAAAA\n",
              "AAEAAAAAAAAAAAAAAAAAAAAAAbABIABIAAAASAAAAAAAAAABAAAAAAAAAAAAAAAAAAAAAAAAAAAA\n",
              "AAAAAAAAAAAAAAAAGP//AAAAMWF2Y0MBZAAV/+EAGGdkABWs2UGwloQAAAMABAAAAwAIPFi2WAEA\n",
              "Bmjr48siwAAAABx1dWlka2hA8l8kT8W6OaUbzwMj8wAAAAAAAAAYc3R0cwAAAAAAAAABAAAACwAA\n",
              "QAAAAAAUc3RzcwAAAAAAAAABAAAAAQAAAGhjdHRzAAAAAAAAAAsAAAABAACAAAAAAAEAAUAAAAAA\n",
              "AQAAgAAAAAABAAAAAAAAAAEAAEAAAAAAAQABQAAAAAABAACAAAAAAAEAAAAAAAAAAQAAQAAAAAAB\n",
              "AADAAAAAAAEAAEAAAAAAHHN0c2MAAAAAAAAAAQAAAAEAAAALAAAAAQAAAEBzdHN6AAAAAAAAAAAA\n",
              "AAALAAAUJgAACK8AAARKAAADBQAABAMAABMiAAAMYAAABxcAAAmPAAAaLwAADzYAAAAUc3RjbwAA\n",
              "AAAAAAABAAAALAAAAGJ1ZHRhAAAAWm1ldGEAAAAAAAAAIWhkbHIAAAAAAAAAAG1kaXJhcHBsAAAA\n",
              "AAAAAAAAAAAALWlsc3QAAAAlqXRvbwAAAB1kYXRhAAAAAQAAAABMYXZmNTcuODMuMTAw\n",
              "\">\n",
              "  Your browser does not support the video tag.\n",
              "</video>"
            ],
            "text/plain": [
              "<IPython.core.display.HTML object>"
            ]
          },
          "metadata": {},
          "execution_count": 41
        }
      ]
    },
    {
      "cell_type": "code",
      "source": [
        "# f = \"drake_animation.gif\" \n",
        "# writergif = animation.PillowWriter(fps=1) \n",
        "# anim.save(f, writer=writergif, dpi=160)"
      ],
      "metadata": {
        "id": "b8F5m1DFSpu5"
      },
      "execution_count": null,
      "outputs": []
    },
    {
      "cell_type": "markdown",
      "source": [
        "# Visualizing Taylor Swift songs"
      ],
      "metadata": {
        "id": "onEH2ObySFCF"
      }
    },
    {
      "cell_type": "markdown",
      "source": [
        "Finally, let's see the songs of Taylor Swift. \n",
        "\n",
        "Stay tuned to the end, since we make an interesting discovery!"
      ],
      "metadata": {
        "id": "e-P3VBLAZKlG"
      }
    },
    {
      "cell_type": "code",
      "source": [
        "swift_id = 'spotify:artist:06HL4z0CvFAxyc27GXpf02'\n",
        "swift = []\n",
        "swift_colors = []\n",
        "swift_sizes = []\n",
        "for id in songs:\n",
        "    if songs[id]['artist_uri'] == swift_id:\n",
        "      swift.append(id)\n",
        "      swift_colors.append(0)\n",
        "      swift_sizes.append(15)\n",
        "    else:\n",
        "      swift_colors.append(1)\n",
        "      swift_sizes.append(3)"
      ],
      "metadata": {
        "id": "XoHm_e5iSyBP"
      },
      "execution_count": null,
      "outputs": []
    },
    {
      "cell_type": "code",
      "source": [
        "colors = ['red', 'skyblue']\n",
        "cmap_swift = ListedColormap(colors)"
      ],
      "metadata": {
        "id": "F9TyEIR0TdjQ"
      },
      "execution_count": null,
      "outputs": []
    },
    {
      "cell_type": "code",
      "source": [
        "# First set up the figure, the axis, and the plot element we want to animate\n",
        "fig, ax = plt.subplots()\n",
        "\n",
        "ax.set_xlim(( -0.8, 0.8))\n",
        "ax.set_ylim((-0.8, 0.8))\n",
        "\n",
        "scat = ax.scatter([], [], c=[], s=[], alpha=0.3, cmap=cmap_swift)\n",
        "\n",
        "# NOTE: this plot will be empty! Just ignore it and continue to the next cell"
      ],
      "metadata": {
        "colab": {
          "base_uri": "https://localhost:8080/",
          "height": 269
        },
        "id": "MWgt7Ob6Tdlf",
        "outputId": "466538ac-f0d9-44be-b278-67898297784c"
      },
      "execution_count": null,
      "outputs": [
        {
          "output_type": "display_data",
          "data": {
            "image/png": "[encoded data removed]",
            "text/plain": [
              "<Figure size 432x288 with 1 Axes>"
            ]
          },
          "metadata": {
            "needs_background": "light"
          }
        }
      ]
    },
    {
      "cell_type": "code",
      "source": [
        "def init():\n",
        "    scat.set_offsets([])\n",
        "    return scat,"
      ],
      "metadata": {
        "id": "aiFLt3uLTdng"
      },
      "execution_count": null,
      "outputs": []
    },
    {
      "cell_type": "code",
      "source": [
        "def animate(i):\n",
        "  embs = pca_embs[i]\n",
        "  x, y = embs[num_playlists:, 0], embs[num_playlists:, 1] # only plotting songs, not playlists\n",
        "  data = np.hstack((x[:,np.newaxis], y[:, np.newaxis]))\n",
        "  scat.set_offsets(data)\n",
        "  scat.set_array(swift_colors)\n",
        "  scat.set_sizes(swift_sizes)\n",
        "  return (scat,)"
      ],
      "metadata": {
        "id": "wyFvmNaDTp68"
      },
      "execution_count": null,
      "outputs": []
    },
    {
      "cell_type": "code",
      "source": [
        "anim = animation.FuncAnimation(fig, animate, init_func=init,\n",
        "                               frames=11, interval=1000, blit=True)"
      ],
      "metadata": {
        "id": "xYivVQQtTp9K"
      },
      "execution_count": null,
      "outputs": []
    },
    {
      "cell_type": "code",
      "source": [
        "HTML(anim.to_html5_video())"
      ],
      "metadata": {
        "colab": {
          "base_uri": "https://localhost:8080/",
          "height": 310
        },
        "id": "hfVeSGSLTp_C",
        "outputId": "3cb1880f-d137-40c1-cc74-a8ce6c554000"
      },
      "execution_count": null,
      "outputs": [
        {
          "output_type": "execute_result",
          "data": {
            "text/html": [
              "<video width=\"432\" height=\"288\" controls autoplay loop>\n",
              "  <source type=\"video/mp4\" src=\"data:video/mp4;base64,AAAAHGZ0eXBNNFYgAAACAGlzb21pc28yYXZjMQAAAAhmcmVlAAB6NG1kYXQAAAKtBgX//6ncRem9\n",
              "5tlIt5Ys2CDZI+7veDI2NCAtIGNvcmUgMTUyIHIyODU0IGU5YTU5MDMgLSBILjI2NC9NUEVHLTQg\n",
              "QVZDIGNvZGVjIC0gQ29weWxlZnQgMjAwMy0yMDE3IC0gaHR0cDovL3d3dy52aWRlb2xhbi5vcmcv\n",
              "eDI2NC5odG1sIC0gb3B0aW9uczogY2FiYWM9MSByZWY9MyBkZWJsb2NrPTE6MDowIGFuYWx5c2U9\n",
              "MHgzOjB4MTEzIG1lPWhleCBzdWJtZT03IHBzeT0xIHBzeV9yZD0xLjAwOjAuMDAgbWl4ZWRfcmVm\n",
              "PTEgbWVfcmFuZ2U9MTYgY2hyb21hX21lPTEgdHJlbGxpcz0xIDh4OGRjdD0xIGNxbT0wIGRlYWR6\n",
              "b25lPTIxLDExIGZhc3RfcHNraXA9MSBjaHJvbWFfcXBfb2Zmc2V0PS0yIHRocmVhZHM9MyBsb29r\n",
              "YWhlYWRfdGhyZWFkcz0xIHNsaWNlZF90aHJlYWRzPTAgbnI9MCBkZWNpbWF0ZT0xIGludGVybGFj\n",
              "ZWQ9MCBibHVyYXlfY29tcGF0PTAgY29uc3RyYWluZWRfaW50cmE9MCBiZnJhbWVzPTMgYl9weXJh\n",
              "bWlkPTIgYl9hZGFwdD0xIGJfYmlhcz0wIGRpcmVjdD0xIHdlaWdodGI9MSBvcGVuX2dvcD0wIHdl\n",
              "aWdodHA9MiBrZXlpbnQ9MjUwIGtleWludF9taW49MSBzY2VuZWN1dD00MCBpbnRyYV9yZWZyZXNo\n",
              "PTAgcmNfbG9va2FoZWFkPTQwIHJjPWNyZiBtYnRyZWU9MSBjcmY9MjMuMCBxY29tcD0wLjYwIHFw\n",
              "bWluPTAgcXBtYXg9NjkgcXBzdGVwPTQgaXBfcmF0aW89MS40MCBhcT0xOjEuMDAAgAAAEUhliIQA\n",
              "F//+99S3zLLtU2+2C6j3op4mX0N1JQGblsTtOoAAAAMABndh3P/s/B5qALz4oXI1enQW46fHZIfW\n",
              "e3pl/wS9h/AAJN5fgS5+AqBoPapXx0PhGDGfCxYoU9tP+7Xmru+rUypXEgBconwVodiDwTnSAAD/\n",
              "GoUdVh6/f6qzpHT51ZRb2RfovloiZZ/6wVE+3B5ZoL/Coyrv5iC+ILi4CGBRntsnV+pkOsRYAkMS\n",
              "tYe5IIqsZK713qIVt0k2y81jU01xbV2wBE41PPw1w49xfsnphpOwd6L7KIRVjgqPONAblQcxlay4\n",
              "SPsB5KeopwkTRFuQrBHzIFzsg3jdb/VC5Tbw/e9jeuX0DeW4QT/plWFeZKqEnciqngf6Rt6fgWYe\n",
              "QvChkAtnUwf+8b1sg76Bu+URhXDqC/qFAY+YEm0kUSKi07890NwYV6Udr3BqRNadzswb84A7Qh8i\n",
              "/Ea48esnGzEM7EGz06qgHMUi61fVoR+D7Zhc7Z89uSt4r/FeN7nBPeuFQ33+c/xIisYhdz759/Qp\n",
              "hg4LePfIQ9Gx2Qzl5D52KTEt5qBjm3G9Ml45RMhKwixJgAACBvqXLWpO90Es4MiciYQZ9hgPi3kj\n",
              "PptwjL638vMTZ499o2MYJIxGXWc0Pf5NUcVBLqd4NN/F8CvXJqrIIwDCuUlNJWTZdx3u5wgHoOZW\n",
              "CZfFnCmW9HPOVfZD3YVLF0XeNQ3wyaMIGf85RcILJAtfdv4vp8fGADkjDCk9Oq5c41i9b8aia+9r\n",
              "AHCgScuctwuI7Ut0u/2mlzI5gKEWw3iR6dTTLjV4gcYyoQgD5IZEL1xov8RO61jUSEgLHONyafJ6\n",
              "I7vAm2VFcuaamz6id5tkIqZo/0sbYO0QbO6zvN6nmDPyn6Y5cattIk3Rn7m8bPPX0cr+Vly/HogQ\n",
              "RPVs9BqwFOzLDdW96Z2VYJTR6pPktmhS7sGK/BGODYP7DWJ/F+OIog626+lvfvniOC1LKL2pLCb2\n",
              "WYiCjDq/gSMr4JLmIEgK48Wjk8PazUFTjxbXxUTCyeDIMf/evK1zZ8ZzWszZLS8Lo4YEmW4CxoIN\n",
              "ziwhT6y0nwsNOu/Eb3kT///1ly9sUb49s80i6ukOZEh50A6AuX3QfH1I8CYlo1Zyy10MvJbCt0MF\n",
              "uQxvrFkqKYSfoQ9AldAQKMWS3igzbq5LO5J2RFEyUx+gKJTvtDRp3galZMgi9LlsBNmewtiZIS0S\n",
              "xWokxvYSyYcLwq20Of9epr6c/abt0ZAtyCciYh5H2qwOC4JSdvg/1nhg4Obgj/TLKxjBuj51VN7f\n",
              "3EFmx0KbXg3uCUiIbilTgZHIVN55j3qd7NPX2u6RcWky7rQY8IKnnSZJlskDnPOL4Hzo+xDFquWJ\n",
              "NBs3QwKLor/OnkrrlmZc55VbugcbvFCL7+7EZRQYJNF7sIqnGiOBl+88ag2YB/ONPDJF7B0dwJao\n",
              "OfcaXrzdzqLMojgJYGGSUWNt4UIGJcpEMJJQ7vE3ZoVZL13d394bL6H6IqPVqrVQa7t+gSYsmoUP\n",
              "ML1H5OwY6C0qMj+ySmiZN7RaDMH9j3mWyrQGPHIfKQyknO84L5ZPtrnCMxqQLA0Yy632Ir2yDBlS\n",
              "VG9XFBp6W78QGPQ56jswup6whXAFfOMbnGuXV7k63F6+2sdt369FxtZve0SEpKtTcVppUGvhvPJn\n",
              "wfC7Y4mGU5MntaMOdtfZ1/ZHwXXhVVZXC0l4gAY22/tCsFFV933c2xA8QSPkFMLXob7vgqcA5oLn\n",
              "IB1nYNUQejuhgVnKK3b3iyk7cxVcz8iexGvkygJtxUxFmlRr2tT6iEodp3Xzwf1RzN64wfkzT69n\n",
              "lJcg87psFUHlIoORoZ+Pg8DjZGXMWDPGsR1I51ay1ValUPHadnzWXASJl79VLDWtGYjRKVdXE3c9\n",
              "MA0BuJ2oa12fMoZBJV6qO/34DcTz1hr2fac/oQc9xVgf0EXpnDxdO6zGXXc/et6Fz7qsolx+fd70\n",
              "xxEveDHXt7CMgGpryD3bOTu8GQdbLjVwqczhU+8v7ebHSD+3ikcd+gxFqrXKJ4fKYZoyS7N8K6/P\n",
              "cvlARLGkd02cwBesU3FuYVJp16gb/44nJbGrGZrDE39yo1C4owjOYLuudqfIMVbHQo3mv9ErGsU8\n",
              "gZ83P5qUFKcijVpoK0zs+4Iv4SJp62hkntz2IyklTjV9HBV4HOe/HzdVYp1JVoILnid8MFy9VUKB\n",
              "G44gmU0hM2orHXgPRjnrRjd4cDw5ScbuOZ7dWmhh6c8almprS/3A+2IRXM79H73fagOLGPZ4FNUL\n",
              "JEKBO5mAixCGCc58vfq4NDwnQThyEqayRFssde2GRhhw6V4fqu/gYpD3rgePKhbRNVfAbQXnJB4y\n",
              "wBP/EYG1SWtjcR2PQnUEeykastjlZ/oDtxfRAPRXfsfj5KBfzA84aCIgza/v+4niCqwtdIZ9pVBU\n",
              "WG/WkFQlzc0LZsb8lODdPZjHd2w+yKK+9A5ZO+H5b8JzbGQduKtKRho983O0z7MrGlwVMPPI4ntp\n",
              "rM3VJq17sclQBYJX/mt1Omt6j2Fwyo6qgNdH5TE2RVR9ovHX+7d4o1UC3QVtjgjqORLa3+Z5NnUC\n",
              "KhwUs5d5XB2ycN6NsB/JYH2vBF6VSUkQpQPJMCsrTrHNuN6ZLxyiZCVhF744HP2ivXtPP8zYtrIr\n",
              "5lDLJcsY6gPnrplOrnU+6r+uPutBPryBige52ngt4UTBTolQsbaewz2Vf3lHW4CzVoVT4iZ8Zh6z\n",
              "HS2fa2wdEv51Cl2yf8BZwT8HdxWUrG2uamVk/7sIrWkkciSAXpKna/4tS6/YmfCQQQwQcUmTpIKZ\n",
              "tj0RB1GYuM7wHYch6/JMjYJ1ypjfcL3miKr3Zy8AGBgrW8fuyLppdiHmVYEd6MhXLrV9mEQyOgYP\n",
              "OLP+det6YyhOzCFNUY6YfrvboTMa+qGiGDoOdp0/8R9AeSYUx7d8c243pkvHKJkJWEXwomki5N1G\n",
              "L03wuk+JDcvI0UlFD1jVwmfl6gZ06ura9ZEXu4fuXvibCvf+C4ZDMMlNtTUDWeJJnCuc6RHf8Rpj\n",
              "HB4z6VNIPVZda6IaVzr/blV/B0wltpJr0JTXsn0TlyLEdABHIC3I9ZeRQwilh8tex6IU3bqUvzz/\n",
              "SgGJJjk1GQNSo2OKOuQX7byZxuQhO96nJRUNsxQxqDnSEEzRex91tlmd+1VtOFo8ZpXrN0xPvvUn\n",
              "TQKeD9w8cOzfVdFep7l0BWGzJHObmoGaGPmgu+Hps3C4QFdt68kOcO92oFDZzZU0wyCR5QrUeRB0\n",
              "T0+UdssWuaP3bp3WwgLByrZIQqyOUNluxiqY+T0zM/COmg6vtHMZ2hfUs7kO5uP9PfaVRgl5Jg4e\n",
              "ErFCpFUUmPserykVGDXqlJteVrB9+KeTsvVCaFNQ6AXL49ZHOtIF4H4q808oVVbCAag68XJj9T7x\n",
              "wGRpZPaZYHdf3AGjcDtzBw6zo6kTmTXB6zzm5ypwt4fxcmgw13jhu3oNKqVxHDEn0knMvXtyezUJ\n",
              "vLye8wx5gMl2wKyCmm9RlaIq5eD1/Rt/HsXsT3p+KrzqNF53RJ3TVHn3nQUEModQOH9yJOUtr3rM\n",
              "ZYYh6awdN5l03skqSCvYz+EOHSTy1OdYJjChdgKeRHKyR/Xjo8jKMMdw8ZZHZ+lnNxO9ddTW3A2S\n",
              "ZoTLAMI9nnE08Ct/0V1tMXUJuZaYYhFWCpZmS8dLwEX/GrTfdEaMYk2sCHJtylconFQoJhvA2THt\n",
              "rPuMUb2UCYSJYJVw1aQ83XucF2ppEsoUGYZb88M6N72/HQu/CmnWm9wwBn5dHCbfYb01N0HjoA7N\n",
              "RbvF5TyjR6ZENGATGUXdlhDLnRKlBXouiPeZdIQf5oljybN0gBq+oo+lIvkdz7x+RGpffvsAp7H3\n",
              "PPQkT862J+FphgSYXLZewnbeeGVgCg1tZuB7o80x8Jd5ou0MKXdq4VFd6C9Q9jLzjWCQiNmtPiFl\n",
              "cnxPdaJvyLLTzKAn8ICySZID92MrOk3hVkxTcgDMt2z+CPnVe8xzG1s0cakeElTZeAaMxD/OdCbs\n",
              "iiF9Fz5/PhXz/x1AbsPIYy9B6hyqqo0TINlIKdZQ/xpe9Q4mdVvMPGP48KObQNl4F1FtMKUhcs3/\n",
              "K6fjGy6eQDJa/r6m2EtqBAAfsfTmsnXI4Igxk274CFSnWRKGb/1TkluMbma1v9u+4MhNXTUmuW97\n",
              "RCjXWNiAScOXr1iNs+TkPg8LgGsFWqXWaopLZK8U9VNcjoN+pt1RyKiKBNDAzdzaCKYtywAMM0P4\n",
              "FLLt2+Qrez/q/+La+ZLb6UF2JKoQ1WAoCz7lMKiLypBk17x8P6HmlUAWaMmyvrMrJVgl2yDVf3db\n",
              "JnZpWX1yoc1kQtabeGoh0ZHjwScbk6IVuN5EuL+DNbdlt96Oii6S8HYasi020ahZoN975k86XnmM\n",
              "SLJh94Na3xOdKDWLWg88ouQ1+ueZKXhdMSiUulnDl+0FtC5/v4w7vyXAm+p081rIx3tjCVhi4GPb\n",
              "Xd+4UzKYef4yUItxy9mGr7PvevfEYwcLCgab9ybKuJDr+m1hbo5MlqmRpJ69gWK/DPdF3ZKIMv/I\n",
              "kkkH01jwAq8dTgjIe6LTGFA+NCrBMJNqjH9oAK9iD8iwE1WLLsR+0qXu+bJVoOBfvaEqH7EPueGD\n",
              "g5vct+f2v6Zdu4Q731/2pqtX0CPJuGW4MqHq/ocyj4RWDMhgKbGYFiITewrhZsRfLj3nTvTvSgSz\n",
              "zN1WhmK5QJ3cpBTkDQMAg3fo2xXazUcSlwYCODKWTIotPDGNzJ8R70D9AFesydVaqtVy4jR0+jIe\n",
              "kHvF5nEo704e8AhW4Rv3Q9L+ESbMXLy2cD0UlH0U6lSnQxj+PhWUYYI5OTq5Iqd1Qlu0YB36wGEy\n",
              "e5d4M43Xx+TtNO9Es9BsTlb3pA2vZjnnQBdco93K1uhEL6ZzA1sC1qt0Q7SHvVLwgk3snVjgxdLs\n",
              "bZ7LjE2gPqHKCjXVoqOqVfrZrl0awXSteFC2RsyK5daCf5+89mG7eco/3F52B3umyk9WAWBJv/je\n",
              "6Ayk7/hAJuSjS4+h420SyRYKZ7Q+BYHAiuBf0fS+kzKvV1r+KXc/yL27WLv9WMYfTVEbxWwLvQnZ\n",
              "hNRexYpS56NVvlfX/amqg/9jHj5CZFa80QJNDcOLgIYEKYvOkWdW2JndHI92nh/Cl1iFzFmVmlTM\n",
              "6J7yzE5xRfHcJBHuKYSbanrVMsETXfvGK28qBm/onAyOS224PNZxY9nBRUNlq5eWzzJ/vv2jQuN9\n",
              "a1e1kUCnon+2Tmc2blxS69IDsElyITSy2vmZYxTMozqxDKJ6lHtR6J+JDluxscmIeost7/Gh70Hk\n",
              "AqApxFCJxyj5ohg05ZEvsltgze4FsJgZFq3yTZKA1tE2LKXpq61rjsniTHQZVu7D5fD3sbRFBxxB\n",
              "BxirELeKUI0ry9gEs2xgXdG5bt8vVAC6lmvhOqIpgBoaOx44qTgoJYDQTblMLuS7PYNsvYlnIPCs\n",
              "6Sj/+I/JNnDQMqTaiFa1qJFVMWB/FKlvzVClE6A4CukJ8KyyYqFzWDaUEYFXhOHbWahDQKNvfPJ4\n",
              "QwBSgstJN7AjuMrbx0bJewvdv6bzGLOIUAzW7CjTkQO9X0+ahubeUz0Nsnw8yjwAutWpnYnqxxG/\n",
              "keF4bcPQov+rZrJNLrOUkO/cJn9OU9c0JcA/ZnkcADznCIHvWJA+jWvUQIL7+7locTbol0CsQzRA\n",
              "oJOiTLkxqEp3Fg8INkrIM0JD0Ek3YZuui1cxuVy1aouN0vd6SILBeeJl7nlJJ5XJH2w/HpqaUvvu\n",
              "pv1jk6uG7tVFNS2YhGRLOYRdHiLvls1JFKSCgpwW/EFgukDyt70gbZHi5Aaxxko93K1uhEL6V9UR\n",
              "G+6cnNVaw2aYjSOZsaSbS9iBfsJSMdJnI6AAAIIIyQAAB/FBmiRsQX/+2qZYAd2HCpADdt4EhpVM\n",
              "2lNypQ0dtOMa+rgNvo1QFrNwgtREISLxtaO6uQtg7mkx8GsmYCuzjWqKTfmX5hiCywckDgc5TQhm\n",
              "2jbADOl6c4127qrfYUZo4aD1z4lP4GoJYKnHcIX1bXiY+Q+YmpJNH+3SQtX9rvrqpwZrGJsGkGs/\n",
              "dIbjHv+sXYa0OQnbuS2gbXCGtW8WnedB9RrJJyIVjRwyIX/ixFD4/lKbseRzFdhmsnKU4wunhIP8\n",
              "qOJcehsXvtbSAYiA6ctCAu2JBo0/Wo752b8B4vfueQW1pvjYlR1xn4jKOp84y/pYik+YzPzqetQR\n",
              "je0SbRO5yQPyP59Ftt21R+dCUVrlJTLLWUG6xwGIJH+F0w2L/qn04Nb/hpEyrzwh48xz0OgJSiWD\n",
              "S8C8cQ5M8wCMmk1MqhWByE9ISqz0XqZxhmwFPveLTVC8i8HVPIuceiHWAhvNu4oIAOs4zhHgGfxY\n",
              "2IIo15JDMrWBrNNfs0yklJca/G4lockTTjQPFnMWYlwxUF57SS7VDNozdCaGQzLVGUM2ueXpWTxJ\n",
              "AIjLasVYmMs465+L6WMmV++qNh4Incz9RfRHauYVudhlRgpbQ6dDANK1RLWjblhiLMWVn4NWdfMu\n",
              "zsz2Frk4IRoSvyq1CHtBcB3NGzXDmOZu9B09QbrslEnZ/5o6LMAuPFzWP64D7hUI9q6Ze0sZy77G\n",
              "FMoaJk6VS1AbPjVPzOYzdH2/FNmMj/CVdijHx8v9QbjJF8KZ9VH3RrP6DyvpguoIgPMjjJhjnTod\n",
              "z8BOL7MZNal3hxSrOpiMlFK09T5gmXEIy+QgIPvR80I57GLHd2l+CTxtsQy0qCP65+OcfQXGU+yf\n",
              "uUsjRW7daRyKaY8D5Nf0WDLxNsnzRsPA8mIeK5swvDjsDMEDP3vLXPcY85KirPgJgMEf4Fj4SrSp\n",
              "oa3fjsN2Jkne5idHc4fYS+2Gklw83TLQU39vvVnnFujnLrlrNncawwDLlPSqvvcqSZUygxCoAXxu\n",
              "F2Rbs3IWxWUiNU4vOC5n8fOhA+467/1oMWVEj5sQ7ZKQYYBRh7Nk/npiX15qBwe/ktU19kNRQfcD\n",
              "148dh365NTMC6LGZoDzEJIHQox8T1e6XuaFJOxkhEhQm1mc3DD34rJFjHfV5bW1kj3otNTApByd4\n",
              "hnVngmnLPJFmmuhuntpzwZQCnlTbUwCel8sQVPiKX8y0WSnzYpH88XFhQc9WVIl0uNeif20tko0w\n",
              "OvnzXAElJUf5+1mvxPZp53IPpNdabho4NjjTtV30xCKLrFSennzHItMLsZQoKPAfhCzJYGbL4W3K\n",
              "amtusKanSgH7UHxFwS8887fCSsRsHGmXb1zmW+/7y/HPC9N9iff2hfe4IUx2sBTde/jFjyfS/iqB\n",
              "RUJZ8ve5TIAiwiHHdV7BX3Duvb7A5U5S8AJ2nv20aoNOCagA0LEihH2J9gjppWcmt2dIHQkJG9nS\n",
              "3rxfCHKhu+6f0Mg+ArtpIYgYMj3+9R9w+evjgd8SEkQaIN5xgIO+VGegNE5iQ7AqBiigWu++Z4Hh\n",
              "x/xxhBVc8JxwrEE+fYLK6S8Go4U/l+ttcvxOIbtTBk5ArtCVTnvwOHNj8DQeGHxAXuSGuYd78zBs\n",
              "VXtBSapxyT8a+AJcVjC2bCorx3AdsjmLw9Y3swIHV8iJIJU4fM3/hhbY3m7rBSxL/Ok1ZXhRpdp3\n",
              "OwSXnS89tUG2+jDT/0vJKLWeaa2T34POhX9SiaEZFS4lITL7oia5X/1Q2tUu/T9JWe0ib0+z46Gs\n",
              "sEUE3W3NreX5I/buyk5Sy9aT1Foy8iYu5xKPE4Mvn4EG4opXQVT6UTdwpiZTgzI+3Trh7aTpgOly\n",
              "f7/OTmLPKmlKj/kuTWqD/Vh+CEl4LgZmJhddHnuTN7snLJLnncEyGisI/XtRBbJl50YSwM4Je9XX\n",
              "bxmyKrsVzeR22nLM30CW5/I04LQFQlcG2GP0bXtHb/HnDzRq8O1SOPj5gtiTLT2dhgKJ5LuuMCbp\n",
              "BDTvQAKlrNkOLaqEUE3KYkPP0hibCfeIKhJijixQPklX60XAbUEzY6IRYh8GPJucZ6sujqWL/d9M\n",
              "ESWFXSXpJLkmn+fwk+sCPVDWyjO4cvY0CMASNUzWEqz/QO/xAD6Aq9FZsXKM6zKv2CfvbWrjRanb\n",
              "PV/LJGtYPBQGZKq4UW7dVL++/DFZYFkBJiN7+pyRKo1odMyyhrffndwy/tk48HJvpQkR/ezr8eRP\n",
              "STGZ6RmsNiKIH/IEYJbeiZSzjgNOZTkOa8U7Vn0u4fTo5JoFtSROlh32i8k2QXwUwmzMQA6y2Clu\n",
              "Uw8At6ne9E5rg/Kv3fpMVIpBW9HfO7bfFi/jUmzzPtpqA5Mzla3x335GRgx/AIAOXDwpl8hczwN4\n",
              "Sz2iGVsvHdKuBix8tYsKL3LioWAiCjtDuaaK20bxyZ+tjNRc6Q7/Hb+1RCRqf1jgxSvh5Et+JT03\n",
              "W8sLOgs+wHprzqGlQV5U34u2J9+TaQ1AV2wBcDRk3tk9cNe9y4ikQdJUuJ8Z3Ff+hZ+DiQ2S7OsZ\n",
              "bkdXV8F0/mQs7a/6/RRTHvvsiQKeMdRmk1mTvUndlKBNnENMw/IJgXHBPTGADcxdGfXOwCbSyFp/\n",
              "ubX4euJvrReMSmlZ+usvQWAEsb9lix6gZRjbZYPPnKoGBCday/TW3RTvrp4uTp9Vz4hC+OZTo4DJ\n",
              "AvgMgi71BBu7hqg6wyAkoAAAA9xBnkJ4gt8AANGpFKA6RN+EOeowyYIAbbSB6rwO1nBFVX+0cB8v\n",
              "3wudKntFr9gyxYAdDOC2HgNPE3niJG7UlcBnEs0HptcvfxaNZwB0fXANBHItlF+2v1s+YSvOnWHY\n",
              "qZsS5EGg5ACYnbhKUCJg3xOqObBYfE8JUriSvkqxWQOGKdMIN88ryxk8oyqYFboY2yH3gld8PD8a\n",
              "W+9aLqhFa72rBC7pfPcHnaDCRNg2o0t4kL/gnZbJPuN03BtUjTK0CEYj84nrYT3lnwRNYXn3/evm\n",
              "JdvrEvUgbHyXRFSYR9+Ifiij67bduZ8aMhwbBfpbER4VquZFC83dmbuQqdyrhnueRM3uAm6JA0nx\n",
              "TLnrqscQ0Wszxg7l34Gznj+36Vr1pZ2E0QMJP0or4Ryw/r3d+1N1Igg/mSDyYYj1Y+9vvQhX9R88\n",
              "MBYA1+jtwrE4CP2RYO3DMwHIlYDc3FYNrxYo1NMoOfDLaBtSb/W4TcjahM9+onmwTAyjCpHvdA7d\n",
              "ktIEOH5d4DiBzUe93ewWy03/UralL7JY2D1zYzisepBJ1zfV3Qcup9bttDK7MIKp52ypznipvNQh\n",
              "OuTl0XuYbUZBoogQvxofL4DO5/hELK8j49cvVC4x/ZZlnLHT4gwxvRtNFB5iMaW2glYzhRhZPaNS\n",
              "WceCutK4GNPf1yUZM+jms0lWN/uuEGS8Nx48aTvaRLfHdPXPq9E6jHws4VQoR3lZtq+79n56yXKp\n",
              "mKhiyJe94PkZdy7qXAIJrxEkPL2MdY+PKOsu1DEHcy7z0v+bInt9PEet93CpzZqI+TfW3eU9DIqS\n",
              "wsXLnlNc91ohS+0hT8T7ZMPrFAFq1eDY0b4hjhC41huXTvICcEDbryvThIaSm+BgLKGYHnBe0auc\n",
              "lotMwdbR0ReYX4GwBpDNFt50nR5K/KWmJgLMTDrFaUn0Fzydool/C3dIBWIg22XZugam8+iqVoXs\n",
              "uYSz/KnKavs/Vw9RL4oiqC2h/NNVvS5RCjR3n8LYfPlx5E0G6Dh+cbhuigOE4kHYFL5+7xWaHiTT\n",
              "W2xoUemEueMNqxIZXn1UjFHK2yRvhIW6QfZNW14u9mz7pVfMwZPluQbM7+t8V3juegE0UwvZRLga\n",
              "14M63BtK6PtX75FlCaZv9TVggjlW7PeHQisBAx/rEnF8mL5LE0GXvabfgBBJ/xrnj7SnX6kktuUW\n",
              "RIwoznOdZwl402itepwX9zO7cjh3HJplh0KYGO5u56ff2w6eqq9gIexIypx10cJ/daMQyft7TqNh\n",
              "ST0rLioUA8v/hwE9qbwzN0OZOWTJxTqBGmBsgXeODPq170Hn1AhpAAAC1wGeYXRBXwABRTVwToFj\n",
              "l0uUXdoNqICEMCGrqcZNwrROQj8XAB9AHzQ7pjGG16ANrJZhV7UJBBjqWChvrl7iJL7tbIa1+T5v\n",
              "COzZa27MMwulNrmnlYrsJjNlZZO/aQsbtqI2tD2WCYuxXY/sbVeTGfFuoxVYX7dm6fXALzjozmOR\n",
              "/96fQWXVu3s6ad8/xxMY9mXfzKfy4HatGIJOxgiY9iWZ/LDWjyCJRhWWkczMR8IFjrQHHeuxbf+x\n",
              "Cd+k4DTQMTodku753aS1ekXXWsfrvA9OZk0wywyG9IMf65QHXegzBNxELKKe0t4KWO17IJv9T1/k\n",
              "HFXhOnk9/2HNtC8Bw5orp1hkse4/G6SKIkWGY1be1Z/A+H3jF2drvbDYzsDvvC+MSrSnJE1mitBE\n",
              "Rm6/8rVFEtnUqFf59u0TbE94nOZB0EjS+C8vz2/5lsJQ4S0yzwtPfCCYtKUF09cS3gjbthOvm6md\n",
              "eEVWkdSWd4KdaUPzoxYM2irZ/sqwwKOIfIAaZk7mZdm4fPcC7nXRnhlXEWiACvBRJakUsrfWDgho\n",
              "9SEY5ggzE/03C54cDDHVNeAbdTP+Tq7YeLeCvqoXzuyJ5gfvZkPHg2Yq6GJxaOihbtF+TR05aOao\n",
              "9Cqf5+5CJ5X4quoD8zQtxwPhBJPxajzCo3Mg4UFcZcXJ/pu3jnYD4ln98HuIEEwg1XJfrunoXY42\n",
              "7RjnpG0tJTHgqddpWAt1jKdn7N7twyeShvSL0c7r70v7HiqiossGZwfNMpA8M+9K8hP0i5Ev8Rrw\n",
              "LRK3QDyCh6CDMRpHMRyP6s75SmNmmwHDlcDScnXfDExhzxptJXoc/7fQCWw6u4w/Q4F7oKURr65I\n",
              "GzlbBjPrhufUdOzoiZ26hGrmY64mqOMbPnWnYDz2ePgWiW988ndNKnUJzjOgUr/ZLbByeltjk0e2\n",
              "UVg5YtaDXWpGjYXNnZXZPxANGU9k/A1OzwZOg7IAAANvAZ5jakFfAAAPfbH2lROHYXzb6AI7CL/W\n",
              "plW1YxtfqVict4I1oRWpSgLeeUE+ObPMmWbprT8v5sdr3HFWmJ7uMy28tqosh1PJ7eyTNu/cQcTq\n",
              "av4sBcxVxlP25fag4+unizCXF56HrXcAAHzkphdlPsupJtzDqq7MKCaJtwhuIOGEsP+sbqPBmx0p\n",
              "eYQPQncBu3sbo8Yrz2+3kIFOusvfPcOvecxuW9AIo1zI4wn9tPqjsqLFiYuzHef20/6IqeJ7DmCz\n",
              "voM+56lAlqSUGGwnfg70PGE+HlpLHNYEqwJBRgvhBNJ9duQms6vOrCOdWA+eUnj6e9QB+B6xXGL0\n",
              "ex98QxKQAPpHtAoxQ4Yc2zb3zJrEdksbxuNx1sdvuFmt3XFkv4iX4bsu342Xb4S7OnEsdxNIQ7/q\n",
              "5u3nNJ/D8tPcT2y0Hniy+fr3qnuUgzwSsswyQL8awIDm+S4dFw5ikJOyKSSeR7Ei+UBHhTJ3jdOG\n",
              "v1xVYXYdSJqjaT3Q440GjEUzhk98qrwI0ifcAcYcqu4sPp7989xcECbpXbKfAi/T1LhciqraZnmo\n",
              "AZiA/5nmCfMob+utVBEpyBafXAxT+cuex8YMp0Klq+rrNCL3ONpxnSih6iy+S0Ki6SgeBjhM3HJI\n",
              "DGYQytxfOqEpdGrisXpZbxoZHMX7lNXPiebCcjGx90PTZ5pxWxQgDEG1ARp5ccMnje/suOLD2oHy\n",
              "E0UtJ18HIUBzNmWJGJv/ZiSD4wEuecqvAWvEKGzhVq/xdWojKXWcm9dXLrgqeBXnin91XeOfNNx5\n",
              "R7wGE1ITd1iubwX8cyTrT1mgwYp/QchZft5p9+5EQ79OQA/OFn/1zRLT5c9zw0nbaMYQV6ljvhHl\n",
              "nkImm3rVqZ+G8hAh07KqKdD7DhL1gyQ/wPB2uJyxfcorNf42rEGNpq1N6B2sGutygloGibxLk+xf\n",
              "zH18iF/t/JYCrblBqOhWyr9rVSuKpQ4w9oFs3z5amRoOVFbRsXTj12XXeUGsrLo1CMv2aNnQgM1V\n",
              "U3MUqu9QPbwZ3LmWMlxBpEc9qC6E1RR9IQUQRmfnv4atgsA9k8d9Hd4nU36fsdfB7J2Y4HmRJ/hf\n",
              "d8PkUa2rN9O3/WX2N8t6QijHN+i7Mqx2701SHXOQfTLrWUCFgrMl2nfAroEyxc9K7Mw7BcByVPSB\n",
              "AAAR1EGaaEmoQWiZTAgv//7aplgAarfH/xPndgBQVMnC4Qv0MTDriknY3bIs1M5PBZeajs6GY2Pu\n",
              "uvEfopUZgfuBd1VLqJTwFC7m+vpjxd2z/gMwZLGRvZ/senJxgCkItDcXJGA88kOvyE5mOeg8Ky/A\n",
              "DfmT9KECcTBcfUAeqENBCvuwCyX+p7EeuqotBYQKUIt4u7nqImq2q+iXR+i5/QLHzZ9XVu3oaIlz\n",
              "Eic+bJgckYfkf/DSoD6EHexSLpQevzXdgBMODWzjOk/BSnh72f2eLvLp4RtKS55vi/L07AU1gNqq\n",
              "sLFxovlKl8YCce5bpxPNvkAElO2uHpNwCBt+Y76qWLnhOv8PkJDQVWT5gDUQFHqMSqF0ILHmAkeh\n",
              "1ssKnCLUSWfevwy+JLm1Ny0JyIXy0WDVWsow3IUXYME3SWXBy+YPYm5tivNzlPcHMCMxKNTdvsie\n",
              "Z2rbLLbuApray4dbdT8InyRtWSNS59vnTJXw2Nf5EAYOv4bHmGWh2zXHxxIjqeFOa1U/gezv8GqK\n",
              "H9VRVV2If+6XhteG89/BFV2m1eFDYpD1JxK6uWE8Z94bq8867bW50FQFWne6f3XGVfcPK/CGF+7G\n",
              "lY0QnS79LnU1VJP/GJD/ZXe81GNhZ8t1m9bfBDGQQg6vb7iYKzuZEESAvIUbbIhzc82kz7vZWLGV\n",
              "2pEJmO2caSgVkRFfPNWeK9pnTHARpUETYeYWrbkbr/FAU5E6oe+P/XHnji2vgipmWT+ScW1oGkBE\n",
              "I3VNVzJv2PNxD81LKEm+/Wfk7+jpkcsRBQDJ4/YAv4ILcpmwKp5hBicOyozpTds6IXmDv+mr8Shx\n",
              "/X5R3/9EgLmlvNeduUhcYkkUghO1wNa+mvPk17l4CH3WTZgxhAmYMJyDGQmTX1dpXSkjjfDghA9t\n",
              "CA7ZFqWEFxy3QbsYkBw5qNpmVT/bBnFzOD8N4N5Xc7+pPP9u6xZ9fI/n62mia+OE8WM8eiXtp754\n",
              "jFXPTyoaIjIrRaebtICykSjk22ZGcTm4Vs73k2qHUUynHvph/XvKi19sgeJdzfrBEqC95LgKEp2g\n",
              "AFa4GZi6XUd/NYW5wkc2+I+vXcXZYLwJOKKf+MrxL+mkqn6nRNDbfcIn6JSDSh+5KdOqLl+jUD6F\n",
              "rmhL//5mNNPfVF87D1zPZDnsAJ0xk7iFEbizsfsMW1w1Rp0yV50vZeijtTVTvwwFBbrGqtubD2vP\n",
              "NhaKN0EL1pxqZDFC+3lNpfS3sb7jv0UPg++uYiuK2eEg3qYPFZEBeCbjIEY3c78F/efm514PngxZ\n",
              "rFYneJRU2CxaHVVJtJTABMqeEXjHOl99mDQ72BdBWLAEgonJcMF10Dwv6hz1zEjnzMgGF92z1gZd\n",
              "9ra5r6ZsHL7UaZC0h730hHCkqIfVEBSj1ga3epUoUkDLa4YzE+oudau4DZhV6SQiIgVjogT8z9yP\n",
              "Rh2WBUoxtK3E3VJFUYJSnISu3wTPgm+0tJebRw0ytAilykOmY2KDzhS88RRrjuu0AeyPUDRIVx0k\n",
              "gCBXGwP7rSbFMZnUo96U7oraN4Pp5sf/+myD54osUoyNogqMLjJNXccXNPcAbUid2aSUIzwlWxjA\n",
              "PiMt/WXarZFIQbOeLfsMd3B8RUOOcNXCtJUAuEBzuH7fTm9ORA33qtXOlD5zBe+Z4wi8y/f/95st\n",
              "5lY/PxzYGZeCqcgirUD7m0Wxkcy/xnphOvEbe7lDkCTO0vCqE09xXiG399RFWVURXWzTphA6ioWb\n",
              "E39y1TqGI0Lv1sEXgpLESxNY82tTqEXGsKs4425nWzdsRAhO7KhEUT7hi4DEEJUfODsRe84X0M1b\n",
              "QROYioS8vdv8Hpr9A+f727jzAKpIm5D/GxqO3JexGTbvN/CRsttluz78M6F+VkzSCPl3NkItjbzL\n",
              "J+CA2DLeVwqDmjqEplJ8WHsUt8yb8Ny6N9YOt9R/A7F5/AVhbPjyF+ZmbvCmlr1dVhFPfKAFVyyN\n",
              "B2yc1Q7baym1noNwB77jAlZKpeNYgjydu8Dd0VQYYXfv+/Nj6i32PPYEqxVkVwYcUbqPBF6zLMk6\n",
              "6yNmdfL+JDj+NQwufDutm59UDENttxdxoLPZ42dKWImgVG1SGrK47hoPXupkEPD+LbYapnQZp2md\n",
              "m8jG6GvaCmpHLNamy98Zz7nvzC7Z+sbn/oNMaSAXaiGDSjYWs19UAZ1JCoWuE1+2W3fUOrGEcn1y\n",
              "w3e5k3Ah9ZPpN/U8IC15QpAQD+BAn2fzKDTU2UeTmnRKJkdsB+R/BrZ14fXTwp49tnhrSgIvPqjz\n",
              "iYYrk2ArAo4sU6McMyI3lOYAXbiFAyzTxM4CCmcO0zzvOAhl8pJqcTxgYcvezZi9iIC+WLWKqz3X\n",
              "Xy5/suJ4umwqA69Mc1M4bIncsNeE52eW/FIIRPhTq7hnr1cptNGOQz0G5QBTNaVzW7ehc0uYqx+0\n",
              "AoHde7YcJHaa+xHASCP66LJjbKxjjj2pbLzWrkcWqnEe5eV/YBqqHrTTJpxOjypJP5Xw9NOoNIoq\n",
              "epdW99hJ3F0CG20/6kICS9uWXI6Z63PASfusZAJTF6SuxSpfyOD/C74j2JqfE4PkmMmkHtcMEVpX\n",
              "BrMTjL7/eaLIZ/FX83JHx5fjY256y8BzhcqsdwzVuydtzqtCiw9AE3XgCGRvh6CblsvvIq6yxLTj\n",
              "80z5rLJPMFkbvvkU/Oib97xo3g0EeFeu8IFVbolxG9b0/daBaF4vC9BVtld/aIMhEryZf8PrgLGg\n",
              "jplpwkxMwaHWKMJXVW6Z16Js3MIxFh3v1lTRmWv6zJfbNMsQLnKb+lEX/dRlji6vTx7RBm/z2oZO\n",
              "b6biELmgOXVBWaZBcwZ2o7R2K5m34UAwr7wr3NH5dMKaMasGQIr8Hr4QijI+ZPUnHB7eJEWBly0e\n",
              "1xr2iYJjsZZ3a9/1oXUUW7MSJjVz2swqOzqtNAqzEDBe1qRm6icV8tOJSXLTAgXKa9F4r+h0NF9/\n",
              "AsZvVh6lauiWQTbA7qwwUrXjGVn2Vq8VGLp/fDf/okCs8pyCP01KA/6ipZ9A1zXpXl9u4McfwTRh\n",
              "jxQUK1EKfP5rwzS/Txf6IB+ublfJkOLo/v3EuN6GJtDD+zb4jvqHXejSXdkuBcA1CofvkOEGnnYW\n",
              "WluAaX26qolQoxJ2S2P6O0hHvgdHhqrj8EsnNQi+w4iiy9NEU7WxEeBnBe+xxFp8AStH5WoMCUaC\n",
              "/XhfdkBKXVmjnqQm6501ggjBBjwDnBIYT7bCMOFkzRjzL31ow4MPK1g9O2K7PACrGuopXyHgLQ+4\n",
              "c9l3xhhbetTBFtoGccoDgMsEMLbgtj07jhyB1Aycs+1hMo4TXywoWCiplOVBizqk79llL3B1ygmD\n",
              "KJTBvQZy5PhnmvS46Typ++AlMuE9Howu6iSgXTgH8AUi95wq4zeSPXOecMGCDYHhiMXPrDDQwDXD\n",
              "r3TttrCcxwRP5SItFUirG1p4ETv1LKatnlMMCPoSGUvrqvXOwpE7fiYJ6KWIUyhnEEJP0j/8RIAp\n",
              "xZAJC9yQ78T2blrIMSg4Z2jxAna0b86mZTrseny578X9R5/wcDVIL/5WUXt8Kjy+Ym2BH3cW+TVM\n",
              "vmtyTt2Q83tSBvu3YIMycPXIkF/pHn1DadHCJMSoZvuqCM1FW4lHK1IBkkbmQQXLr+15AFC0a9tI\n",
              "4k0b9go5ySHQ3hYlRuRYMK+MtPTY2aCO/pav8gX5kA+6K76sSdDycq+7TdKsnYS2dH190p0aSUqN\n",
              "vBhRuci0flWnmbI6qIxO/WRsLSphR3Pnrjh+zuRK9uCk2/7Tfw64ykav4tBbLRHydzlTEGVvOMNC\n",
              "X1kr1BHnr1CaJdgnXPh6ho+VXpim3dCYEqvGu4aJmdgu9DOkWWMzXkDduSFLUt2KApYNhBoB3Azu\n",
              "VQn4pVci+vZ9BDvZVrLpaV1z+N8iz9iwsQsDtOYwkzViJ7GVi9tQmKMIiQr3YSKnj2CipM83cgr6\n",
              "5yjdobGQhykAY2Ym/9vZMQtA5flUuenHUPYDYENaxqZrjf/WIhzg0kiKe8HuLvFkxTgA0+u/DiiL\n",
              "pitoRVoKxLXAoAD9sfVloYmo/83ib1gB5qHm78/EsUojBOwLTSq2TkT/RpIqsMo2ALvxYNU6k4TP\n",
              "NV+gsP3dpILvLHaL4lyZO2JEFXxX1UUHAFSdOu3ehJ6GUlJvCCOYeLzaDdcETGZHNvOv1LBSIguw\n",
              "w1/09qnTDBNMz79lZcoev9k/tjb4wnTbl4nUhon/+D/4pj5eNUaCC99gFiKxsQ45Ou1FxnPa/B6t\n",
              "3XEZWyJ8ed16g48iNaR9LaKfzyE3qyo7/4QeAtADhJiO1SYjzzpR+Rbov6nn1yYVxoALnp+NCsrj\n",
              "VPvk+feS4vvtZBfP8JjTXYh2+Bkfh7RwBGR9uI0K18iMUdvN71UtlrLdGT+DEtEyYga6FYCXE54x\n",
              "zvCfyXn1YGdhH8XxkP0eaN058KtsUpwW0wVSdBpkN1Ah7tXB7c0oVxx0BGtLo97ZUxTq4jBOh+3Y\n",
              "Teu539jtxC2jTpSR4CpzkdvHC/MYAPiL08hQpB+iV/rIevTYFH9yGq81e9CbpfEw6lpZsU0YI8S0\n",
              "asvvDTGDJZvjHYzPSBsn2m73tpM6dVlNEDtmzNiJTTiRL4zFOYWMUEkkV6iiaqNu8ngBm/VaAa4U\n",
              "9WavDDfIyYD+/CbgK5n/5zOlCrc/+hRTti3DRchZ0iw+yfODMgWqDIuINToZZBoTSqOZwLciQ3PP\n",
              "pkAIJmu1YCuC5IaebRx6hYqHnTZaMxLDPrz/vIl7le2vAXiLxOVo60J6C7im2zg55u4yrk5lhdJH\n",
              "pUywrEiIn46BRTW6/mHXDywjPHdaBfkoOvwL03llZWYkrJmjepLK+8Vy1ST7WrIcWCZdJi5NNe/T\n",
              "lg6J2rfUlsYJDi89FW1x7rVEo8UqEwxpPsfNAH82XnMhsy3IM0X9sy1fbl0mm9H3ybBZGHGvf9Zv\n",
              "cKO4DcYynR3OmvfsWbC0Iu3n9xOq4O6yx1BI3bhqhhQPLNeXbhywMbyGYq6hPrMEW1KFSAvNcjMb\n",
              "+fWPIxEL3JQOCVxciWQMOa6n22dC3l9aQmqrHLUFtt2MQ5/mXHSUlTf2n6sr2eDF90Ukeub8vgny\n",
              "gw5uzPdaOawE8Yx5n0nhT+vZhN9GEas1g5EUZlUt47ddTNFjFwwGgUZ0wCjXvJMpBcDT78LUn0Ts\n",
              "nAcMZF/eayIt+COyRXafIzQdzlDh4OFPdIfebUB55I7JtW/W4UagCpY6/1VC8SG4wjydMnqMga9g\n",
              "H5i+E6Z93ExjbZqLtl7/2Bm4QkGIMqKj/l7JYxgi+GYW/Lf6jM4L/frrYQldndfZZJkwIY56NQOZ\n",
              "4v1h3g539lSR2x/qaNIYSnH8awrDl6I6kDZF6fCFPhkoWWIoBYNJcXVae2qycc4BFT+de0BT4UZK\n",
              "69o3nhEw9vAehww36qWBEgxwYwOmJyL3XrW6IC9uFuaXxRwduoKaJlPIr9rD0lkK2zs/Xl5j/q8J\n",
              "bXHj0PnrdkTM07FdojsiQSeNSZvDKN2v9vgplCxDN4Efuf+QQIFvg9tTSxWrvnEwgu+pJ+poAzBv\n",
              "JAHi/SWSdziP9mHYPNTG+Aq4UqsIYbPzKH1X/U5N8POGmPELuXiS1caecs7wqcsv7QUqUGUNAS7n\n",
              "pRW8INjaWWvrtlp2rK+NnXYvr16YDvpBrCxJWfBg0b3Q53RW4wEk6J2TUsIUiwAsAYr9OLBfHOKo\n",
              "jbNGbuhfwXapNOjED0XTu10fpt//Kvzgw6zGx4zIxPQS1Lc97fy4t+5wS67SRGmDd3EPFtMhnpdw\n",
              "ezBxF+3hW5t3IunHI71zB7fZHg7uNWGdatgDufwsytv8pXlVXk6K+kT0Kut96KY6bI9Bvhn0OVR7\n",
              "mrKVhA3N+5IE2+K+O1QIUiagLay96DInKE978efIGXT4sQkfhva6kcJ91sf+BOprW9i8MEEjLWBA\n",
              "ODyFtQjkafZ75x0L1l8clvCOVlMEGxAW3kLeiiLb4TRJ8ZK5cjgfs8/QQL//xWkJdE8biCwc31qT\n",
              "o+/vtR8a+rSeojnV+uEgjRQ2vbS+LCR2sA4+DKDAUwoHs4c9MbRfPw4GfuYkwneVMA6D+REfg0i6\n",
              "Q5kh+lhgrYEAAAr8QZ6GRREsFv8AAC5eYrztUKaEn/hnwXAQSIY+h5yMmbxFMRXdt25OxeAzaR8b\n",
              "ygl1lztaBuCFH3SBVogRAZjgKVsrS/Gk1XGbeMmHu1vq8dNDEQKliSDWPr392C/L32Jk6KG5oNz3\n",
              "79700rkHG19j+kCbOUh3giSSfL8SBGE81Ckn4tBDXfI3Dp0koIL4WLiizG66EuVKmXi5W4CzCQ+Q\n",
              "UaFxDcjU3J8qshdmiBbXsuwluD9cYRqLP0zm5qnqw7bNOxyWEqj++tkywghpDRKL75+/knaePjdq\n",
              "7iVoU4f4Rmdvsgy8cdBivGf8Z4ZaKWm51J7DWAwbS6Yvmy896Bx6wzvDVDywxtpvw5f5Mqnm3Tjh\n",
              "6ckYGL01eK8IVs3FGVJFIqkBupZn3QnnyXTMtmm22l9u1dJR7NY7YhKqvapX5b7yOssiEzteMELo\n",
              "FMTyYwatEx98lg8aRJ9O9KVwVhHg21B9WrPL01N6zqJ026onO9D/ooMrswijaz+7pOMV9YIGxLVg\n",
              "VsS6ISWTP9JAW+LmxE9vHS9c3AD3gjbbueEQ8hcT/c9Dw9gpl34kc2XsM697F9VhIoljLKd5adeQ\n",
              "bKi8QH23+RZs5DwI4Y15G0xrFeK4RukKcgO7P5cSrYccnIQ1fs+iFPYBIfLqzc1RGtFUEH8dx8dX\n",
              "TEcqP5HBPERoVU87ms+HclK5CbckYPW3xg/3gDz/62j7cqUb0fwX8dYeyyJvQTNCIZr+z7NpJh88\n",
              "wUsKTFT2oCR6Y9cUvzJPmChWu8u5Wf2wUbVemG+w3woftO98Hq5SWel3q62mzsYiM2ohseLnHWrM\n",
              "6/DTItnzDlF8fitipMCaVyTfWr4zqXFAurNYLUL5E62p9CWWpYTqhzYi55RX/chG0S7zC4pUSxcI\n",
              "YTGavNEsc+DRNjFwmnsLg30cnlSQh9fRDvmxoYuLd5E1Bw/tPMM18LXdiimDAPi4Os9qepUFBMTU\n",
              "PlaRWNE/HCnbN4vJqFaW9wfUrC0cjkpG8H+GekgqiJt3GNBvzNG1hHFIdgubFrp1ICS31P9edfXH\n",
              "qHJ+fhPV2IhFcIeL7U3yq6TyGjhus7Iw31FUYnyLWWUfyS659BXyYOTX8U4gNkjR/ULoU+T954R/\n",
              "ADCgilVhVsh2xzAnB+vxoGZ2YQGwxbTma3O0NEhP69dFXbUWytNqgyJhRQGFL84YgSpKJUDNMOLo\n",
              "suFOqxdKzR7aj3gJDqUFoSjCXzamWekkCIyqDc3l0NG9v3TCVu1ioNbC/t/VfGERlXaYjNi7C/RN\n",
              "yJnCoJuBMZX/4XmmF5jZOYwwo1Qvr/sdX0WAys67aHmbRpVnqhkfGSsvl0SAKnb6a05NkReAiWoU\n",
              "41Z2i/e9ThT/kTegNJM7xvEU2fmT9aQc6fuqQa41cZrTNccqmhjiHRqRTq4FYkAbZqCstEAcTwpl\n",
              "Ka/cqKM8folQQ1YyBs5dQJzrYqpMHAjS9AWHwe9JM8/iatDQqHmeTfh60ziylRnNRBVVqpU/tM5M\n",
              "FeactWmBocYuR9r1p1U5HB+k40BhVXfzWo9U3BJGrbuUnAYnvpk4ksMrY7cTmd5Tqf0SyqPJPnPg\n",
              "qS7ZN4F99WwlQaE72GbijmcCtwBS0nB2IMkwoukNtEeuRc6VKObzsMy/PEKCjVU6dCbKEMqyMmo7\n",
              "q46bKb+KXShJ2JJ6dMCdVs/AtcvZfGPqBLDNUCtR69r2pqLVd6uOyfOASL8tWHKDS7Dhee15946E\n",
              "c/Do1gFh6CHaEtneoqrsjGEQJtYjTdanzwv7/52igbJcRWMaIC6ZYWO9FB10sT5QzpSBC1oMRZl8\n",
              "IQtPd3crYRuPO5cy8GNyAv1zas2yUnJOc/GZtan9reIEHOR9PtsWPHPCcHeDPh/OegkAhTf1L6oF\n",
              "Q+mmOP37jCBmEehGjIaZZ+RD1ueIFbMmfKen0VIlypZpOvbeWs2r0kPwOSaN+WrU2GpJapJaVB4i\n",
              "jHGehe2qkcjmCvF4ZnIyW3kGtLCh+prBkZ5m43slFgVSW3ThHtoAl5hr4A99ieMdkVNZNiFidoEw\n",
              "3HPCl2/7BcJ20gbYcSbizw9tvzMSOgXK0JGBH+VnSpcbLFjilnhS8CxHlF3UfzBfrLlnpXu7a0O0\n",
              "F3Qxplx+8z58bbQzoLdcZ1APBK7Cz4xhxS6M/qCoP/2+T/Q8VxBHR6VHtrAe87IYHbukshsR3s4C\n",
              "FBij3kK2EJJhJZZ5xr87V928IdA4mAmWepj2dWOWppqVp/nnzG80f8ug46BVsHZwinNW9o5SVIRI\n",
              "6MI1qTMMSjRTEIqmYyejOhGvKu1p1FC7hObFg4JFdwqv+z5PHCsUwiGlTJyrfi9I7uci9PeleDl2\n",
              "sFFG0LRA7pG+Bge3+19Wo3nIPulqXINkHZP4Tq4QTq+cPxt2W+/8GeYI9tCAya8gMYB+py43DCG5\n",
              "YCHPZNdCfEUA6ha6SKAltS5H/1B9BnxlGI2Qep+XQs4z4goZB1BreSGMxQ3+UARF1N1EMoIRnZTg\n",
              "8h/CEDJ/2AkyR8XfwxS9rlhfMeAcQkRkr08tzO0RKh7uuQOUTSpvbogF2BP9I19fmjxYr0tCLD3Y\n",
              "xMZz7bY8BTMZjpeYkhLdJ4P7OFIe4YUHkblu3zMTRC6VI+n2P/h6YGplMChGsv4VgCeGp142Chcg\n",
              "x+ZI9tTvY34KEgqVzvLK8W9hlrYinkB31/zUpEXOoI2BEHSRcfQCvUO8L6yubBVFRvTE0uJ9tkJt\n",
              "A3B+rB6NyvxqE7RbfMb8YE1Jmkx4u2LTsXkYSUIdves59MdWAgYNa0oXOOW+LCaBNGPB9uQYe/QK\n",
              "jicDZEpiydwje58JsETZS34Gnd6Gt2dmocsfje46DcS76aocW1sjMz4r+VWJpO30dunWes/Wptvh\n",
              "r4vfqOmA9d8vrFaF0H4WiX0ai1guLSfVP1u2kGq2MUQfSbNtKlnZwj1KPdgvGOBH56SxTo/TY64H\n",
              "m1odEyhKd4KnSS8xNwxPVAYHD6QR7gQ7NXVGgJ5L1MH9OeOZSvjLql+j8iqFO0zDbzqRW+DEOkfc\n",
              "j3siUTRx6pXEApLCdtWTSWY4Oc9z7ue5ug3QjybnO/6CdsgkXtX9axwb6VU2I9O8ZRwFyiVnv1xM\n",
              "f3q4k5622/vIQr6VGgkDJihrhmhrzKCK+Rl8uqGKlWWI4A0IE7TX5S8tDp6kh679gpFe0k/JSaYi\n",
              "18FpVAQV/cC1A6EVllKqcdGzr66xigdkanSib3RmQaeClgh9JCFCPbet3KiqabR3eIWb6Dnr0aRr\n",
              "3WX1dsqGXEHCBl7n9012+34YEuLynwNjv8PpqCwYbLDcQsTnBe3YMOyTl4/xxZtHUSjdLWh4KlEV\n",
              "eVJ+amiC5wrGpsG984q/jYQNHdnQP7vv9zTbbxGJOC/WaRXihIUXJDn3CDbqEy1apYgztUBW9ULN\n",
              "sVYOmmtF1KvtI25Vjc6ZmIxXHRnwIGest//Q5o4+A+UfGgHuWzXtEeE0tcheZJAC8mbjPdKzhyvL\n",
              "oLBh7TRY1hCdD8qoWcp/NZHP8qsE+n3r6E5CiauhZ3+xdDv97FItCacpRN7q88C7VVs+6VoGhoGR\n",
              "s0zK3RvHsw4GoryTGfmTYcp+rD4ElCuW6yzG1XFSeIQUAaqKC0toQn38cUQz+Vs5zjD2fhnPvnIM\n",
              "mCG7Xe0zkMWElGB7tEE6vs+nH2cTkekzSYWwRB5S3ErFRltjfz4eGcC4QGtnVQhIJUZdgeuyKIyI\n",
              "b7L+bV39Fc+EKsiH1gBkSqQMSbavxQT2FpFysLSQ5wAABpoBnqV0QV8AACKToqRAVP/2N8GgMY7M\n",
              "att/f9KKprE1oBG/SjHSyMMyUC6W0KjJqcMp8JsezVHdz2MnehLfx68rXvxnhv0exlbbwV3vMcqY\n",
              "XDwFw6hw5NE22FlpWOWnOrAA/J44ZxWVB/eLJv8I7jOqw+E0SOmhL2HK/eHh5SBDFzhX/PnXmleh\n",
              "jSjHQC2Fc4kVp65pLPgWbY6cGuSoBWkd1S77AFc1HAaEJOSRUbMKrATcNTNEQg2sLLV8fDWrbyMO\n",
              "UpHFxQCdH65cZq+y3Y92bD9Z+hcnclfQON6ADHCwKgld5HQJtGRmFITnaW0RbI8tqqAM0JNwuzXQ\n",
              "l24Z0v00gL38Q0qjBweP7RbbIENSglrgKvcoKBZdEGu+vD5mFTc7CiDEqDfd/beHhvWg+vulr802\n",
              "NzT+nSKkFhhnawOmEzxFd3D/4fCDHEpxVR/c1nPFl/lz7Uc2h9Wj8GrISCAPwzgUDjcfZ/OqrlJ6\n",
              "BhkguywNNl9q89zQaNdSLjobxZXCOGMYNm6YR0h00/j3TplIZ55DWaDu8AzhQJljqCeowfxu6hL0\n",
              "6Xjm3yGtZZe2L2Eblxuygz1ScnMyyav5ME4D5yV/IA35xo2EIlllGXstk3dmeGIWSAmYGl9WpdGl\n",
              "5QdPfqjpexwjrOIuysmh2Su3DTexHrD7z2H4fft1hHLt6RKvKhx3y6zYG4L3R31e7bQkiI9bc7D8\n",
              "u9qxmk0fMekziH8c0F/uL4oqWlJLOxeb1VRqPqjB667+qJcuYC3NLuOPxVocURsjpZ2ORDCoTYXs\n",
              "/l2dGRAvrF7IJU7ppEsr6dSZ+Eo8SWYeOtMruCB06nMOnmEhB5VE2ZxyZCCaQbalLO8inKN/qVE0\n",
              "+yKeAqTvOShCrs4Eco9w/jjaP12CH35pd9243liVrWJqLazX3sgD1xXu0EMyb2wkl8nq1AadjRaX\n",
              "tw5f9d1eLb91DIaLZHX8gXxj8gb5OIDQRZaxbg59pvZfvXLm7bltq5KdVsIuOveF+uPXp+GCU+N2\n",
              "Sb26+QSYnRoCnTaNiu9NIi2adofIZ2N84cLw8JXOCovziTc1IbolRMdN1adJZ6KS4Khd3bbhJ0oO\n",
              "uwdUJeGo4f2VBdkGMkClKRiCA00cX38sqFUKNxtG7irNKT8CbBTOdDBL3L0Sp8A6NlSuAx4A/TPf\n",
              "zuEJibXEQzoG/5KNbHEPcLZm5QOr/MQEwLAbUq6VGJZdRSjWUfc8LpBQ3m3SAMhADNQHU5iUo88i\n",
              "GXs4eOLEwlkzjincVJM5JbeOrwXTJzqcvmJpEetkexGimPGqM6Sa4VHA7jyBAvSVpwAgARzNwq+I\n",
              "ZDaQN/c9wIUvkFywOc6e5ztJF1EbJRb2n5hW7mT0XDYeOEmQBho9xfiRt95vlLvJIp7QeG2dpEGh\n",
              "y4o08o/UFyrtIN6/xqqJhnzovn6Vqd3AgRReVlIguZeKYir2/5A05GigLDMuhwtCptR+RfjTu9Qp\n",
              "6tQttw9FBGtqM/D6yAmw5MGfRgVhRb86ZqPkODdN+7B4xWCLY+jgQu4Jt+ctwpBq0WseZwFPgSQ3\n",
              "PnGtEZTEV/2kTbGAq+14kqFUkcgfEnT6JujYbJxJKj0pFDjnXS9s4PVvZ95VWtBjc88TrOUKoov+\n",
              "AB7yeS8oEeYHzs54f0XJZ0ea0UABurUHlmlOmmiV342OLzlb0UheMhb/SuDOa9MpaTemgxKx6ycs\n",
              "uQdyBz6JRqQntqQcdz+cIb2XnnodoLjxkdwhknvCmuL7heNxyo7zs8j/t/9NkkEL+FZzHGv4SsZp\n",
              "T/db7cHRIR9c+34NyacecEtWBNSy7tkHnMZSHa3kMScd5jXKh/9jHtYPAdkgsNkavgtaXhQ5oVbw\n",
              "gmHJCRNzFKiYYM4KJ2xvbT4YZJ0DfJ7lF/XqoxfWQPv4qXigEvMgXfiXDHLZqtB2v33F6pjw8505\n",
              "rzEXjEh/9Ltl2tyyTGvWuMhYvMMaROuRb7AJCPNE+Z/uO83iAEA0RK0AEGjHjtiBoJVMzb/cyOv3\n",
              "RTAG6cFl31jGpL7XcM8WiHyjEShMoLKSXZDsRnrIhM4kD4lmPr/JviWd1yGhv5Urltq5Rbksa23O\n",
              "+WjXDe7VDjUaxouXWz3GIwv6lvJ8NjPOMiaT4yWo74JrxJ05tInxx3qv8GOu+/yQyHWEmQtXclEd\n",
              "sxmeCxToNJtQIe5SGrhIBuHupI2ZF0CrxcYIet1J0QfVkUcS0WeFMwY281xTR+zVPqnP3N8qe9Rl\n",
              "J7W0X/rljOE6PLJOS8wRAAAJAwGep2pBXwAARye1byfqOX0ElzBvutRPteYpSYotaXZds9NsEumO\n",
              "cZEPyHsjVIHDM6eT7rejDE6CVeLGCkyQkUGtxnssy9NVtykCnDV/zFblsVZomGVXhDsh83IYMenX\n",
              "EcWPEYoU6Vc8S+JIT3kpsT18RvtLjVJiTZQ55CN1VzHcQJ0lDBa0CjthtuDMuiG9OkFlptYJ2o17\n",
              "QR/jO24cqP8RbSd/ZeBzKQIEIJqhdsfz+P4n2e40S4T18gYgzO/cbqnwBk0jeqOjkX3DKVJ2gYV4\n",
              "rxNRzX27WtXTSBW9Gx103Ko6jlLDY7iyQRzZ8y4O0yk6T/NLmntGOA5r6xN6YlXsJEdeQre+Z8aq\n",
              "V3YMuUwH0YLGJjV26hGuMQoARsUQ8z/p0xIio6o9t+c+GYG2jVp3tdROXGgrTtK7vmubUfs3WuuH\n",
              "gAZdaU58TrcMUXlTuNIO5TWcO0AcA3cqewazslbu4GaJp1Da4JfJDIZHFEBEzLKw63BIefpKpRe0\n",
              "vyO9mZgwSYQ651pdVogCIaqMmkmTUpOtCyTMWZBsdGonWuUFx6Kil/YFwdGvfdYMTWXnEre/uSwN\n",
              "ZueK4HQnPxTUWbbIeBrYeXLVpnUtg4Qh6IaWngshmSx6asxbC3YAJsMaoqLP5N/M62ONVJNp7PqG\n",
              "Y38k1sRCo91mFrrZMZe+qB0x/UVR/eypTnizAihuEmBQpdvojS3MMHA1RDo+n44LlR9tdPgIUYqH\n",
              "EZ3kydF99GksNIaWilnfkpKuapv80hDAVHFOX0fREwdgMkRh55FZ6/c1iqZgGuiej25h1Cv3SNcY\n",
              "35MUo9S59Tu+1OcDFI94d0jiCOJYEVRfji9mGiyfJeJYCTJhuuefgTaVaiSflmcq1F/KkZbvRA3x\n",
              "72+zbSkCSm6pRR784w//YR/SthJVeZUEAL0tQhoiubVVhGB7NlAHy1t+iyCWK6BRO9RoTCFEMqOw\n",
              "jL8UxKhqHVqI0U4QbAo7RVhpsMkx+7z51tU/tUBLSgc7RztCAGqg2dKJX4NrexgGqYTEYDxSJdNL\n",
              "zXut4Pf3LPM2Ax3/dTtBgiQltaTtZp68F5jpnhITb+QnU/q6edjGepD9OMd0MDXm0vr67HMHZQb7\n",
              "MnPVL+DsJc5duT1oI24EyhrXQlNFZKWZnSC0FTY8HPmcRfE/fOeRLsYVhrzoT6aDpANbQ/dHwS5y\n",
              "148cabZrnyd5SUDNlPQUO5551alcWEwIK41adqqilkKPQDrbEBg1IfyeRbSKqKPeC0LKbDehSpS3\n",
              "SSmO947/A7Aw7eHJ18t1aADEApgbL0bV2Or2XnMT4Vd7qjJ5Mq3tMBGi5u8+b4FyhezIpXoTsQ38\n",
              "6X322qhVtz4EU8FWILd+NWsB+UKrqtoPW6iiUQE4gOBmVz50Af6G90WS6q+h92A3KtVty2z3s5kE\n",
              "NvD+bS3wZ3fR9Yv1HoJyo9g5AKc7+azmu0+k+hw1UnTIq0OzbMI5TEGs6TnKA9YQQjPPg4eI08BL\n",
              "5ocbZuCCobPCxYW58FAUGzyw1gWc84JW7sxiMhRh/rQ5IUlpSoMaJWuhXv1+hRZaE6DES5VeCIab\n",
              "G6fMR+HqBYa9UTxa+/Fc2+urmXojqIVC5IC8aDc8lBVFCA2djgbD1UH+omqF9ipayyDyQXITZ7eL\n",
              "jtyTdi8eCFz2xNn/uBCkujxtWgUGrD6g7pT+ETjsvDp4ku4x379hXGOVuSj+gXR1U3RJx7OmPHJQ\n",
              "AUfz1pRR1NNoSOyatWBIc6dGu+HWudgzo5tcDWB47pQt9q9qIM2VoJrFeaVI2qo+6keCeMHsjYW4\n",
              "fMOXGfyAoBFR8/6TpCfFWRWtg4YkMY6JObJT2nWR+rxz9U39kxnVTswNeeYqD7aXW95zwacejOOK\n",
              "PxOj4P/yKLh1Fy2q/UrCEMWyGEOPFUN45EKdbroL58GsUxUMGC9X8OQjksLAvErN5av939+st817\n",
              "76o0fZwuvgEIgofKIbIQPA1hv+olKfIBJ3ZGlJg6L+V73EREsbftQnSbCJQHAJwnCHOvZIsOe6ny\n",
              "Z/GnfLRup/C8lEF3h1BUuYbn5Hdiw4sZ6lmrADEAoAqLy/pMp/9KjbGrkjzwBrhldlSUIljpw1+I\n",
              "Jz6pTDjN1a6cYOZ8uLarh05lGWAclYzIxyBBcKk+8EDEJmFUjv5TGt4SXCo4pqE/3cTUEHjD7sIU\n",
              "2d8iGI7OJKH+/EzDVUEvTHvPKLnufBRxEZCEnijB7awbYQ766HlxoYs1OBukBmYoTcH4Q4UlGfYP\n",
              "8ZWs1ZKE3OJzsqKe/CHGmT/YPuKXPhe77WLFFUM/4pMmFQa5EHQfW/66G1KMvSPiC5EQqdaV5ABN\n",
              "6kQRdfLtaDh4wnR4OOrMD1Jr8AbT2KkJjvO1z/SqYHrNZNRo19L3wuHUDKUOO3ZkaI8aTp92jmJi\n",
              "IODgo0eqKemio/PPfVEK67ql/GcgKJieTYnV25l6eZuIFO/X+qrEwyljg3IWgXywWXxyybshK8z9\n",
              "kBg3MEmkaqxDFQGyoWA5uEhfdkPH4uZJbS2V50Ydz8ovmGD8yqS0YQmjyygVWwwnrM5rZLjYMCET\n",
              "D+ysFDppVydqTDvdXF9MSTRjhnBFYmAoFMH4DMLzA7DRHIv3kyQvWdtRPxHoL6ufKyqpAYMhyjjp\n",
              "apMqag07RXmOjDWD4Zc50ifpnqJa+lwdpTSgZk7jLUwfHV3kOtUj9bDSSYc/1VCTVpRne1hZtnJ7\n",
              "IUtAMBnaFaVWDm6/q2sneASCK0CiTkZW1p2cz79NKAI9p3VPOF5pQFJEmmf1042B6kOBBJ3P2hrN\n",
              "Bw382lmRar05IM4FmruFs7p2r63gx8vXwM1Mh5Vpi1j+JUgsv/rX5++/4UbtKI5Aj6o/1IDPD/6N\n",
              "HtWSuCAr3Sl0iGYLIhkToLVDI2F5wWzfvmJxflFEz+3cBdvCQQdERHCQlgoQ5law2yihAy5hWkNk\n",
              "k1Ka3bsKeJgzL0MwbH5FjxuewVDoob0sXPb4WYhbfrKzXPdJdxbC1sFWjpWdM173Ra0HG6fYeq7v\n",
              "xDJdRwvTm8kCIPxYea8gEwN0offQbWs5eGNxrm/srVGwLbu3govYNKwZ9lXIYAAAGQ5BmqpJqEFs\n",
              "mUwUTBX//talUADecQ+QBCrzA3VvgLCSRK6ovPwMHCPnFdR6S18hWT69fsa+x2gUqdpfTFuGZXhR\n",
              "7gpO7hm9DdXwGc+XqkuZt5s59GQNMlvS/kPM4qBbnVtLBFSE+vk17SaeBrROyIZENFrqCjm9GVV0\n",
              "So9/dN2QJRTEnw6tYVphgzXZvcCIVmgWYq0Q9sD0WVmI8POpOPhAjY1Z815Bs8BXQ76LZiNveRNc\n",
              "D3Q4WwWrL3vjyFzQHzJawUSS0aUwr6l1qeUG6xfpxTNjc7Ua8IZ00iur3HB4JOjcDoaD5IGVfubU\n",
              "QxC+yOT83ExZ9sPgL6EFbD7wWoaRki/ts7K5Kxi+hMa/mFjjZT9zLlL28qeAfdUoGwe/fcGaw85z\n",
              "KEvchAQJnPaM3KjF0wD+AIbt79wfVjRTZAFNoo26/so4OdCIr2UxGt2gDroanJ1mdNg6YYnAaK+j\n",
              "bjAswt/s/2Jawe0HeTkGjgS2ad2DQQXlE0qbJMAXA5Ps6r9zcxHNSKpPlIMiRKFvCafZHQayF4eI\n",
              "1US5NOTqowx0ozyP9mEKPYc84Di7uNvLt92IOcAlFcKrNxrpURnj4K/1J0jMO32vboHdM27tJ8Bw\n",
              "LJuhLKZKaHjw9w15U6GKSCFReCQ6hWah1OeTj1acQBc3nfkn7Kt1EotLAB0zAanUTZR3RzG1W5Lp\n",
              "ZRBdBhN7t9JSY4qGNsURxIeZ3MQbZva5OlldpK2cDP5Bt/qKnegxYNJ6qRN+r2la3m4bKaRwAcuV\n",
              "2av1RDZ1CA+qs2bhhBlKoN1PFTNTG2H6DGdzYj2T/yz//HhkO3ky48+lo6ET6kpAnRSFZrdKeps8\n",
              "vEXERWsLTSWu1hiisRUIJMNQSU1w/GzM7G8v2DN98XSk8QNxjMifC1cBmTukDLL1/549mD5ThRE3\n",
              "4PbMFKl46prInAScW5AUtDwKWAYQzS6bftt0teM273ALDR7bHM6ffJTDoESAEXixn9XImagR2/eV\n",
              "ixBjBK4WliHmib19lwdkfeA+0steFMrpoyCztyYKlTqq8pIG47vprWkOsZ2aEmAdMMOGzW2oovsi\n",
              "rcPBkZHU9P4wiHaaXhcBEu3G2WtNoi8OfwkoNleOObIZogoZ56izGBY7nkppdxWc8FuUkqayds6P\n",
              "by3HHdU4GATrOTxkAwQCpOli4nmrIzubTVVtMytPU4frQ9qwvndmAlJ1Buy9lc5lix7BkmxLvHvl\n",
              "NPoj9poDp94sf6j1bUCTzkHVxH+BueEA1J/FJdF/96ilenxifME9JFQjfH2ZNXnVAOopOok91nbE\n",
              "7jg2O18PfDgG4uVCeNznsmLZ8jh++HsoMfR65XCTuO8m9HoGQfogNq42nsVN5wWxTzHTaevp+2Hg\n",
              "NGu9QrfmlZ7idtTlbPUA7PXYobzq5tkAk7CFq8fP8Y2w2d6QoZ4Fb1z41oxDe0P7i4U6dijDa0d5\n",
              "7jKB81RibFZqg+Yel3D6jdzF16NUHO9Ao98DW9A+J+XnVvkP7Nz2tUHfDhJ1vSaZibgiqLYsGKvW\n",
              "oBliaFz6YVLnhZ/AZqO8cMXFG+xLcZn9yQK3FJh9ihl5RRMX1T+gTJX8P+Gv8UJUuyq5CPQMNQ8T\n",
              "kpLkIQT/wWqMv8vPP3T+FSWlhdwHIne2ICZaVcvK+Y3f9mIp/8Au30PVibF9HUkVSOGKqJvAwiEx\n",
              "0tRZKLzpBdMlg0iz7Q1igDNBkBIsytoQO+knA+S2ckl0JdLdl8uTNXln8nwy/Rp//wR6lwXOm7Gr\n",
              "QDKI06GVVhS/Vn0+O6OMpZ6KpLFzzTx9/+Ilv5WLZvA3W/TI3nq3H4Oyi0Tt8WlDF2MMP0HZKhpQ\n",
              "wksJmYDNUm4MverglBafmhgF5+Tl8u6DumUPoWaiv+zCwwCGRkMngp8rN5jz8Id7xmdHGyxSkqY/\n",
              "HVSq+Dd0hI5rQek/6AMvXQ4FlYKuEfztZflpfthiLusG5oTnIl6J85Hd6WmwGRucQ6HaOgp24lGQ\n",
              "CyvP3QAIUJQaH12eMnQGQ4AQd6x+eLq3GzucOYuKm+kd3MYl12bmleg1PD94ocbFdvouzZpSZ+Ze\n",
              "T9JpbdA6iil8pTHUEME9p5P51GCtys2O0N9Aod1g05ImyTyQSC7xT7de+o6eASNbuvpB/Xitxqc3\n",
              "9gC5CthVIOR+qOBtn9IS+JDpqJP8J6SR+NnE9qcW2CePhsL9Xcq34lH+1lnRfh43za9R/TOE54cH\n",
              "cpA/uwnhkCuCups/0jKDjvtgdn/44mjZPvRC554ThCAER0A1ziZjgstvp5jTKnnBNF/QZEd0m39g\n",
              "I7fQneX5IVjAGzxDDx/+USKqCC7eSPXj75q3mHRJZTQTY73dEQH14Cl6kzaIWXo0gsUdEZxsG7DB\n",
              "VlDEtdkDmu59AofE82wgHALaIe23MgtwX2678GWrosZ72hSOQtyLeeadCxMu846FgMHeA1Z15bfL\n",
              "D13dl3jNefExeSaHY255Geer9xijyodbBBpcC4y0KDNcn0pyX53PXZMNk4UvsoGzKxGmF/9I86ZG\n",
              "IB0ZYjbPM+GBQoGxDUsArdpz1gygi5gLITF5aj7B+/2yg5evG3xxjt++78leWdS2HchydRkugA7N\n",
              "oopnP8xJ8Z3xSLOJEMJc4V5BD+aPE5QPg8alQxQGeKD0nPI0MjYgvbVc+vznP/VpE/xM1oIdyn5/\n",
              "2UArPViz3Fy1WOig4k+Y2EShBsYPEZ6hG7q+q/fLPu90+fQNg49fvuaUXb9xr46FUpmAi6E5xSTE\n",
              "7C7wyhmL70hQyawm2I5tnaE7QLU+NPon4XEuMYNjBS62g7wGG53UIOMPEa7gkNB1H4RXomjwGqUI\n",
              "KCtai4tdpeC+/KzMSsAqD+K+mMT0DqRIoDBnEoS0uwrijHsjH6Wxd+aFS+KWzrT6fKKTZ9h68kt1\n",
              "Hf9k+Zz1KIRLY0vJ6oBOkUPIyXNhwTxvdh77pNLs++X5xXv4r73Fp5oQchJtJmjiwrCJuZvA9A0H\n",
              "fT2vFzLC/asGAfJkIlZbqBpbWkaEyTqZbItRHNXaYTjmbjmq5SmyGc+eJ63wfbOSKxZy58CdC7x8\n",
              "dBV1+mRh4oir9CaXCBc87y+z4BI5ybIUp8L+oyRThlsZ3DWhEaAyKsm8DTIZ+VXZy1nNrT32x1vB\n",
              "v1KND2YFpUSalPFnCK763xT9Cxo/luGYqwT3dEFtg9zWKbT9F/MPB+hL6U3qy5vD/yUZVI7c53n6\n",
              "mpSa88lqHhUv9D5aKSBIqnvRTc8wZ82hW4fpvpmbokRjMOv2Ntx+5kFyFChQEHnnzuCn0oSB7cDA\n",
              "Vu68eZgu21bZF4QB+Kw2f+oZejN+8MbYYMLiBZ8AzQk716YHsJPTF8Lh6ZCvyLidICnMWf9vqBLZ\n",
              "f7N5HZyyLluISMbSIGTnB6Jocpox9LQ38g1gu4DjCpCCt+kHLN7LR6r7bZagrkv1gm7zj2pEW5V+\n",
              "YsHL9+oUJdqx1jXYOxGnTAcK0Q7MsIZDY3CoW7GGWBI7OLR6KvIQOqUi2p4Ap8Kok1mcWirlnCTd\n",
              "NgQurtIsqrWOXh3N/keP+uckLGi/kZjGXio7jRQwmTlf3Qw5WZJwAEGi7uNLsM454K9gYtCOtscs\n",
              "0fwLaDOjxzn3cv6kSMGzIxJirMZel47B93nTqBbZV5qj0RGtljiHnm+HgP0144aXVIKpunOD/taR\n",
              "I7LB5uSG8KPe3zU+dUWvgu1hbuTgSitVI7r4gZu5VtMx+jJAXJkMZQMk5XYnOvy/ZIOZ8EIZQOpf\n",
              "JVAcNEIuiNUwsBd3A7SGmo/ETWsuR28GajYqrl0DffgVTf6Az4Xvr3ZFiU5WaIckMMNsFaHgnIE6\n",
              "rXCB9iNX58ts2+MNzF02YUmlLZuY1JiHJco1wl94/TUE/RNLn3dRzOAvObvBN/bgNIM2hwrigJrd\n",
              "Kaj2W64Cc2bndjqt6Gndgsf6wBXEksByGhjD5KwP9KqVnUHjerTZLmy+lnbGiXC4lMhg4nPT1uGU\n",
              "QejaGyXvNiQjbNJsVdNr9iwfv+mL5oVGQi1SzOowrv/qCBpy7iYSmPHcqgdsIc2KgCmqmr0VzCdE\n",
              "V+bPpW6fAuGIQS2A1Nt/oKP2LdPDBk0Ns+rvQIbJb6YSRr/8Tv0TAxFsuOrYdYjH6Fq9scQx5s46\n",
              "Jo96JlV3/wSJFJbwH5VzxvVchdYoKsFQ115o7XIV1qZTp+5wrQCotrlT9jJiGqBDlrOIcJKHRAsf\n",
              "8nemTiRwVG9k95o0IqhETz6W4EZHopIzsNXAQ1Zb8oiakZJ0e39KxNsfdfsYpZBE8C/k/+Wnu/8i\n",
              "ghazg+HXKMUAoDuml9H+92HX218Lt1FzIGcb+DpwUKcvTAAn5q37a0WcozMCruNYrubgvwNFatmu\n",
              "tKUUVScYGy/9pdIuCzQX0Oyjj9YAkYYXz8/i5B+2wEWTEP3FRus/FO4lS8FFRrTTUSNid7AZgwKZ\n",
              "gOXHHaEeIy8ieYbpjfscVgHSPBncqxuwf0b3etxa1TSKkXIlncm5XtY5g8Kd3C+8GRfv/9w1GJ3I\n",
              "1JECyl3Y+6lz4zgFbICcULmlZ1CbXRGjgFzaJ3y0NpguWSUtZRskSCL8iiFhPwXSNgSMKhr8DuQr\n",
              "c4CPLW6XMvAaw5geCGX8lZXkqtlalS9xXERxhIlw4hGlUWd7w3ZZrBkeHq6lPRKP6UiUBXSFZaYO\n",
              "UCQyztsDpPfG61qpUYpMKB9h+bZ5F8QEPmGiFtgySDCZQreLMYQXi6xzokCeivlvFVjCUYyap/2B\n",
              "/32UjymBdibi5se4tpwlUeRZZMjNEqapGfXEcRnOM6scAiKEyPzePrS4MUY6cjs0rMJhPZSlSGsy\n",
              "k0cafHMBykQjEKIwDYeH1IGwxkfEyY7kvz3y18vzeGEYO38JPhPqpP9rhRLkCCs+Qod9/3po3h2y\n",
              "JnNG/DWAmAvPtZIY9E5OiK26j2zJCpJ1yUs9INnq48PGQGPS33SfO7A+eUXgvcHs1Kp2HGmtBI40\n",
              "ivsXzJ/49FEql5D6AArDSLxyn3kh6W+LeQuAm89AKjvL4GM9BGFdUwN2lnt+1aQJcck1ouZ/uNGw\n",
              "8lSJrCSSVhJWFBbJ37xNfPNDTkA6gg+XsMnjqf0nl4Xquc1psKo/RXhzGkX6gLk5fub5nIBH1E/d\n",
              "ZkYG9cCGHH99JJC5AvPBgT/0D4dVrjcdnIeotAjGnQOp6Kd1HbmqaywP+rVsV1IxB93LCcmEJWcV\n",
              "2DNjx1fy8IxWz6JnspYhf8JjZatkS1q0memrTcrGPR9hnQG3sWEBD1hRGbLDuJl8AML6uYwwJKoT\n",
              "i9rk3fBxKEWxsgZMC0qiYBkZEdZVO2qDay+qWDM1ex2QoxXG0QCDnJZ+dUs5d5kIxBaD+9BIgxjG\n",
              "j4WM3jegVqhm6X4/Ppb2lxWS+lvyCcw8oYFtvlon93Jb9ZUXtpe84KrxzCBZgnQCq8sSXeFVTfrh\n",
              "yr8+Xx5SnHj76FbLKXLjemYhs9qVoZ7ms8GOj7coX67WYCm4Bw8v2/9MHv0HoWrYOjVO7oFV+8XE\n",
              "QPFTZMGrofqTcNNbTdaYOP3w9sWf2XFglNWFxbcS4QBbT1zgksWWJ7+TebTRCPKefxx6Beq1Y26h\n",
              "3y+j0Sd8MhVvsHbhcgbf/EsUwcLztIAOEqvcK9RmI7M/PEGEVmK6E43CINPv6ZfOholg5iUxcPXO\n",
              "1snOHljrox9M/+4wWHEKBa9zKjWSCX7wcVt8w3p7EN+XobiC8HpANhmDOK3GkDgK9vMTdiUWDKRj\n",
              "Iiy7zSAQY9ofmkqIxG4MbX20/U8DkesvMBIFV+oYo5kFRQVPcfAROS17Dr8Qs37rqVfO4BJuqMn7\n",
              "o73Y814UK2/YMThymjeGBQY7axJ6yTmEfHLNJXhteCUsEhDdOhSLNfdWLQVnrI1g4bll0PTDVe2U\n",
              "ZfsgnWXIuzHqJAc7fxek0qqWUTvOyXKlRg+JsocjAsU8zACc6cK6DAJsNlDnnCU+T69Ke3x/LaaX\n",
              "GTa7mZXmg+HcXVV2SSAkBdZWUSSR2It6ONADodOXvygnNf20DxmNKRp4lE4IvpF39cf1A2KFVw6o\n",
              "Tu1sDM5Ynh0cZYYDUhb+ZjfpXE+NzGMyjeJaUArNTOJVeneOKGk2XcaoSvvm48QqxXQhk6om1D5x\n",
              "8aN90nRwdfwZZaN6GII5TnKc/Y2AqTFMUf6dbdscNWygGgQOdvqk+l0V17UydwM3w4PGl06mCDWd\n",
              "NjoTu48Z4p3IHTzpMO6T9qOoi67A/SVZgqgRneUNRuiJGZk17jBVkjh4Jars0z/SInQwkuxlmEBi\n",
              "BVdAqAGguSv6c5bFcuYFlgKq75c47bNelCV+szYdN8RlKEvKtwWKLjOi1uSq/8dTMeB4LZ8Sssrc\n",
              "6eqfFMH1enlSfdy2vNZTzzLjnxChcbTCcEifVt3U0usIB7AR30PeKr6Kxr+ZauEf2ZkgaskXkVid\n",
              "8rNV2WSh7GKI2KMUUOOacUj1nBJPiuaEXQ8OyIWOjIpQUKCpj0TdG62RxXL5O50nQbrlp7k07YZl\n",
              "FFrLYHh7OyPD/V66Fbmn6PCQZAWzIwiUfQYWe++LJ9uGLTPcw+U2BSDUfZiALCtI4FOZhgAa8B+f\n",
              "dARZb3ZFDyTaukf6Th02syKfR4j66sVdJa1pIIN+1cDARvnW3xw2WnneqNhzAicpNF6UrAXIU3UJ\n",
              "f3jZKuS2ZvRc8aN55/217Ck2n6KnTOmeJ+9VEZyWCtL0NAOdU/lBh1XZLFZtHBx9jZgtWRebzwic\n",
              "Ct1SlY4ppf458qwNP6iLvjMeSEs2JsMNjLybY8bGNnvfBq0U/JpA1+SGKH3NK4uMvnhYezsgL75w\n",
              "Ik1rr2pGShgIJYw152JN3iusQhbfiQxieXo8LLurqHWwifetKvef5hHPdC8hQdRfptkgHu6s4iD+\n",
              "QtNWD3xVPd/ItM4JQnxmLL6cmR0CcnewGTdgIntX9G2Lg6wWFAriox1YmdbL30szEjxepy+1mV3k\n",
              "TYNiMKObhuS4ocewD4qInRW4Pig+CeK/usLQN35md4CpHt7HRAlNj8KrV2q1jvCSFzxSNFb5g4Gv\n",
              "7kxcJdG2hkY7LKvRK1dCpZWBiuBO/A0NTUHB5vEnDyqXGWze9xv3CsbOfF4qih+nWRDAyR+0t+Kh\n",
              "ZtpSQ12cfvP0wzlbPvm4WEN/si5ywqkGq04Anx+f3ISkIM8OPYwCgQgvzTxAtRu4G3g6BjqRSUK2\n",
              "PbN2fupNQJGKGggXzqumNhWjcnVOqG0ZPIgApy6ozIDkTLZfMokckuMAiWnZuE9v1crRygMJlIsO\n",
              "myJLTDTGkWa+6q5pDhtJpwqEgq7ffwWh8jeIuiriZkpnEfM4gDl291QSrZ1vWmITmMf8ACZXcWDG\n",
              "AyPbnFhPaQSVJPIPBhiTXK927Ub08S48RRJR/9lGZ34IIHkv3jdzyFfE8mh696OJZscBSdRtTbvt\n",
              "r3f0gQ/TuvpeJLwg+wtEDukJF6UyswUar8VxAGHdDKRabGrWWLBkHsBYiFiPrhr9uUEOWFgzr2Ki\n",
              "API5Uwt6mINZyh0liVGV4jWhUlvewRY9b8hoctADoiU/9j7AwjbV8EtBCDgBphVyiP/Pzw0AtTrz\n",
              "06oStxEJ7bBuPyP3wNDQ9t2fE3Ws5a1bmqoFrIegnQJuqggBF7948Zp/2RIUWK/ZbQuYW2QSc4GX\n",
              "xyio3KhnNHySO+XtkQZTNjAgjrqIO409TZtWxyAlJ+Mkaxxxf3SPdIucwPu74R6/mKxfzU/9HP8x\n",
              "bqnQUHQmqRw4NTBhF7NuwKdbzfP7a1lgGIr3CVmFmXgnManmZd3/lKvvUlPC6Fkl+14cAX7Yo8t+\n",
              "hEFnbGIWK1aPoKf8Ya3fgHjIyYWVzy+OXVrs11zFBC1kg1jcDcA3yX44fLxOc72hOMxARnYA1WBB\n",
              "OakGf6ywfzUAUz+HLFgRlu8TS2jc+V+c1UD8BmIW7P/TuIr2Zy9/9Ee5O/9NkHfzMYBXGSjf1QhH\n",
              "M6/dKxHNS//w/3SMciBWOQs5vJeKF0mNk1TOIBAQy5NN8oG/BkcRCZmp00xIi3ScpgMaikeXphMS\n",
              "leq03F7N45dn5wUguw/y1bguOpiN1mRu80fFEF+4eGd2vIArj8g2o4K7fkAG9Gwh4nxXMgigZcUj\n",
              "iWyL4pTKvj5YAFkNjrPW23jjNGeC3VBgmC4XeGvy57pwkde9q0EE2CAQrTu8rN/shgrK3hExmkgp\n",
              "2L9CRDnqjtUg/OWSjrdqJusBjqYq57/jQAfOYQ3gVQ6oDpgsoRekzOUpoj7MzzoFPfBJhr9bGwNB\n",
              "H/O7FTPr2dASWDn3srpbFa36KBcXLozD2JcHmEW8nLDeM38p/bthKMhyIFXoRJSNAHTZJJLKMkBv\n",
              "Y7t86mko7OafbFA4viVR7iZCdRtjF+wYJezzuS4wtKh4E833bv2dtKMk8uqpX8qqJ7q5kGC+kV0g\n",
              "O5/Dn2Lxp1lzuFhHKdTR7I+vG5J9gnuaFMMtVAo6ol+32anM3wX0SFIfyCpir5anISNdy5c0uDVI\n",
              "PXbvJoHqbltsJvuVY72ynVGaC1OcJuE3Qcb1x1LKqW/x6DkqOSCdYRA8eAyTGC9xUD1dzyy7GTv5\n",
              "JmiLTpzggIvxa4cN4zgFDBwRp+FvA/gAAA55AZ7JakFfAACWT2sne3vqSyE83D9J/dFFUAX961bu\n",
              "zj37puzHU9PM4LMxJvlrDHIg8uXoO1TxI54wLIH+8hwu3ERMyj8yQTz8rqgzGMvboKZKcpXh24VX\n",
              "4UfWAl3CzBzhtZ/lpBm7rh9hr3yR+ChxUoxrOdeKKDR8nR8vThq/h7Q3yCzp6DnUl37S6LKewE1J\n",
              "6N7kX1/Y8XTNSPFf9dx1/aNaSS25hqOCehiljNSnsSRRWMpiICRttDN/ZziqM+tAN4Kf8o4h3znw\n",
              "NwnIW6dmmqtgWxHxN9foYKTwrjz5BY9sTb3N/IPb41MNUsRE+nE6KEKuVoNGnxMbxCyhTuqgJkEi\n",
              "BzdelopsCNnNzcBruVOKz8yzxcO6cRLWlfCcQW+fi64jjrEHP4BnwmLs+C4K7WC2Xn/ha+0a7paX\n",
              "2MUf+KYbdh94I10Q4VYyLAoUC+Zp8gQovsm4O7PvhxAXcwQALRpWV0vRuGCZy1BfMrDJ/pP8ILJ1\n",
              "nDWO3VSVv9CZGb2v03u+INNoguM5s7bZvph+HPai+LrQtYdzW/de3rG3Z72usPyAVgZvnNVh/SKc\n",
              "wYJ5lAuK72l+Iep/sHQAvIlGEPQpY8ueNMdQtDJeQCuGWoXtp2Yj5TCwPCwcsCs8JYKkJCHc84oW\n",
              "bVg2K7YmKn3hRgnT8pc1/EgpFJftgFDo8ZShCthFG+QMQ9UA94zIUORUpB7eRSREkynj1h3CG076\n",
              "qlOV/PuA3AZtaFHSWB/YvFUNPscKbaGHr8U52UU8nQPvirp0cS27tTTnpi9c0uluAAVEdSpIOhCT\n",
              "m9JGl4xhNGzwNqFqT/wJZkOHNwGO8qyi0pG27gcgmGcDm0HP/EvCNi79B3eaSj3ZtXFqETdn99XF\n",
              "lMYaYLBWN3+ytmGh+cYjOFACsKkSaXhZvXdNoqOGaBAkXZDoHdJf+Tqa+WSuuaMmKp3ykF1wp51F\n",
              "1o5SsXAAq+6rzI8wWCXGuWwTrKWMG/NboBniM4raIu4f+NXUdzt5ktgtPMX2M2o5CbNc1lu4vjoD\n",
              "D3ljiQXlBMpiUX8oLKig07InzkW7BpnZdT2YmWs5bgKXI/i53TeVYAWqV9VCbaEee+JbKInXGLUe\n",
              "A7uW4YyOdBPOhdd44EHDxucxHUPYq/gqEFPQnW6g4daYr8D5jFtiQkr8UuPov3/oeCQNHEQE9vbk\n",
              "KTKPiir2/p/eyxqKKK9kEgxKY0Zi0o46gSJPHN0N0UtGC7O+oaDbe3FMg6dJLjkYk1qdZ04fjCeG\n",
              "g3jyTXRkaHfRPIS2iQ+pQDMzPjoyG/GL4btjOXDc6LCuknLWta/ZQbIkPVJglsc7v+VZXby8hrbU\n",
              "bJ0GLujR9rLsLKED0zDe+xuaXUmQnsZRNcEmBu01LE4/z5/SdMiQTAjIi3jWhVfA/nIoEOmhMVhm\n",
              "g64hszSyG45FzZZOG8Efk8I+xjqsGB7GSkKrfjjzm5snhrv2zshreTAc/elk4YHxhvMknyO8rqmY\n",
              "BfQMqxvToX9764KocTfKUYy+OEjImGe15Wwlv/MqF/EtiUL1Sq4E1XPrKQhrZPEa0JciFIYB0Uaf\n",
              "CBxjPcHpkEu7qKvXMXsiGJsWO97Dfa0+N6/j5P4YV/+KBr91FPMjNoj7SwW+hM3vvpH+3lGnwHir\n",
              "sMGqZsl89av+6eyBJA4cZ95RrJ1xwtl4F+Bkr7uG5T/IV963MY+VyO1iQsNv1MouVeARyMOFdE/N\n",
              "v+QHhfevyzBHRaZ/5ThdyWH9JzePNvI6xJEPe/aJ2RQJEnN9jnb/APAwSVtvgkIvILHZYzTfLhyA\n",
              "YdO5uXEX1d+RZiKmauek+meCtg2oTM/6v8Po3Tb6DKIXIjR9TltPyg8XgnIz0Xu3Kpe1/ruPmcHs\n",
              "yHlDpXiQKMn+xOkiXBCTi+QvuoZD4WX1TrUp5XXHDfauQGYqMNS7jI4yNY0C+tnGfDeJqCww+5fN\n",
              "1aILEDjAv0aD6OEfhjs0VJ8vMQDjHSxSNJfIgSWo6UdQiQsTNTjVx02RLN5Z98RpBlQdZJiVvNHk\n",
              "87qobncIM56n3jqXWkFf5OQK5x95cLbio+lltoi6EGd8TtDhkJBBHx1cyOMqfr9VM2yKfxFAfNfT\n",
              "xw0Hgw5WALG97lBgsp3j23RWDCwxpX0wpqpTyV8rAm7NQ2es9AJHkEova+TIQBnHe8j5Wz9Ee+Jo\n",
              "0QNjwKy8piXgHs1tud7tdjLrNufm9Gpiu9alS9dK5tyItZLL3tG8GuZ9WBUVR2xV9fiRgEt4X8rf\n",
              "iqvUx388hlv7JK0GGL3PKq8dVMVbi2p+EsA01LWRCKyQgLBRHi6jV+kxXaBPmbKyY2SGFRWbyFlT\n",
              "ikwr9WtBz1nvQgI54lko767vlTr3WKUf/t3odoKy1UXslad7kHJK9iZ/RLQPdazeVt5e0c9lY5uI\n",
              "Dab14mG461fIF7nWA8qN8XJvQPkzYjtmKGqSBNjxqUzMx1wl+1F015LEdOYuH8aC1Ln1dMHxG5HI\n",
              "3yAUqSydt90yalLvxLDLR1oojlFhExuxtpp+HSVY3l97WCJwNyJjvRHI+0X1VZSn93yNuQ7k/KjW\n",
              "4wWR4cjObII3p7Go92LHD0CYTMHCE74HnVNHUWx3SbPcSZABmSRkUwBCLAO4PML1t9NzrYUPrszf\n",
              "NzHj5qNdw8QATp7/O789720aKPBMV3TlZLHw01cuDPk2k0K7dUXSGm/31vVKui4WhTlgOGULjjsJ\n",
              "UD0VhkTSDw7KsCAHdzsqlq1EEEC41JhojUyOCBkgkR3lI07Ejf4yVj68VYLbcyoP2wLjrmuFzuoL\n",
              "98al0HWQbsLhvRW2B8VxHsv1ali4jCM6eq5lyXYOQc+7a7d8M1f9ngEWe9OmZhOre0fW/4WuTbEy\n",
              "s9kiJXqQMZzRa1LdZCNZnQ0bbHJyFIoESaffrACkjSoTxRW5WjEqN8T6P/GkH9pkQWWvfLl/l4jV\n",
              "0oJ8gJVeqJCKThPnTjR0LRpc1SwSA8cnuM/QepeZDW0K72dK7V4u6FJnigmXEOZ9AGeHQN2LSo5z\n",
              "MygMFHsiqVfUoVxRwrSqJqAZvjEa9Ie4S/v0kaWZkcqm1++o+lVw/7eu0YmHOiDQm8d5W5Nn076f\n",
              "9ILSZp0FTmXAypqQzl0TbcBwdDnork3vIY6BfG7B9IUwOz6dgCy7uFnixNG19Z28394RnKNebtEJ\n",
              "WjavQjXV/xItRgwriF9aAyl6+XJLyfe3Yjvzao81/boaWmLRftWDsaXLQDCVJLa+3DyqD1yEM1Jm\n",
              "6z8uLi/rI3Z/W2tianqFiumGEZjYTpzK5eq9IPAj+gXAuHsc1OGgFAlZPKCyKCIUG4418hwJd+S3\n",
              "J0477JnEq9PxdP1tFYSPbeyu/kj4ZHxyxvJ2u01AA+LY7i3qoBM55FangKGjMqJ476VeeLQPYkh1\n",
              "blGofcc0kw2edId842cKZkgOgr4iuuUti41VvjCQVAN7m2UJtnGTdFev4vHiRMWVvXR8Ud+Rq6iW\n",
              "4RetF9Rr86blax6B3e/fnOUsC9CA/FYfidcUUmYjrdsxOTSvhEHF2KlaKdut/yKN+kEmc9B180zD\n",
              "otkR25i3gg4IpKuh9EXwNjM6FynjVDJWHQyrY3WPp3YBKJ8l9xjTxCWxhvR77uDLzvqDGjmKGWL4\n",
              "J+2ItVhP+1l82ukM1cjtX3iQQgUvyTh0D7cxugZDrEb8bhKqpzmATwJvaZFP3F6H5bN2NW4So1A7\n",
              "snZHT9L+hW5mUv6GTIIjxhLu/4zOAHVIsc9P0i7Ax9midIt75/cR13yc0xIWAF0XMiHES4M7GFdF\n",
              "QXTtuTy6ppvx0w+v89ybsRJHQf2gbVxI3Ilq1ZlZ52nALPjrFQLLQc129nP2tOgTTfU+8GGtvfCJ\n",
              "ZngMxSMY6eAEt2a2fD9WbAaoUB9fpDZ8ehw3PYpqeCXjTZluYwk0W6nugp/zVngRXp0BDoJ+NyBH\n",
              "Y5pZb+tg4ea+WWKhJmlxKQ0KOIBerWdO9vmn4pk+0gpKjaCyDr9QcniAXn45umJJBjq0s9q6mnOS\n",
              "H9X7Wp4U/xAmRwbIJUjLwdfU18YUWMcdxhY5gVooELMZoIQN0JAy/xddqh22ECE2MvARRzOsOaQe\n",
              "v/zmqnrE9JFtKVbCrXpHdxU6laKJuOP52LNcScJISNUJT/+pMw14s+ZtKOdp4A6XzCBfK9pgRC87\n",
              "3GIYY/D1ydjGVVZG4C5CzHTQqwDnb2I80WEikK7a3wL3RX7L79JdeYQto8pmeXL9zmW0McxwC+bG\n",
              "mosFh2Mb2ZkpfNqxDd3Gd3LGgNqhfSlSLrPotWS3xtGI7Nz7mNtp60V2WUKXnUaXfogFobeHzBtk\n",
              "EYQyQWIN1kl5qn/hK35sXev47U3ZPUHCkfatJcdpdX+tDVRtWF+jCRAG1p3WJIKIFnXvts4TbJs0\n",
              "GiYXbjyzL3WpNCjFDUVxb6v77f5rJQNOFZDezGAp8E11wx6kwQDlZXC3FY7HTx5s7r01fb9PkQ+M\n",
              "qeF7i3bgREv4ovMWUHEz2pbdF5Szzj5c/ZEbSVcqoGP2SugINcx+WqWxsus3gAqR59fhy7xKL+S2\n",
              "b0gdIlRl7AkFeg7gggJjr5sx950Knbs1wizgxwjdcnwkM6t3KQU7B7wXEEI2jPEKfsd+mcV8s/qT\n",
              "Hj+yKojGf5HnpqlOJ7MHZODIHuVMLB/ZCXv1vmpOa4E83cHZQjhp+7SFM4S1AO4apaqorQwh8KxL\n",
              "Wg9imz2Ybl4sXtQJ+sAhi7Ni3upzxDURv3Fdug7LvX+9TPJnWbMfhLNuA02MXo/kaD98mzSygkZi\n",
              "xRU97EzFx7kvsxhPKICurlntGv9JItJhNzya4gxxkaaICXcvsDNEkxIZYmWd3zqVXrPwMy4X1S1h\n",
              "ZveQVVZHDJdFc+i8LU9JcT6M9r4XnIt0kPHDGgpiFy6W8xG0r2gDoSG/kzvn7K6Q96cypPr13yxn\n",
              "a8WTEydM/63xWEvfw9kC99VoJB03StWcdaXJAAADsm1vb3YAAABsbXZoZAAAAAAAAAAAAAAAAAAA\n",
              "A+gAACr4AAEAAAEAAAAAAAAAAAAAAAABAAAAAAAAAAAAAAAAAAAAAQAAAAAAAAAAAAAAAAAAQAAA\n",
              "AAAAAAAAAAAAAAAAAAAAAAAAAAAAAAAAAAAAAAIAAALcdHJhawAAAFx0a2hkAAAAAwAAAAAAAAAA\n",
              "AAAAAQAAAAAAACr4AAAAAAAAAAAAAAAAAAAAAAABAAAAAAAAAAAAAAAAAAAAAQAAAAAAAAAAAAAA\n",
              "AAAAQAAAAAGwAAABIAAAAAAAJGVkdHMAAAAcZWxzdAAAAAAAAAABAAAq+AAAgAAAAQAAAAACVG1k\n",
              "aWEAAAAgbWRoZAAAAAAAAAAAAAAAAAAAQAAAAsAAVcQAAAAAAC1oZGxyAAAAAAAAAAB2aWRlAAAA\n",
              "AAAAAAAAAAAAVmlkZW9IYW5kbGVyAAAAAf9taW5mAAAAFHZtaGQAAAABAAAAAAAAAAAAAAAkZGlu\n",
              "ZgAAABxkcmVmAAAAAAAAAAEAAAAMdXJsIAAAAAEAAAG/c3RibAAAALNzdHNkAAAAAAAAAAEAAACj\n",
              "YXZjMQAAAAAAAAABAAAAAAAAAAAAAAAAAAAAAAGwASAASAAAAEgAAAAAAAAAAQAAAAAAAAAAAAAA\n",
              "AAAAAAAAAAAAAAAAAAAAAAAAAAAAABj//wAAADFhdmNDAWQAFf/hABhnZAAVrNlBsJaEAAADAAQA\n",
              "AAMACDxYtlgBAAZo6+PLIsAAAAAcdXVpZGtoQPJfJE/FujmlG88DI/MAAAAAAAAAGHN0dHMAAAAA\n",
              "AAAAAQAAAAsAAEAAAAAAFHN0c3MAAAAAAAAAAQAAAAEAAABoY3R0cwAAAAAAAAALAAAAAQAAgAAA\n",
              "AAABAAFAAAAAAAEAAIAAAAAAAQAAAAAAAAABAABAAAAAAAEAAUAAAAAAAQAAgAAAAAABAAAAAAAA\n",
              "AAEAAEAAAAAAAQAAwAAAAAABAABAAAAAABxzdHNjAAAAAAAAAAEAAAABAAAACwAAAAEAAABAc3Rz\n",
              "egAAAAAAAAAAAAAACwAAE/0AAAf1AAAD4AAAAtsAAANzAAAR2AAACwAAAAaeAAAJBwAAGRIAAA59\n",
              "AAAAFHN0Y28AAAAAAAAAAQAAACwAAABidWR0YQAAAFptZXRhAAAAAAAAACFoZGxyAAAAAAAAAABt\n",
              "ZGlyYXBwbAAAAAAAAAAAAAAAAC1pbHN0AAAAJal0b28AAAAdZGF0YQAAAAEAAAAATGF2ZjU3Ljgz\n",
              "LjEwMA==\n",
              "\">\n",
              "  Your browser does not support the video tag.\n",
              "</video>"
            ],
            "text/plain": [
              "<IPython.core.display.HTML object>"
            ]
          },
          "metadata": {},
          "execution_count": 48
        }
      ]
    },
    {
      "cell_type": "code",
      "source": [
        "# f = \"swift_animation.gif\" \n",
        "# writergif = animation.PillowWriter(fps=1) \n",
        "# anim.save(f, writer=writergif, dpi=160)"
      ],
      "metadata": {
        "id": "0pJ0RUvrWWOE"
      },
      "execution_count": null,
      "outputs": []
    },
    {
      "cell_type": "markdown",
      "source": [
        "You may notice something very interesting! \n",
        "\n",
        "By the end of the GIF, Taylor Swift songs are right at the border between the country songs vs. non-country songs. This makes a lot of sense, since she started off as a country singer and later switched to pop music.\n",
        "\n",
        "To explore this further, we will manually classify each of the 21 songs as being from her country vs. pop phases. We are mainly going off of the classifications of her songs on Wikipedia. You can see these below:"
      ],
      "metadata": {
        "id": "tOxJrVLYWZ2p"
      }
    },
    {
      "cell_type": "code",
      "source": [
        "swift_pop = ['Look What You Made Me Do',\n",
        "             'Shake It Off',\n",
        "             'Style',\n",
        "             \"...Ready For It?\",\n",
        "             \"Wildest Dreams\",\n",
        "             \"I Knew You Were Trouble.\",\n",
        "             \"22\",\n",
        "             \"We Are Never Ever Getting Back Together\",\n",
        "             \"Bad Blood\",\n",
        "             \"Blank Space\"]\n",
        "\n",
        "swift_country = ['White Horse',\n",
        "                 'Picture To Burn',\n",
        "                 'Our Song',\n",
        "                 'Everything Has Changed',\n",
        "                 'You Belong With Me',\n",
        "                 'Love Story',\n",
        "                 'Red',\n",
        "                 'Sparks Fly',\n",
        "                 'Mean',\n",
        "                 'Crazier',\n",
        "                 'Safe & Sound - from The Hunger Games Soundtrack']"
      ],
      "metadata": {
        "id": "MryDP1wNTqA6"
      },
      "execution_count": null,
      "outputs": []
    },
    {
      "cell_type": "markdown",
      "source": [
        "Now let's plot her country songs in blue, her pop songs in red, and all other songs in gray, using the embeddings from epoch 10."
      ],
      "metadata": {
        "id": "9lc9UMZwWzgP"
      }
    },
    {
      "cell_type": "code",
      "source": [
        "swift_colors = []\n",
        "swift_alphas = []\n",
        "for id in songs:\n",
        "    if songs[id]['artist_uri'] == swift_id:\n",
        "      swift_alphas.append(1)\n",
        "      if songs[id]['track_name'] in swift_pop:\n",
        "        swift_colors.append(\"red\")\n",
        "      else: # then it's in swift_country\n",
        "        swift_colors.append(\"blue\")\n",
        "    else:\n",
        "      swift_colors.append(\"gray\")\n",
        "      swift_alphas.append(0.2)"
      ],
      "metadata": {
        "id": "MiZZdL4LPKwP"
      },
      "execution_count": null,
      "outputs": []
    },
    {
      "cell_type": "code",
      "source": [
        "plt.scatter(pca_embs[10][num_playlists:,0], pca_embs[10][num_playlists:, 1], alpha=swift_alphas, color=swift_colors,\n",
        "            s=swift_sizes)"
      ],
      "metadata": {
        "colab": {
          "base_uri": "https://localhost:8080/",
          "height": 283
        },
        "id": "74AKRVCKPKyU",
        "outputId": "96b530e4-f054-45d2-d525-0960bbd64bf8"
      },
      "execution_count": null,
      "outputs": [
        {
          "output_type": "execute_result",
          "data": {
            "text/plain": [
              "<matplotlib.collections.PathCollection at 0x7f4c1f449650>"
            ]
          },
          "metadata": {},
          "execution_count": 52
        },
        {
          "output_type": "display_data",
          "data": {
            "image/png": "[encoded data removed]",
            "text/plain": [
              "<Figure size 432x288 with 1 Axes>"
            ]
          },
          "metadata": {
            "needs_background": "light"
          }
        }
      ]
    },
    {
      "cell_type": "markdown",
      "source": [
        "It looks like we were correct! Her country songs (in blue) are much closer to the cluster of country songs, and her pop songs (red) are right in the middle of the non-country song area.\n",
        "\n",
        "It even makes sense that her country songs are not entirely in the country cluster, because she has a lot of crossover appeal, which means she probably has many fans that listen to her country songs even if they don't listen to much country music in general. This crossover appeal likely pulls her country songs a bit back more in the direction of the non-country songs.\n",
        "\n",
        "Anyway, this is an extremely interesting result. Our model appears to have learned to embed the different phases of Taylor Swift's career into two parts, completely by itself!"
      ],
      "metadata": {
        "id": "8ubRFhw-W4i5"
      }
    },
    {
      "cell_type": "code",
      "source": [
        ""
      ],
      "metadata": {
        "id": "xffIdmHwWhxX"
      },
      "execution_count": null,
      "outputs": []
    },
    {
      "cell_type": "code",
      "source": [
        ""
      ],
      "metadata": {
        "id": "mZuI0ue7YkMw"
      },
      "execution_count": null,
      "outputs": []
    }
  ]
}