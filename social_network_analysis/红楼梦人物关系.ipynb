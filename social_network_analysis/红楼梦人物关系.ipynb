{
  "nbformat": 4,
  "nbformat_minor": 0,
  "metadata": {
    "colab": {
      "name": "红楼梦人物关系.ipynb",
      "provenance": [],
      "collapsed_sections": []
    },
    "kernelspec": {
      "name": "python3",
      "display_name": "Python 3"
    },
    "language_info": {
      "name": "python"
    }
  },
  "cells": [
    {
      "cell_type": "code",
      "execution_count": 22,
      "metadata": {
        "colab": {
          "base_uri": "https://localhost:8080/"
        },
        "id": "7pXcSofpB7xe",
        "outputId": "565abc3e-67e8-4c61-ac18-cc13ff0a3ebf"
      },
      "outputs": [
        {
          "output_type": "stream",
          "name": "stdout",
          "text": [
            "fatal: destination path 'graph-analytics' already exists and is not an empty directory.\n"
          ]
        }
      ],
      "source": [
        "import pandas as pd\n",
        "import networkx as nx\n",
        "import matplotlib.pyplot as plt\n",
        "import numpy as np # linear algebra\n",
        "import os\n",
        "# !pip install ltp\n",
        "# from ltp import LTP\n",
        "\n",
        "#!pip install nxviz\n",
        "#!pip install netgraph\n",
        "\n",
        "!git clone https://github.com/jinfeijoy/graph-analytics\n",
        "\n",
        "import jieba\n",
        "data_path = \"/content/graph-analytics/social_network_analysis/他山之石HongLou/data\"\n",
        "jieba.load_userdict(os.path.join(data_path,\"honglou_name_addtional_dic.txt\"))\n"
      ]
    },
    {
      "cell_type": "code",
      "source": [
        "import re\n",
        "\n",
        "def __merge_symmetry(sentences, symmetry=('“','”')):\n",
        "    '''合并对称符号，如双引号'''\n",
        "    effective_ = []\n",
        "    merged = True\n",
        "    for index in range(len(sentences)):       \n",
        "        if symmetry[0] in sentences[index] and symmetry[1] not in sentences[index]:\n",
        "            merged = False\n",
        "            effective_.append(sentences[index])\n",
        "        elif symmetry[1] in sentences[index] and not merged:\n",
        "            merged = True\n",
        "            effective_[-1] += sentences[index]\n",
        "        elif symmetry[0] not in sentences[index] and symmetry[1] not in sentences[index] and not merged :\n",
        "            effective_[-1] += sentences[index]\n",
        "        else:\n",
        "            effective_.append(sentences[index])\n",
        "        \n",
        "    return [i.strip() for i in effective_ if len(i.strip()) > 0]\n",
        "\n",
        "def to_sentences(paragraph):\n",
        "    \"\"\"cut paragraph to sentence\"\"\"\n",
        "    sentences = re.split(r\"(？|。|！|\\…\\…)\", paragraph)\n",
        "    sentences.append(\"\")\n",
        "    sentences = [\"\".join(i) for i in zip(sentences[0::2], sentences[1::2])]\n",
        "    sentences = [i.strip() for i in sentences if len(i.strip()) > 0]\n",
        "    \n",
        "    for j in range(1, len(sentences)):\n",
        "        if sentences[j][0] == '”':\n",
        "            sentences[j-1] = sentences[j-1] + '”'\n",
        "            sentences[j] = sentences[j][1:]\n",
        "            \n",
        "    return __merge_symmetry(sentences)"
      ],
      "metadata": {
        "id": "tnf-wGBx-2lx"
      },
      "execution_count": 2,
      "outputs": []
    },
    {
      "cell_type": "code",
      "source": [
        "import re\n",
        "with open(os.path.join(data_path,'红楼梦白话文.txt'),\"r\", encoding=\"utf8\") as f:\n",
        "    text = f.read()\n",
        "\n",
        "text = re.sub('\\s', '', text)"
      ],
      "metadata": {
        "id": "EG6FSbBi9Vcd"
      },
      "execution_count": 23,
      "outputs": []
    },
    {
      "cell_type": "code",
      "source": [
        "sentence_raw = to_sentences(text)\n",
        "sentence_raw[200:210]"
      ],
      "metadata": {
        "colab": {
          "base_uri": "https://localhost:8080/"
        },
        "id": "hgT-48X4-drr",
        "outputId": "096a4489-69f1-41f7-d797-be2de119ed79"
      },
      "execution_count": 4,
      "outputs": [
        {
          "output_type": "execute_result",
          "data": {
            "text/plain": [
              "['正说着，只听后院中笑声朗朗，有人说：“我来迟了，不曾迎接远客！”',\n",
              " '黛玉暗想，这里人人敛气屏声，是谁如此放诞无礼？',\n",
              " '只见一群媳妇丫鬟拥着一位恍若天仙般的盛装丽人走进来。',\n",
              " '贾母笑着说：“她是我们这里有名的泼辣货，就是南京说的‘辣子’，你只叫她‘凤辣子’就是了。”',\n",
              " '众姊妹告诉黛玉：“这是琏嫂子。”',\n",
              " '黛玉想起母亲说过，大舅贾赦的儿子贾琏，娶的是二舅母王氏的娘家侄女，自幼男孩儿般教养，名叫王熙凤，忙笑着见了礼，称呼“嫂子”。',\n",
              " '熙凤拉着黛玉的手，仔细打量了一阵，送到贾母身边坐下，笑着说：“天下真有这样标致的人物，我今天才算见了！看她那气派，竟不像老祖宗的外孙女，是个嫡亲的孙女，怨不得老祖宗天天挂在心上。只可怜我妹妹这么命苦，怎么姑妈偏偏去世了！”',\n",
              " '边说边用手帕擦泪。',\n",
              " '贾母笑着说：“我才好了，你又来招我。你妹妹远路才来，身子又弱，快别再说这些话。”',\n",
              " '熙凤一面自责“该打”，一面一连声地问黛玉：几岁了？']"
            ]
          },
          "metadata": {},
          "execution_count": 4
        }
      ]
    },
    {
      "cell_type": "code",
      "source": [
        "clean_name = pd.read_csv(os.path.join(data_path,'name_clean_sorted.csv'))[['文中名字','标准姓名']]\n",
        "clean_name['标准姓名'] = np.where(clean_name['标准姓名'].isna(), clean_name['文中名字'], clean_name['标准姓名'])\n",
        "clean_name.sample(3)"
      ],
      "metadata": {
        "colab": {
          "base_uri": "https://localhost:8080/",
          "height": 143
        },
        "id": "49juerV2_vFw",
        "outputId": "58617ad1-5730-4cb3-db79-a91cedbe7770"
      },
      "execution_count": 60,
      "outputs": [
        {
          "output_type": "execute_result",
          "data": {
            "text/plain": [
              "    文中名字 标准姓名\n",
              "104  李嬷嬷  李嬷嬷\n",
              "112    琏   贾琏\n",
              "189   田家   田家"
            ],
            "text/html": [
              "\n",
              "  <div id=\"df-1d2f1c86-ceef-4b84-b871-876647828c48\">\n",
              "    <div class=\"colab-df-container\">\n",
              "      <div>\n",
              "<style scoped>\n",
              "    .dataframe tbody tr th:only-of-type {\n",
              "        vertical-align: middle;\n",
              "    }\n",
              "\n",
              "    .dataframe tbody tr th {\n",
              "        vertical-align: top;\n",
              "    }\n",
              "\n",
              "    .dataframe thead th {\n",
              "        text-align: right;\n",
              "    }\n",
              "</style>\n",
              "<table border=\"1\" class=\"dataframe\">\n",
              "  <thead>\n",
              "    <tr style=\"text-align: right;\">\n",
              "      <th></th>\n",
              "      <th>文中名字</th>\n",
              "      <th>标准姓名</th>\n",
              "    </tr>\n",
              "  </thead>\n",
              "  <tbody>\n",
              "    <tr>\n",
              "      <th>104</th>\n",
              "      <td>李嬷嬷</td>\n",
              "      <td>李嬷嬷</td>\n",
              "    </tr>\n",
              "    <tr>\n",
              "      <th>112</th>\n",
              "      <td>琏</td>\n",
              "      <td>贾琏</td>\n",
              "    </tr>\n",
              "    <tr>\n",
              "      <th>189</th>\n",
              "      <td>田家</td>\n",
              "      <td>田家</td>\n",
              "    </tr>\n",
              "  </tbody>\n",
              "</table>\n",
              "</div>\n",
              "      <button class=\"colab-df-convert\" onclick=\"convertToInteractive('df-1d2f1c86-ceef-4b84-b871-876647828c48')\"\n",
              "              title=\"Convert this dataframe to an interactive table.\"\n",
              "              style=\"display:none;\">\n",
              "        \n",
              "  <svg xmlns=\"http://www.w3.org/2000/svg\" height=\"24px\"viewBox=\"0 0 24 24\"\n",
              "       width=\"24px\">\n",
              "    <path d=\"M0 0h24v24H0V0z\" fill=\"none\"/>\n",
              "    <path d=\"M18.56 5.44l.94 2.06.94-2.06 2.06-.94-2.06-.94-.94-2.06-.94 2.06-2.06.94zm-11 1L8.5 8.5l.94-2.06 2.06-.94-2.06-.94L8.5 2.5l-.94 2.06-2.06.94zm10 10l.94 2.06.94-2.06 2.06-.94-2.06-.94-.94-2.06-.94 2.06-2.06.94z\"/><path d=\"M17.41 7.96l-1.37-1.37c-.4-.4-.92-.59-1.43-.59-.52 0-1.04.2-1.43.59L10.3 9.45l-7.72 7.72c-.78.78-.78 2.05 0 2.83L4 21.41c.39.39.9.59 1.41.59.51 0 1.02-.2 1.41-.59l7.78-7.78 2.81-2.81c.8-.78.8-2.07 0-2.86zM5.41 20L4 18.59l7.72-7.72 1.47 1.35L5.41 20z\"/>\n",
              "  </svg>\n",
              "      </button>\n",
              "      \n",
              "  <style>\n",
              "    .colab-df-container {\n",
              "      display:flex;\n",
              "      flex-wrap:wrap;\n",
              "      gap: 12px;\n",
              "    }\n",
              "\n",
              "    .colab-df-convert {\n",
              "      background-color: #E8F0FE;\n",
              "      border: none;\n",
              "      border-radius: 50%;\n",
              "      cursor: pointer;\n",
              "      display: none;\n",
              "      fill: #1967D2;\n",
              "      height: 32px;\n",
              "      padding: 0 0 0 0;\n",
              "      width: 32px;\n",
              "    }\n",
              "\n",
              "    .colab-df-convert:hover {\n",
              "      background-color: #E2EBFA;\n",
              "      box-shadow: 0px 1px 2px rgba(60, 64, 67, 0.3), 0px 1px 3px 1px rgba(60, 64, 67, 0.15);\n",
              "      fill: #174EA6;\n",
              "    }\n",
              "\n",
              "    [theme=dark] .colab-df-convert {\n",
              "      background-color: #3B4455;\n",
              "      fill: #D2E3FC;\n",
              "    }\n",
              "\n",
              "    [theme=dark] .colab-df-convert:hover {\n",
              "      background-color: #434B5C;\n",
              "      box-shadow: 0px 1px 3px 1px rgba(0, 0, 0, 0.15);\n",
              "      filter: drop-shadow(0px 1px 2px rgba(0, 0, 0, 0.3));\n",
              "      fill: #FFFFFF;\n",
              "    }\n",
              "  </style>\n",
              "\n",
              "      <script>\n",
              "        const buttonEl =\n",
              "          document.querySelector('#df-1d2f1c86-ceef-4b84-b871-876647828c48 button.colab-df-convert');\n",
              "        buttonEl.style.display =\n",
              "          google.colab.kernel.accessAllowed ? 'block' : 'none';\n",
              "\n",
              "        async function convertToInteractive(key) {\n",
              "          const element = document.querySelector('#df-1d2f1c86-ceef-4b84-b871-876647828c48');\n",
              "          const dataTable =\n",
              "            await google.colab.kernel.invokeFunction('convertToInteractive',\n",
              "                                                     [key], {});\n",
              "          if (!dataTable) return;\n",
              "\n",
              "          const docLinkHtml = 'Like what you see? Visit the ' +\n",
              "            '<a target=\"_blank\" href=https://colab.research.google.com/notebooks/data_table.ipynb>data table notebook</a>'\n",
              "            + ' to learn more about interactive tables.';\n",
              "          element.innerHTML = '';\n",
              "          dataTable['output_type'] = 'display_data';\n",
              "          await google.colab.output.renderOutput(dataTable, element);\n",
              "          const docLink = document.createElement('div');\n",
              "          docLink.innerHTML = docLinkHtml;\n",
              "          element.appendChild(docLink);\n",
              "        }\n",
              "      </script>\n",
              "    </div>\n",
              "  </div>\n",
              "  "
            ]
          },
          "metadata": {},
          "execution_count": 60
        }
      ]
    },
    {
      "cell_type": "code",
      "source": [
        "clean_name_dict = dict(clean_name.values)\n",
        "clean_name_dict"
      ],
      "metadata": {
        "colab": {
          "base_uri": "https://localhost:8080/"
        },
        "id": "N5dTh7CZ5HD6",
        "outputId": "ba187407-0aaa-426e-8ebd-9acbba6548f7"
      },
      "execution_count": 62,
      "outputs": [
        {
          "output_type": "execute_result",
          "data": {
            "text/plain": [
              "{'丁郎': '丁郎',\n",
              " '严老爷': '严老爷',\n",
              " '丰儿': '丰儿',\n",
              " '临安伯': '临安伯',\n",
              " '乌木做': '乌木做',\n",
              " '云儿': '云儿',\n",
              " '云光': '云光',\n",
              " '京兆尹': '京兆尹',\n",
              " '代儒': '代儒',\n",
              " '何三': '何三',\n",
              " '佳蕙': '佳蕙',\n",
              " '倪二': '倪二',\n",
              " '倪二娘子': '倪二娘子',\n",
              " '元春': '贾元春',\n",
              " '兰哥儿': '贾兰',\n",
              " '冯公子': '冯公子',\n",
              " '冯唐': '冯唐',\n",
              " '冯将军': '冯将军',\n",
              " '冯渊': '冯渊',\n",
              " '冯紫英': '冯紫英',\n",
              " '冯胖子': '冯胖子',\n",
              " '冷子兴': '冷子兴',\n",
              " '凤丫头': '王熙凤',\n",
              " '凤哥儿': '王熙凤',\n",
              " '凤姐': '王熙凤',\n",
              " '凤姐儿': '王熙凤',\n",
              " '凤姐姐': '王熙凤',\n",
              " '凤姑娘': '王熙凤',\n",
              " '刘亲家': '刘亲家',\n",
              " '刘姥姥': '刘姥姥',\n",
              " '刘氏': '刘氏',\n",
              " '刘铁嘴': '刘铁嘴',\n",
              " '包勇': '包勇',\n",
              " '北静王': '北静王',\n",
              " '单聘仁': '单聘仁',\n",
              " '卜固修': '卜固修',\n",
              " '占花魁': '占花魁',\n",
              " '史侯': '史侯',\n",
              " '史大妹妹': '史湘云',\n",
              " '史大姑娘': '史湘云',\n",
              " '史姑娘': '史湘云',\n",
              " '史湘云': '史湘云',\n",
              " '史老太君': '史老太君',\n",
              " '叶妈': '叶妈',\n",
              " '司棋': '司棋',\n",
              " '司马相如': '司马相如',\n",
              " '向宁': '向宁',\n",
              " '向宝玉': '向宝玉',\n",
              " '吴兴家': '吴兴家',\n",
              " '吴巡抚': '吴巡抚',\n",
              " '吴新登': '吴新登',\n",
              " '吴贵': '吴贵',\n",
              " '周大娘': '周大娘',\n",
              " '周姨娘': '周姨娘',\n",
              " '周母': '周母',\n",
              " '周瑞': '周瑞',\n",
              " '周管家': '周管家',\n",
              " '唐伯虎': '唐伯虎',\n",
              " '唐多令': '唐多令',\n",
              " '四儿': '四儿',\n",
              " '圆信': '圆信',\n",
              " '士隐': '甄士隐',\n",
              " '夏太监': '夏太监',\n",
              " '夏妈': '夏妈',\n",
              " '夏子': '夏子',\n",
              " '夏母': '夏母',\n",
              " '夏秉忠': '夏秉忠',\n",
              " '妙公': '妙公',\n",
              " '妙玉': '妙玉',\n",
              " '子兴': '子兴',\n",
              " '孔梅溪': '孔梅溪',\n",
              " '孙家祖上': '孙家祖上',\n",
              " '孙绍祖': '孙绍祖',\n",
              " '孟光': '孟光',\n",
              " '学里先生': '学里先生',\n",
              " '宁公': '宁公',\n",
              " '宁国公': '贾演',\n",
              " '宋妈': '宋妈',\n",
              " '宋嬷嬷': '宋嬷嬷',\n",
              " '宋江': '宋江',\n",
              " '宝二叔': '宝二叔',\n",
              " '宝二爷': '贾宝玉',\n",
              " '宝兄弟': '贾宝玉',\n",
              " '宝哥哥': '贾宝玉',\n",
              " '宝姐姐': '薛宝钗',\n",
              " '宝玉': '贾宝玉',\n",
              " '宝琴': '薛宝琴',\n",
              " '宝钗': '薛宝钗',\n",
              " '封氏': '封氏',\n",
              " '封肃': '封肃',\n",
              " '小童': '小童',\n",
              " '小红': '小红',\n",
              " '尤三姐': '尤三姐',\n",
              " '尤二姐': '尤二姐',\n",
              " '尤姥娘': '尤姥娘',\n",
              " '尤氏': '尤氏',\n",
              " '岫烟': '邢岫烟',\n",
              " '崔莺莺': '崔莺莺',\n",
              " '崔颢': '崔颢',\n",
              " '巧姐儿': '巧姐',\n",
              " '平儿': '平儿',\n",
              " '平姑娘': '平儿',\n",
              " '庄子': '庄子',\n",
              " '庄子文': '庄子文',\n",
              " '张华': '张华',\n",
              " '张友士': '张友士',\n",
              " '张大老爷': '张大老爷',\n",
              " '张妈': '张妈',\n",
              " '张德辉': '张德辉',\n",
              " '张材': '张材',\n",
              " '张法官': '张法官',\n",
              " '张财主': '张财主',\n",
              " '张道士': '张道士',\n",
              " '惜春': '贾惜春',\n",
              " '惠明': '惠明',\n",
              " '戴权': '戴权',\n",
              " '抚琴': '抚琴',\n",
              " '探春': '贾探春',\n",
              " '政公': '政公',\n",
              " '旺儿': '旺儿',\n",
              " '旺儿媳妇': '旺儿媳妇',\n",
              " '明太太': '明太太',\n",
              " '春燕': '春燕',\n",
              " '昭儿': '昭儿',\n",
              " '昭容': '昭容',\n",
              " '晴雯': '晴雯',\n",
              " '曹唐': '曹唐',\n",
              " '曾祖': '曾祖',\n",
              " '李先儿': '李先儿',\n",
              " '李奶子': '李奶子',\n",
              " '李妈': '李妈',\n",
              " '李婶娘': '李婶娘',\n",
              " '李嬷嬷': '李嬷嬷',\n",
              " '李守中': '李守中',\n",
              " '李纨': '李纨',\n",
              " '李纹': '李纹',\n",
              " '李绮': '李绮',\n",
              " '李老太太': '李老太太',\n",
              " '李贵': '李贵',\n",
              " '李逵': '李逵',\n",
              " '杨国忠': '杨国忠',\n",
              " '杨贵妃': '杨贵妃',\n",
              " '板儿': '板儿',\n",
              " '林丫头': '林黛玉',\n",
              " '林之孝': '林之孝',\n",
              " '林四娘': '林四娘',\n",
              " '林奶奶': '林奶奶',\n",
              " '林如海': '林如海',\n",
              " '林妹妹': '林黛玉',\n",
              " '林姐儿': '林黛玉',\n",
              " '林姐夫': '林姐夫',\n",
              " '林姐姐': '林黛玉',\n",
              " '林姑娘': '林黛玉',\n",
              " '林姑爷': '林姑爷',\n",
              " '林姑老爷': '林姑老爷',\n",
              " '林海': '林海',\n",
              " '林黛玉': '林黛玉',\n",
              " '柳嫂': '柳嫂',\n",
              " '柳湘莲': '柳湘莲',\n",
              " '梁鸿案': '梁鸿案',\n",
              " '梅翰林': '梅翰林',\n",
              " '毕大夫': '毕大夫',\n",
              " '毕知庵': '毕知庵',\n",
              " '湘云': '史湘云',\n",
              " '湘莲': '柳湘莲',\n",
              " '潇湘妃子': '林黛玉',\n",
              " '潘又安': '潘又安',\n",
              " '焦大': '焦大',\n",
              " '熙凤': '王熙凤',\n",
              " '玉钏儿': '玉钏儿',\n",
              " '王二公': '王二公',\n",
              " '王仁': '王仁',\n",
              " '王公子': '王公子',\n",
              " '王善保': '王善保',\n",
              " '王大夫': '王大夫',\n",
              " '王太医': '王太医',\n",
              " '王夫人': '王夫人',\n",
              " '王嬷嬷': '王嬷嬷',\n",
              " '王子腾': '王子腾',\n",
              " '王尔调': '王尔调',\n",
              " '王成': '王成',\n",
              " '王熙凤': '王熙凤',\n",
              " '环哥儿': '贾环',\n",
              " '环老三': '贾环',\n",
              " '珍': '贾珍',\n",
              " '珍大哥': '贾珍',\n",
              " '珍大嫂子': '珍大嫂子',\n",
              " '珍大爷': '贾珍',\n",
              " '琏': '贾琏',\n",
              " '琏二奶奶': '王熙凤',\n",
              " '琏嫂子': '王熙凤',\n",
              " '甄士隐': '甄士隐',\n",
              " '甄太太': '甄太太',\n",
              " '甄宝玉': '甄宝玉',\n",
              " '甄应嘉': '甄应嘉',\n",
              " '甄爷': '甄爷',\n",
              " '甄老爷': '甄老爷',\n",
              " '田家': '田家',\n",
              " '白海棠': '白海棠',\n",
              " '石呆子': '石呆子',\n",
              " '秋桐': '秋桐',\n",
              " '秋纹': '秋纹',\n",
              " '秦可卿': '秦可卿',\n",
              " '秦少游': '秦少游',\n",
              " '秦晋之': '秦晋之',\n",
              " '秦氏': '秦氏',\n",
              " '秦相公': '秦相公',\n",
              " '秦邦业': '秦邦业',\n",
              " '秦钟': '秦钟',\n",
              " '程日兴': '程日兴',\n",
              " '紫英': '紫英',\n",
              " '紫鹃': '紫鹃',\n",
              " '经云儿': '经云儿',\n",
              " '给宁': '给宁',\n",
              " '绣橘': '绣橘',\n",
              " '翠缕': '翠缕',\n",
              " '老刘': '老刘',\n",
              " '老叶妈': '老叶妈',\n",
              " '老宁国公': '贾演',\n",
              " '胡大夫': '胡大夫',\n",
              " '艾官': '艾官',\n",
              " '花大姐姐': '花大姐姐',\n",
              " '花自芳': '花自芳',\n",
              " '芳官': '芳官',\n",
              " '英莲': '甄英莲',\n",
              " '茜雪': '茜雪',\n",
              " '荣二祖': '贾源',\n",
              " '荣公': '贾源',\n",
              " '荣国公': '贾源',\n",
              " '莺儿': '莺儿',\n",
              " '蒋玉菡': '蒋玉菡',\n",
              " '蓉哥儿': '贾蓉',\n",
              " '蓼汀': '蓼汀',\n",
              " '蔷': '贾蔷',\n",
              " '蔺相如': '蔺相如',\n",
              " '薛公子': '薛公子',\n",
              " '薛姨妈': '薛姨妈',\n",
              " '薛母': '薛母',\n",
              " '薛蝌': '薛蝌',\n",
              " '薛蟠': '薛蟠',\n",
              " '虞姬': '虞姬',\n",
              " '蝉儿': '蝉儿',\n",
              " '袭人': '袭人',\n",
              " '詹光': '詹光',\n",
              " '费婆子': '费婆子',\n",
              " '贾不假': '贾不假',\n",
              " '贾代儒': '贾代儒',\n",
              " '贾兰': '贾兰',\n",
              " '贾娘娘': '贾娘娘',\n",
              " '贾宝玉': '贾宝玉',\n",
              " '贾政': '贾政',\n",
              " '贾敏': '贾敏',\n",
              " '贾敬': '贾敬',\n",
              " '贾母': '贾母',\n",
              " '贾环': '贾环',\n",
              " '贾珍': '贾珍',\n",
              " '贾珠': '贾珠',\n",
              " '贾琏': '贾琏',\n",
              " '贾琮': '贾琮',\n",
              " '贾瑞': '贾瑞',\n",
              " '贾芸': '贾芸',\n",
              " '贾蓉': '贾蓉',\n",
              " '贾蔷': '贾蔷',\n",
              " '贾赦': '贾赦',\n",
              " '贾雨村': '贾雨村',\n",
              " '赖二': '赖二',\n",
              " '赖升': '赖升',\n",
              " '赖大': '赖大',\n",
              " '赖尚荣': '赖尚荣',\n",
              " '赖管家': '赖管家',\n",
              " '赵全': '赵全',\n",
              " '赵国基': '赵国基',\n",
              " '赵堂官': '赵堂官',\n",
              " '赵姨娘': '赵姨娘',\n",
              " '赵嬷嬷': '赵嬷嬷',\n",
              " '赵飞燕': '赵飞燕',\n",
              " '迎春': '贾迎春',\n",
              " '邢夫人': '邢夫人',\n",
              " '邢岫烟': '邢岫烟',\n",
              " '邢德全': '邢德全',\n",
              " '邢舅太爷': '邢舅太爷',\n",
              " '郑华': '郑华',\n",
              " '郭子仪': '郭子仪',\n",
              " '金桂': '金桂',\n",
              " '金钏儿': '金钏儿',\n",
              " '钟繇': '钟繇',\n",
              " '长安守备': '长安守备',\n",
              " '阎王': '阎王',\n",
              " '雨村': '贾雨村',\n",
              " '雪雁': '雪雁',\n",
              " '霍启': '霍启',\n",
              " '香菱': '香菱',\n",
              " '马道婆': '马道婆',\n",
              " '高明': '高明',\n",
              " '鲍二': '鲍二',\n",
              " '鲸卿': '鲸卿',\n",
              " '黄妈': '黄妈',\n",
              " '黄鹰': '黄鹰',\n",
              " '黛玉': '林黛玉',\n",
              " '龄官': '龄官'}"
            ]
          },
          "metadata": {},
          "execution_count": 62
        }
      ]
    },
    {
      "cell_type": "code",
      "source": [
        "my_file = open(os.path.join(data_path,\"honglou_name_addtional_dic.txt\"), \"r\")\n",
        "content = my_file.read()\n",
        "content_list = content.split(\"\\n\")\n",
        "my_file.close()\n",
        "content_list[0:3]"
      ],
      "metadata": {
        "colab": {
          "base_uri": "https://localhost:8080/"
        },
        "id": "nZqf6ic1rIrz",
        "outputId": "a01d6c62-317b-45a2-d8f1-3a36706f6506"
      },
      "execution_count": 27,
      "outputs": [
        {
          "output_type": "execute_result",
          "data": {
            "text/plain": [
              "['艾官', '白海棠', '板儿']"
            ]
          },
          "metadata": {},
          "execution_count": 27
        }
      ]
    },
    {
      "cell_type": "code",
      "source": [
        "clean_name_dict['黛玉']"
      ],
      "metadata": {
        "colab": {
          "base_uri": "https://localhost:8080/",
          "height": 35
        },
        "id": "6KScLZJM64VH",
        "outputId": "4cfb74c8-6cab-46a8-86f3-437e46490c6a"
      },
      "execution_count": 65,
      "outputs": [
        {
          "output_type": "execute_result",
          "data": {
            "text/plain": [
              "'林黛玉'"
            ],
            "application/vnd.google.colaboratory.intrinsic+json": {
              "type": "string"
            }
          },
          "metadata": {},
          "execution_count": 65
        }
      ]
    },
    {
      "cell_type": "code",
      "source": [
        "from itertools import combinations\n",
        "\n",
        "sentence = sentence_raw[206]\n",
        "seg_list = jieba.cut(sentence, cut_all=True)\n",
        "[i for i in combinations([clean_name_dict[i] for i in list(seg_list) if i in content_list],2)]"
      ],
      "metadata": {
        "colab": {
          "base_uri": "https://localhost:8080/"
        },
        "id": "nTFcPyoyiK6w",
        "outputId": "491f1505-461a-4a58-d0e9-74932a3e713a"
      },
      "execution_count": 66,
      "outputs": [
        {
          "output_type": "execute_result",
          "data": {
            "text/plain": [
              "[('王熙凤', '林黛玉'), ('王熙凤', '贾母'), ('林黛玉', '贾母')]"
            ]
          },
          "metadata": {},
          "execution_count": 66
        }
      ]
    },
    {
      "cell_type": "code",
      "source": [
        "characters_comb = []\n",
        "for i in range(len(sentence_raw)):\n",
        "  sentence = sentence_raw[i]\n",
        "  seg_list = jieba.cut(sentence, cut_all=True)\n",
        "  characters_comb.extend([item for item in combinations([clean_name_dict[item] for item in list(seg_list) if item in content_list],2)])\n",
        "\n",
        "characters_comb"
      ],
      "metadata": {
        "colab": {
          "base_uri": "https://localhost:8080/",
          "height": 357
        },
        "id": "sw0nFyDCvq75",
        "outputId": "de195dae-2e39-4fbf-d6cf-57aba230a341"
      },
      "execution_count": 68,
      "outputs": [
        {
          "output_type": "error",
          "ename": "KeyError",
          "evalue": "ignored",
          "traceback": [
            "\u001b[0;31m---------------------------------------------------------------------------\u001b[0m",
            "\u001b[0;31mKeyError\u001b[0m                                  Traceback (most recent call last)",
            "\u001b[0;32m<ipython-input-68-2c125f9c0cd3>\u001b[0m in \u001b[0;36m<module>\u001b[0;34m()\u001b[0m\n\u001b[1;32m      3\u001b[0m   \u001b[0msentence\u001b[0m \u001b[0;34m=\u001b[0m \u001b[0msentence_raw\u001b[0m\u001b[0;34m[\u001b[0m\u001b[0mi\u001b[0m\u001b[0;34m]\u001b[0m\u001b[0;34m\u001b[0m\u001b[0;34m\u001b[0m\u001b[0m\n\u001b[1;32m      4\u001b[0m   \u001b[0mseg_list\u001b[0m \u001b[0;34m=\u001b[0m \u001b[0mjieba\u001b[0m\u001b[0;34m.\u001b[0m\u001b[0mcut\u001b[0m\u001b[0;34m(\u001b[0m\u001b[0msentence\u001b[0m\u001b[0;34m,\u001b[0m \u001b[0mcut_all\u001b[0m\u001b[0;34m=\u001b[0m\u001b[0;32mTrue\u001b[0m\u001b[0;34m)\u001b[0m\u001b[0;34m\u001b[0m\u001b[0;34m\u001b[0m\u001b[0m\n\u001b[0;32m----> 5\u001b[0;31m   \u001b[0mcharacters_comb\u001b[0m\u001b[0;34m.\u001b[0m\u001b[0mextend\u001b[0m\u001b[0;34m(\u001b[0m\u001b[0;34m[\u001b[0m\u001b[0mitem\u001b[0m \u001b[0;32mfor\u001b[0m \u001b[0mitem\u001b[0m \u001b[0;32min\u001b[0m \u001b[0mcombinations\u001b[0m\u001b[0;34m(\u001b[0m\u001b[0;34m[\u001b[0m\u001b[0mclean_name_dict\u001b[0m\u001b[0;34m[\u001b[0m\u001b[0mitem\u001b[0m\u001b[0;34m]\u001b[0m \u001b[0;32mfor\u001b[0m \u001b[0mitem\u001b[0m \u001b[0;32min\u001b[0m \u001b[0mlist\u001b[0m\u001b[0;34m(\u001b[0m\u001b[0mseg_list\u001b[0m\u001b[0;34m)\u001b[0m \u001b[0;32mif\u001b[0m \u001b[0mitem\u001b[0m \u001b[0;32min\u001b[0m \u001b[0mcontent_list\u001b[0m\u001b[0;34m]\u001b[0m\u001b[0;34m,\u001b[0m\u001b[0;36m2\u001b[0m\u001b[0;34m)\u001b[0m\u001b[0;34m]\u001b[0m\u001b[0;34m)\u001b[0m\u001b[0;34m\u001b[0m\u001b[0;34m\u001b[0m\u001b[0m\n\u001b[0m\u001b[1;32m      6\u001b[0m \u001b[0;34m\u001b[0m\u001b[0m\n\u001b[1;32m      7\u001b[0m \u001b[0mcharacters_comb\u001b[0m\u001b[0;34m\u001b[0m\u001b[0;34m\u001b[0m\u001b[0m\n",
            "\u001b[0;32m<ipython-input-68-2c125f9c0cd3>\u001b[0m in \u001b[0;36m<listcomp>\u001b[0;34m(.0)\u001b[0m\n\u001b[1;32m      3\u001b[0m   \u001b[0msentence\u001b[0m \u001b[0;34m=\u001b[0m \u001b[0msentence_raw\u001b[0m\u001b[0;34m[\u001b[0m\u001b[0mi\u001b[0m\u001b[0;34m]\u001b[0m\u001b[0;34m\u001b[0m\u001b[0;34m\u001b[0m\u001b[0m\n\u001b[1;32m      4\u001b[0m   \u001b[0mseg_list\u001b[0m \u001b[0;34m=\u001b[0m \u001b[0mjieba\u001b[0m\u001b[0;34m.\u001b[0m\u001b[0mcut\u001b[0m\u001b[0;34m(\u001b[0m\u001b[0msentence\u001b[0m\u001b[0;34m,\u001b[0m \u001b[0mcut_all\u001b[0m\u001b[0;34m=\u001b[0m\u001b[0;32mTrue\u001b[0m\u001b[0;34m)\u001b[0m\u001b[0;34m\u001b[0m\u001b[0;34m\u001b[0m\u001b[0m\n\u001b[0;32m----> 5\u001b[0;31m   \u001b[0mcharacters_comb\u001b[0m\u001b[0;34m.\u001b[0m\u001b[0mextend\u001b[0m\u001b[0;34m(\u001b[0m\u001b[0;34m[\u001b[0m\u001b[0mitem\u001b[0m \u001b[0;32mfor\u001b[0m \u001b[0mitem\u001b[0m \u001b[0;32min\u001b[0m \u001b[0mcombinations\u001b[0m\u001b[0;34m(\u001b[0m\u001b[0;34m[\u001b[0m\u001b[0mclean_name_dict\u001b[0m\u001b[0;34m[\u001b[0m\u001b[0mitem\u001b[0m\u001b[0;34m]\u001b[0m \u001b[0;32mfor\u001b[0m \u001b[0mitem\u001b[0m \u001b[0;32min\u001b[0m \u001b[0mlist\u001b[0m\u001b[0;34m(\u001b[0m\u001b[0mseg_list\u001b[0m\u001b[0;34m)\u001b[0m \u001b[0;32mif\u001b[0m \u001b[0mitem\u001b[0m \u001b[0;32min\u001b[0m \u001b[0mcontent_list\u001b[0m\u001b[0;34m]\u001b[0m\u001b[0;34m,\u001b[0m\u001b[0;36m2\u001b[0m\u001b[0;34m)\u001b[0m\u001b[0;34m]\u001b[0m\u001b[0;34m)\u001b[0m\u001b[0;34m\u001b[0m\u001b[0;34m\u001b[0m\u001b[0m\n\u001b[0m\u001b[1;32m      6\u001b[0m \u001b[0;34m\u001b[0m\u001b[0m\n\u001b[1;32m      7\u001b[0m \u001b[0mcharacters_comb\u001b[0m\u001b[0;34m\u001b[0m\u001b[0;34m\u001b[0m\u001b[0m\n",
            "\u001b[0;31mKeyError\u001b[0m: '贾源'"
          ]
        }
      ]
    },
    {
      "cell_type": "code",
      "source": [
        "len(sentence_raw)"
      ],
      "metadata": {
        "colab": {
          "base_uri": "https://localhost:8080/"
        },
        "id": "M6uwPZV1tflt",
        "outputId": "bc1acff8-772f-4d00-f775-c17e84aed1af"
      },
      "execution_count": 45,
      "outputs": [
        {
          "output_type": "execute_result",
          "data": {
            "text/plain": [
              "6479"
            ]
          },
          "metadata": {},
          "execution_count": 45
        }
      ]
    }
  ]
}